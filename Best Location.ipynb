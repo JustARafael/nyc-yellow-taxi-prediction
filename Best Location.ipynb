{
 "cells": [
  {
   "cell_type": "markdown",
   "metadata": {},
   "source": [
    "# What will be the best block to pick-up customers for each day of the week of a month?\n"
   ]
  },
  {
   "cell_type": "markdown",
   "metadata": {},
   "source": [
    "## Preamble"
   ]
  },
  {
   "cell_type": "code",
   "execution_count": 1,
   "metadata": {
    "collapsed": true
   },
   "outputs": [],
   "source": [
    "%matplotlib inline\n",
    "import numpy as np\n",
    "import scipy as sp\n",
    "import matplotlib.pyplot as plt\n",
    "import pandas as pd"
   ]
  },
  {
   "cell_type": "markdown",
   "metadata": {},
   "source": [
    "## Load the data"
   ]
  },
  {
   "cell_type": "code",
   "execution_count": 2,
   "metadata": {
    "collapsed": false
   },
   "outputs": [],
   "source": [
    "df=pd.read_csv(\"/Users/youshenghua/Desktop/dataScience/project/yellow_tripdata_2013-01.csv\")"
   ]
  },
  {
   "cell_type": "markdown",
   "metadata": {},
   "source": [
    "## Preprocess data"
   ]
  },
  {
   "cell_type": "code",
   "execution_count": 3,
   "metadata": {
    "collapsed": false
   },
   "outputs": [
    {
     "data": {
      "text/html": [
       "<div>\n",
       "<table border=\"1\" class=\"dataframe\">\n",
       "  <thead>\n",
       "    <tr style=\"text-align: right;\">\n",
       "      <th></th>\n",
       "      <th>vendor_id</th>\n",
       "      <th>pickup_datetime</th>\n",
       "      <th>dropoff_datetime</th>\n",
       "      <th>passenger_count</th>\n",
       "      <th>trip_distance</th>\n",
       "      <th>pickup_longitude</th>\n",
       "      <th>pickup_latitude</th>\n",
       "      <th>rate_code</th>\n",
       "      <th>store_and_fwd_flag</th>\n",
       "      <th>dropoff_longitude</th>\n",
       "      <th>dropoff_latitude</th>\n",
       "      <th>payment_type</th>\n",
       "      <th>fare_amount</th>\n",
       "      <th>surcharge</th>\n",
       "      <th>mta_tax</th>\n",
       "      <th>tip_amount</th>\n",
       "      <th>tolls_amount</th>\n",
       "      <th>total_amount</th>\n",
       "      <th>weekday</th>\n",
       "    </tr>\n",
       "  </thead>\n",
       "  <tbody>\n",
       "    <tr>\n",
       "      <th>0</th>\n",
       "      <td>CMT</td>\n",
       "      <td>2013-01-01 15:11:48</td>\n",
       "      <td>2013-01-01 15:18:10</td>\n",
       "      <td>4</td>\n",
       "      <td>1.0</td>\n",
       "      <td>-73.978165</td>\n",
       "      <td>40.757977</td>\n",
       "      <td>1</td>\n",
       "      <td>N</td>\n",
       "      <td>-73.989840</td>\n",
       "      <td>40.751173</td>\n",
       "      <td>CSH</td>\n",
       "      <td>6.5</td>\n",
       "      <td>0.0</td>\n",
       "      <td>0.5</td>\n",
       "      <td>0.0</td>\n",
       "      <td>0.0</td>\n",
       "      <td>7.0</td>\n",
       "      <td>Tuesday</td>\n",
       "    </tr>\n",
       "    <tr>\n",
       "      <th>1</th>\n",
       "      <td>CMT</td>\n",
       "      <td>2013-01-06 00:18:35</td>\n",
       "      <td>2013-01-06 00:22:54</td>\n",
       "      <td>1</td>\n",
       "      <td>1.5</td>\n",
       "      <td>-74.006680</td>\n",
       "      <td>40.731781</td>\n",
       "      <td>1</td>\n",
       "      <td>N</td>\n",
       "      <td>-73.994499</td>\n",
       "      <td>40.750659</td>\n",
       "      <td>CSH</td>\n",
       "      <td>6.0</td>\n",
       "      <td>0.5</td>\n",
       "      <td>0.5</td>\n",
       "      <td>0.0</td>\n",
       "      <td>0.0</td>\n",
       "      <td>7.0</td>\n",
       "      <td>Sunday</td>\n",
       "    </tr>\n",
       "    <tr>\n",
       "      <th>2</th>\n",
       "      <td>CMT</td>\n",
       "      <td>2013-01-05 18:49:41</td>\n",
       "      <td>2013-01-05 18:54:23</td>\n",
       "      <td>1</td>\n",
       "      <td>1.1</td>\n",
       "      <td>-74.004711</td>\n",
       "      <td>40.737770</td>\n",
       "      <td>1</td>\n",
       "      <td>N</td>\n",
       "      <td>-74.009831</td>\n",
       "      <td>40.726000</td>\n",
       "      <td>CSH</td>\n",
       "      <td>5.5</td>\n",
       "      <td>1.0</td>\n",
       "      <td>0.5</td>\n",
       "      <td>0.0</td>\n",
       "      <td>0.0</td>\n",
       "      <td>7.0</td>\n",
       "      <td>Saturday</td>\n",
       "    </tr>\n",
       "    <tr>\n",
       "      <th>3</th>\n",
       "      <td>CMT</td>\n",
       "      <td>2013-01-07 23:54:15</td>\n",
       "      <td>2013-01-07 23:58:20</td>\n",
       "      <td>2</td>\n",
       "      <td>0.7</td>\n",
       "      <td>-73.974600</td>\n",
       "      <td>40.759945</td>\n",
       "      <td>1</td>\n",
       "      <td>N</td>\n",
       "      <td>-73.984737</td>\n",
       "      <td>40.759388</td>\n",
       "      <td>CSH</td>\n",
       "      <td>5.0</td>\n",
       "      <td>0.5</td>\n",
       "      <td>0.5</td>\n",
       "      <td>0.0</td>\n",
       "      <td>0.0</td>\n",
       "      <td>6.0</td>\n",
       "      <td>Monday</td>\n",
       "    </tr>\n",
       "    <tr>\n",
       "      <th>4</th>\n",
       "      <td>CMT</td>\n",
       "      <td>2013-01-07 23:25:03</td>\n",
       "      <td>2013-01-07 23:34:24</td>\n",
       "      <td>1</td>\n",
       "      <td>2.1</td>\n",
       "      <td>-73.976252</td>\n",
       "      <td>40.748528</td>\n",
       "      <td>1</td>\n",
       "      <td>N</td>\n",
       "      <td>-74.002583</td>\n",
       "      <td>40.747867</td>\n",
       "      <td>CSH</td>\n",
       "      <td>9.5</td>\n",
       "      <td>0.5</td>\n",
       "      <td>0.5</td>\n",
       "      <td>0.0</td>\n",
       "      <td>0.0</td>\n",
       "      <td>10.5</td>\n",
       "      <td>Monday</td>\n",
       "    </tr>\n",
       "  </tbody>\n",
       "</table>\n",
       "</div>"
      ],
      "text/plain": [
       "  vendor_id      pickup_datetime     dropoff_datetime  passenger_count  \\\n",
       "0       CMT  2013-01-01 15:11:48  2013-01-01 15:18:10                4   \n",
       "1       CMT  2013-01-06 00:18:35  2013-01-06 00:22:54                1   \n",
       "2       CMT  2013-01-05 18:49:41  2013-01-05 18:54:23                1   \n",
       "3       CMT  2013-01-07 23:54:15  2013-01-07 23:58:20                2   \n",
       "4       CMT  2013-01-07 23:25:03  2013-01-07 23:34:24                1   \n",
       "\n",
       "   trip_distance  pickup_longitude  pickup_latitude  rate_code  \\\n",
       "0            1.0        -73.978165        40.757977          1   \n",
       "1            1.5        -74.006680        40.731781          1   \n",
       "2            1.1        -74.004711        40.737770          1   \n",
       "3            0.7        -73.974600        40.759945          1   \n",
       "4            2.1        -73.976252        40.748528          1   \n",
       "\n",
       "  store_and_fwd_flag  dropoff_longitude  dropoff_latitude payment_type  \\\n",
       "0                  N         -73.989840         40.751173          CSH   \n",
       "1                  N         -73.994499         40.750659          CSH   \n",
       "2                  N         -74.009831         40.726000          CSH   \n",
       "3                  N         -73.984737         40.759388          CSH   \n",
       "4                  N         -74.002583         40.747867          CSH   \n",
       "\n",
       "   fare_amount  surcharge  mta_tax  tip_amount  tolls_amount  total_amount  \\\n",
       "0          6.5        0.0      0.5         0.0           0.0           7.0   \n",
       "1          6.0        0.5      0.5         0.0           0.0           7.0   \n",
       "2          5.5        1.0      0.5         0.0           0.0           7.0   \n",
       "3          5.0        0.5      0.5         0.0           0.0           6.0   \n",
       "4          9.5        0.5      0.5         0.0           0.0          10.5   \n",
       "\n",
       "    weekday  \n",
       "0   Tuesday  \n",
       "1    Sunday  \n",
       "2  Saturday  \n",
       "3    Monday  \n",
       "4    Monday  "
      ]
     },
     "execution_count": 3,
     "metadata": {},
     "output_type": "execute_result"
    }
   ],
   "source": [
    "#create new column call weekday\n",
    "timestamp = pd.to_datetime(pd.Series(df['pickup_datetime']))\n",
    "df['weekday'] = timestamp.dt.weekday_name\n",
    "df.head()"
   ]
  },
  {
   "cell_type": "code",
   "execution_count": 4,
   "metadata": {
    "collapsed": false
   },
   "outputs": [
    {
     "data": {
      "text/html": [
       "<div>\n",
       "<table border=\"1\" class=\"dataframe\">\n",
       "  <thead>\n",
       "    <tr style=\"text-align: right;\">\n",
       "      <th></th>\n",
       "      <th>pickup_datetime</th>\n",
       "      <th>pickup_longitude</th>\n",
       "      <th>pickup_latitude</th>\n",
       "      <th>weekday</th>\n",
       "    </tr>\n",
       "  </thead>\n",
       "  <tbody>\n",
       "    <tr>\n",
       "      <th>0</th>\n",
       "      <td>2013-01-01 15:11:48</td>\n",
       "      <td>-73.978165</td>\n",
       "      <td>40.757977</td>\n",
       "      <td>Tuesday</td>\n",
       "    </tr>\n",
       "    <tr>\n",
       "      <th>1</th>\n",
       "      <td>2013-01-06 00:18:35</td>\n",
       "      <td>-74.006680</td>\n",
       "      <td>40.731781</td>\n",
       "      <td>Sunday</td>\n",
       "    </tr>\n",
       "    <tr>\n",
       "      <th>2</th>\n",
       "      <td>2013-01-05 18:49:41</td>\n",
       "      <td>-74.004711</td>\n",
       "      <td>40.737770</td>\n",
       "      <td>Saturday</td>\n",
       "    </tr>\n",
       "    <tr>\n",
       "      <th>3</th>\n",
       "      <td>2013-01-07 23:54:15</td>\n",
       "      <td>-73.974600</td>\n",
       "      <td>40.759945</td>\n",
       "      <td>Monday</td>\n",
       "    </tr>\n",
       "    <tr>\n",
       "      <th>4</th>\n",
       "      <td>2013-01-07 23:25:03</td>\n",
       "      <td>-73.976252</td>\n",
       "      <td>40.748528</td>\n",
       "      <td>Monday</td>\n",
       "    </tr>\n",
       "  </tbody>\n",
       "</table>\n",
       "</div>"
      ],
      "text/plain": [
       "       pickup_datetime  pickup_longitude  pickup_latitude   weekday\n",
       "0  2013-01-01 15:11:48        -73.978165        40.757977   Tuesday\n",
       "1  2013-01-06 00:18:35        -74.006680        40.731781    Sunday\n",
       "2  2013-01-05 18:49:41        -74.004711        40.737770  Saturday\n",
       "3  2013-01-07 23:54:15        -73.974600        40.759945    Monday\n",
       "4  2013-01-07 23:25:03        -73.976252        40.748528    Monday"
      ]
     },
     "execution_count": 4,
     "metadata": {},
     "output_type": "execute_result"
    }
   ],
   "source": [
    "#drop unnecessary column\n",
    "df = df.drop(['vendor_id','passenger_count','trip_distance','rate_code',\n",
    "              'store_and_fwd_flag','payment_type','fare_amount','surcharge','mta_tax',\n",
    "             'tip_amount','tolls_amount','total_amount','dropoff_datetime',\n",
    "              'dropoff_longitude','dropoff_latitude'], axis=1)\n",
    "\n",
    "#get rid off some garbage data\n",
    "df=df[(df['pickup_latitude'] > 40.492083) & (df['pickup_latitude']<40.944536) &\n",
    "     (df['pickup_longitude']> -74.267880)& (df['pickup_longitude']< -73.662022)]\n",
    "\n",
    "df.head()"
   ]
  },
  {
   "cell_type": "code",
   "execution_count": 5,
   "metadata": {
    "collapsed": false
   },
   "outputs": [
    {
     "data": {
      "text/html": [
       "<div>\n",
       "<table border=\"1\" class=\"dataframe\">\n",
       "  <thead>\n",
       "    <tr style=\"text-align: right;\">\n",
       "      <th></th>\n",
       "      <th>pickup_datetime</th>\n",
       "      <th>pickup_longitude</th>\n",
       "      <th>pickup_latitude</th>\n",
       "      <th>weekday</th>\n",
       "    </tr>\n",
       "  </thead>\n",
       "  <tbody>\n",
       "    <tr>\n",
       "      <th>3</th>\n",
       "      <td>2013-01-07 23:54:15</td>\n",
       "      <td>-73.974600</td>\n",
       "      <td>40.759945</td>\n",
       "      <td>Monday</td>\n",
       "    </tr>\n",
       "    <tr>\n",
       "      <th>4</th>\n",
       "      <td>2013-01-07 23:25:03</td>\n",
       "      <td>-73.976252</td>\n",
       "      <td>40.748528</td>\n",
       "      <td>Monday</td>\n",
       "    </tr>\n",
       "    <tr>\n",
       "      <th>5</th>\n",
       "      <td>2013-01-07 15:27:48</td>\n",
       "      <td>-73.966743</td>\n",
       "      <td>40.764252</td>\n",
       "      <td>Monday</td>\n",
       "    </tr>\n",
       "    <tr>\n",
       "      <th>7</th>\n",
       "      <td>2013-01-07 12:39:18</td>\n",
       "      <td>-73.989937</td>\n",
       "      <td>40.756773</td>\n",
       "      <td>Monday</td>\n",
       "    </tr>\n",
       "    <tr>\n",
       "      <th>8</th>\n",
       "      <td>2013-01-07 18:15:47</td>\n",
       "      <td>-73.980071</td>\n",
       "      <td>40.743138</td>\n",
       "      <td>Monday</td>\n",
       "    </tr>\n",
       "  </tbody>\n",
       "</table>\n",
       "</div>"
      ],
      "text/plain": [
       "       pickup_datetime  pickup_longitude  pickup_latitude weekday\n",
       "3  2013-01-07 23:54:15        -73.974600        40.759945  Monday\n",
       "4  2013-01-07 23:25:03        -73.976252        40.748528  Monday\n",
       "5  2013-01-07 15:27:48        -73.966743        40.764252  Monday\n",
       "7  2013-01-07 12:39:18        -73.989937        40.756773  Monday\n",
       "8  2013-01-07 18:15:47        -73.980071        40.743138  Monday"
      ]
     },
     "execution_count": 5,
     "metadata": {},
     "output_type": "execute_result"
    }
   ],
   "source": [
    "#get all the monday in first month\n",
    "df_jan_monday=df[(df['weekday']=='Monday') & (pd.to_datetime(df['pickup_datetime']) < pd.datetime(2013,2,1))]\n",
    "df_jan_monday.head()"
   ]
  },
  {
   "cell_type": "markdown",
   "metadata": {},
   "source": [
    "## Kmean Clustering"
   ]
  },
  {
   "cell_type": "code",
   "execution_count": 6,
   "metadata": {
    "collapsed": false
   },
   "outputs": [
    {
     "name": "stdout",
     "output_type": "stream",
     "text": [
      "[38 32 36 ..., 20  8 41]\n"
     ]
    }
   ],
   "source": [
    "#use Kmean to group data by longitude and latitude\n",
    "from sklearn.cluster import KMeans\n",
    "lon=df_jan_monday['pickup_longitude'].values\n",
    "lat=df_jan_monday['pickup_latitude'].values\n",
    "coodinate_array=np.array([[lon[i],lat[i]] for i in range(len(lon))])\n",
    "\n",
    "kmeans_50 = KMeans(n_clusters=50,  n_init=1)\n",
    "kmeans_50.fit(coodinate_array)\n",
    "labels = kmeans_50.labels_\n",
    "print(labels)"
   ]
  },
  {
   "cell_type": "code",
   "execution_count": 7,
   "metadata": {
    "collapsed": false
   },
   "outputs": [
    {
     "name": "stderr",
     "output_type": "stream",
     "text": [
      "//anaconda/lib/python3.5/site-packages/ipykernel/__main__.py:2: SettingWithCopyWarning: \n",
      "A value is trying to be set on a copy of a slice from a DataFrame.\n",
      "Try using .loc[row_indexer,col_indexer] = value instead\n",
      "\n",
      "See the caveats in the documentation: http://pandas.pydata.org/pandas-docs/stable/indexing.html#indexing-view-versus-copy\n",
      "  from ipykernel import kernelapp as app\n"
     ]
    },
    {
     "data": {
      "text/html": [
       "<div>\n",
       "<table border=\"1\" class=\"dataframe\">\n",
       "  <thead>\n",
       "    <tr style=\"text-align: right;\">\n",
       "      <th></th>\n",
       "      <th>pickup_datetime</th>\n",
       "      <th>pickup_longitude</th>\n",
       "      <th>pickup_latitude</th>\n",
       "      <th>weekday</th>\n",
       "      <th>Cluster</th>\n",
       "    </tr>\n",
       "  </thead>\n",
       "  <tbody>\n",
       "    <tr>\n",
       "      <th>3</th>\n",
       "      <td>2013-01-07 23:54:15</td>\n",
       "      <td>-73.974600</td>\n",
       "      <td>40.759945</td>\n",
       "      <td>Monday</td>\n",
       "      <td>38</td>\n",
       "    </tr>\n",
       "    <tr>\n",
       "      <th>4</th>\n",
       "      <td>2013-01-07 23:25:03</td>\n",
       "      <td>-73.976252</td>\n",
       "      <td>40.748528</td>\n",
       "      <td>Monday</td>\n",
       "      <td>32</td>\n",
       "    </tr>\n",
       "    <tr>\n",
       "      <th>5</th>\n",
       "      <td>2013-01-07 15:27:48</td>\n",
       "      <td>-73.966743</td>\n",
       "      <td>40.764252</td>\n",
       "      <td>Monday</td>\n",
       "      <td>36</td>\n",
       "    </tr>\n",
       "    <tr>\n",
       "      <th>7</th>\n",
       "      <td>2013-01-07 12:39:18</td>\n",
       "      <td>-73.989937</td>\n",
       "      <td>40.756773</td>\n",
       "      <td>Monday</td>\n",
       "      <td>7</td>\n",
       "    </tr>\n",
       "    <tr>\n",
       "      <th>8</th>\n",
       "      <td>2013-01-07 18:15:47</td>\n",
       "      <td>-73.980071</td>\n",
       "      <td>40.743138</td>\n",
       "      <td>Monday</td>\n",
       "      <td>11</td>\n",
       "    </tr>\n",
       "  </tbody>\n",
       "</table>\n",
       "</div>"
      ],
      "text/plain": [
       "       pickup_datetime  pickup_longitude  pickup_latitude weekday  Cluster\n",
       "3  2013-01-07 23:54:15        -73.974600        40.759945  Monday       38\n",
       "4  2013-01-07 23:25:03        -73.976252        40.748528  Monday       32\n",
       "5  2013-01-07 15:27:48        -73.966743        40.764252  Monday       36\n",
       "7  2013-01-07 12:39:18        -73.989937        40.756773  Monday        7\n",
       "8  2013-01-07 18:15:47        -73.980071        40.743138  Monday       11"
      ]
     },
     "execution_count": 7,
     "metadata": {},
     "output_type": "execute_result"
    }
   ],
   "source": [
    "# add new column call cluster\n",
    "df_jan_monday['Cluster']=labels\n",
    "df_jan_monday.head()"
   ]
  },
  {
   "cell_type": "code",
   "execution_count": 8,
   "metadata": {
    "collapsed": false
   },
   "outputs": [],
   "source": [
    "#prepare for regression\n",
    "Cluster_size=df_jan_monday.groupby('Cluster').size()\n",
    "Cluster_size=np.array([[Cluster_size[i]] for i in range(len(Cluster_size))])\n",
    "Cluster_center=kmeans_50.cluster_centers_"
   ]
  },
  {
   "cell_type": "markdown",
   "metadata": {},
   "source": [
    "## Training data and testing data"
   ]
  },
  {
   "cell_type": "code",
   "execution_count": 9,
   "metadata": {
    "collapsed": false
   },
   "outputs": [],
   "source": [
    "df_test=pd.DataFrame()\n",
    "train_feature=Cluster_size[:40]\n",
    "train_response=Cluster_center[:40]\n",
    "test_feature=Cluster_size[40:]\n",
    "test_response=Cluster_center[40:]"
   ]
  },
  {
   "cell_type": "markdown",
   "metadata": {},
   "source": [
    "## Validation"
   ]
  },
  {
   "cell_type": "code",
   "execution_count": 10,
   "metadata": {
    "collapsed": false
   },
   "outputs": [
    {
     "name": "stdout",
     "output_type": "stream",
     "text": [
      "(0.022145254495235456, 0.037032754659559998)\n"
     ]
    }
   ],
   "source": [
    "from sklearn import linear_model\n",
    "from sklearn.linear_model import LinearRegression\n",
    "\n",
    "def fit_model(X, y):\n",
    "    model = linear_model.LinearRegression()\n",
    "    model.fit(X, y)\n",
    "    return model\n",
    "\n",
    "def score_model(model, X, y, Xv, yv):\n",
    "    return tuple([model.score(X, y), model.score(Xv, yv)])\n",
    "\n",
    "def fit_model_and_score(data, response, validation, val_response):\n",
    "    model = fit_model(data, response)\n",
    "    return score_model(model, data, response, validation, val_response)\n",
    "\n",
    "print (fit_model_and_score(train_feature, train_response,\n",
    "                           test_feature, test_response))\n"
   ]
  },
  {
   "cell_type": "markdown",
   "metadata": {},
   "source": [
    "## Prediction"
   ]
  },
  {
   "cell_type": "code",
   "execution_count": 11,
   "metadata": {
    "collapsed": false
   },
   "outputs": [
    {
     "name": "stderr",
     "output_type": "stream",
     "text": [
      "//anaconda/lib/python3.5/site-packages/sklearn/utils/validation.py:386: DeprecationWarning: Passing 1d arrays as data is deprecated in 0.17 and willraise ValueError in 0.19. Reshape your data either using X.reshape(-1, 1) if your data has a single feature or X.reshape(1, -1) if it contains a single sample.\n",
      "  DeprecationWarning)\n"
     ]
    },
    {
     "data": {
      "text/plain": [
       "array([[-73.99868145,  40.75620766]])"
      ]
     },
     "execution_count": 11,
     "metadata": {},
     "output_type": "execute_result"
    }
   ],
   "source": [
    "#predict best location\n",
    "\n",
    "X=Cluster_size\n",
    "y=Cluster_center\n",
    "\n",
    "model = LinearRegression()\n",
    "model.fit(X, y)\n",
    "X_predict=(max(Cluster_size))\n",
    "y_predict = model.predict(X_predict)\n",
    "y_predict\n"
   ]
  },
  {
   "cell_type": "code",
   "execution_count": null,
   "metadata": {
    "collapsed": true
   },
   "outputs": [],
   "source": []
  }
 ],
 "metadata": {
  "anaconda-cloud": {},
  "kernelspec": {
   "display_name": "Python [Root]",
   "language": "python",
   "name": "Python [Root]"
  },
  "language_info": {
   "codemirror_mode": {
    "name": "ipython",
    "version": 3
   },
   "file_extension": ".py",
   "mimetype": "text/x-python",
   "name": "python",
   "nbconvert_exporter": "python",
   "pygments_lexer": "ipython3",
   "version": "3.5.2"
  }
 },
 "nbformat": 4,
 "nbformat_minor": 0
}
