{
 "cells": [
  {
   "cell_type": "markdown",
   "metadata": {},
   "source": [
    "# Question 3 \n",
    "### Can we accurately predict how much tips a driver will get based on distance traveled, time spent, hour of the day and day of the week?\n",
    "\n",
    "#### Due to the limit of computation power and time, we'll be looking at it one day of the week at a time."
   ]
  },
  {
   "cell_type": "markdown",
   "metadata": {},
   "source": [
    "### Applying KNN and Regression"
   ]
  },
  {
   "cell_type": "markdown",
   "metadata": {},
   "source": [
    "#### Some useful links\n",
    "\n",
    "https://www.dataquest.io/blog/k-nearest-neighbors-in-python/ - KNN\n",
    "\n",
    "http://www.statsoft.com/textbook/k-nearest-neighbors - Cross Validation with KNN\n",
    "\n",
    "http://scikit-learn.org/stable/modules/generated/sklearn.neighbors.KNeighborsClassifier.html - Selecting Classifier for Cross Validation"
   ]
  },
  {
   "cell_type": "markdown",
   "metadata": {},
   "source": [
    "## Preamble"
   ]
  },
  {
   "cell_type": "code",
   "execution_count": 1,
   "metadata": {
    "collapsed": false
   },
   "outputs": [
    {
     "name": "stderr",
     "output_type": "stream",
     "text": [
      "C:\\Users\\Victor\\Anaconda3\\lib\\site-packages\\sklearn\\cross_validation.py:44: DeprecationWarning: This module was deprecated in version 0.18 in favor of the model_selection module into which all the refactored classes and functions are moved. Also note that the interface of the new CV iterators are different from that of this module. This module will be removed in 0.20.\n",
      "  \"This module will be removed in 0.20.\", DeprecationWarning)\n"
     ]
    }
   ],
   "source": [
    "import pandas as pd\n",
    "import numpy as np\n",
    "import matplotlib.pyplot as plt\n",
    "from sklearn.cluster import KMeans\n",
    "import matplotlib.path as mplPath\n",
    "from sklearn.cluster import KMeans\n",
    "from sklearn.neighbors import KNeighborsRegressor\n",
    "from sklearn.cross_validation import train_test_split\n",
    "from sklearn.model_selection import cross_val_score\n",
    "from sklearn.metrics import mean_squared_error\n",
    "%matplotlib inline"
   ]
  },
  {
   "cell_type": "markdown",
   "metadata": {},
   "source": [
    "### Reading in the cleaned data"
   ]
  },
  {
   "cell_type": "markdown",
   "metadata": {},
   "source": [
    "A. Did you check for outliers?\n",
    "\n",
    "B. Did you check the units of all data points to make sure they are\n",
    "in the right range?\n",
    "\n",
    "C. Did you identify the missing data code?\n",
    "\n",
    "D. Did you reformat the data properly with each instance/observation\n",
    "in a row, and each variable in a column?\n",
    "\n",
    "E. Did you keep track of all parameters and units?\n",
    "\n",
    "F. Do you have specific code for reformating the data that does\n",
    "not require information not documented (eg. magic numbers)?\n",
    "\n",
    "G. Did you plot univariate and multivariate summaries of the data\n",
    "including histograms, density plots, boxplots?\n",
    "\n",
    "H. Did you consider correlations between variables (scatterplots)?\n",
    "\n",
    "I. Did you consider plot the data on the right scale? For example,\n",
    "on a log scale?\n",
    "\n",
    "For the above questions, see \"Cleaning the data for KNN (Q3)\" notebook"
   ]
  },
  {
   "cell_type": "code",
   "execution_count": 2,
   "metadata": {
    "collapsed": false
   },
   "outputs": [],
   "source": [
    "df=pd.read_csv(\"datasets/clean-january-2013.csv\") # tippers and non-tippers together\n",
    "#df=pd.read_csv(\"datasets/cleaner-january-2013.csv\") # only those that paid tips"
   ]
  },
  {
   "cell_type": "code",
   "execution_count": 3,
   "metadata": {
    "collapsed": false
   },
   "outputs": [
    {
     "data": {
      "text/html": [
       "<div>\n",
       "<table border=\"1\" class=\"dataframe\">\n",
       "  <thead>\n",
       "    <tr style=\"text-align: right;\">\n",
       "      <th></th>\n",
       "      <th>Unnamed: 0</th>\n",
       "      <th>weekday</th>\n",
       "      <th>hour</th>\n",
       "      <th>pickup</th>\n",
       "      <th>trip_distance</th>\n",
       "      <th>tip_amount</th>\n",
       "      <th>total_amount</th>\n",
       "      <th>time_spent</th>\n",
       "    </tr>\n",
       "  </thead>\n",
       "  <tbody>\n",
       "    <tr>\n",
       "      <th>0</th>\n",
       "      <td>0</td>\n",
       "      <td>Friday</td>\n",
       "      <td>0</td>\n",
       "      <td>40.613763,-73.972592</td>\n",
       "      <td>0.00</td>\n",
       "      <td>7.700</td>\n",
       "      <td>38.500</td>\n",
       "      <td>0.0</td>\n",
       "    </tr>\n",
       "    <tr>\n",
       "      <th>1</th>\n",
       "      <td>1</td>\n",
       "      <td>Friday</td>\n",
       "      <td>0</td>\n",
       "      <td>40.615297,-73.96423699999998</td>\n",
       "      <td>12.22</td>\n",
       "      <td>0.000</td>\n",
       "      <td>36.500</td>\n",
       "      <td>27.0</td>\n",
       "    </tr>\n",
       "    <tr>\n",
       "      <th>2</th>\n",
       "      <td>2</td>\n",
       "      <td>Friday</td>\n",
       "      <td>0</td>\n",
       "      <td>40.61622,-73.97454999999998</td>\n",
       "      <td>3.70</td>\n",
       "      <td>1.625</td>\n",
       "      <td>16.375</td>\n",
       "      <td>13.0</td>\n",
       "    </tr>\n",
       "    <tr>\n",
       "      <th>3</th>\n",
       "      <td>3</td>\n",
       "      <td>Friday</td>\n",
       "      <td>0</td>\n",
       "      <td>40.616755,-73.944947</td>\n",
       "      <td>1.05</td>\n",
       "      <td>0.000</td>\n",
       "      <td>6.000</td>\n",
       "      <td>3.0</td>\n",
       "    </tr>\n",
       "    <tr>\n",
       "      <th>4</th>\n",
       "      <td>4</td>\n",
       "      <td>Friday</td>\n",
       "      <td>0</td>\n",
       "      <td>40.617259,-73.96366999999998</td>\n",
       "      <td>1.40</td>\n",
       "      <td>0.000</td>\n",
       "      <td>7.500</td>\n",
       "      <td>4.0</td>\n",
       "    </tr>\n",
       "  </tbody>\n",
       "</table>\n",
       "</div>"
      ],
      "text/plain": [
       "   Unnamed: 0 weekday  hour                        pickup  trip_distance  \\\n",
       "0           0  Friday     0          40.613763,-73.972592           0.00   \n",
       "1           1  Friday     0  40.615297,-73.96423699999998          12.22   \n",
       "2           2  Friday     0   40.61622,-73.97454999999998           3.70   \n",
       "3           3  Friday     0          40.616755,-73.944947           1.05   \n",
       "4           4  Friday     0  40.617259,-73.96366999999998           1.40   \n",
       "\n",
       "   tip_amount  total_amount  time_spent  \n",
       "0       7.700        38.500         0.0  \n",
       "1       0.000        36.500        27.0  \n",
       "2       1.625        16.375        13.0  \n",
       "3       0.000         6.000         3.0  \n",
       "4       0.000         7.500         4.0  "
      ]
     },
     "execution_count": 3,
     "metadata": {},
     "output_type": "execute_result"
    }
   ],
   "source": [
    "df.head()"
   ]
  },
  {
   "cell_type": "code",
   "execution_count": 4,
   "metadata": {
    "collapsed": false
   },
   "outputs": [
    {
     "data": {
      "text/html": [
       "<div>\n",
       "<table border=\"1\" class=\"dataframe\">\n",
       "  <thead>\n",
       "    <tr style=\"text-align: right;\">\n",
       "      <th></th>\n",
       "      <th>Unnamed: 0</th>\n",
       "      <th>weekday</th>\n",
       "      <th>hour</th>\n",
       "      <th>pickup</th>\n",
       "      <th>trip_distance</th>\n",
       "      <th>tip_amount</th>\n",
       "      <th>total_amount</th>\n",
       "      <th>time_spent</th>\n",
       "    </tr>\n",
       "  </thead>\n",
       "  <tbody>\n",
       "    <tr>\n",
       "      <th>14256768</th>\n",
       "      <td>14256768</td>\n",
       "      <td>Wednesday</td>\n",
       "      <td>23</td>\n",
       "      <td>40.890857,-73.908495</td>\n",
       "      <td>0.0</td>\n",
       "      <td>4.41</td>\n",
       "      <td>7.91</td>\n",
       "      <td>1.0</td>\n",
       "    </tr>\n",
       "    <tr>\n",
       "      <th>14256769</th>\n",
       "      <td>14256769</td>\n",
       "      <td>Wednesday</td>\n",
       "      <td>23</td>\n",
       "      <td>40.892463,-73.816218</td>\n",
       "      <td>13.6</td>\n",
       "      <td>0.00</td>\n",
       "      <td>3.50</td>\n",
       "      <td>0.0</td>\n",
       "    </tr>\n",
       "    <tr>\n",
       "      <th>14256770</th>\n",
       "      <td>14256770</td>\n",
       "      <td>Wednesday</td>\n",
       "      <td>23</td>\n",
       "      <td>40.900912,-74.00320499999998</td>\n",
       "      <td>0.0</td>\n",
       "      <td>23.00</td>\n",
       "      <td>75.50</td>\n",
       "      <td>0.0</td>\n",
       "    </tr>\n",
       "    <tr>\n",
       "      <th>14256771</th>\n",
       "      <td>14256771</td>\n",
       "      <td>Wednesday</td>\n",
       "      <td>23</td>\n",
       "      <td>40.902505,-74.00228799999998</td>\n",
       "      <td>0.0</td>\n",
       "      <td>3.00</td>\n",
       "      <td>86.00</td>\n",
       "      <td>6.0</td>\n",
       "    </tr>\n",
       "    <tr>\n",
       "      <th>14256772</th>\n",
       "      <td>14256772</td>\n",
       "      <td>Wednesday</td>\n",
       "      <td>23</td>\n",
       "      <td>40.907027,-73.909115</td>\n",
       "      <td>0.0</td>\n",
       "      <td>9.50</td>\n",
       "      <td>50.50</td>\n",
       "      <td>0.0</td>\n",
       "    </tr>\n",
       "  </tbody>\n",
       "</table>\n",
       "</div>"
      ],
      "text/plain": [
       "          Unnamed: 0    weekday  hour                        pickup  \\\n",
       "14256768    14256768  Wednesday    23          40.890857,-73.908495   \n",
       "14256769    14256769  Wednesday    23          40.892463,-73.816218   \n",
       "14256770    14256770  Wednesday    23  40.900912,-74.00320499999998   \n",
       "14256771    14256771  Wednesday    23  40.902505,-74.00228799999998   \n",
       "14256772    14256772  Wednesday    23          40.907027,-73.909115   \n",
       "\n",
       "          trip_distance  tip_amount  total_amount  time_spent  \n",
       "14256768            0.0        4.41          7.91         1.0  \n",
       "14256769           13.6        0.00          3.50         0.0  \n",
       "14256770            0.0       23.00         75.50         0.0  \n",
       "14256771            0.0        3.00         86.00         6.0  \n",
       "14256772            0.0        9.50         50.50         0.0  "
      ]
     },
     "execution_count": 4,
     "metadata": {},
     "output_type": "execute_result"
    }
   ],
   "source": [
    "df.tail()"
   ]
  },
  {
   "cell_type": "code",
   "execution_count": 5,
   "metadata": {
    "collapsed": false
   },
   "outputs": [],
   "source": [
    "df = df.loc[(df['weekday'] == 'Monday')]"
   ]
  },
  {
   "cell_type": "markdown",
   "metadata": {},
   "source": [
    "### Generate the training and testing set"
   ]
  },
  {
   "cell_type": "code",
   "execution_count": 6,
   "metadata": {
    "collapsed": false
   },
   "outputs": [
    {
     "name": "stdout",
     "output_type": "stream",
     "text": [
      "(1306165, 8)\n",
      "(326541, 8)\n"
     ]
    }
   ],
   "source": [
    "# Generate the training set.  Set random_state to be able to replicate results.\n",
    "train = df.sample(frac=0.8, random_state=1)\n",
    "# Select anything not in the training set and put it in the testing set.\n",
    "test = df.loc[~df.index.isin(train.index)]\n",
    "# Print the shapes of both sets.\n",
    "print(train.shape)\n",
    "print(test.shape)"
   ]
  },
  {
   "cell_type": "code",
   "execution_count": 7,
   "metadata": {
    "collapsed": false
   },
   "outputs": [
    {
     "data": {
      "text/html": [
       "<div>\n",
       "<table border=\"1\" class=\"dataframe\">\n",
       "  <thead>\n",
       "    <tr style=\"text-align: right;\">\n",
       "      <th></th>\n",
       "      <th>Unnamed: 0</th>\n",
       "      <th>weekday</th>\n",
       "      <th>hour</th>\n",
       "      <th>pickup</th>\n",
       "      <th>trip_distance</th>\n",
       "      <th>tip_amount</th>\n",
       "      <th>total_amount</th>\n",
       "      <th>time_spent</th>\n",
       "    </tr>\n",
       "  </thead>\n",
       "  <tbody>\n",
       "    <tr>\n",
       "      <th>3396955</th>\n",
       "      <td>3396955</td>\n",
       "      <td>Monday</td>\n",
       "      <td>20</td>\n",
       "      <td>40.776098,-73.958005</td>\n",
       "      <td>0.92</td>\n",
       "      <td>0.0</td>\n",
       "      <td>6.0</td>\n",
       "      <td>4.0</td>\n",
       "    </tr>\n",
       "    <tr>\n",
       "      <th>2848768</th>\n",
       "      <td>2848768</td>\n",
       "      <td>Monday</td>\n",
       "      <td>15</td>\n",
       "      <td>40.737483,-73.99314599999998</td>\n",
       "      <td>2.10</td>\n",
       "      <td>1.0</td>\n",
       "      <td>11.5</td>\n",
       "      <td>11.0</td>\n",
       "    </tr>\n",
       "    <tr>\n",
       "      <th>2989905</th>\n",
       "      <td>2989905</td>\n",
       "      <td>Monday</td>\n",
       "      <td>16</td>\n",
       "      <td>40.779788,-73.953755</td>\n",
       "      <td>1.21</td>\n",
       "      <td>0.0</td>\n",
       "      <td>8.5</td>\n",
       "      <td>7.0</td>\n",
       "    </tr>\n",
       "    <tr>\n",
       "      <th>2556284</th>\n",
       "      <td>2556284</td>\n",
       "      <td>Monday</td>\n",
       "      <td>11</td>\n",
       "      <td>40.769622,-73.960004</td>\n",
       "      <td>19.70</td>\n",
       "      <td>15.5</td>\n",
       "      <td>68.0</td>\n",
       "      <td>30.0</td>\n",
       "    </tr>\n",
       "    <tr>\n",
       "      <th>2557787</th>\n",
       "      <td>2557787</td>\n",
       "      <td>Monday</td>\n",
       "      <td>11</td>\n",
       "      <td>40.770664,-73.865877</td>\n",
       "      <td>13.40</td>\n",
       "      <td>7.7</td>\n",
       "      <td>46.2</td>\n",
       "      <td>23.0</td>\n",
       "    </tr>\n",
       "  </tbody>\n",
       "</table>\n",
       "</div>"
      ],
      "text/plain": [
       "         Unnamed: 0 weekday  hour                        pickup  \\\n",
       "3396955     3396955  Monday    20          40.776098,-73.958005   \n",
       "2848768     2848768  Monday    15  40.737483,-73.99314599999998   \n",
       "2989905     2989905  Monday    16          40.779788,-73.953755   \n",
       "2556284     2556284  Monday    11          40.769622,-73.960004   \n",
       "2557787     2557787  Monday    11          40.770664,-73.865877   \n",
       "\n",
       "         trip_distance  tip_amount  total_amount  time_spent  \n",
       "3396955           0.92         0.0           6.0         4.0  \n",
       "2848768           2.10         1.0          11.5        11.0  \n",
       "2989905           1.21         0.0           8.5         7.0  \n",
       "2556284          19.70        15.5          68.0        30.0  \n",
       "2557787          13.40         7.7          46.2        23.0  "
      ]
     },
     "execution_count": 7,
     "metadata": {},
     "output_type": "execute_result"
    }
   ],
   "source": [
    "train.head()"
   ]
  },
  {
   "cell_type": "code",
   "execution_count": 8,
   "metadata": {
    "collapsed": false
   },
   "outputs": [
    {
     "data": {
      "text/plain": [
       "((1306165, 6), (1306165, 1), (326541, 6), (326541, 1))"
      ]
     },
     "execution_count": 8,
     "metadata": {},
     "output_type": "execute_result"
    }
   ],
   "source": [
    "Xtrain = train[['weekday','hour','pickup','trip_distance','total_amount','time_spent']]\n",
    "ytrain = train[['tip_amount']]\n",
    "Xtest = test[['weekday','hour','pickup','trip_distance','total_amount','time_spent']]\n",
    "ytest = test[['tip_amount']]\n",
    "Xtrain.shape, ytrain.shape, Xtest.shape, ytest.shape"
   ]
  },
  {
   "cell_type": "code",
   "execution_count": 9,
   "metadata": {
    "collapsed": false
   },
   "outputs": [
    {
     "data": {
      "text/html": [
       "<div>\n",
       "<table border=\"1\" class=\"dataframe\">\n",
       "  <thead>\n",
       "    <tr style=\"text-align: right;\">\n",
       "      <th></th>\n",
       "      <th>weekday</th>\n",
       "      <th>hour</th>\n",
       "      <th>pickup</th>\n",
       "      <th>trip_distance</th>\n",
       "      <th>total_amount</th>\n",
       "      <th>time_spent</th>\n",
       "    </tr>\n",
       "  </thead>\n",
       "  <tbody>\n",
       "    <tr>\n",
       "      <th>3396955</th>\n",
       "      <td>Monday</td>\n",
       "      <td>20</td>\n",
       "      <td>40.776098,-73.958005</td>\n",
       "      <td>0.92</td>\n",
       "      <td>6.0</td>\n",
       "      <td>4.0</td>\n",
       "    </tr>\n",
       "    <tr>\n",
       "      <th>2848768</th>\n",
       "      <td>Monday</td>\n",
       "      <td>15</td>\n",
       "      <td>40.737483,-73.99314599999998</td>\n",
       "      <td>2.10</td>\n",
       "      <td>11.5</td>\n",
       "      <td>11.0</td>\n",
       "    </tr>\n",
       "    <tr>\n",
       "      <th>2989905</th>\n",
       "      <td>Monday</td>\n",
       "      <td>16</td>\n",
       "      <td>40.779788,-73.953755</td>\n",
       "      <td>1.21</td>\n",
       "      <td>8.5</td>\n",
       "      <td>7.0</td>\n",
       "    </tr>\n",
       "    <tr>\n",
       "      <th>2556284</th>\n",
       "      <td>Monday</td>\n",
       "      <td>11</td>\n",
       "      <td>40.769622,-73.960004</td>\n",
       "      <td>19.70</td>\n",
       "      <td>68.0</td>\n",
       "      <td>30.0</td>\n",
       "    </tr>\n",
       "    <tr>\n",
       "      <th>2557787</th>\n",
       "      <td>Monday</td>\n",
       "      <td>11</td>\n",
       "      <td>40.770664,-73.865877</td>\n",
       "      <td>13.40</td>\n",
       "      <td>46.2</td>\n",
       "      <td>23.0</td>\n",
       "    </tr>\n",
       "  </tbody>\n",
       "</table>\n",
       "</div>"
      ],
      "text/plain": [
       "        weekday  hour                        pickup  trip_distance  \\\n",
       "3396955  Monday    20          40.776098,-73.958005           0.92   \n",
       "2848768  Monday    15  40.737483,-73.99314599999998           2.10   \n",
       "2989905  Monday    16          40.779788,-73.953755           1.21   \n",
       "2556284  Monday    11          40.769622,-73.960004          19.70   \n",
       "2557787  Monday    11          40.770664,-73.865877          13.40   \n",
       "\n",
       "         total_amount  time_spent  \n",
       "3396955           6.0         4.0  \n",
       "2848768          11.5        11.0  \n",
       "2989905           8.5         7.0  \n",
       "2556284          68.0        30.0  \n",
       "2557787          46.2        23.0  "
      ]
     },
     "execution_count": 9,
     "metadata": {},
     "output_type": "execute_result"
    }
   ],
   "source": [
    "Xtrain.head() # training set data we're interested in"
   ]
  },
  {
   "cell_type": "code",
   "execution_count": 10,
   "metadata": {
    "collapsed": false
   },
   "outputs": [
    {
     "data": {
      "text/html": [
       "<div>\n",
       "<table border=\"1\" class=\"dataframe\">\n",
       "  <thead>\n",
       "    <tr style=\"text-align: right;\">\n",
       "      <th></th>\n",
       "      <th>tip_amount</th>\n",
       "    </tr>\n",
       "  </thead>\n",
       "  <tbody>\n",
       "    <tr>\n",
       "      <th>3396955</th>\n",
       "      <td>0.0</td>\n",
       "    </tr>\n",
       "    <tr>\n",
       "      <th>2848768</th>\n",
       "      <td>1.0</td>\n",
       "    </tr>\n",
       "    <tr>\n",
       "      <th>2989905</th>\n",
       "      <td>0.0</td>\n",
       "    </tr>\n",
       "    <tr>\n",
       "      <th>2556284</th>\n",
       "      <td>15.5</td>\n",
       "    </tr>\n",
       "    <tr>\n",
       "      <th>2557787</th>\n",
       "      <td>7.7</td>\n",
       "    </tr>\n",
       "  </tbody>\n",
       "</table>\n",
       "</div>"
      ],
      "text/plain": [
       "         tip_amount\n",
       "3396955         0.0\n",
       "2848768         1.0\n",
       "2989905         0.0\n",
       "2556284        15.5\n",
       "2557787         7.7"
      ]
     },
     "execution_count": 10,
     "metadata": {},
     "output_type": "execute_result"
    }
   ],
   "source": [
    "ytrain.head() # corresponding tips"
   ]
  },
  {
   "cell_type": "markdown",
   "metadata": {},
   "source": [
    "### Create the matrix"
   ]
  },
  {
   "cell_type": "markdown",
   "metadata": {},
   "source": [
    "Did you transform, normalize, filter the data appropriately to solve your problem? Did you divide by max-min, or the sum, root-square-sum, or did you z-score the data? Did you justify what you did?\n",
    "\n",
    "For this question I filtered the unnecessary data from the data in a previous notebook, generated new data from previous columns such as day of the week, hour of the day and others. I also transformed the data into a matrix into by hours, as noted below where I have 1 for the hour and 0 for the rest of the data."
   ]
  },
  {
   "cell_type": "code",
   "execution_count": 11,
   "metadata": {
    "collapsed": false
   },
   "outputs": [
    {
     "data": {
      "text/html": [
       "<div>\n",
       "<table border=\"1\" class=\"dataframe\">\n",
       "  <thead>\n",
       "    <tr style=\"text-align: right;\">\n",
       "      <th></th>\n",
       "      <th>trip_distance</th>\n",
       "      <th>total_amount</th>\n",
       "      <th>time_spent</th>\n",
       "      <th>0</th>\n",
       "      <th>1</th>\n",
       "      <th>2</th>\n",
       "      <th>3</th>\n",
       "      <th>4</th>\n",
       "      <th>5</th>\n",
       "      <th>6</th>\n",
       "      <th>...</th>\n",
       "      <th>14</th>\n",
       "      <th>15</th>\n",
       "      <th>16</th>\n",
       "      <th>17</th>\n",
       "      <th>18</th>\n",
       "      <th>19</th>\n",
       "      <th>20</th>\n",
       "      <th>21</th>\n",
       "      <th>22</th>\n",
       "      <th>23</th>\n",
       "    </tr>\n",
       "  </thead>\n",
       "  <tbody>\n",
       "    <tr>\n",
       "      <th>3396955</th>\n",
       "      <td>0.92</td>\n",
       "      <td>6.0</td>\n",
       "      <td>4.0</td>\n",
       "      <td>0</td>\n",
       "      <td>0</td>\n",
       "      <td>0</td>\n",
       "      <td>0</td>\n",
       "      <td>0</td>\n",
       "      <td>0</td>\n",
       "      <td>0</td>\n",
       "      <td>...</td>\n",
       "      <td>0</td>\n",
       "      <td>0</td>\n",
       "      <td>0</td>\n",
       "      <td>0</td>\n",
       "      <td>0</td>\n",
       "      <td>0</td>\n",
       "      <td>1</td>\n",
       "      <td>0</td>\n",
       "      <td>0</td>\n",
       "      <td>0</td>\n",
       "    </tr>\n",
       "    <tr>\n",
       "      <th>2848768</th>\n",
       "      <td>2.10</td>\n",
       "      <td>11.5</td>\n",
       "      <td>11.0</td>\n",
       "      <td>0</td>\n",
       "      <td>0</td>\n",
       "      <td>0</td>\n",
       "      <td>0</td>\n",
       "      <td>0</td>\n",
       "      <td>0</td>\n",
       "      <td>0</td>\n",
       "      <td>...</td>\n",
       "      <td>0</td>\n",
       "      <td>1</td>\n",
       "      <td>0</td>\n",
       "      <td>0</td>\n",
       "      <td>0</td>\n",
       "      <td>0</td>\n",
       "      <td>0</td>\n",
       "      <td>0</td>\n",
       "      <td>0</td>\n",
       "      <td>0</td>\n",
       "    </tr>\n",
       "    <tr>\n",
       "      <th>2989905</th>\n",
       "      <td>1.21</td>\n",
       "      <td>8.5</td>\n",
       "      <td>7.0</td>\n",
       "      <td>0</td>\n",
       "      <td>0</td>\n",
       "      <td>0</td>\n",
       "      <td>0</td>\n",
       "      <td>0</td>\n",
       "      <td>0</td>\n",
       "      <td>0</td>\n",
       "      <td>...</td>\n",
       "      <td>0</td>\n",
       "      <td>0</td>\n",
       "      <td>1</td>\n",
       "      <td>0</td>\n",
       "      <td>0</td>\n",
       "      <td>0</td>\n",
       "      <td>0</td>\n",
       "      <td>0</td>\n",
       "      <td>0</td>\n",
       "      <td>0</td>\n",
       "    </tr>\n",
       "    <tr>\n",
       "      <th>2556284</th>\n",
       "      <td>19.70</td>\n",
       "      <td>68.0</td>\n",
       "      <td>30.0</td>\n",
       "      <td>0</td>\n",
       "      <td>0</td>\n",
       "      <td>0</td>\n",
       "      <td>0</td>\n",
       "      <td>0</td>\n",
       "      <td>0</td>\n",
       "      <td>0</td>\n",
       "      <td>...</td>\n",
       "      <td>0</td>\n",
       "      <td>0</td>\n",
       "      <td>0</td>\n",
       "      <td>0</td>\n",
       "      <td>0</td>\n",
       "      <td>0</td>\n",
       "      <td>0</td>\n",
       "      <td>0</td>\n",
       "      <td>0</td>\n",
       "      <td>0</td>\n",
       "    </tr>\n",
       "    <tr>\n",
       "      <th>2557787</th>\n",
       "      <td>13.40</td>\n",
       "      <td>46.2</td>\n",
       "      <td>23.0</td>\n",
       "      <td>0</td>\n",
       "      <td>0</td>\n",
       "      <td>0</td>\n",
       "      <td>0</td>\n",
       "      <td>0</td>\n",
       "      <td>0</td>\n",
       "      <td>0</td>\n",
       "      <td>...</td>\n",
       "      <td>0</td>\n",
       "      <td>0</td>\n",
       "      <td>0</td>\n",
       "      <td>0</td>\n",
       "      <td>0</td>\n",
       "      <td>0</td>\n",
       "      <td>0</td>\n",
       "      <td>0</td>\n",
       "      <td>0</td>\n",
       "      <td>0</td>\n",
       "    </tr>\n",
       "  </tbody>\n",
       "</table>\n",
       "<p>5 rows × 27 columns</p>\n",
       "</div>"
      ],
      "text/plain": [
       "         trip_distance  total_amount  time_spent  0  1  2  3  4  5  6 ...  14  \\\n",
       "3396955           0.92           6.0         4.0  0  0  0  0  0  0  0 ...   0   \n",
       "2848768           2.10          11.5        11.0  0  0  0  0  0  0  0 ...   0   \n",
       "2989905           1.21           8.5         7.0  0  0  0  0  0  0  0 ...   0   \n",
       "2556284          19.70          68.0        30.0  0  0  0  0  0  0  0 ...   0   \n",
       "2557787          13.40          46.2        23.0  0  0  0  0  0  0  0 ...   0   \n",
       "\n",
       "         15  16  17  18  19  20  21  22  23  \n",
       "3396955   0   0   0   0   0   1   0   0   0  \n",
       "2848768   1   0   0   0   0   0   0   0   0  \n",
       "2989905   0   1   0   0   0   0   0   0   0  \n",
       "2556284   0   0   0   0   0   0   0   0   0  \n",
       "2557787   0   0   0   0   0   0   0   0   0  \n",
       "\n",
       "[5 rows x 27 columns]"
      ]
     },
     "execution_count": 11,
     "metadata": {},
     "output_type": "execute_result"
    }
   ],
   "source": [
    "## might be useful\n",
    "pickup_train = Xtrain[['pickup']] # remember the pickup coordinates\n",
    "\n",
    "Xtrain = Xtrain.join(pd.get_dummies(Xtrain['hour']))\n",
    "Xtrain = Xtrain.drop(['hour','weekday','pickup'], axis=1)\n",
    "Xtrain.head()"
   ]
  },
  {
   "cell_type": "code",
   "execution_count": 12,
   "metadata": {
    "collapsed": false
   },
   "outputs": [
    {
     "data": {
      "text/html": [
       "<div>\n",
       "<table border=\"1\" class=\"dataframe\">\n",
       "  <thead>\n",
       "    <tr style=\"text-align: right;\">\n",
       "      <th></th>\n",
       "      <th>trip_distance</th>\n",
       "      <th>total_amount</th>\n",
       "      <th>time_spent</th>\n",
       "      <th>0</th>\n",
       "      <th>1</th>\n",
       "      <th>2</th>\n",
       "      <th>3</th>\n",
       "      <th>4</th>\n",
       "      <th>5</th>\n",
       "      <th>6</th>\n",
       "      <th>...</th>\n",
       "      <th>14</th>\n",
       "      <th>15</th>\n",
       "      <th>16</th>\n",
       "      <th>17</th>\n",
       "      <th>18</th>\n",
       "      <th>19</th>\n",
       "      <th>20</th>\n",
       "      <th>21</th>\n",
       "      <th>22</th>\n",
       "      <th>23</th>\n",
       "    </tr>\n",
       "  </thead>\n",
       "  <tbody>\n",
       "    <tr>\n",
       "      <th>2002637</th>\n",
       "      <td>18.3</td>\n",
       "      <td>68.76</td>\n",
       "      <td>28.0</td>\n",
       "      <td>1</td>\n",
       "      <td>0</td>\n",
       "      <td>0</td>\n",
       "      <td>0</td>\n",
       "      <td>0</td>\n",
       "      <td>0</td>\n",
       "      <td>0</td>\n",
       "      <td>...</td>\n",
       "      <td>0</td>\n",
       "      <td>0</td>\n",
       "      <td>0</td>\n",
       "      <td>0</td>\n",
       "      <td>0</td>\n",
       "      <td>0</td>\n",
       "      <td>0</td>\n",
       "      <td>0</td>\n",
       "      <td>0</td>\n",
       "      <td>0</td>\n",
       "    </tr>\n",
       "    <tr>\n",
       "      <th>2002645</th>\n",
       "      <td>20.1</td>\n",
       "      <td>57.30</td>\n",
       "      <td>31.0</td>\n",
       "      <td>1</td>\n",
       "      <td>0</td>\n",
       "      <td>0</td>\n",
       "      <td>0</td>\n",
       "      <td>0</td>\n",
       "      <td>0</td>\n",
       "      <td>0</td>\n",
       "      <td>...</td>\n",
       "      <td>0</td>\n",
       "      <td>0</td>\n",
       "      <td>0</td>\n",
       "      <td>0</td>\n",
       "      <td>0</td>\n",
       "      <td>0</td>\n",
       "      <td>0</td>\n",
       "      <td>0</td>\n",
       "      <td>0</td>\n",
       "      <td>0</td>\n",
       "    </tr>\n",
       "    <tr>\n",
       "      <th>2002655</th>\n",
       "      <td>18.2</td>\n",
       "      <td>62.30</td>\n",
       "      <td>30.0</td>\n",
       "      <td>1</td>\n",
       "      <td>0</td>\n",
       "      <td>0</td>\n",
       "      <td>0</td>\n",
       "      <td>0</td>\n",
       "      <td>0</td>\n",
       "      <td>0</td>\n",
       "      <td>...</td>\n",
       "      <td>0</td>\n",
       "      <td>0</td>\n",
       "      <td>0</td>\n",
       "      <td>0</td>\n",
       "      <td>0</td>\n",
       "      <td>0</td>\n",
       "      <td>0</td>\n",
       "      <td>0</td>\n",
       "      <td>0</td>\n",
       "      <td>0</td>\n",
       "    </tr>\n",
       "    <tr>\n",
       "      <th>2002656</th>\n",
       "      <td>11.1</td>\n",
       "      <td>42.50</td>\n",
       "      <td>22.0</td>\n",
       "      <td>1</td>\n",
       "      <td>0</td>\n",
       "      <td>0</td>\n",
       "      <td>0</td>\n",
       "      <td>0</td>\n",
       "      <td>0</td>\n",
       "      <td>0</td>\n",
       "      <td>...</td>\n",
       "      <td>0</td>\n",
       "      <td>0</td>\n",
       "      <td>0</td>\n",
       "      <td>0</td>\n",
       "      <td>0</td>\n",
       "      <td>0</td>\n",
       "      <td>0</td>\n",
       "      <td>0</td>\n",
       "      <td>0</td>\n",
       "      <td>0</td>\n",
       "    </tr>\n",
       "    <tr>\n",
       "      <th>2002658</th>\n",
       "      <td>18.5</td>\n",
       "      <td>68.76</td>\n",
       "      <td>29.0</td>\n",
       "      <td>1</td>\n",
       "      <td>0</td>\n",
       "      <td>0</td>\n",
       "      <td>0</td>\n",
       "      <td>0</td>\n",
       "      <td>0</td>\n",
       "      <td>0</td>\n",
       "      <td>...</td>\n",
       "      <td>0</td>\n",
       "      <td>0</td>\n",
       "      <td>0</td>\n",
       "      <td>0</td>\n",
       "      <td>0</td>\n",
       "      <td>0</td>\n",
       "      <td>0</td>\n",
       "      <td>0</td>\n",
       "      <td>0</td>\n",
       "      <td>0</td>\n",
       "    </tr>\n",
       "  </tbody>\n",
       "</table>\n",
       "<p>5 rows × 27 columns</p>\n",
       "</div>"
      ],
      "text/plain": [
       "         trip_distance  total_amount  time_spent  0  1  2  3  4  5  6 ...  14  \\\n",
       "2002637           18.3         68.76        28.0  1  0  0  0  0  0  0 ...   0   \n",
       "2002645           20.1         57.30        31.0  1  0  0  0  0  0  0 ...   0   \n",
       "2002655           18.2         62.30        30.0  1  0  0  0  0  0  0 ...   0   \n",
       "2002656           11.1         42.50        22.0  1  0  0  0  0  0  0 ...   0   \n",
       "2002658           18.5         68.76        29.0  1  0  0  0  0  0  0 ...   0   \n",
       "\n",
       "         15  16  17  18  19  20  21  22  23  \n",
       "2002637   0   0   0   0   0   0   0   0   0  \n",
       "2002645   0   0   0   0   0   0   0   0   0  \n",
       "2002655   0   0   0   0   0   0   0   0   0  \n",
       "2002656   0   0   0   0   0   0   0   0   0  \n",
       "2002658   0   0   0   0   0   0   0   0   0  \n",
       "\n",
       "[5 rows x 27 columns]"
      ]
     },
     "execution_count": 12,
     "metadata": {},
     "output_type": "execute_result"
    }
   ],
   "source": [
    "## might be useful\n",
    "pickup_test = Xtest[['pickup']] # remember the pickup coordinates\n",
    "\n",
    "Xtest = Xtest.join(pd.get_dummies(Xtest['hour']))\n",
    "Xtest = Xtest.drop(['hour','weekday','pickup'], axis=1)\n",
    "Xtest.head()"
   ]
  },
  {
   "cell_type": "code",
   "execution_count": 13,
   "metadata": {
    "collapsed": false
   },
   "outputs": [
    {
     "data": {
      "text/plain": [
       "(1306165, 27)"
      ]
     },
     "execution_count": 13,
     "metadata": {},
     "output_type": "execute_result"
    }
   ],
   "source": [
    "Xtrain.shape"
   ]
  },
  {
   "cell_type": "code",
   "execution_count": 14,
   "metadata": {
    "collapsed": false
   },
   "outputs": [
    {
     "name": "stdout",
     "output_type": "stream",
     "text": [
      "(326541, 27)\n"
     ]
    },
    {
     "data": {
      "text/html": [
       "<div>\n",
       "<table border=\"1\" class=\"dataframe\">\n",
       "  <thead>\n",
       "    <tr style=\"text-align: right;\">\n",
       "      <th></th>\n",
       "      <th>trip_distance</th>\n",
       "      <th>total_amount</th>\n",
       "      <th>time_spent</th>\n",
       "      <th>0</th>\n",
       "      <th>1</th>\n",
       "      <th>2</th>\n",
       "      <th>3</th>\n",
       "      <th>4</th>\n",
       "      <th>5</th>\n",
       "      <th>6</th>\n",
       "      <th>...</th>\n",
       "      <th>14</th>\n",
       "      <th>15</th>\n",
       "      <th>16</th>\n",
       "      <th>17</th>\n",
       "      <th>18</th>\n",
       "      <th>19</th>\n",
       "      <th>20</th>\n",
       "      <th>21</th>\n",
       "      <th>22</th>\n",
       "      <th>23</th>\n",
       "    </tr>\n",
       "  </thead>\n",
       "  <tbody>\n",
       "    <tr>\n",
       "      <th>2002637</th>\n",
       "      <td>18.3</td>\n",
       "      <td>68.76</td>\n",
       "      <td>28.0</td>\n",
       "      <td>1</td>\n",
       "      <td>0</td>\n",
       "      <td>0</td>\n",
       "      <td>0</td>\n",
       "      <td>0</td>\n",
       "      <td>0</td>\n",
       "      <td>0</td>\n",
       "      <td>...</td>\n",
       "      <td>0</td>\n",
       "      <td>0</td>\n",
       "      <td>0</td>\n",
       "      <td>0</td>\n",
       "      <td>0</td>\n",
       "      <td>0</td>\n",
       "      <td>0</td>\n",
       "      <td>0</td>\n",
       "      <td>0</td>\n",
       "      <td>0</td>\n",
       "    </tr>\n",
       "    <tr>\n",
       "      <th>2002645</th>\n",
       "      <td>20.1</td>\n",
       "      <td>57.30</td>\n",
       "      <td>31.0</td>\n",
       "      <td>1</td>\n",
       "      <td>0</td>\n",
       "      <td>0</td>\n",
       "      <td>0</td>\n",
       "      <td>0</td>\n",
       "      <td>0</td>\n",
       "      <td>0</td>\n",
       "      <td>...</td>\n",
       "      <td>0</td>\n",
       "      <td>0</td>\n",
       "      <td>0</td>\n",
       "      <td>0</td>\n",
       "      <td>0</td>\n",
       "      <td>0</td>\n",
       "      <td>0</td>\n",
       "      <td>0</td>\n",
       "      <td>0</td>\n",
       "      <td>0</td>\n",
       "    </tr>\n",
       "    <tr>\n",
       "      <th>2002655</th>\n",
       "      <td>18.2</td>\n",
       "      <td>62.30</td>\n",
       "      <td>30.0</td>\n",
       "      <td>1</td>\n",
       "      <td>0</td>\n",
       "      <td>0</td>\n",
       "      <td>0</td>\n",
       "      <td>0</td>\n",
       "      <td>0</td>\n",
       "      <td>0</td>\n",
       "      <td>...</td>\n",
       "      <td>0</td>\n",
       "      <td>0</td>\n",
       "      <td>0</td>\n",
       "      <td>0</td>\n",
       "      <td>0</td>\n",
       "      <td>0</td>\n",
       "      <td>0</td>\n",
       "      <td>0</td>\n",
       "      <td>0</td>\n",
       "      <td>0</td>\n",
       "    </tr>\n",
       "    <tr>\n",
       "      <th>2002656</th>\n",
       "      <td>11.1</td>\n",
       "      <td>42.50</td>\n",
       "      <td>22.0</td>\n",
       "      <td>1</td>\n",
       "      <td>0</td>\n",
       "      <td>0</td>\n",
       "      <td>0</td>\n",
       "      <td>0</td>\n",
       "      <td>0</td>\n",
       "      <td>0</td>\n",
       "      <td>...</td>\n",
       "      <td>0</td>\n",
       "      <td>0</td>\n",
       "      <td>0</td>\n",
       "      <td>0</td>\n",
       "      <td>0</td>\n",
       "      <td>0</td>\n",
       "      <td>0</td>\n",
       "      <td>0</td>\n",
       "      <td>0</td>\n",
       "      <td>0</td>\n",
       "    </tr>\n",
       "    <tr>\n",
       "      <th>2002658</th>\n",
       "      <td>18.5</td>\n",
       "      <td>68.76</td>\n",
       "      <td>29.0</td>\n",
       "      <td>1</td>\n",
       "      <td>0</td>\n",
       "      <td>0</td>\n",
       "      <td>0</td>\n",
       "      <td>0</td>\n",
       "      <td>0</td>\n",
       "      <td>0</td>\n",
       "      <td>...</td>\n",
       "      <td>0</td>\n",
       "      <td>0</td>\n",
       "      <td>0</td>\n",
       "      <td>0</td>\n",
       "      <td>0</td>\n",
       "      <td>0</td>\n",
       "      <td>0</td>\n",
       "      <td>0</td>\n",
       "      <td>0</td>\n",
       "      <td>0</td>\n",
       "    </tr>\n",
       "  </tbody>\n",
       "</table>\n",
       "<p>5 rows × 27 columns</p>\n",
       "</div>"
      ],
      "text/plain": [
       "         trip_distance  total_amount  time_spent  0  1  2  3  4  5  6 ...  14  \\\n",
       "2002637           18.3         68.76        28.0  1  0  0  0  0  0  0 ...   0   \n",
       "2002645           20.1         57.30        31.0  1  0  0  0  0  0  0 ...   0   \n",
       "2002655           18.2         62.30        30.0  1  0  0  0  0  0  0 ...   0   \n",
       "2002656           11.1         42.50        22.0  1  0  0  0  0  0  0 ...   0   \n",
       "2002658           18.5         68.76        29.0  1  0  0  0  0  0  0 ...   0   \n",
       "\n",
       "         15  16  17  18  19  20  21  22  23  \n",
       "2002637   0   0   0   0   0   0   0   0   0  \n",
       "2002645   0   0   0   0   0   0   0   0   0  \n",
       "2002655   0   0   0   0   0   0   0   0   0  \n",
       "2002656   0   0   0   0   0   0   0   0   0  \n",
       "2002658   0   0   0   0   0   0   0   0   0  \n",
       "\n",
       "[5 rows x 27 columns]"
      ]
     },
     "execution_count": 14,
     "metadata": {},
     "output_type": "execute_result"
    }
   ],
   "source": [
    "print(Xtest.shape)\n",
    "Xtest.head()"
   ]
  },
  {
   "cell_type": "markdown",
   "metadata": {},
   "source": [
    "### Cross Validation with KNeighborsRegressor\n",
    "\n",
    "http://scikit-learn.org/stable/modules/cross_validation.html - 3.1.1. Computing cross-validated metrics"
   ]
  },
  {
   "cell_type": "code",
   "execution_count": 15,
   "metadata": {
    "collapsed": false
   },
   "outputs": [
    {
     "name": "stdout",
     "output_type": "stream",
     "text": [
      "Wall time: 16min 50s\n"
     ]
    }
   ],
   "source": [
    "%%time\n",
    "cross_validation = cross_val_score(KNeighborsRegressor(),Xtrain, ytrain,cv=5)\n",
    "cross_validation"
   ]
  },
  {
   "cell_type": "code",
   "execution_count": 16,
   "metadata": {
    "collapsed": false
   },
   "outputs": [
    {
     "name": "stdout",
     "output_type": "stream",
     "text": [
      "Accuracy: 0.82 (+/- 0.01)\n"
     ]
    }
   ],
   "source": [
    "print(\"Accuracy: %0.2f (+/- %0.2f)\" % (cross_validation.mean(), cross_validation.std() * 2))"
   ]
  },
  {
   "cell_type": "code",
   "execution_count": 17,
   "metadata": {
    "collapsed": false
   },
   "outputs": [
    {
     "name": "stdout",
     "output_type": "stream",
     "text": [
      "Score for fold: 0.813\n",
      "Wall time: 5min 36s\n"
     ]
    }
   ],
   "source": [
    "%%time \n",
    "clf = KNeighborsRegressor().fit(Xtrain, ytrain)\n",
    "score = clf.score(Xtest, ytest)\n",
    "print(\"Score for fold: %.3f\" % (score))"
   ]
  },
  {
   "cell_type": "markdown",
   "metadata": {},
   "source": [
    "### Computing error\n"
   ]
  },
  {
   "cell_type": "markdown",
   "metadata": {},
   "source": [
    "Now that we know our point predictions, we can compute the error involved with our predictions. We can compute mean squared error."
   ]
  },
  {
   "cell_type": "code",
   "execution_count": 18,
   "metadata": {
    "collapsed": false
   },
   "outputs": [
    {
     "name": "stdout",
     "output_type": "stream",
     "text": [
      "Wall time: 2min 55s\n"
     ]
    }
   ],
   "source": [
    "%%time\n",
    "mse = mean_squared_error(clf.predict(Xtest),ytest)"
   ]
  },
  {
   "cell_type": "code",
   "execution_count": 19,
   "metadata": {
    "collapsed": false
   },
   "outputs": [
    {
     "name": "stdout",
     "output_type": "stream",
     "text": [
      "MSE =  0.807310714273\n",
      "RMSE =  0.898504710212\n"
     ]
    }
   ],
   "source": [
    "print(\"MSE = \",mse)\n",
    "print(\"RMSE = \",np.sqrt(mse))"
   ]
  },
  {
   "cell_type": "code",
   "execution_count": 20,
   "metadata": {
    "collapsed": false
   },
   "outputs": [
    {
     "name": "stdout",
     "output_type": "stream",
     "text": [
      "Wall time: 2min 55s\n"
     ]
    }
   ],
   "source": [
    "%%time\n",
    "monday_array = clf.predict(Xtest)"
   ]
  },
  {
   "cell_type": "code",
   "execution_count": 21,
   "metadata": {
    "collapsed": false
   },
   "outputs": [
    {
     "name": "stdout",
     "output_type": "stream",
     "text": [
      "Wall time: 3.04 s\n"
     ]
    },
    {
     "data": {
      "image/png": "[encoded data removed]",
      "text/plain": [
       "<matplotlib.figure.Figure at 0x2302ea96780>"
      ]
     },
     "metadata": {},
     "output_type": "display_data"
    }
   ],
   "source": [
    "%%time\n",
    "tip_amt = ytest.tip_amount\n",
    "real_tips = []\n",
    "for tips in tip_amt:\n",
    "    real_tips.append(tips)\n",
    "plt.scatter(monday_array,real_tips)"
   ]
  },
  {
   "cell_type": "markdown",
   "metadata": {
    "collapsed": true
   },
   "source": [
    "# Understanding the data"
   ]
  },
  {
   "cell_type": "code",
   "execution_count": 22,
   "metadata": {
    "collapsed": false
   },
   "outputs": [
    {
     "data": {
      "image/png": "[encoded data removed]",
      "text/plain": [
       "<matplotlib.figure.Figure at 0x230a4725ba8>"
      ]
     },
     "metadata": {},
     "output_type": "display_data"
    },
    {
     "name": "stdout",
     "output_type": "stream",
     "text": [
      "Wall time: 21.9 s\n"
     ]
    }
   ],
   "source": [
    "%%time\n",
    "plt.scatter(monday_array,real_tips,color=['red','blue'])\n",
    "plt.xlabel('Predicted Tips')\n",
    "plt.ylabel('Real Tips')\n",
    "plt.show()"
   ]
  },
  {
   "cell_type": "code",
   "execution_count": 23,
   "metadata": {
    "collapsed": false
   },
   "outputs": [
    {
     "data": {
      "image/png": "[encoded data removed]",
      "text/plain": [
       "<matplotlib.figure.Figure at 0x2302eae8dd8>"
      ]
     },
     "metadata": {},
     "output_type": "display_data"
    },
    {
     "name": "stdout",
     "output_type": "stream",
     "text": [
      "Wall time: 369 ms\n"
     ]
    }
   ],
   "source": [
    "%%time\n",
    "plt.scatter(monday_array[:2000],real_tips[:2000],color=['red','blue'])\n",
    "plt.xlim(-1,40)\n",
    "plt.ylim(-1, 40)\n",
    "plt.xlabel('Predicted Tips')\n",
    "plt.ylabel('Real Tips')\n",
    "plt.show()"
   ]
  },
  {
   "cell_type": "code",
   "execution_count": 24,
   "metadata": {
    "collapsed": false
   },
   "outputs": [
    {
     "data": {
      "image/png": "[encoded data removed]",
      "text/plain": [
       "<matplotlib.figure.Figure at 0x2302eb2d9b0>"
      ]
     },
     "metadata": {},
     "output_type": "display_data"
    },
    {
     "name": "stdout",
     "output_type": "stream",
     "text": [
      "Wall time: 330 ms\n"
     ]
    }
   ],
   "source": [
    "%%time\n",
    "plt.scatter(monday_array[:2000],real_tips[:2000],color=['red','blue'])\n",
    "plt.xlim(-1,20)\n",
    "plt.ylim(-1, 20)\n",
    "plt.xlabel('Predicted Tips')\n",
    "plt.ylabel('Real Tips')\n",
    "plt.show()"
   ]
  },
  {
   "cell_type": "code",
   "execution_count": 25,
   "metadata": {
    "collapsed": false
   },
   "outputs": [
    {
     "data": {
      "image/png": "[encoded data removed]",
      "text/plain": [
       "<matplotlib.figure.Figure at 0x2302eb63c18>"
      ]
     },
     "metadata": {},
     "output_type": "display_data"
    },
    {
     "name": "stdout",
     "output_type": "stream",
     "text": [
      "Wall time: 957 ms\n"
     ]
    }
   ],
   "source": [
    "%%time\n",
    "plt.scatter(monday_array[:10000],real_tips[:10000],color=['red','blue'])\n",
    "plt.xlim(-1,15)\n",
    "plt.ylim(-1, 15)\n",
    "plt.xlabel('Predicted Tips')\n",
    "plt.ylabel('Real Tips')\n",
    "plt.show()"
   ]
  },
  {
   "cell_type": "code",
   "execution_count": 26,
   "metadata": {
    "collapsed": true
   },
   "outputs": [],
   "source": [
    "k = np.column_stack((monday_array,real_tips))"
   ]
  },
  {
   "cell_type": "code",
   "execution_count": 27,
   "metadata": {
    "collapsed": false
   },
   "outputs": [
    {
     "name": "stdout",
     "output_type": "stream",
     "text": [
      "Predicted vs Real\n"
     ]
    },
    {
     "data": {
      "text/plain": [
       "array([[ 11.076,  11.46 ],\n",
       "       [  1.   ,   0.   ],\n",
       "       [  7.56 ,   5.   ],\n",
       "       [  7.702,   8.5  ],\n",
       "       [ 12.318,  11.46 ],\n",
       "       [  9.47 ,  10.4  ],\n",
       "       [  2.19 ,   0.   ],\n",
       "       [  0.   ,   0.   ],\n",
       "       [ 11.246,  11.46 ],\n",
       "       [  0.2  ,   0.   ],\n",
       "       [ 12.964,  11.46 ],\n",
       "       [  5.36 ,   7.   ],\n",
       "       [ 11.458,  11.46 ],\n",
       "       [  8.9  ,   8.   ],\n",
       "       [  8.852,  11.46 ],\n",
       "       [  0.4  ,   1.   ],\n",
       "       [  3.1  ,   5.   ],\n",
       "       [ 11.458,  11.45 ],\n",
       "       [  8.12 ,   8.2  ],\n",
       "       [  7.89 ,  10.5  ],\n",
       "       [  7.88 ,   9.   ],\n",
       "       [  0.4  ,   0.   ],\n",
       "       [  7.1  ,  10.1  ],\n",
       "       [  7.216,   8.3  ],\n",
       "       [  6.064,   6.4  ],\n",
       "       [ 11.39 ,  10.   ],\n",
       "       [  0.   ,   9.5  ],\n",
       "       [  8.844,   9.8  ],\n",
       "       [ 11.46 ,  11.46 ],\n",
       "       [  0.   ,   0.   ],\n",
       "       [  0.   ,   0.   ],\n",
       "       [  5.8  ,   6.   ],\n",
       "       [  9.5  ,   6.   ],\n",
       "       [  0.   ,   0.   ],\n",
       "       [  1.   ,   0.   ],\n",
       "       [ 11.46 ,  11.45 ],\n",
       "       [  0.8  ,   0.   ],\n",
       "       [  8.372,  10.4  ],\n",
       "       [  1.   ,   0.   ],\n",
       "       [  5.5  ,   6.   ],\n",
       "       [ 11.46 ,  11.46 ],\n",
       "       [  8.16 ,   7.5  ],\n",
       "       [  0.83 ,   2.   ],\n",
       "       [  0.   ,   0.   ],\n",
       "       [ 10.44 ,  10.4  ],\n",
       "       [  1.   ,   5.   ],\n",
       "       [  7.752,   5.2  ],\n",
       "       [ 10.664,  13.   ],\n",
       "       [  0.   ,   0.   ],\n",
       "       [  3.   ,  10.5  ]])"
      ]
     },
     "execution_count": 27,
     "metadata": {},
     "output_type": "execute_result"
    }
   ],
   "source": [
    "print(\"Predicted vs Real\")\n",
    "k[:50]"
   ]
  }
 ],
 "metadata": {
  "anaconda-cloud": {},
  "kernelspec": {
   "display_name": "Python [conda root]",
   "language": "python",
   "name": "conda-root-py"
  },
  "language_info": {
   "codemirror_mode": {
    "name": "ipython",
    "version": 3
   },
   "file_extension": ".py",
   "mimetype": "text/x-python",
   "name": "python",
   "nbconvert_exporter": "python",
   "pygments_lexer": "ipython3",
   "version": "3.5.2"
  }
 },
 "nbformat": 4,
 "nbformat_minor": 1
}
