{
 "cells": [
  {
   "cell_type": "code",
   "execution_count": 1,
   "metadata": {
    "collapsed": true
   },
   "outputs": [],
   "source": [
    "import pandas as pd\n",
    "import numpy as np\n",
    "import matplotlib.pyplot as plt\n",
    "from sklearn.cluster import KMeans\n",
    "import matplotlib.path as mplPath\n",
    "#import rtree\n",
    "#import fiona.crs\n",
    "#import geopandas as gpd\n",
    "#import pyproj\n",
    "#import shapely.geometry as geom\n",
    "from sklearn.neighbors import KNeighborsRegressor\n",
    "from sklearn.cross_validation import train_test_split\n",
    "from sklearn.cross_validation import cross_val_score\n",
    "from sklearn.grid_search import GridSearchCV\n",
    "%matplotlib inline"
   ]
  },
  {
   "cell_type": "code",
   "execution_count": 2,
   "metadata": {
    "collapsed": true
   },
   "outputs": [],
   "source": [
    "january2013=pd.read_csv(\"datasets/yellow_tripdata_2013-01.csv\")"
   ]
  },
  {
   "cell_type": "code",
   "execution_count": 3,
   "metadata": {
    "collapsed": true
   },
   "outputs": [],
   "source": [
    "january2013 = january2013.loc[(january2013['pickup_longitude'] > -74.06) & (january2013['pickup_longitude'] < -73.77) & (january2013['pickup_latitude'] > 40.61) &  (january2013['pickup_latitude'] < 40.91)]\n",
    "#january2013 = january2013.loc[(january2013['passenger_count'] > 0) & (january2013['passenger_count'] < 7)]\n",
    "january2013 = january2013.reset_index()\n",
    "january2013 = january2013.drop('index', 1)\n",
    "january2013 = january2013.drop('vendor_id',1)\n",
    "january2013 = january2013.drop('rate_code',1)\n",
    "january2013 = january2013.drop('store_and_fwd_flag',1)\n",
    "january2013 = january2013.drop('fare_amount',1)\n",
    "january2013 = january2013.drop('surcharge',1)\n",
    "january2013 = january2013.drop('mta_tax',1)\n",
    "january2013 = january2013.drop('tolls_amount',1)\n",
    "january2013 = january2013.drop('dropoff_latitude',1)\n",
    "january2013 = january2013.drop('dropoff_longitude',1)\n",
    "january2013 = january2013.drop('passenger_count',1)\n",
    "january2013 = january2013.drop('payment_type',1)"
   ]
  },
  {
   "cell_type": "code",
   "execution_count": 4,
   "metadata": {
    "collapsed": true
   },
   "outputs": [],
   "source": [
    "def add_data(df):\n",
    "    df_timestamp = pd.to_datetime(pd.Series(df['pickup_datetime']))\n",
    "    df['trip_distance']*0.621371 # convert to miles\n",
    "    df['weekday'] = df_timestamp.dt.weekday_name\n",
    "    #df['month'] = df_timestamp.dt.month\n",
    "    df['hour'] = df_timestamp.dt.hour\n",
    "    #df['day'] = df_timestamp.dt.day\n",
    "    #df['minutes'] = (df_timestamp.dt.hour)*60 + df_timestamp.dt.minute\n",
    "    time_spent = pd.to_datetime(df['dropoff_datetime']) - pd.to_datetime(df['pickup_datetime'])\n",
    "    df['time_spent'] = pd.to_datetime(time_spent).dt.minute\n",
    "    df['pickup'] = df['pickup_latitude'].map(str) +','+df['pickup_longitude'].map(str)\n",
    "    return df"
   ]
  },
  {
   "cell_type": "code",
   "execution_count": 5,
   "metadata": {
    "collapsed": true
   },
   "outputs": [],
   "source": [
    "january2013 = add_data(january2013)"
   ]
  },
  {
   "cell_type": "code",
   "execution_count": 6,
   "metadata": {
    "collapsed": true
   },
   "outputs": [],
   "source": [
    "january2013 = january2013.drop('pickup_datetime',1)\n",
    "january2013 = january2013.drop('dropoff_datetime',1)\n",
    "january2013 = january2013.drop('pickup_longitude',1)\n",
    "january2013 = january2013.drop('pickup_latitude',1)"
   ]
  },
  {
   "cell_type": "code",
   "execution_count": 7,
   "metadata": {
    "collapsed": false
   },
   "outputs": [
    {
     "data": {
      "text/html": [
       "<div>\n",
       "<table border=\"1\" class=\"dataframe\">\n",
       "  <thead>\n",
       "    <tr style=\"text-align: right;\">\n",
       "      <th></th>\n",
       "      <th>trip_distance</th>\n",
       "      <th>tip_amount</th>\n",
       "      <th>total_amount</th>\n",
       "      <th>weekday</th>\n",
       "      <th>hour</th>\n",
       "      <th>time_spent</th>\n",
       "      <th>pickup</th>\n",
       "    </tr>\n",
       "  </thead>\n",
       "  <tbody>\n",
       "    <tr>\n",
       "      <th>0</th>\n",
       "      <td>1.0</td>\n",
       "      <td>0.0</td>\n",
       "      <td>7.0</td>\n",
       "      <td>Tuesday</td>\n",
       "      <td>15</td>\n",
       "      <td>6</td>\n",
       "      <td>40.757977,-73.978165</td>\n",
       "    </tr>\n",
       "    <tr>\n",
       "      <th>1</th>\n",
       "      <td>1.5</td>\n",
       "      <td>0.0</td>\n",
       "      <td>7.0</td>\n",
       "      <td>Sunday</td>\n",
       "      <td>0</td>\n",
       "      <td>4</td>\n",
       "      <td>40.731781,-74.00668</td>\n",
       "    </tr>\n",
       "    <tr>\n",
       "      <th>2</th>\n",
       "      <td>1.1</td>\n",
       "      <td>0.0</td>\n",
       "      <td>7.0</td>\n",
       "      <td>Saturday</td>\n",
       "      <td>18</td>\n",
       "      <td>4</td>\n",
       "      <td>40.73777,-74.004711</td>\n",
       "    </tr>\n",
       "    <tr>\n",
       "      <th>3</th>\n",
       "      <td>0.7</td>\n",
       "      <td>0.0</td>\n",
       "      <td>6.0</td>\n",
       "      <td>Monday</td>\n",
       "      <td>23</td>\n",
       "      <td>4</td>\n",
       "      <td>40.759945,-73.97459999999998</td>\n",
       "    </tr>\n",
       "    <tr>\n",
       "      <th>4</th>\n",
       "      <td>2.1</td>\n",
       "      <td>0.0</td>\n",
       "      <td>10.5</td>\n",
       "      <td>Monday</td>\n",
       "      <td>23</td>\n",
       "      <td>9</td>\n",
       "      <td>40.748528,-73.976252</td>\n",
       "    </tr>\n",
       "  </tbody>\n",
       "</table>\n",
       "</div>"
      ],
      "text/plain": [
       "   trip_distance  tip_amount  total_amount   weekday  hour  time_spent  \\\n",
       "0            1.0         0.0           7.0   Tuesday    15           6   \n",
       "1            1.5         0.0           7.0    Sunday     0           4   \n",
       "2            1.1         0.0           7.0  Saturday    18           4   \n",
       "3            0.7         0.0           6.0    Monday    23           4   \n",
       "4            2.1         0.0          10.5    Monday    23           9   \n",
       "\n",
       "                         pickup  \n",
       "0          40.757977,-73.978165  \n",
       "1           40.731781,-74.00668  \n",
       "2           40.73777,-74.004711  \n",
       "3  40.759945,-73.97459999999998  \n",
       "4          40.748528,-73.976252  "
      ]
     },
     "execution_count": 7,
     "metadata": {},
     "output_type": "execute_result"
    }
   ],
   "source": [
    "january2013.head()"
   ]
  },
  {
   "cell_type": "code",
   "execution_count": 8,
   "metadata": {
    "collapsed": true
   },
   "outputs": [],
   "source": [
    "# Look into the dataframe \n",
    "# First by weekday, then hour then block\n",
    "# and we will know the average tip amount\n",
    "# for each weekday > hour > block\n",
    "# eg. On (day of week) at (hour) on (lat,long) avg tip is $number\n",
    "def get_avg_tips(df):\n",
    "    avg_tips = df.groupby(['weekday','hour','pickup']).mean()\n",
    "    avg_tips = avg_tips.reset_index()\n",
    "    return avg_tips"
   ]
  },
  {
   "cell_type": "code",
   "execution_count": 9,
   "metadata": {
    "collapsed": false
   },
   "outputs": [],
   "source": [
    "january2013 = get_avg_tips(january2013)"
   ]
  },
  {
   "cell_type": "code",
   "execution_count": 10,
   "metadata": {
    "collapsed": false
   },
   "outputs": [
    {
     "data": {
      "text/plain": [
       "(14256773, 7)"
      ]
     },
     "execution_count": 10,
     "metadata": {},
     "output_type": "execute_result"
    }
   ],
   "source": [
    "january2013.shape"
   ]
  },
  {
   "cell_type": "code",
   "execution_count": 11,
   "metadata": {
    "collapsed": false
   },
   "outputs": [
    {
     "data": {
      "text/html": [
       "<div>\n",
       "<table border=\"1\" class=\"dataframe\">\n",
       "  <thead>\n",
       "    <tr style=\"text-align: right;\">\n",
       "      <th></th>\n",
       "      <th>weekday</th>\n",
       "      <th>hour</th>\n",
       "      <th>pickup</th>\n",
       "      <th>trip_distance</th>\n",
       "      <th>tip_amount</th>\n",
       "      <th>total_amount</th>\n",
       "      <th>time_spent</th>\n",
       "    </tr>\n",
       "  </thead>\n",
       "  <tbody>\n",
       "    <tr>\n",
       "      <th>0</th>\n",
       "      <td>Friday</td>\n",
       "      <td>0</td>\n",
       "      <td>40.613763,-73.972592</td>\n",
       "      <td>0.00</td>\n",
       "      <td>7.700</td>\n",
       "      <td>38.500</td>\n",
       "      <td>0.0</td>\n",
       "    </tr>\n",
       "    <tr>\n",
       "      <th>1</th>\n",
       "      <td>Friday</td>\n",
       "      <td>0</td>\n",
       "      <td>40.615297,-73.96423699999998</td>\n",
       "      <td>12.22</td>\n",
       "      <td>0.000</td>\n",
       "      <td>36.500</td>\n",
       "      <td>27.0</td>\n",
       "    </tr>\n",
       "    <tr>\n",
       "      <th>2</th>\n",
       "      <td>Friday</td>\n",
       "      <td>0</td>\n",
       "      <td>40.61622,-73.97454999999998</td>\n",
       "      <td>3.70</td>\n",
       "      <td>1.625</td>\n",
       "      <td>16.375</td>\n",
       "      <td>13.0</td>\n",
       "    </tr>\n",
       "    <tr>\n",
       "      <th>3</th>\n",
       "      <td>Friday</td>\n",
       "      <td>0</td>\n",
       "      <td>40.616755,-73.944947</td>\n",
       "      <td>1.05</td>\n",
       "      <td>0.000</td>\n",
       "      <td>6.000</td>\n",
       "      <td>3.0</td>\n",
       "    </tr>\n",
       "    <tr>\n",
       "      <th>4</th>\n",
       "      <td>Friday</td>\n",
       "      <td>0</td>\n",
       "      <td>40.617259,-73.96366999999998</td>\n",
       "      <td>1.40</td>\n",
       "      <td>0.000</td>\n",
       "      <td>7.500</td>\n",
       "      <td>4.0</td>\n",
       "    </tr>\n",
       "  </tbody>\n",
       "</table>\n",
       "</div>"
      ],
      "text/plain": [
       "  weekday  hour                        pickup  trip_distance  tip_amount  \\\n",
       "0  Friday     0          40.613763,-73.972592           0.00       7.700   \n",
       "1  Friday     0  40.615297,-73.96423699999998          12.22       0.000   \n",
       "2  Friday     0   40.61622,-73.97454999999998           3.70       1.625   \n",
       "3  Friday     0          40.616755,-73.944947           1.05       0.000   \n",
       "4  Friday     0  40.617259,-73.96366999999998           1.40       0.000   \n",
       "\n",
       "   total_amount  time_spent  \n",
       "0        38.500         0.0  \n",
       "1        36.500        27.0  \n",
       "2        16.375        13.0  \n",
       "3         6.000         3.0  \n",
       "4         7.500         4.0  "
      ]
     },
     "execution_count": 11,
     "metadata": {},
     "output_type": "execute_result"
    }
   ],
   "source": [
    "january2013.head()"
   ]
  },
  {
   "cell_type": "code",
   "execution_count": 13,
   "metadata": {
    "collapsed": false
   },
   "outputs": [],
   "source": [
    "# Create indicator variables for the hours and days of the week\n",
    "#and drop the categorical values\n",
    "Xnames = ['weekday','hour','pickup','trip_distance',\n",
    "          'tip_amount','total_amount','time_spent']\n",
    "X = january2013[Xnames]\n",
    "X = X.join(pd.get_dummies(X['hour']))\n",
    "X = X.join(pd.get_dummies(X['weekday']))\n",
    "X = X.drop(['hour','weekday'], axis=1)\n",
    "\n",
    "# Split off the target (which will be the logarithm of the number of pickups (+1))\n",
    "y = january2013['tip_amount']"
   ]
  },
  {
   "cell_type": "code",
   "execution_count": 14,
   "metadata": {
    "collapsed": false
   },
   "outputs": [
    {
     "data": {
      "text/plain": [
       "array([ True, False,  True,  True,  True,  True,  True, False,  True,  True], dtype=bool)"
      ]
     },
     "execution_count": 14,
     "metadata": {},
     "output_type": "execute_result"
    }
   ],
   "source": [
    "itrain, itest = train_test_split(range(january2013.shape[0]), train_size=0.8)\n",
    "mask=np.ones(january2013.shape[0], dtype='int')\n",
    "mask[itrain]=1\n",
    "mask[itest]=0\n",
    "mask = (mask==1)\n",
    "mask[:10]"
   ]
  },
  {
   "cell_type": "code",
   "execution_count": 15,
   "metadata": {
    "collapsed": false
   },
   "outputs": [
    {
     "data": {
      "text/html": [
       "<div>\n",
       "<table border=\"1\" class=\"dataframe\">\n",
       "  <thead>\n",
       "    <tr style=\"text-align: right;\">\n",
       "      <th></th>\n",
       "      <th>pickup</th>\n",
       "      <th>trip_distance</th>\n",
       "      <th>tip_amount</th>\n",
       "      <th>total_amount</th>\n",
       "      <th>time_spent</th>\n",
       "      <th>0</th>\n",
       "      <th>1</th>\n",
       "      <th>2</th>\n",
       "      <th>3</th>\n",
       "      <th>4</th>\n",
       "      <th>...</th>\n",
       "      <th>21</th>\n",
       "      <th>22</th>\n",
       "      <th>23</th>\n",
       "      <th>Friday</th>\n",
       "      <th>Monday</th>\n",
       "      <th>Saturday</th>\n",
       "      <th>Sunday</th>\n",
       "      <th>Thursday</th>\n",
       "      <th>Tuesday</th>\n",
       "      <th>Wednesday</th>\n",
       "    </tr>\n",
       "  </thead>\n",
       "  <tbody>\n",
       "    <tr>\n",
       "      <th>0</th>\n",
       "      <td>40.613763,-73.972592</td>\n",
       "      <td>0.00</td>\n",
       "      <td>7.700</td>\n",
       "      <td>38.500</td>\n",
       "      <td>0.0</td>\n",
       "      <td>1.0</td>\n",
       "      <td>0.0</td>\n",
       "      <td>0.0</td>\n",
       "      <td>0.0</td>\n",
       "      <td>0.0</td>\n",
       "      <td>...</td>\n",
       "      <td>0.0</td>\n",
       "      <td>0.0</td>\n",
       "      <td>0.0</td>\n",
       "      <td>1.0</td>\n",
       "      <td>0.0</td>\n",
       "      <td>0.0</td>\n",
       "      <td>0.0</td>\n",
       "      <td>0.0</td>\n",
       "      <td>0.0</td>\n",
       "      <td>0.0</td>\n",
       "    </tr>\n",
       "    <tr>\n",
       "      <th>2</th>\n",
       "      <td>40.61622,-73.97454999999998</td>\n",
       "      <td>3.70</td>\n",
       "      <td>1.625</td>\n",
       "      <td>16.375</td>\n",
       "      <td>13.0</td>\n",
       "      <td>1.0</td>\n",
       "      <td>0.0</td>\n",
       "      <td>0.0</td>\n",
       "      <td>0.0</td>\n",
       "      <td>0.0</td>\n",
       "      <td>...</td>\n",
       "      <td>0.0</td>\n",
       "      <td>0.0</td>\n",
       "      <td>0.0</td>\n",
       "      <td>1.0</td>\n",
       "      <td>0.0</td>\n",
       "      <td>0.0</td>\n",
       "      <td>0.0</td>\n",
       "      <td>0.0</td>\n",
       "      <td>0.0</td>\n",
       "      <td>0.0</td>\n",
       "    </tr>\n",
       "    <tr>\n",
       "      <th>3</th>\n",
       "      <td>40.616755,-73.944947</td>\n",
       "      <td>1.05</td>\n",
       "      <td>0.000</td>\n",
       "      <td>6.000</td>\n",
       "      <td>3.0</td>\n",
       "      <td>1.0</td>\n",
       "      <td>0.0</td>\n",
       "      <td>0.0</td>\n",
       "      <td>0.0</td>\n",
       "      <td>0.0</td>\n",
       "      <td>...</td>\n",
       "      <td>0.0</td>\n",
       "      <td>0.0</td>\n",
       "      <td>0.0</td>\n",
       "      <td>1.0</td>\n",
       "      <td>0.0</td>\n",
       "      <td>0.0</td>\n",
       "      <td>0.0</td>\n",
       "      <td>0.0</td>\n",
       "      <td>0.0</td>\n",
       "      <td>0.0</td>\n",
       "    </tr>\n",
       "    <tr>\n",
       "      <th>4</th>\n",
       "      <td>40.617259,-73.96366999999998</td>\n",
       "      <td>1.40</td>\n",
       "      <td>0.000</td>\n",
       "      <td>7.500</td>\n",
       "      <td>4.0</td>\n",
       "      <td>1.0</td>\n",
       "      <td>0.0</td>\n",
       "      <td>0.0</td>\n",
       "      <td>0.0</td>\n",
       "      <td>0.0</td>\n",
       "      <td>...</td>\n",
       "      <td>0.0</td>\n",
       "      <td>0.0</td>\n",
       "      <td>0.0</td>\n",
       "      <td>1.0</td>\n",
       "      <td>0.0</td>\n",
       "      <td>0.0</td>\n",
       "      <td>0.0</td>\n",
       "      <td>0.0</td>\n",
       "      <td>0.0</td>\n",
       "      <td>0.0</td>\n",
       "    </tr>\n",
       "    <tr>\n",
       "      <th>5</th>\n",
       "      <td>40.617353,-73.944545</td>\n",
       "      <td>0.88</td>\n",
       "      <td>0.000</td>\n",
       "      <td>6.000</td>\n",
       "      <td>3.0</td>\n",
       "      <td>1.0</td>\n",
       "      <td>0.0</td>\n",
       "      <td>0.0</td>\n",
       "      <td>0.0</td>\n",
       "      <td>0.0</td>\n",
       "      <td>...</td>\n",
       "      <td>0.0</td>\n",
       "      <td>0.0</td>\n",
       "      <td>0.0</td>\n",
       "      <td>1.0</td>\n",
       "      <td>0.0</td>\n",
       "      <td>0.0</td>\n",
       "      <td>0.0</td>\n",
       "      <td>0.0</td>\n",
       "      <td>0.0</td>\n",
       "      <td>0.0</td>\n",
       "    </tr>\n",
       "  </tbody>\n",
       "</table>\n",
       "<p>5 rows × 36 columns</p>\n",
       "</div>"
      ],
      "text/plain": [
       "                         pickup  trip_distance  tip_amount  total_amount  \\\n",
       "0          40.613763,-73.972592           0.00       7.700        38.500   \n",
       "2   40.61622,-73.97454999999998           3.70       1.625        16.375   \n",
       "3          40.616755,-73.944947           1.05       0.000         6.000   \n",
       "4  40.617259,-73.96366999999998           1.40       0.000         7.500   \n",
       "5          40.617353,-73.944545           0.88       0.000         6.000   \n",
       "\n",
       "   time_spent    0    1    2    3    4    ...       21   22   23  Friday  \\\n",
       "0         0.0  1.0  0.0  0.0  0.0  0.0    ...      0.0  0.0  0.0     1.0   \n",
       "2        13.0  1.0  0.0  0.0  0.0  0.0    ...      0.0  0.0  0.0     1.0   \n",
       "3         3.0  1.0  0.0  0.0  0.0  0.0    ...      0.0  0.0  0.0     1.0   \n",
       "4         4.0  1.0  0.0  0.0  0.0  0.0    ...      0.0  0.0  0.0     1.0   \n",
       "5         3.0  1.0  0.0  0.0  0.0  0.0    ...      0.0  0.0  0.0     1.0   \n",
       "\n",
       "   Monday  Saturday  Sunday  Thursday  Tuesday  Wednesday  \n",
       "0     0.0       0.0     0.0       0.0      0.0        0.0  \n",
       "2     0.0       0.0     0.0       0.0      0.0        0.0  \n",
       "3     0.0       0.0     0.0       0.0      0.0        0.0  \n",
       "4     0.0       0.0     0.0       0.0      0.0        0.0  \n",
       "5     0.0       0.0     0.0       0.0      0.0        0.0  \n",
       "\n",
       "[5 rows x 36 columns]"
      ]
     },
     "execution_count": 15,
     "metadata": {},
     "output_type": "execute_result"
    }
   ],
   "source": [
    "Xtrain, Xtest, ytrain, ytest = X[mask], X[~mask], y[mask], y[~mask]\n",
    "n_samples = Xtrain.shape[0]\n",
    "n_features = Xtrain.shape[1]\n",
    "Xtrain.head()"
   ]
  },
  {
   "cell_type": "code",
   "execution_count": 16,
   "metadata": {
    "collapsed": false
   },
   "outputs": [],
   "source": [
    "# Create a k-Nearest Neighbors Regression estimator\n",
    "knn_estimator = KNeighborsRegressor()"
   ]
  },
  {
   "cell_type": "code",
   "execution_count": null,
   "metadata": {
    "collapsed": false
   },
   "outputs": [],
   "source": [
    "Xtrain_mean = Xtrain.mean()\n",
    "Xtrain_std_dev = Xtrain.std()\n",
    "Xtrain_normalized = (Xtrain - Xtrain_mean)/Xtrain_std_dev\n",
    "Xtest_normalized = (Xtest - Xtrain_mean)/Xtrain_std_dev"
   ]
  },
  {
   "cell_type": "code",
   "execution_count": null,
   "metadata": {
    "collapsed": true
   },
   "outputs": [],
   "source": []
  }
 ],
 "metadata": {
  "kernelspec": {
   "display_name": "Python [conda root]",
   "language": "python",
   "name": "conda-root-py"
  },
  "language_info": {
   "codemirror_mode": {
    "name": "ipython",
    "version": 3
   },
   "file_extension": ".py",
   "mimetype": "text/x-python",
   "name": "python",
   "nbconvert_exporter": "python",
   "pygments_lexer": "ipython3",
   "version": "3.5.2"
  }
 },
 "nbformat": 4,
 "nbformat_minor": 1
}
