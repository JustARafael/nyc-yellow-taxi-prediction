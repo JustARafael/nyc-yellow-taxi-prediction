{
 "cells": [
  {
   "cell_type": "markdown",
   "metadata": {},
   "source": [
    "# Cleaning the data for KNN+Regression for Question 3"
   ]
  },
  {
   "cell_type": "markdown",
   "metadata": {},
   "source": [
    "We will be performing this twice for the months\n",
    "\n",
    "The first time will both types of customers, tippers and non-tippers. The second time will include only those who paid tips."
   ]
  },
  {
   "cell_type": "code",
   "execution_count": 1,
   "metadata": {
    "collapsed": false
   },
   "outputs": [],
   "source": [
    "import pandas as pd\n",
    "import numpy as np\n",
    "%matplotlib inline"
   ]
  },
  {
   "cell_type": "code",
   "execution_count": 2,
   "metadata": {
    "collapsed": true
   },
   "outputs": [],
   "source": [
    "df=pd.read_csv(\"datasets/yellow_tripdata_2013-01.csv\")"
   ]
  },
  {
   "cell_type": "code",
   "execution_count": 4,
   "metadata": {
    "collapsed": false
   },
   "outputs": [],
   "source": [
    "df = df.loc[(df['pickup_longitude'] > -74.06) & (df['pickup_longitude'] < -73.77) & (df['pickup_latitude'] > 40.61) &  (df['pickup_latitude'] < 40.91)]\n",
    "df = df.loc[(df['tip_amount'] > 0.0)] #comment this line out to include those who don't pay tips\n",
    "df = df.reset_index()\n",
    "df = df.drop('index', 1)\n",
    "df = df.drop('vendor_id',1)\n",
    "df = df.drop('rate_code',1)\n",
    "df = df.drop('store_and_fwd_flag',1)\n",
    "df = df.drop('fare_amount',1)\n",
    "df = df.drop('surcharge',1)\n",
    "df = df.drop('mta_tax',1)\n",
    "df = df.drop('tolls_amount',1)\n",
    "df = df.drop('dropoff_latitude',1)\n",
    "df = df.drop('dropoff_longitude',1)\n",
    "df = df.drop('passenger_count',1)\n",
    "df = df.drop('payment_type',1)"
   ]
  },
  {
   "cell_type": "code",
   "execution_count": 5,
   "metadata": {
    "collapsed": true
   },
   "outputs": [],
   "source": [
    "def add_data(df):\n",
    "    df_timestamp = pd.to_datetime(pd.Series(df['pickup_datetime']))\n",
    "    df['trip_distance']*0.621371 # convert to miles\n",
    "    df['weekday'] = df_timestamp.dt.weekday_name\n",
    "    #df['month'] = df_timestamp.dt.month\n",
    "    df['hour'] = df_timestamp.dt.hour\n",
    "    #df['day'] = df_timestamp.dt.day\n",
    "    #df['minutes'] = (df_timestamp.dt.hour)*60 + df_timestamp.dt.minute\n",
    "    time_spent = pd.to_datetime(df['dropoff_datetime']) - pd.to_datetime(df['pickup_datetime'])\n",
    "    df['time_spent'] = pd.to_datetime(time_spent).dt.minute\n",
    "    df['pickup'] = df['pickup_latitude'].map(str) +','+df['pickup_longitude'].map(str)\n",
    "    return df"
   ]
  },
  {
   "cell_type": "code",
   "execution_count": 6,
   "metadata": {
    "collapsed": true
   },
   "outputs": [],
   "source": [
    "df = add_data(df)"
   ]
  },
  {
   "cell_type": "code",
   "execution_count": 7,
   "metadata": {
    "collapsed": true
   },
   "outputs": [],
   "source": [
    "df = df.drop('pickup_datetime',1)\n",
    "df = df.drop('dropoff_datetime',1)\n",
    "df = df.drop('pickup_longitude',1)\n",
    "df = df.drop('pickup_latitude',1)"
   ]
  },
  {
   "cell_type": "code",
   "execution_count": 8,
   "metadata": {
    "collapsed": false
   },
   "outputs": [
    {
     "data": {
      "text/html": [
       "<div>\n",
       "<table border=\"1\" class=\"dataframe\">\n",
       "  <thead>\n",
       "    <tr style=\"text-align: right;\">\n",
       "      <th></th>\n",
       "      <th>trip_distance</th>\n",
       "      <th>tip_amount</th>\n",
       "      <th>total_amount</th>\n",
       "      <th>weekday</th>\n",
       "      <th>hour</th>\n",
       "      <th>time_spent</th>\n",
       "      <th>pickup</th>\n",
       "    </tr>\n",
       "  </thead>\n",
       "  <tbody>\n",
       "    <tr>\n",
       "      <th>0</th>\n",
       "      <td>2.92</td>\n",
       "      <td>2.75</td>\n",
       "      <td>14.25</td>\n",
       "      <td>Sunday</td>\n",
       "      <td>10</td>\n",
       "      <td>8</td>\n",
       "      <td>40.723945,-73.99218999999998</td>\n",
       "    </tr>\n",
       "    <tr>\n",
       "      <th>1</th>\n",
       "      <td>3.93</td>\n",
       "      <td>2.40</td>\n",
       "      <td>14.90</td>\n",
       "      <td>Sunday</td>\n",
       "      <td>10</td>\n",
       "      <td>9</td>\n",
       "      <td>40.731427,-73.98238</td>\n",
       "    </tr>\n",
       "    <tr>\n",
       "      <th>2</th>\n",
       "      <td>4.51</td>\n",
       "      <td>2.90</td>\n",
       "      <td>17.90</td>\n",
       "      <td>Sunday</td>\n",
       "      <td>10</td>\n",
       "      <td>10</td>\n",
       "      <td>40.77718,-73.957385</td>\n",
       "    </tr>\n",
       "    <tr>\n",
       "      <th>3</th>\n",
       "      <td>1.84</td>\n",
       "      <td>1.70</td>\n",
       "      <td>10.70</td>\n",
       "      <td>Sunday</td>\n",
       "      <td>10</td>\n",
       "      <td>7</td>\n",
       "      <td>40.705572,-74.00825</td>\n",
       "    </tr>\n",
       "    <tr>\n",
       "      <th>4</th>\n",
       "      <td>20.78</td>\n",
       "      <td>7.70</td>\n",
       "      <td>65.00</td>\n",
       "      <td>Sunday</td>\n",
       "      <td>10</td>\n",
       "      <td>36</td>\n",
       "      <td>40.641513,-73.78830999999998</td>\n",
       "    </tr>\n",
       "  </tbody>\n",
       "</table>\n",
       "</div>"
      ],
      "text/plain": [
       "   trip_distance  tip_amount  total_amount weekday  hour  time_spent  \\\n",
       "0           2.92        2.75         14.25  Sunday    10           8   \n",
       "1           3.93        2.40         14.90  Sunday    10           9   \n",
       "2           4.51        2.90         17.90  Sunday    10          10   \n",
       "3           1.84        1.70         10.70  Sunday    10           7   \n",
       "4          20.78        7.70         65.00  Sunday    10          36   \n",
       "\n",
       "                         pickup  \n",
       "0  40.723945,-73.99218999999998  \n",
       "1           40.731427,-73.98238  \n",
       "2           40.77718,-73.957385  \n",
       "3           40.705572,-74.00825  \n",
       "4  40.641513,-73.78830999999998  "
      ]
     },
     "execution_count": 8,
     "metadata": {},
     "output_type": "execute_result"
    }
   ],
   "source": [
    "df.head()"
   ]
  },
  {
   "cell_type": "code",
   "execution_count": 9,
   "metadata": {
    "collapsed": true
   },
   "outputs": [],
   "source": [
    "# Look into the dataframe \n",
    "# First by weekday, then hour then block\n",
    "# and we will know the average tip amount\n",
    "# for each weekday > hour > block\n",
    "# eg. On (day of week) at (hour) on (lat,long) avg tip is $number\n",
    "def get_avg_tips(df):\n",
    "    avg_tips = df.groupby(['weekday','hour','pickup']).mean()\n",
    "    avg_tips = avg_tips.reset_index()\n",
    "    return avg_tips"
   ]
  },
  {
   "cell_type": "code",
   "execution_count": 10,
   "metadata": {
    "collapsed": false
   },
   "outputs": [],
   "source": [
    "df = get_avg_tips(df)"
   ]
  },
  {
   "cell_type": "code",
   "execution_count": 11,
   "metadata": {
    "collapsed": false
   },
   "outputs": [
    {
     "data": {
      "text/plain": [
       "(7375729, 7)"
      ]
     },
     "execution_count": 11,
     "metadata": {},
     "output_type": "execute_result"
    }
   ],
   "source": [
    "df.shape"
   ]
  },
  {
   "cell_type": "code",
   "execution_count": 12,
   "metadata": {
    "collapsed": false
   },
   "outputs": [
    {
     "data": {
      "text/html": [
       "<div>\n",
       "<table border=\"1\" class=\"dataframe\">\n",
       "  <thead>\n",
       "    <tr style=\"text-align: right;\">\n",
       "      <th></th>\n",
       "      <th>weekday</th>\n",
       "      <th>hour</th>\n",
       "      <th>pickup</th>\n",
       "      <th>trip_distance</th>\n",
       "      <th>tip_amount</th>\n",
       "      <th>total_amount</th>\n",
       "      <th>time_spent</th>\n",
       "    </tr>\n",
       "  </thead>\n",
       "  <tbody>\n",
       "    <tr>\n",
       "      <th>0</th>\n",
       "      <td>Friday</td>\n",
       "      <td>0</td>\n",
       "      <td>40.613763,-73.972592</td>\n",
       "      <td>0.00</td>\n",
       "      <td>7.70</td>\n",
       "      <td>38.50</td>\n",
       "      <td>0.0</td>\n",
       "    </tr>\n",
       "    <tr>\n",
       "      <th>1</th>\n",
       "      <td>Friday</td>\n",
       "      <td>0</td>\n",
       "      <td>40.61622,-73.97454999999998</td>\n",
       "      <td>2.90</td>\n",
       "      <td>3.25</td>\n",
       "      <td>16.25</td>\n",
       "      <td>11.0</td>\n",
       "    </tr>\n",
       "    <tr>\n",
       "      <th>2</th>\n",
       "      <td>Friday</td>\n",
       "      <td>0</td>\n",
       "      <td>40.620231,-73.96423799999998</td>\n",
       "      <td>5.10</td>\n",
       "      <td>5.00</td>\n",
       "      <td>25.00</td>\n",
       "      <td>19.0</td>\n",
       "    </tr>\n",
       "    <tr>\n",
       "      <th>3</th>\n",
       "      <td>Friday</td>\n",
       "      <td>0</td>\n",
       "      <td>40.629405,-74.017868</td>\n",
       "      <td>13.36</td>\n",
       "      <td>7.50</td>\n",
       "      <td>45.50</td>\n",
       "      <td>22.0</td>\n",
       "    </tr>\n",
       "    <tr>\n",
       "      <th>4</th>\n",
       "      <td>Friday</td>\n",
       "      <td>0</td>\n",
       "      <td>40.63121,-74.017517</td>\n",
       "      <td>2.64</td>\n",
       "      <td>2.20</td>\n",
       "      <td>13.70</td>\n",
       "      <td>11.0</td>\n",
       "    </tr>\n",
       "  </tbody>\n",
       "</table>\n",
       "</div>"
      ],
      "text/plain": [
       "  weekday  hour                        pickup  trip_distance  tip_amount  \\\n",
       "0  Friday     0          40.613763,-73.972592           0.00        7.70   \n",
       "1  Friday     0   40.61622,-73.97454999999998           2.90        3.25   \n",
       "2  Friday     0  40.620231,-73.96423799999998           5.10        5.00   \n",
       "3  Friday     0          40.629405,-74.017868          13.36        7.50   \n",
       "4  Friday     0           40.63121,-74.017517           2.64        2.20   \n",
       "\n",
       "   total_amount  time_spent  \n",
       "0         38.50         0.0  \n",
       "1         16.25        11.0  \n",
       "2         25.00        19.0  \n",
       "3         45.50        22.0  \n",
       "4         13.70        11.0  "
      ]
     },
     "execution_count": 12,
     "metadata": {},
     "output_type": "execute_result"
    }
   ],
   "source": [
    "df.head()"
   ]
  },
  {
   "cell_type": "code",
   "execution_count": 13,
   "metadata": {
    "collapsed": false
   },
   "outputs": [
    {
     "data": {
      "text/html": [
       "<div>\n",
       "<table border=\"1\" class=\"dataframe\">\n",
       "  <thead>\n",
       "    <tr style=\"text-align: right;\">\n",
       "      <th></th>\n",
       "      <th>weekday</th>\n",
       "      <th>hour</th>\n",
       "      <th>pickup</th>\n",
       "      <th>trip_distance</th>\n",
       "      <th>tip_amount</th>\n",
       "      <th>total_amount</th>\n",
       "      <th>time_spent</th>\n",
       "    </tr>\n",
       "  </thead>\n",
       "  <tbody>\n",
       "    <tr>\n",
       "      <th>7375724</th>\n",
       "      <td>Wednesday</td>\n",
       "      <td>23</td>\n",
       "      <td>40.873275,-73.886922</td>\n",
       "      <td>2.8</td>\n",
       "      <td>1.50</td>\n",
       "      <td>13.50</td>\n",
       "      <td>10.0</td>\n",
       "    </tr>\n",
       "    <tr>\n",
       "      <th>7375725</th>\n",
       "      <td>Wednesday</td>\n",
       "      <td>23</td>\n",
       "      <td>40.890857,-73.908495</td>\n",
       "      <td>0.0</td>\n",
       "      <td>4.41</td>\n",
       "      <td>7.91</td>\n",
       "      <td>1.0</td>\n",
       "    </tr>\n",
       "    <tr>\n",
       "      <th>7375726</th>\n",
       "      <td>Wednesday</td>\n",
       "      <td>23</td>\n",
       "      <td>40.900912,-74.00320499999998</td>\n",
       "      <td>0.0</td>\n",
       "      <td>23.00</td>\n",
       "      <td>75.50</td>\n",
       "      <td>0.0</td>\n",
       "    </tr>\n",
       "    <tr>\n",
       "      <th>7375727</th>\n",
       "      <td>Wednesday</td>\n",
       "      <td>23</td>\n",
       "      <td>40.902505,-74.00228799999998</td>\n",
       "      <td>0.0</td>\n",
       "      <td>3.00</td>\n",
       "      <td>86.00</td>\n",
       "      <td>6.0</td>\n",
       "    </tr>\n",
       "    <tr>\n",
       "      <th>7375728</th>\n",
       "      <td>Wednesday</td>\n",
       "      <td>23</td>\n",
       "      <td>40.907027,-73.909115</td>\n",
       "      <td>0.0</td>\n",
       "      <td>9.50</td>\n",
       "      <td>50.50</td>\n",
       "      <td>0.0</td>\n",
       "    </tr>\n",
       "  </tbody>\n",
       "</table>\n",
       "</div>"
      ],
      "text/plain": [
       "           weekday  hour                        pickup  trip_distance  \\\n",
       "7375724  Wednesday    23          40.873275,-73.886922            2.8   \n",
       "7375725  Wednesday    23          40.890857,-73.908495            0.0   \n",
       "7375726  Wednesday    23  40.900912,-74.00320499999998            0.0   \n",
       "7375727  Wednesday    23  40.902505,-74.00228799999998            0.0   \n",
       "7375728  Wednesday    23          40.907027,-73.909115            0.0   \n",
       "\n",
       "         tip_amount  total_amount  time_spent  \n",
       "7375724        1.50         13.50        10.0  \n",
       "7375725        4.41          7.91         1.0  \n",
       "7375726       23.00         75.50         0.0  \n",
       "7375727        3.00         86.00         6.0  \n",
       "7375728        9.50         50.50         0.0  "
      ]
     },
     "execution_count": 13,
     "metadata": {},
     "output_type": "execute_result"
    }
   ],
   "source": [
    "df.tail()"
   ]
  },
  {
   "cell_type": "markdown",
   "metadata": {},
   "source": [
    "We will call the cleaned csv with those who didn't pay tips clean-january-2013.csv\n",
    "\n",
    "We will call the cleaned csv with only those who did pay tips cleaner-january-2013.csv"
   ]
  },
  {
   "cell_type": "code",
   "execution_count": 14,
   "metadata": {
    "collapsed": true
   },
   "outputs": [],
   "source": [
    "#df.to_csv('clean-january-2013.csv',sep=',',encoding='utf-8') # both types\n",
    "df.to_csv('cleaner-january-2013.csv',sep=',',encoding='utf-8') # for only those who gave tips"
   ]
  },
  {
   "cell_type": "code",
   "execution_count": null,
   "metadata": {
    "collapsed": true
   },
   "outputs": [],
   "source": []
  }
 ],
 "metadata": {
  "anaconda-cloud": {},
  "kernelspec": {
   "display_name": "Python [conda root]",
   "language": "python",
   "name": "conda-root-py"
  },
  "language_info": {
   "codemirror_mode": {
    "name": "ipython",
    "version": 3
   },
   "file_extension": ".py",
   "mimetype": "text/x-python",
   "name": "python",
   "nbconvert_exporter": "python",
   "pygments_lexer": "ipython3",
   "version": "3.5.2"
  }
 },
 "nbformat": 4,
 "nbformat_minor": 1
}
