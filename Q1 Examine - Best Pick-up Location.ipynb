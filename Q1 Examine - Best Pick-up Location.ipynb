{
 "cells": [
  {
   "cell_type": "markdown",
   "metadata": {},
   "source": [
    "# What will be the best location to pick-up customers for each day of the week of a month?\n"
   ]
  },
  {
   "cell_type": "markdown",
   "metadata": {},
   "source": [
    "As a taxi driver, you always want to know where is the best location to pick up customers. The more customers you get the more profit you earn. In this project, we will use Kmeans Clustering and Polynomial Regression to predict best location for a taxi driver."
   ]
  },
  {
   "cell_type": "markdown",
   "metadata": {},
   "source": [
    "## Preamble"
   ]
  },
  {
   "cell_type": "code",
   "execution_count": null,
   "metadata": {
    "collapsed": true
   },
   "outputs": [],
   "source": [
    "%matplotlib inline\n",
    "import numpy as np\n",
    "import scipy as sp\n",
    "import matplotlib.pyplot as plt\n",
    "import pandas as pd"
   ]
  },
  {
   "cell_type": "markdown",
   "metadata": {},
   "source": [
    "## Load the data\n",
    "you can get data from this [link](https://s3.amazonaws.com/nyc-tlc/trip+data/yellow_tripdata_2013-01.csv)"
   ]
  },
  {
   "cell_type": "code",
   "execution_count": null,
   "metadata": {
    "collapsed": false
   },
   "outputs": [],
   "source": [
    "df=pd.read_csv(\"datasets/yellow_tripdata_2013-01.csv\")"
   ]
  },
  {
   "cell_type": "markdown",
   "metadata": {},
   "source": [
    "## Preprocess data\n",
    "Since our data is large and exist some ourliers, we have to do preprocess for our data. We need to reduce size of our data and get rid off some ourliers for our data."
   ]
  },
  {
   "cell_type": "code",
   "execution_count": null,
   "metadata": {
    "collapsed": false
   },
   "outputs": [],
   "source": [
    "#create new column call weekday\n",
    "timestamp = pd.to_datetime(pd.Series(df['pickup_datetime']))\n",
    "df['weekday'] = timestamp.dt.weekday_name\n",
    "df.head()"
   ]
  },
  {
   "cell_type": "code",
   "execution_count": null,
   "metadata": {
    "collapsed": false
   },
   "outputs": [],
   "source": [
    "#drop unnecessary column\n",
    "df = df.drop(['vendor_id','passenger_count','trip_distance','rate_code',\n",
    "              'store_and_fwd_flag','payment_type','fare_amount','surcharge','mta_tax',\n",
    "             'tip_amount','tolls_amount','total_amount','dropoff_datetime',\n",
    "              'dropoff_longitude','dropoff_latitude'], axis=1)\n",
    "\n",
    "#get rid off some garbage data\n",
    "df=df[(df['pickup_latitude'] > 40.492083) & (df['pickup_latitude']<40.944536) &\n",
    "     (df['pickup_longitude']> -74.267880)& (df['pickup_longitude']< -73.662022)]\n",
    "\n",
    "df.head()"
   ]
  },
  {
   "cell_type": "code",
   "execution_count": null,
   "metadata": {
    "collapsed": false
   },
   "outputs": [],
   "source": [
    "#get all the selected weekdays in selected month\n",
    "my_weekday=\"Thursday\"\n",
    "my_montn=1\n",
    "df_select=df[(df['weekday']==my_weekday) & \n",
    "                 (pd.to_datetime(df['pickup_datetime']) < pd.datetime(2013,my_montn+1,1))&\n",
    "                (pd.to_datetime(df['pickup_datetime']) > pd.datetime(2013,my_montn,1))]\n",
    "df_select=df_select[:70000]\n",
    "df_select.head()"
   ]
  },
  {
   "cell_type": "markdown",
   "metadata": {},
   "source": [
    "## Kmean Clustering\n",
    "We use Kmean to divide our data into 100 clusters. We use these 100 clusters to represent 100 blocks in New York City. We look into size of clusters and center of clusters"
   ]
  },
  {
   "cell_type": "code",
   "execution_count": null,
   "metadata": {
    "collapsed": false
   },
   "outputs": [],
   "source": [
    "%%time\n",
    "#use Kmean to group data by longitude and latitude\n",
    "my_cluster=100\n",
    "from sklearn.cluster import KMeans\n",
    "lon=df_select['pickup_longitude'].values\n",
    "lat=df_select['pickup_latitude'].values\n",
    "coodinate_array=np.array([[lon[i],lat[i]] for i in range(len(lon))])\n",
    "\n",
    "kmeans_n = KMeans(n_clusters=my_cluster,  n_init=1, random_state=1000)\n",
    "kmeans_n.fit(coodinate_array)\n",
    "labels = kmeans_n.labels_\n",
    "print(labels)"
   ]
  },
  {
   "cell_type": "code",
   "execution_count": null,
   "metadata": {
    "collapsed": false
   },
   "outputs": [],
   "source": [
    "# add new column call cluster\n",
    "df_select['Cluster']=labels\n",
    "df_select.head()"
   ]
  },
  {
   "cell_type": "code",
   "execution_count": null,
   "metadata": {
    "collapsed": false
   },
   "outputs": [],
   "source": [
    "#prepare for regression\n",
    "Cluster_size=df_select.groupby('Cluster').size()\n",
    "Cluster_size=np.array([[Cluster_size[i]] for i in range(len(Cluster_size))])\n",
    "Cluster_center=kmeans_n.cluster_centers_"
   ]
  },
  {
   "cell_type": "markdown",
   "metadata": {},
   "source": [
    "## Analysis"
   ]
  },
  {
   "cell_type": "code",
   "execution_count": null,
   "metadata": {
    "collapsed": false
   },
   "outputs": [],
   "source": [
    "plt.hist(Cluster_size)\n",
    "plt.title(\"cluster size VS count\")\n",
    "plt.show()"
   ]
  },
  {
   "cell_type": "code",
   "execution_count": null,
   "metadata": {
    "collapsed": false
   },
   "outputs": [],
   "source": [
    "analysis_lon=[]\n",
    "analysis_lat=[]\n",
    "for i in range(len(Cluster_center)):\n",
    "    analysis_lon.append(Cluster_center[i][0])\n",
    "    analysis_lat.append(Cluster_center[i][1])\n",
    "plt.scatter(analysis_lon,analysis_lat)\n",
    "plt.title(\"Distribution of center point\")\n",
    "plt.show()"
   ]
  },
  {
   "cell_type": "code",
   "execution_count": null,
   "metadata": {
    "collapsed": false
   },
   "outputs": [],
   "source": [
    "plt.scatter(analysis_lon,Cluster_size)\n",
    "plt.title(\"longitude VS Cluster Size\")\n",
    "plt.show()"
   ]
  },
  {
   "cell_type": "code",
   "execution_count": null,
   "metadata": {
    "collapsed": false
   },
   "outputs": [],
   "source": [
    "plt.scatter(analysis_lat,Cluster_size)\n",
    "plt.title(\"latitude VS Cluster Size\")\n",
    "plt.show()"
   ]
  },
  {
   "cell_type": "markdown",
   "metadata": {},
   "source": [
    "## Training data and testing data"
   ]
  },
  {
   "cell_type": "code",
   "execution_count": null,
   "metadata": {
    "collapsed": false
   },
   "outputs": [],
   "source": [
    "#use 80% of data for train, use 20% of data for test\n",
    "train_size=int(len(Cluster_size)*0.8)\n",
    "test_size=int(len(Cluster_size)*0.2)\n",
    "train_feature=Cluster_size[:train_size]\n",
    "train_response=Cluster_center[:train_size]\n",
    "test_feature=Cluster_size[test_size:]\n",
    "test_response=Cluster_center[test_size:]"
   ]
  },
  {
   "cell_type": "markdown",
   "metadata": {},
   "source": [
    "## Validation - coefficient of determination (R^2)\n",
    "in order to check how well our model perform for prediction, we use coefficient of determination (R^2) and Mean Squared Error(MSE) to evaluate our model."
   ]
  },
  {
   "cell_type": "code",
   "execution_count": null,
   "metadata": {
    "collapsed": false
   },
   "outputs": [],
   "source": [
    "#coefficient of determination (R^2)\n",
    "from sklearn import linear_model\n",
    "from sklearn.linear_model import LinearRegression\n",
    "from sklearn.preprocessing import PolynomialFeatures\n",
    "from sklearn.pipeline import Pipeline\n",
    "\n",
    "\n",
    "def fit_model(X, y):\n",
    "    model = Pipeline([('poly', PolynomialFeatures(degree=3)),\n",
    "                ('linear', LinearRegression(fit_intercept=False))])\n",
    "    model.fit(X, y)\n",
    "    return model\n",
    "\n",
    "def score_model(model, X, y, Xv, yv):\n",
    "    return tuple([model.score(X, y), model.score(Xv, yv)])\n",
    "\n",
    "def fit_model_and_score(data, response, validation, val_response):\n",
    "    model = fit_model(data, response)\n",
    "    return score_model(model, data, response, validation, val_response)\n",
    "\n",
    "print (fit_model_and_score(train_feature, train_response,\n",
    "                           test_feature, test_response))\n"
   ]
  },
  {
   "cell_type": "markdown",
   "metadata": {},
   "source": [
    "## MSE"
   ]
  },
  {
   "cell_type": "code",
   "execution_count": null,
   "metadata": {
    "collapsed": false
   },
   "outputs": [],
   "source": [
    "#use mean squared error to evaluation model\n",
    "from sklearn.metrics import mean_squared_error\n",
    "\n",
    "MSE_model=Pipeline([('poly', PolynomialFeatures(degree=3)),\n",
    "                ('linear', LinearRegression(fit_intercept=False))])\n",
    "MSE_model.fit(train_feature, train_response)\n",
    "X_MSE=(test_feature)\n",
    "y_MSE = MSE_model.predict(X_MSE)\n",
    "mean_squared_error(test_response, y_MSE)\n"
   ]
  },
  {
   "cell_type": "markdown",
   "metadata": {},
   "source": [
    "## Prediction\n",
    "we fit sizes from Clusters with centers from Clusters. Next, we use the cluster that has max size as input to predict best location for pick up"
   ]
  },
  {
   "cell_type": "code",
   "execution_count": null,
   "metadata": {
    "collapsed": false
   },
   "outputs": [],
   "source": [
    "#predict best location\n",
    "\n",
    "X=Cluster_size\n",
    "y=Cluster_center\n",
    "\n",
    "prediction_model=Pipeline([('poly', PolynomialFeatures(degree=3)),\n",
    "                ('linear', LinearRegression(fit_intercept=False))])\n",
    "prediction_model.fit(X, y)\n",
    "X_predict=([max(Cluster_size)])\n",
    "y_predict = prediction_model.predict(X_predict)\n",
    "y_predict\n"
   ]
  },
  {
   "cell_type": "markdown",
   "metadata": {},
   "source": [
    "## Visualization\n",
    "For Visualization, we use randint function to generate values for 100 different colors, we use scatter plot with 100 different colors to see clusters that Kmean created. Also, we use scatter plot to create visualization for prediction, we show predicted point in red and actual point in yellow for our visualization."
   ]
  },
  {
   "cell_type": "code",
   "execution_count": null,
   "metadata": {
    "collapsed": false
   },
   "outputs": [],
   "source": [
    "#prepare for visualization\n",
    "max_size_cluster=0\n",
    "\n",
    "\n",
    "for data in y_predict:\n",
    "    visual_x=data[[0]]\n",
    "    visual_y=data[[1]]\n",
    "    \n",
    "for i in range(len(Cluster_size)):\n",
    "    if (Cluster_size[i]==Cluster_size.max()):\n",
    "        max_size_cluster=i\n",
    "        \n",
    "actual_value=kmeans_n.cluster_centers_[max_size_cluster]\n",
    "actual_x=actual_value[0]\n",
    "actual_y=actual_value[1]"
   ]
  },
  {
   "cell_type": "code",
   "execution_count": null,
   "metadata": {
    "collapsed": false
   },
   "outputs": [],
   "source": [
    "#visualization for kmean cluster\n",
    "from random import randint\n",
    "colors = []\n",
    "\n",
    "for i in range(my_cluster):\n",
    "    colors.append('#%06X' % randint(0, 0xFFFFFF))\n",
    "\n",
    "plt.figure(figsize=(18,9))\n",
    "for i in range(my_cluster):\n",
    "    my_cluster_df=df_select[df_select['Cluster']==i]\n",
    "    lon_x=my_cluster_df.pickup_longitude.values\n",
    "    lat_y=my_cluster_df.pickup_latitude.values\n",
    "    plt.scatter(lon_x,lat_y,alpha=0.2,s=100,c=colors[i])\n",
    "\n",
    "plt.axis([visual_x-0.1,visual_x+0.1,visual_y-0.1,visual_y+0.1])\n",
    "plt.title(\"visualization for kmean\")\n",
    "plt.show()\n"
   ]
  },
  {
   "cell_type": "code",
   "execution_count": null,
   "metadata": {
    "collapsed": false,
    "scrolled": true
   },
   "outputs": [],
   "source": [
    "#scatter plot all the data for selected weekday and prediction(best location in red)\n",
    "x_points=lon\n",
    "y_points=lat\n",
    "plt.figure(figsize=(18,9))\n",
    "plt.scatter(lon,lat,alpha=0.2,s=100)\n",
    "plt.scatter(visual_x,visual_y ,c='r',s=100)\n",
    "plt.scatter(actual_x,actual_y ,c='y',s=100)\n",
    "plt.axis([visual_x-0.05,visual_x+0.05,visual_y-0.05,visual_y+0.05])\n",
    "plt.show()\n"
   ]
  },
  {
   "cell_type": "code",
   "execution_count": null,
   "metadata": {
    "collapsed": true
   },
   "outputs": [],
   "source": []
  }
 ],
 "metadata": {
  "anaconda-cloud": {},
  "kernelspec": {
   "display_name": "Python [Root]",
   "language": "python",
   "name": "Python [Root]"
  },
  "language_info": {
   "codemirror_mode": {
    "name": "ipython",
    "version": 3
   },
   "file_extension": ".py",
   "mimetype": "text/x-python",
   "name": "python",
   "nbconvert_exporter": "python",
   "pygments_lexer": "ipython3",
   "version": "3.5.2"
  }
 },
 "nbformat": 4,
 "nbformat_minor": 0
}
