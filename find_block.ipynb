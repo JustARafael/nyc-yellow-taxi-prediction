{
 "cells": [
  {
   "cell_type": "code",
   "execution_count": 51,
   "metadata": {
    "collapsed": true
   },
   "outputs": [],
   "source": [
    "# given location (long & lat), find block id\n",
    "\n",
    "import numpy as np\n",
    "import matplotlib.path as mplPath"
   ]
  },
  {
   "cell_type": "code",
   "execution_count": 53,
   "metadata": {
    "collapsed": true
   },
   "outputs": [],
   "source": [
    "def indexZones(shapeFilename):\n",
    "    import rtree\n",
    "    import fiona.crs\n",
    "    import geopandas as gpd\n",
    "    index = rtree.Rtree()\n",
    "    zones = gpd.read_file(shapeFilename).to_crs(fiona.crs.from_epsg(2263))\n",
    "    for idx,geometry in enumerate(zones.geometry):\n",
    "        index.insert(idx, geometry.bounds)\n",
    "    return (index, zones)"
   ]
  },
  {
   "cell_type": "code",
   "execution_count": 54,
   "metadata": {
    "collapsed": true
   },
   "outputs": [],
   "source": [
    "def findBlock(p, index, zones):\n",
    "    match = index.intersection((p.x, p.y, p.x, p.y))\n",
    "    for idx in match:\n",
    "        z = mplPath.Path(np.array(zones.geometry[idx].exterior))\n",
    "        if z.contains_point(np.array(p)):\n",
    "            return zones['OBJECTID'][idx]\n",
    "    return -1"
   ]
  },
  {
   "cell_type": "code",
   "execution_count": 55,
   "metadata": {
    "collapsed": false
   },
   "outputs": [],
   "source": [
    "def mapToZone(parts):\n",
    "    import pyproj\n",
    "    import shapely.geometry as geom\n",
    "    proj = pyproj.Proj(init=\"epsg:2263\", preserve_units=True)    \n",
    "    index, zones = indexZones('datasets/block-groups-polygons.geojson')\n",
    "    for line in parts:\n",
    "        if (line['pickup_longitude'] and line['pickup_latitude']):\n",
    "            pickup_location  = geom.Point(proj(float(line['pickup_longitude']), float(line['pickup_latitude'])))\n",
    "            pickup_block = findBlock(pickup_location, index, zones)\n",
    "            if pickup_block >= 0:\n",
    "                print (pickup_block)"
   ]
  },
  {
   "cell_type": "code",
   "execution_count": 56,
   "metadata": {
    "collapsed": false
   },
   "outputs": [
    {
     "data": {
      "text/html": [
       "<div>\n",
       "<table border=\"1\" class=\"dataframe\">\n",
       "  <thead>\n",
       "    <tr style=\"text-align: right;\">\n",
       "      <th></th>\n",
       "      <th>vendor_id</th>\n",
       "      <th>pickup_datetime</th>\n",
       "      <th>dropoff_datetime</th>\n",
       "      <th>passenger_count</th>\n",
       "      <th>trip_distance</th>\n",
       "      <th>pickup_longitude</th>\n",
       "      <th>pickup_latitude</th>\n",
       "      <th>rate_code</th>\n",
       "      <th>store_and_fwd_flag</th>\n",
       "      <th>dropoff_longitude</th>\n",
       "      <th>dropoff_latitude</th>\n",
       "      <th>payment_type</th>\n",
       "      <th>fare_amount</th>\n",
       "      <th>surcharge</th>\n",
       "      <th>mta_tax</th>\n",
       "      <th>tip_amount</th>\n",
       "      <th>tolls_amount</th>\n",
       "      <th>total_amount</th>\n",
       "    </tr>\n",
       "  </thead>\n",
       "  <tbody>\n",
       "    <tr>\n",
       "      <th>0</th>\n",
       "      <td>CMT</td>\n",
       "      <td>2012-01-10 23:55:50</td>\n",
       "      <td>2012-01-11 00:03:39</td>\n",
       "      <td>1</td>\n",
       "      <td>1.7</td>\n",
       "      <td>-73.994693</td>\n",
       "      <td>40.725031</td>\n",
       "      <td>1</td>\n",
       "      <td>N</td>\n",
       "      <td>-73.975951</td>\n",
       "      <td>40.730781</td>\n",
       "      <td>CRD</td>\n",
       "      <td>6.9</td>\n",
       "      <td>0.5</td>\n",
       "      <td>0.5</td>\n",
       "      <td>1.00</td>\n",
       "      <td>0.0</td>\n",
       "      <td>8.90</td>\n",
       "    </tr>\n",
       "    <tr>\n",
       "      <th>1</th>\n",
       "      <td>CMT</td>\n",
       "      <td>2012-01-11 19:18:25</td>\n",
       "      <td>2012-01-11 19:26:10</td>\n",
       "      <td>1</td>\n",
       "      <td>1.1</td>\n",
       "      <td>-73.987955</td>\n",
       "      <td>40.752947</td>\n",
       "      <td>1</td>\n",
       "      <td>N</td>\n",
       "      <td>-73.994532</td>\n",
       "      <td>40.761040</td>\n",
       "      <td>CSH</td>\n",
       "      <td>6.1</td>\n",
       "      <td>1.0</td>\n",
       "      <td>0.5</td>\n",
       "      <td>0.00</td>\n",
       "      <td>0.0</td>\n",
       "      <td>7.60</td>\n",
       "    </tr>\n",
       "    <tr>\n",
       "      <th>2</th>\n",
       "      <td>CMT</td>\n",
       "      <td>2012-01-11 19:19:19</td>\n",
       "      <td>2012-01-11 19:48:15</td>\n",
       "      <td>2</td>\n",
       "      <td>18.0</td>\n",
       "      <td>-73.783093</td>\n",
       "      <td>40.648550</td>\n",
       "      <td>2</td>\n",
       "      <td>N</td>\n",
       "      <td>-73.996134</td>\n",
       "      <td>40.747624</td>\n",
       "      <td>CRD</td>\n",
       "      <td>45.0</td>\n",
       "      <td>0.0</td>\n",
       "      <td>0.5</td>\n",
       "      <td>10.06</td>\n",
       "      <td>4.8</td>\n",
       "      <td>60.36</td>\n",
       "    </tr>\n",
       "    <tr>\n",
       "      <th>3</th>\n",
       "      <td>CMT</td>\n",
       "      <td>2012-01-11 19:19:21</td>\n",
       "      <td>2012-01-11 19:27:00</td>\n",
       "      <td>1</td>\n",
       "      <td>1.7</td>\n",
       "      <td>-73.967515</td>\n",
       "      <td>40.758454</td>\n",
       "      <td>1</td>\n",
       "      <td>N</td>\n",
       "      <td>-73.956583</td>\n",
       "      <td>40.779903</td>\n",
       "      <td>CRD</td>\n",
       "      <td>6.9</td>\n",
       "      <td>1.0</td>\n",
       "      <td>0.5</td>\n",
       "      <td>1.00</td>\n",
       "      <td>0.0</td>\n",
       "      <td>9.40</td>\n",
       "    </tr>\n",
       "    <tr>\n",
       "      <th>4</th>\n",
       "      <td>CMT</td>\n",
       "      <td>2012-01-11 14:38:15</td>\n",
       "      <td>2012-01-11 14:43:51</td>\n",
       "      <td>1</td>\n",
       "      <td>1.2</td>\n",
       "      <td>-74.011315</td>\n",
       "      <td>40.711449</td>\n",
       "      <td>1</td>\n",
       "      <td>N</td>\n",
       "      <td>-74.002872</td>\n",
       "      <td>40.728131</td>\n",
       "      <td>CSH</td>\n",
       "      <td>5.7</td>\n",
       "      <td>0.0</td>\n",
       "      <td>0.5</td>\n",
       "      <td>0.00</td>\n",
       "      <td>0.0</td>\n",
       "      <td>6.20</td>\n",
       "    </tr>\n",
       "  </tbody>\n",
       "</table>\n",
       "</div>"
      ],
      "text/plain": [
       "  vendor_id      pickup_datetime     dropoff_datetime  passenger_count  \\\n",
       "0       CMT  2012-01-10 23:55:50  2012-01-11 00:03:39                1   \n",
       "1       CMT  2012-01-11 19:18:25  2012-01-11 19:26:10                1   \n",
       "2       CMT  2012-01-11 19:19:19  2012-01-11 19:48:15                2   \n",
       "3       CMT  2012-01-11 19:19:21  2012-01-11 19:27:00                1   \n",
       "4       CMT  2012-01-11 14:38:15  2012-01-11 14:43:51                1   \n",
       "\n",
       "   trip_distance  pickup_longitude  pickup_latitude  rate_code  \\\n",
       "0            1.7        -73.994693        40.725031          1   \n",
       "1            1.1        -73.987955        40.752947          1   \n",
       "2           18.0        -73.783093        40.648550          2   \n",
       "3            1.7        -73.967515        40.758454          1   \n",
       "4            1.2        -74.011315        40.711449          1   \n",
       "\n",
       "  store_and_fwd_flag  dropoff_longitude  dropoff_latitude payment_type  \\\n",
       "0                  N         -73.975951         40.730781          CRD   \n",
       "1                  N         -73.994532         40.761040          CSH   \n",
       "2                  N         -73.996134         40.747624          CRD   \n",
       "3                  N         -73.956583         40.779903          CRD   \n",
       "4                  N         -74.002872         40.728131          CSH   \n",
       "\n",
       "   fare_amount  surcharge  mta_tax  tip_amount  tolls_amount  total_amount  \n",
       "0          6.9        0.5      0.5        1.00           0.0          8.90  \n",
       "1          6.1        1.0      0.5        0.00           0.0          7.60  \n",
       "2         45.0        0.0      0.5       10.06           4.8         60.36  \n",
       "3          6.9        1.0      0.5        1.00           0.0          9.40  \n",
       "4          5.7        0.0      0.5        0.00           0.0          6.20  "
      ]
     },
     "execution_count": 56,
     "metadata": {},
     "output_type": "execute_result"
    }
   ],
   "source": [
    "import pandas as pd\n",
    "data_pd = pd.read_csv(\"datasets/yellow_tripdata_2012-01.csv\")\n",
    "data_pd.head()"
   ]
  },
  {
   "cell_type": "code",
   "execution_count": 57,
   "metadata": {
    "collapsed": false
   },
   "outputs": [
    {
     "name": "stdout",
     "output_type": "stream",
     "text": [
      "9547\n",
      "9143\n",
      "2281\n",
      "9661\n",
      "9294\n",
      "9547\n",
      "2281\n",
      "9513\n",
      "9378\n",
      "9071\n",
      "9118\n",
      "9471\n",
      "9496\n",
      "9096\n",
      "9023\n",
      "9143\n",
      "9388\n",
      "9493\n",
      "9088\n",
      "9245\n"
     ]
    }
   ],
   "source": [
    "# testing\n",
    "mapToZone(data_pd.head(20).T.to_dict().values())"
   ]
  },
  {
   "cell_type": "code",
   "execution_count": null,
   "metadata": {
    "collapsed": true
   },
   "outputs": [],
   "source": []
  }
 ],
 "metadata": {
  "anaconda-cloud": {},
  "kernelspec": {
   "display_name": "Python [py3k]",
   "language": "python",
   "name": "Python [py3k]"
  },
  "language_info": {
   "codemirror_mode": {
    "name": "ipython",
    "version": 3
   },
   "file_extension": ".py",
   "mimetype": "text/x-python",
   "name": "python",
   "nbconvert_exporter": "python",
   "pygments_lexer": "ipython3",
   "version": "3.5.2"
  }
 },
 "nbformat": 4,
 "nbformat_minor": 0
}
