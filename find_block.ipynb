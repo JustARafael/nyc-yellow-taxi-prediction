{
 "cells": [
  {
   "cell_type": "code",
   "execution_count": 1,
   "metadata": {
    "collapsed": true
   },
   "outputs": [],
   "source": [
    "# given location (long & lat), find block id\n",
    "\n",
    "import numpy as np\n",
    "import matplotlib.path as mplPath"
   ]
  },
  {
   "cell_type": "code",
   "execution_count": 2,
   "metadata": {
    "collapsed": true
   },
   "outputs": [],
   "source": [
    "def indexZones(shapeFilename):\n",
    "    import rtree\n",
    "    import fiona.crs\n",
    "    import geopandas as gpd\n",
    "    index = rtree.Rtree()\n",
    "    zones = gpd.read_file(shapeFilename).to_crs(fiona.crs.from_epsg(2263))\n",
    "    for idx,geometry in enumerate(zones.geometry):\n",
    "        index.insert(idx, geometry.bounds)\n",
    "    return (index, zones)"
   ]
  },
  {
   "cell_type": "code",
   "execution_count": 3,
   "metadata": {
    "collapsed": true
   },
   "outputs": [],
   "source": [
    "def findBlock(p, index, zones):\n",
    "    match = index.intersection((p.x, p.y, p.x, p.y))\n",
    "    for idx in match:\n",
    "        z = mplPath.Path(np.array(zones.geometry[idx].exterior))\n",
    "        if z.contains_point(np.array(p)):\n",
    "            return zones['OBJECTID'][idx]\n",
    "    return -1"
   ]
  },
  {
   "cell_type": "code",
   "execution_count": 4,
   "metadata": {
    "collapsed": false
   },
   "outputs": [],
   "source": [
    "def mapToZone(parts):\n",
    "    import pyproj\n",
    "    import shapely.geometry as geom\n",
    "    proj = pyproj.Proj(init=\"epsg:2263\", preserve_units=True)    \n",
    "    index, zones = indexZones(\"/Users/RAFAELLICHEN/Documents/CSC 59970/nyc-yellow-taxi-prediction/datasets/block-groups-polygons.geojson\")\n",
    "    for line in parts:\n",
    "        if (line['pickup_longitude'] and line['pickup_latitude']):\n",
    "            pickup_location  = geom.Point(proj(float(line['pickup_longitude']), float(line['pickup_latitude'])))\n",
    "            pickup_block = findBlock(pickup_location, index, zones)\n",
    "            if pickup_block >= 0:\n",
    "                print (pickup_block)"
   ]
  },
  {
   "cell_type": "code",
   "execution_count": 5,
   "metadata": {
    "collapsed": false
   },
   "outputs": [
    {
     "data": {
      "text/html": [
       "<div>\n",
       "<table border=\"1\" class=\"dataframe\">\n",
       "  <thead>\n",
       "    <tr style=\"text-align: right;\">\n",
       "      <th></th>\n",
       "      <th>Unnamed: 0</th>\n",
       "      <th>pickup_datetime</th>\n",
       "      <th>dropoff_datetime</th>\n",
       "      <th>passenger_count</th>\n",
       "      <th>trip_distance</th>\n",
       "      <th>pickup_longitude</th>\n",
       "      <th>pickup_latitude</th>\n",
       "      <th>dropoff_longitude</th>\n",
       "      <th>dropoff_latitude</th>\n",
       "      <th>tip_amount</th>\n",
       "      <th>total_amount</th>\n",
       "    </tr>\n",
       "  </thead>\n",
       "  <tbody>\n",
       "    <tr>\n",
       "      <th>0</th>\n",
       "      <td>0</td>\n",
       "      <td>2012-01-10 23:55:50</td>\n",
       "      <td>2012-01-11 00:03:39</td>\n",
       "      <td>1</td>\n",
       "      <td>1.7</td>\n",
       "      <td>-73.994693</td>\n",
       "      <td>40.725031</td>\n",
       "      <td>-73.975951</td>\n",
       "      <td>40.730781</td>\n",
       "      <td>1.00</td>\n",
       "      <td>8.90</td>\n",
       "    </tr>\n",
       "    <tr>\n",
       "      <th>1</th>\n",
       "      <td>1</td>\n",
       "      <td>2012-01-11 19:18:25</td>\n",
       "      <td>2012-01-11 19:26:10</td>\n",
       "      <td>1</td>\n",
       "      <td>1.1</td>\n",
       "      <td>-73.987955</td>\n",
       "      <td>40.752947</td>\n",
       "      <td>-73.994532</td>\n",
       "      <td>40.761040</td>\n",
       "      <td>0.00</td>\n",
       "      <td>7.60</td>\n",
       "    </tr>\n",
       "    <tr>\n",
       "      <th>2</th>\n",
       "      <td>2</td>\n",
       "      <td>2012-01-11 19:19:19</td>\n",
       "      <td>2012-01-11 19:48:15</td>\n",
       "      <td>2</td>\n",
       "      <td>18.0</td>\n",
       "      <td>-73.783093</td>\n",
       "      <td>40.648550</td>\n",
       "      <td>-73.996134</td>\n",
       "      <td>40.747624</td>\n",
       "      <td>10.06</td>\n",
       "      <td>60.36</td>\n",
       "    </tr>\n",
       "    <tr>\n",
       "      <th>3</th>\n",
       "      <td>3</td>\n",
       "      <td>2012-01-11 19:19:21</td>\n",
       "      <td>2012-01-11 19:27:00</td>\n",
       "      <td>1</td>\n",
       "      <td>1.7</td>\n",
       "      <td>-73.967515</td>\n",
       "      <td>40.758454</td>\n",
       "      <td>-73.956583</td>\n",
       "      <td>40.779903</td>\n",
       "      <td>1.00</td>\n",
       "      <td>9.40</td>\n",
       "    </tr>\n",
       "    <tr>\n",
       "      <th>4</th>\n",
       "      <td>4</td>\n",
       "      <td>2012-01-11 14:38:15</td>\n",
       "      <td>2012-01-11 14:43:51</td>\n",
       "      <td>1</td>\n",
       "      <td>1.2</td>\n",
       "      <td>-74.011315</td>\n",
       "      <td>40.711449</td>\n",
       "      <td>-74.002872</td>\n",
       "      <td>40.728131</td>\n",
       "      <td>0.00</td>\n",
       "      <td>6.20</td>\n",
       "    </tr>\n",
       "  </tbody>\n",
       "</table>\n",
       "</div>"
      ],
      "text/plain": [
       "   Unnamed: 0      pickup_datetime     dropoff_datetime  passenger_count  \\\n",
       "0           0  2012-01-10 23:55:50  2012-01-11 00:03:39                1   \n",
       "1           1  2012-01-11 19:18:25  2012-01-11 19:26:10                1   \n",
       "2           2  2012-01-11 19:19:19  2012-01-11 19:48:15                2   \n",
       "3           3  2012-01-11 19:19:21  2012-01-11 19:27:00                1   \n",
       "4           4  2012-01-11 14:38:15  2012-01-11 14:43:51                1   \n",
       "\n",
       "   trip_distance  pickup_longitude  pickup_latitude  dropoff_longitude  \\\n",
       "0            1.7        -73.994693        40.725031         -73.975951   \n",
       "1            1.1        -73.987955        40.752947         -73.994532   \n",
       "2           18.0        -73.783093        40.648550         -73.996134   \n",
       "3            1.7        -73.967515        40.758454         -73.956583   \n",
       "4            1.2        -74.011315        40.711449         -74.002872   \n",
       "\n",
       "   dropoff_latitude  tip_amount  total_amount  \n",
       "0         40.730781        1.00          8.90  \n",
       "1         40.761040        0.00          7.60  \n",
       "2         40.747624       10.06         60.36  \n",
       "3         40.779903        1.00          9.40  \n",
       "4         40.728131        0.00          6.20  "
      ]
     },
     "execution_count": 5,
     "metadata": {},
     "output_type": "execute_result"
    }
   ],
   "source": [
    "import pandas as pd\n",
    "data_pd = pd.read_csv(\"/Users/RAFAELLICHEN/Downloads/column_deleted_data_2012/yellow_tripdata_2012-01.csv\")\n",
    "data_pd.head()"
   ]
  },
  {
   "cell_type": "code",
   "execution_count": 10,
   "metadata": {
    "collapsed": false
   },
   "outputs": [
    {
     "ename": "ImportError",
     "evalue": "No module named 'geopandas'",
     "output_type": "error",
     "traceback": [
      "\u001b[0;31m---------------------------------------------------------------------------\u001b[0m",
      "\u001b[0;31mImportError\u001b[0m                               Traceback (most recent call last)",
      "\u001b[0;32m<ipython-input-10-66e0eb7d40f0>\u001b[0m in \u001b[0;36m<module>\u001b[0;34m()\u001b[0m\n\u001b[1;32m      1\u001b[0m \u001b[0;31m# testing\u001b[0m\u001b[0;34m\u001b[0m\u001b[0;34m\u001b[0m\u001b[0m\n\u001b[0;32m----> 2\u001b[0;31m \u001b[0mmapToZone\u001b[0m\u001b[0;34m(\u001b[0m\u001b[0mdata_pd\u001b[0m\u001b[0;34m.\u001b[0m\u001b[0mhead\u001b[0m\u001b[0;34m(\u001b[0m\u001b[0;36m20\u001b[0m\u001b[0;34m)\u001b[0m\u001b[0;34m.\u001b[0m\u001b[0mT\u001b[0m\u001b[0;34m.\u001b[0m\u001b[0mto_dict\u001b[0m\u001b[0;34m(\u001b[0m\u001b[0;34m)\u001b[0m\u001b[0;34m.\u001b[0m\u001b[0mvalues\u001b[0m\u001b[0;34m(\u001b[0m\u001b[0;34m)\u001b[0m\u001b[0;34m)\u001b[0m\u001b[0;34m\u001b[0m\u001b[0m\n\u001b[0m",
      "\u001b[0;32m<ipython-input-4-03194bb003d7>\u001b[0m in \u001b[0;36mmapToZone\u001b[0;34m(parts)\u001b[0m\n\u001b[1;32m      3\u001b[0m     \u001b[0;32mimport\u001b[0m \u001b[0mshapely\u001b[0m\u001b[0;34m.\u001b[0m\u001b[0mgeometry\u001b[0m \u001b[0;32mas\u001b[0m \u001b[0mgeom\u001b[0m\u001b[0;34m\u001b[0m\u001b[0m\n\u001b[1;32m      4\u001b[0m     \u001b[0mproj\u001b[0m \u001b[0;34m=\u001b[0m \u001b[0mpyproj\u001b[0m\u001b[0;34m.\u001b[0m\u001b[0mProj\u001b[0m\u001b[0;34m(\u001b[0m\u001b[0minit\u001b[0m\u001b[0;34m=\u001b[0m\u001b[0;34m\"epsg:2263\"\u001b[0m\u001b[0;34m,\u001b[0m \u001b[0mpreserve_units\u001b[0m\u001b[0;34m=\u001b[0m\u001b[0;32mTrue\u001b[0m\u001b[0;34m)\u001b[0m\u001b[0;34m\u001b[0m\u001b[0m\n\u001b[0;32m----> 5\u001b[0;31m     \u001b[0mindex\u001b[0m\u001b[0;34m,\u001b[0m \u001b[0mzones\u001b[0m \u001b[0;34m=\u001b[0m \u001b[0mindexZones\u001b[0m\u001b[0;34m(\u001b[0m\u001b[0;34m\"/Users/RAFAELLICHEN/Documents/CSC 59970/nyc-yellow-taxi-prediction/datasets/block-groups-polygons.geojson\"\u001b[0m\u001b[0;34m)\u001b[0m\u001b[0;34m\u001b[0m\u001b[0m\n\u001b[0m\u001b[1;32m      6\u001b[0m     \u001b[0;32mfor\u001b[0m \u001b[0mline\u001b[0m \u001b[0;32min\u001b[0m \u001b[0mparts\u001b[0m\u001b[0;34m:\u001b[0m\u001b[0;34m\u001b[0m\u001b[0m\n\u001b[1;32m      7\u001b[0m         \u001b[0;32mif\u001b[0m \u001b[0;34m(\u001b[0m\u001b[0mline\u001b[0m\u001b[0;34m[\u001b[0m\u001b[0;34m'pickup_longitude'\u001b[0m\u001b[0;34m]\u001b[0m \u001b[0;32mand\u001b[0m \u001b[0mline\u001b[0m\u001b[0;34m[\u001b[0m\u001b[0;34m'pickup_latitude'\u001b[0m\u001b[0;34m]\u001b[0m\u001b[0;34m)\u001b[0m\u001b[0;34m:\u001b[0m\u001b[0;34m\u001b[0m\u001b[0m\n",
      "\u001b[0;32m<ipython-input-2-7fd38fa18f95>\u001b[0m in \u001b[0;36mindexZones\u001b[0;34m(shapeFilename)\u001b[0m\n\u001b[1;32m      2\u001b[0m     \u001b[0;32mimport\u001b[0m \u001b[0mrtree\u001b[0m\u001b[0;34m\u001b[0m\u001b[0m\n\u001b[1;32m      3\u001b[0m     \u001b[0;32mimport\u001b[0m \u001b[0mfiona\u001b[0m\u001b[0;34m.\u001b[0m\u001b[0mcrs\u001b[0m\u001b[0;34m\u001b[0m\u001b[0m\n\u001b[0;32m----> 4\u001b[0;31m     \u001b[0;32mimport\u001b[0m \u001b[0mgeopandas\u001b[0m \u001b[0;32mas\u001b[0m \u001b[0mgpd\u001b[0m\u001b[0;34m\u001b[0m\u001b[0m\n\u001b[0m\u001b[1;32m      5\u001b[0m     \u001b[0mindex\u001b[0m \u001b[0;34m=\u001b[0m \u001b[0mrtree\u001b[0m\u001b[0;34m.\u001b[0m\u001b[0mRtree\u001b[0m\u001b[0;34m(\u001b[0m\u001b[0;34m)\u001b[0m\u001b[0;34m\u001b[0m\u001b[0m\n\u001b[1;32m      6\u001b[0m     \u001b[0mzones\u001b[0m \u001b[0;34m=\u001b[0m \u001b[0mgpd\u001b[0m\u001b[0;34m.\u001b[0m\u001b[0mread_file\u001b[0m\u001b[0;34m(\u001b[0m\u001b[0mshapeFilename\u001b[0m\u001b[0;34m)\u001b[0m\u001b[0;34m.\u001b[0m\u001b[0mto_crs\u001b[0m\u001b[0;34m(\u001b[0m\u001b[0mfiona\u001b[0m\u001b[0;34m.\u001b[0m\u001b[0mcrs\u001b[0m\u001b[0;34m.\u001b[0m\u001b[0mfrom_epsg\u001b[0m\u001b[0;34m(\u001b[0m\u001b[0;36m2263\u001b[0m\u001b[0;34m)\u001b[0m\u001b[0;34m)\u001b[0m\u001b[0;34m\u001b[0m\u001b[0m\n",
      "\u001b[0;31mImportError\u001b[0m: No module named 'geopandas'"
     ]
    }
   ],
   "source": [
    "# testing\n",
    "mapToZone(data_pd.head(20).T.to_dict().values())"
   ]
  },
  {
   "cell_type": "code",
   "execution_count": null,
   "metadata": {
    "collapsed": true
   },
   "outputs": [],
   "source": []
  }
 ],
 "metadata": {
  "anaconda-cloud": {},
  "kernelspec": {
   "display_name": "Python [Root]",
   "language": "python",
   "name": "Python [Root]"
  },
  "language_info": {
   "codemirror_mode": {
    "name": "ipython",
    "version": 3
   },
   "file_extension": ".py",
   "mimetype": "text/x-python",
   "name": "python",
   "nbconvert_exporter": "python",
   "pygments_lexer": "ipython3",
   "version": "3.5.2"
  }
 },
 "nbformat": 4,
 "nbformat_minor": 0
}
