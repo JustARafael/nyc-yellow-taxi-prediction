{
 "cells": [
  {
   "cell_type": "markdown",
   "metadata": {},
   "source": [
    "# Question 3 \n",
    "### Can we accurately predict how much tips a driver will get based on distance traveled, time spent, hour of the day and day of the week?\n",
    "\n",
    "#### Due to the limit of computation power and time, we'll be looking at it one day of the week at a time."
   ]
  },
  {
   "cell_type": "markdown",
   "metadata": {},
   "source": [
    "### Applying KNN and Regression"
   ]
  },
  {
   "cell_type": "markdown",
   "metadata": {},
   "source": [
    "#### Some useful links\n",
    "\n",
    "https://www.dataquest.io/blog/k-nearest-neighbors-in-python/ - KNN\n",
    "\n",
    "http://www.statsoft.com/textbook/k-nearest-neighbors - Cross Validation with KNN\n",
    "\n",
    "http://scikit-learn.org/stable/modules/generated/sklearn.neighbors.KNeighborsClassifier.html - Selecting Classifier for Cross Validation"
   ]
  },
  {
   "cell_type": "markdown",
   "metadata": {},
   "source": [
    "This notebook will handle one type of customers, tippers only"
   ]
  },
  {
   "cell_type": "code",
   "execution_count": 16,
   "metadata": {
    "collapsed": false
   },
   "outputs": [],
   "source": [
    "import pandas as pd\n",
    "import numpy as np\n",
    "import matplotlib.pyplot as plt\n",
    "from sklearn.cluster import KMeans\n",
    "import matplotlib.path as mplPath\n",
    "from sklearn.cluster import KMeans\n",
    "from sklearn.neighbors import KNeighborsRegressor\n",
    "from sklearn.cross_validation import train_test_split\n",
    "from sklearn.model_selection import cross_val_score\n",
    "from sklearn.grid_search import GridSearchCV\n",
    "from sklearn.metrics import mean_squared_error\n",
    "%matplotlib inline"
   ]
  },
  {
   "cell_type": "markdown",
   "metadata": {},
   "source": [
    "### Reading in the cleaned data"
   ]
  },
  {
   "cell_type": "code",
   "execution_count": 2,
   "metadata": {
    "collapsed": true
   },
   "outputs": [],
   "source": [
    "#df=pd.read_csv(\"datasets/clean-january-2013.csv\") # tippers and non-tippers together\n",
    "df=pd.read_csv(\"datasets/cleaner-january-2013.csv\") # only those that paid tips"
   ]
  },
  {
   "cell_type": "code",
   "execution_count": 3,
   "metadata": {
    "collapsed": false
   },
   "outputs": [
    {
     "data": {
      "text/html": [
       "<div>\n",
       "<table border=\"1\" class=\"dataframe\">\n",
       "  <thead>\n",
       "    <tr style=\"text-align: right;\">\n",
       "      <th></th>\n",
       "      <th>Unnamed: 0</th>\n",
       "      <th>weekday</th>\n",
       "      <th>hour</th>\n",
       "      <th>pickup</th>\n",
       "      <th>trip_distance</th>\n",
       "      <th>tip_amount</th>\n",
       "      <th>total_amount</th>\n",
       "      <th>time_spent</th>\n",
       "    </tr>\n",
       "  </thead>\n",
       "  <tbody>\n",
       "    <tr>\n",
       "      <th>0</th>\n",
       "      <td>0</td>\n",
       "      <td>Friday</td>\n",
       "      <td>0</td>\n",
       "      <td>40.613763,-73.972592</td>\n",
       "      <td>0.00</td>\n",
       "      <td>7.70</td>\n",
       "      <td>38.50</td>\n",
       "      <td>0.0</td>\n",
       "    </tr>\n",
       "    <tr>\n",
       "      <th>1</th>\n",
       "      <td>1</td>\n",
       "      <td>Friday</td>\n",
       "      <td>0</td>\n",
       "      <td>40.61622,-73.97454999999998</td>\n",
       "      <td>2.90</td>\n",
       "      <td>3.25</td>\n",
       "      <td>16.25</td>\n",
       "      <td>11.0</td>\n",
       "    </tr>\n",
       "    <tr>\n",
       "      <th>2</th>\n",
       "      <td>2</td>\n",
       "      <td>Friday</td>\n",
       "      <td>0</td>\n",
       "      <td>40.620231,-73.96423799999998</td>\n",
       "      <td>5.10</td>\n",
       "      <td>5.00</td>\n",
       "      <td>25.00</td>\n",
       "      <td>19.0</td>\n",
       "    </tr>\n",
       "    <tr>\n",
       "      <th>3</th>\n",
       "      <td>3</td>\n",
       "      <td>Friday</td>\n",
       "      <td>0</td>\n",
       "      <td>40.629405,-74.017868</td>\n",
       "      <td>13.36</td>\n",
       "      <td>7.50</td>\n",
       "      <td>45.50</td>\n",
       "      <td>22.0</td>\n",
       "    </tr>\n",
       "    <tr>\n",
       "      <th>4</th>\n",
       "      <td>4</td>\n",
       "      <td>Friday</td>\n",
       "      <td>0</td>\n",
       "      <td>40.63121,-74.017517</td>\n",
       "      <td>2.64</td>\n",
       "      <td>2.20</td>\n",
       "      <td>13.70</td>\n",
       "      <td>11.0</td>\n",
       "    </tr>\n",
       "  </tbody>\n",
       "</table>\n",
       "</div>"
      ],
      "text/plain": [
       "   Unnamed: 0 weekday  hour                        pickup  trip_distance  \\\n",
       "0           0  Friday     0          40.613763,-73.972592           0.00   \n",
       "1           1  Friday     0   40.61622,-73.97454999999998           2.90   \n",
       "2           2  Friday     0  40.620231,-73.96423799999998           5.10   \n",
       "3           3  Friday     0          40.629405,-74.017868          13.36   \n",
       "4           4  Friday     0           40.63121,-74.017517           2.64   \n",
       "\n",
       "   tip_amount  total_amount  time_spent  \n",
       "0        7.70         38.50         0.0  \n",
       "1        3.25         16.25        11.0  \n",
       "2        5.00         25.00        19.0  \n",
       "3        7.50         45.50        22.0  \n",
       "4        2.20         13.70        11.0  "
      ]
     },
     "execution_count": 3,
     "metadata": {},
     "output_type": "execute_result"
    }
   ],
   "source": [
    "df.head()"
   ]
  },
  {
   "cell_type": "code",
   "execution_count": 4,
   "metadata": {
    "collapsed": false
   },
   "outputs": [
    {
     "data": {
      "text/html": [
       "<div>\n",
       "<table border=\"1\" class=\"dataframe\">\n",
       "  <thead>\n",
       "    <tr style=\"text-align: right;\">\n",
       "      <th></th>\n",
       "      <th>Unnamed: 0</th>\n",
       "      <th>weekday</th>\n",
       "      <th>hour</th>\n",
       "      <th>pickup</th>\n",
       "      <th>trip_distance</th>\n",
       "      <th>tip_amount</th>\n",
       "      <th>total_amount</th>\n",
       "      <th>time_spent</th>\n",
       "    </tr>\n",
       "  </thead>\n",
       "  <tbody>\n",
       "    <tr>\n",
       "      <th>7375724</th>\n",
       "      <td>7375724</td>\n",
       "      <td>Wednesday</td>\n",
       "      <td>23</td>\n",
       "      <td>40.873275,-73.886922</td>\n",
       "      <td>2.8</td>\n",
       "      <td>1.50</td>\n",
       "      <td>13.50</td>\n",
       "      <td>10.0</td>\n",
       "    </tr>\n",
       "    <tr>\n",
       "      <th>7375725</th>\n",
       "      <td>7375725</td>\n",
       "      <td>Wednesday</td>\n",
       "      <td>23</td>\n",
       "      <td>40.890857,-73.908495</td>\n",
       "      <td>0.0</td>\n",
       "      <td>4.41</td>\n",
       "      <td>7.91</td>\n",
       "      <td>1.0</td>\n",
       "    </tr>\n",
       "    <tr>\n",
       "      <th>7375726</th>\n",
       "      <td>7375726</td>\n",
       "      <td>Wednesday</td>\n",
       "      <td>23</td>\n",
       "      <td>40.900912,-74.00320499999998</td>\n",
       "      <td>0.0</td>\n",
       "      <td>23.00</td>\n",
       "      <td>75.50</td>\n",
       "      <td>0.0</td>\n",
       "    </tr>\n",
       "    <tr>\n",
       "      <th>7375727</th>\n",
       "      <td>7375727</td>\n",
       "      <td>Wednesday</td>\n",
       "      <td>23</td>\n",
       "      <td>40.902505,-74.00228799999998</td>\n",
       "      <td>0.0</td>\n",
       "      <td>3.00</td>\n",
       "      <td>86.00</td>\n",
       "      <td>6.0</td>\n",
       "    </tr>\n",
       "    <tr>\n",
       "      <th>7375728</th>\n",
       "      <td>7375728</td>\n",
       "      <td>Wednesday</td>\n",
       "      <td>23</td>\n",
       "      <td>40.907027,-73.909115</td>\n",
       "      <td>0.0</td>\n",
       "      <td>9.50</td>\n",
       "      <td>50.50</td>\n",
       "      <td>0.0</td>\n",
       "    </tr>\n",
       "  </tbody>\n",
       "</table>\n",
       "</div>"
      ],
      "text/plain": [
       "         Unnamed: 0    weekday  hour                        pickup  \\\n",
       "7375724     7375724  Wednesday    23          40.873275,-73.886922   \n",
       "7375725     7375725  Wednesday    23          40.890857,-73.908495   \n",
       "7375726     7375726  Wednesday    23  40.900912,-74.00320499999998   \n",
       "7375727     7375727  Wednesday    23  40.902505,-74.00228799999998   \n",
       "7375728     7375728  Wednesday    23          40.907027,-73.909115   \n",
       "\n",
       "         trip_distance  tip_amount  total_amount  time_spent  \n",
       "7375724            2.8        1.50         13.50        10.0  \n",
       "7375725            0.0        4.41          7.91         1.0  \n",
       "7375726            0.0       23.00         75.50         0.0  \n",
       "7375727            0.0        3.00         86.00         6.0  \n",
       "7375728            0.0        9.50         50.50         0.0  "
      ]
     },
     "execution_count": 4,
     "metadata": {},
     "output_type": "execute_result"
    }
   ],
   "source": [
    "df.tail()"
   ]
  },
  {
   "cell_type": "code",
   "execution_count": 5,
   "metadata": {
    "collapsed": false
   },
   "outputs": [],
   "source": [
    "df = df.loc[(df['weekday'] == 'Wednesday')] "
   ]
  },
  {
   "cell_type": "markdown",
   "metadata": {},
   "source": [
    "### Generate the training and testing set"
   ]
  },
  {
   "cell_type": "code",
   "execution_count": 6,
   "metadata": {
    "collapsed": false
   },
   "outputs": [
    {
     "name": "stdout",
     "output_type": "stream",
     "text": [
      "(961593, 8)\n",
      "(240398, 8)\n"
     ]
    }
   ],
   "source": [
    "# Generate the training set.  Set random_state to be able to replicate results.\n",
    "train = df.sample(frac=0.8, random_state=1)\n",
    "# Select anything not in the training set and put it in the testing set.\n",
    "test = df.loc[~df.index.isin(train.index)]\n",
    "# Print the shapes of both sets.\n",
    "print(train.shape)\n",
    "print(test.shape)"
   ]
  },
  {
   "cell_type": "code",
   "execution_count": 7,
   "metadata": {
    "collapsed": false
   },
   "outputs": [
    {
     "data": {
      "text/html": [
       "<div>\n",
       "<table border=\"1\" class=\"dataframe\">\n",
       "  <thead>\n",
       "    <tr style=\"text-align: right;\">\n",
       "      <th></th>\n",
       "      <th>Unnamed: 0</th>\n",
       "      <th>weekday</th>\n",
       "      <th>hour</th>\n",
       "      <th>pickup</th>\n",
       "      <th>trip_distance</th>\n",
       "      <th>tip_amount</th>\n",
       "      <th>total_amount</th>\n",
       "      <th>time_spent</th>\n",
       "    </tr>\n",
       "  </thead>\n",
       "  <tbody>\n",
       "    <tr>\n",
       "      <th>6449753</th>\n",
       "      <td>6449753</td>\n",
       "      <td>Wednesday</td>\n",
       "      <td>9</td>\n",
       "      <td>40.750237,-73.98330099999998</td>\n",
       "      <td>1.20</td>\n",
       "      <td>1.80</td>\n",
       "      <td>10.80</td>\n",
       "      <td>11.0</td>\n",
       "    </tr>\n",
       "    <tr>\n",
       "      <th>6585129</th>\n",
       "      <td>6585129</td>\n",
       "      <td>Wednesday</td>\n",
       "      <td>11</td>\n",
       "      <td>40.763397,-73.996442</td>\n",
       "      <td>2.60</td>\n",
       "      <td>2.20</td>\n",
       "      <td>13.70</td>\n",
       "      <td>12.0</td>\n",
       "    </tr>\n",
       "    <tr>\n",
       "      <th>7284201</th>\n",
       "      <td>7284201</td>\n",
       "      <td>Wednesday</td>\n",
       "      <td>22</td>\n",
       "      <td>40.744727,-73.991235</td>\n",
       "      <td>0.46</td>\n",
       "      <td>0.90</td>\n",
       "      <td>5.90</td>\n",
       "      <td>3.0</td>\n",
       "    </tr>\n",
       "    <tr>\n",
       "      <th>6440440</th>\n",
       "      <td>6440440</td>\n",
       "      <td>Wednesday</td>\n",
       "      <td>9</td>\n",
       "      <td>40.743532,-73.98443799999998</td>\n",
       "      <td>0.95</td>\n",
       "      <td>0.50</td>\n",
       "      <td>8.00</td>\n",
       "      <td>8.0</td>\n",
       "    </tr>\n",
       "    <tr>\n",
       "      <th>6608456</th>\n",
       "      <td>6608456</td>\n",
       "      <td>Wednesday</td>\n",
       "      <td>12</td>\n",
       "      <td>40.722912,-73.99893</td>\n",
       "      <td>2.60</td>\n",
       "      <td>4.05</td>\n",
       "      <td>17.55</td>\n",
       "      <td>18.0</td>\n",
       "    </tr>\n",
       "  </tbody>\n",
       "</table>\n",
       "</div>"
      ],
      "text/plain": [
       "         Unnamed: 0    weekday  hour                        pickup  \\\n",
       "6449753     6449753  Wednesday     9  40.750237,-73.98330099999998   \n",
       "6585129     6585129  Wednesday    11          40.763397,-73.996442   \n",
       "7284201     7284201  Wednesday    22          40.744727,-73.991235   \n",
       "6440440     6440440  Wednesday     9  40.743532,-73.98443799999998   \n",
       "6608456     6608456  Wednesday    12           40.722912,-73.99893   \n",
       "\n",
       "         trip_distance  tip_amount  total_amount  time_spent  \n",
       "6449753           1.20        1.80         10.80        11.0  \n",
       "6585129           2.60        2.20         13.70        12.0  \n",
       "7284201           0.46        0.90          5.90         3.0  \n",
       "6440440           0.95        0.50          8.00         8.0  \n",
       "6608456           2.60        4.05         17.55        18.0  "
      ]
     },
     "execution_count": 7,
     "metadata": {},
     "output_type": "execute_result"
    }
   ],
   "source": [
    "train.head()"
   ]
  },
  {
   "cell_type": "code",
   "execution_count": 8,
   "metadata": {
    "collapsed": false
   },
   "outputs": [
    {
     "data": {
      "text/plain": [
       "((961593, 6), (961593, 1), (240398, 6), (240398, 1))"
      ]
     },
     "execution_count": 8,
     "metadata": {},
     "output_type": "execute_result"
    }
   ],
   "source": [
    "Xtrain = train[['weekday','hour','pickup','trip_distance','total_amount','time_spent']]\n",
    "ytrain = train[['tip_amount']]\n",
    "Xtest = test[['weekday','hour','pickup','trip_distance','total_amount','time_spent']]\n",
    "ytest = test[['tip_amount']]\n",
    "Xtrain.shape, ytrain.shape, Xtest.shape, ytest.shape"
   ]
  },
  {
   "cell_type": "code",
   "execution_count": 9,
   "metadata": {
    "collapsed": false
   },
   "outputs": [
    {
     "data": {
      "text/html": [
       "<div>\n",
       "<table border=\"1\" class=\"dataframe\">\n",
       "  <thead>\n",
       "    <tr style=\"text-align: right;\">\n",
       "      <th></th>\n",
       "      <th>weekday</th>\n",
       "      <th>hour</th>\n",
       "      <th>pickup</th>\n",
       "      <th>trip_distance</th>\n",
       "      <th>total_amount</th>\n",
       "      <th>time_spent</th>\n",
       "    </tr>\n",
       "  </thead>\n",
       "  <tbody>\n",
       "    <tr>\n",
       "      <th>6449753</th>\n",
       "      <td>Wednesday</td>\n",
       "      <td>9</td>\n",
       "      <td>40.750237,-73.98330099999998</td>\n",
       "      <td>1.20</td>\n",
       "      <td>10.80</td>\n",
       "      <td>11.0</td>\n",
       "    </tr>\n",
       "    <tr>\n",
       "      <th>6585129</th>\n",
       "      <td>Wednesday</td>\n",
       "      <td>11</td>\n",
       "      <td>40.763397,-73.996442</td>\n",
       "      <td>2.60</td>\n",
       "      <td>13.70</td>\n",
       "      <td>12.0</td>\n",
       "    </tr>\n",
       "    <tr>\n",
       "      <th>7284201</th>\n",
       "      <td>Wednesday</td>\n",
       "      <td>22</td>\n",
       "      <td>40.744727,-73.991235</td>\n",
       "      <td>0.46</td>\n",
       "      <td>5.90</td>\n",
       "      <td>3.0</td>\n",
       "    </tr>\n",
       "    <tr>\n",
       "      <th>6440440</th>\n",
       "      <td>Wednesday</td>\n",
       "      <td>9</td>\n",
       "      <td>40.743532,-73.98443799999998</td>\n",
       "      <td>0.95</td>\n",
       "      <td>8.00</td>\n",
       "      <td>8.0</td>\n",
       "    </tr>\n",
       "    <tr>\n",
       "      <th>6608456</th>\n",
       "      <td>Wednesday</td>\n",
       "      <td>12</td>\n",
       "      <td>40.722912,-73.99893</td>\n",
       "      <td>2.60</td>\n",
       "      <td>17.55</td>\n",
       "      <td>18.0</td>\n",
       "    </tr>\n",
       "  </tbody>\n",
       "</table>\n",
       "</div>"
      ],
      "text/plain": [
       "           weekday  hour                        pickup  trip_distance  \\\n",
       "6449753  Wednesday     9  40.750237,-73.98330099999998           1.20   \n",
       "6585129  Wednesday    11          40.763397,-73.996442           2.60   \n",
       "7284201  Wednesday    22          40.744727,-73.991235           0.46   \n",
       "6440440  Wednesday     9  40.743532,-73.98443799999998           0.95   \n",
       "6608456  Wednesday    12           40.722912,-73.99893           2.60   \n",
       "\n",
       "         total_amount  time_spent  \n",
       "6449753         10.80        11.0  \n",
       "6585129         13.70        12.0  \n",
       "7284201          5.90         3.0  \n",
       "6440440          8.00         8.0  \n",
       "6608456         17.55        18.0  "
      ]
     },
     "execution_count": 9,
     "metadata": {},
     "output_type": "execute_result"
    }
   ],
   "source": [
    "Xtrain.head() # training set data we're interested in"
   ]
  },
  {
   "cell_type": "code",
   "execution_count": 10,
   "metadata": {
    "collapsed": false
   },
   "outputs": [
    {
     "data": {
      "text/html": [
       "<div>\n",
       "<table border=\"1\" class=\"dataframe\">\n",
       "  <thead>\n",
       "    <tr style=\"text-align: right;\">\n",
       "      <th></th>\n",
       "      <th>tip_amount</th>\n",
       "    </tr>\n",
       "  </thead>\n",
       "  <tbody>\n",
       "    <tr>\n",
       "      <th>6449753</th>\n",
       "      <td>1.80</td>\n",
       "    </tr>\n",
       "    <tr>\n",
       "      <th>6585129</th>\n",
       "      <td>2.20</td>\n",
       "    </tr>\n",
       "    <tr>\n",
       "      <th>7284201</th>\n",
       "      <td>0.90</td>\n",
       "    </tr>\n",
       "    <tr>\n",
       "      <th>6440440</th>\n",
       "      <td>0.50</td>\n",
       "    </tr>\n",
       "    <tr>\n",
       "      <th>6608456</th>\n",
       "      <td>4.05</td>\n",
       "    </tr>\n",
       "  </tbody>\n",
       "</table>\n",
       "</div>"
      ],
      "text/plain": [
       "         tip_amount\n",
       "6449753        1.80\n",
       "6585129        2.20\n",
       "7284201        0.90\n",
       "6440440        0.50\n",
       "6608456        4.05"
      ]
     },
     "execution_count": 10,
     "metadata": {},
     "output_type": "execute_result"
    }
   ],
   "source": [
    "ytrain.head() # corresponding tips"
   ]
  },
  {
   "cell_type": "markdown",
   "metadata": {},
   "source": [
    "### Create the matrix"
   ]
  },
  {
   "cell_type": "code",
   "execution_count": 11,
   "metadata": {
    "collapsed": false
   },
   "outputs": [
    {
     "data": {
      "text/html": [
       "<div>\n",
       "<table border=\"1\" class=\"dataframe\">\n",
       "  <thead>\n",
       "    <tr style=\"text-align: right;\">\n",
       "      <th></th>\n",
       "      <th>trip_distance</th>\n",
       "      <th>total_amount</th>\n",
       "      <th>time_spent</th>\n",
       "      <th>0</th>\n",
       "      <th>1</th>\n",
       "      <th>2</th>\n",
       "      <th>3</th>\n",
       "      <th>4</th>\n",
       "      <th>5</th>\n",
       "      <th>6</th>\n",
       "      <th>...</th>\n",
       "      <th>14</th>\n",
       "      <th>15</th>\n",
       "      <th>16</th>\n",
       "      <th>17</th>\n",
       "      <th>18</th>\n",
       "      <th>19</th>\n",
       "      <th>20</th>\n",
       "      <th>21</th>\n",
       "      <th>22</th>\n",
       "      <th>23</th>\n",
       "    </tr>\n",
       "  </thead>\n",
       "  <tbody>\n",
       "    <tr>\n",
       "      <th>6449753</th>\n",
       "      <td>1.20</td>\n",
       "      <td>10.80</td>\n",
       "      <td>11.0</td>\n",
       "      <td>0</td>\n",
       "      <td>0</td>\n",
       "      <td>0</td>\n",
       "      <td>0</td>\n",
       "      <td>0</td>\n",
       "      <td>0</td>\n",
       "      <td>0</td>\n",
       "      <td>...</td>\n",
       "      <td>0</td>\n",
       "      <td>0</td>\n",
       "      <td>0</td>\n",
       "      <td>0</td>\n",
       "      <td>0</td>\n",
       "      <td>0</td>\n",
       "      <td>0</td>\n",
       "      <td>0</td>\n",
       "      <td>0</td>\n",
       "      <td>0</td>\n",
       "    </tr>\n",
       "    <tr>\n",
       "      <th>6585129</th>\n",
       "      <td>2.60</td>\n",
       "      <td>13.70</td>\n",
       "      <td>12.0</td>\n",
       "      <td>0</td>\n",
       "      <td>0</td>\n",
       "      <td>0</td>\n",
       "      <td>0</td>\n",
       "      <td>0</td>\n",
       "      <td>0</td>\n",
       "      <td>0</td>\n",
       "      <td>...</td>\n",
       "      <td>0</td>\n",
       "      <td>0</td>\n",
       "      <td>0</td>\n",
       "      <td>0</td>\n",
       "      <td>0</td>\n",
       "      <td>0</td>\n",
       "      <td>0</td>\n",
       "      <td>0</td>\n",
       "      <td>0</td>\n",
       "      <td>0</td>\n",
       "    </tr>\n",
       "    <tr>\n",
       "      <th>7284201</th>\n",
       "      <td>0.46</td>\n",
       "      <td>5.90</td>\n",
       "      <td>3.0</td>\n",
       "      <td>0</td>\n",
       "      <td>0</td>\n",
       "      <td>0</td>\n",
       "      <td>0</td>\n",
       "      <td>0</td>\n",
       "      <td>0</td>\n",
       "      <td>0</td>\n",
       "      <td>...</td>\n",
       "      <td>0</td>\n",
       "      <td>0</td>\n",
       "      <td>0</td>\n",
       "      <td>0</td>\n",
       "      <td>0</td>\n",
       "      <td>0</td>\n",
       "      <td>0</td>\n",
       "      <td>0</td>\n",
       "      <td>1</td>\n",
       "      <td>0</td>\n",
       "    </tr>\n",
       "    <tr>\n",
       "      <th>6440440</th>\n",
       "      <td>0.95</td>\n",
       "      <td>8.00</td>\n",
       "      <td>8.0</td>\n",
       "      <td>0</td>\n",
       "      <td>0</td>\n",
       "      <td>0</td>\n",
       "      <td>0</td>\n",
       "      <td>0</td>\n",
       "      <td>0</td>\n",
       "      <td>0</td>\n",
       "      <td>...</td>\n",
       "      <td>0</td>\n",
       "      <td>0</td>\n",
       "      <td>0</td>\n",
       "      <td>0</td>\n",
       "      <td>0</td>\n",
       "      <td>0</td>\n",
       "      <td>0</td>\n",
       "      <td>0</td>\n",
       "      <td>0</td>\n",
       "      <td>0</td>\n",
       "    </tr>\n",
       "    <tr>\n",
       "      <th>6608456</th>\n",
       "      <td>2.60</td>\n",
       "      <td>17.55</td>\n",
       "      <td>18.0</td>\n",
       "      <td>0</td>\n",
       "      <td>0</td>\n",
       "      <td>0</td>\n",
       "      <td>0</td>\n",
       "      <td>0</td>\n",
       "      <td>0</td>\n",
       "      <td>0</td>\n",
       "      <td>...</td>\n",
       "      <td>0</td>\n",
       "      <td>0</td>\n",
       "      <td>0</td>\n",
       "      <td>0</td>\n",
       "      <td>0</td>\n",
       "      <td>0</td>\n",
       "      <td>0</td>\n",
       "      <td>0</td>\n",
       "      <td>0</td>\n",
       "      <td>0</td>\n",
       "    </tr>\n",
       "  </tbody>\n",
       "</table>\n",
       "<p>5 rows × 27 columns</p>\n",
       "</div>"
      ],
      "text/plain": [
       "         trip_distance  total_amount  time_spent  0  1  2  3  4  5  6 ...  14  \\\n",
       "6449753           1.20         10.80        11.0  0  0  0  0  0  0  0 ...   0   \n",
       "6585129           2.60         13.70        12.0  0  0  0  0  0  0  0 ...   0   \n",
       "7284201           0.46          5.90         3.0  0  0  0  0  0  0  0 ...   0   \n",
       "6440440           0.95          8.00         8.0  0  0  0  0  0  0  0 ...   0   \n",
       "6608456           2.60         17.55        18.0  0  0  0  0  0  0  0 ...   0   \n",
       "\n",
       "         15  16  17  18  19  20  21  22  23  \n",
       "6449753   0   0   0   0   0   0   0   0   0  \n",
       "6585129   0   0   0   0   0   0   0   0   0  \n",
       "7284201   0   0   0   0   0   0   0   1   0  \n",
       "6440440   0   0   0   0   0   0   0   0   0  \n",
       "6608456   0   0   0   0   0   0   0   0   0  \n",
       "\n",
       "[5 rows x 27 columns]"
      ]
     },
     "execution_count": 11,
     "metadata": {},
     "output_type": "execute_result"
    }
   ],
   "source": [
    "## might be useful\n",
    "pickup_train = Xtrain[['pickup']] # remember the pickup coordinates\n",
    "\n",
    "Xtrain = Xtrain.join(pd.get_dummies(Xtrain['hour']))\n",
    "Xtrain = Xtrain.drop(['hour','weekday','pickup'], axis=1)\n",
    "Xtrain.head()"
   ]
  },
  {
   "cell_type": "code",
   "execution_count": 12,
   "metadata": {
    "collapsed": false
   },
   "outputs": [
    {
     "data": {
      "text/html": [
       "<div>\n",
       "<table border=\"1\" class=\"dataframe\">\n",
       "  <thead>\n",
       "    <tr style=\"text-align: right;\">\n",
       "      <th></th>\n",
       "      <th>trip_distance</th>\n",
       "      <th>total_amount</th>\n",
       "      <th>time_spent</th>\n",
       "      <th>0</th>\n",
       "      <th>1</th>\n",
       "      <th>2</th>\n",
       "      <th>3</th>\n",
       "      <th>4</th>\n",
       "      <th>5</th>\n",
       "      <th>6</th>\n",
       "      <th>...</th>\n",
       "      <th>14</th>\n",
       "      <th>15</th>\n",
       "      <th>16</th>\n",
       "      <th>17</th>\n",
       "      <th>18</th>\n",
       "      <th>19</th>\n",
       "      <th>20</th>\n",
       "      <th>21</th>\n",
       "      <th>22</th>\n",
       "      <th>23</th>\n",
       "    </tr>\n",
       "  </thead>\n",
       "  <tbody>\n",
       "    <tr>\n",
       "      <th>6173760</th>\n",
       "      <td>16.90</td>\n",
       "      <td>67.3</td>\n",
       "      <td>25.0</td>\n",
       "      <td>1</td>\n",
       "      <td>0</td>\n",
       "      <td>0</td>\n",
       "      <td>0</td>\n",
       "      <td>0</td>\n",
       "      <td>0</td>\n",
       "      <td>0</td>\n",
       "      <td>...</td>\n",
       "      <td>0</td>\n",
       "      <td>0</td>\n",
       "      <td>0</td>\n",
       "      <td>0</td>\n",
       "      <td>0</td>\n",
       "      <td>0</td>\n",
       "      <td>0</td>\n",
       "      <td>0</td>\n",
       "      <td>0</td>\n",
       "      <td>0</td>\n",
       "    </tr>\n",
       "    <tr>\n",
       "      <th>6173766</th>\n",
       "      <td>13.80</td>\n",
       "      <td>49.2</td>\n",
       "      <td>29.0</td>\n",
       "      <td>1</td>\n",
       "      <td>0</td>\n",
       "      <td>0</td>\n",
       "      <td>0</td>\n",
       "      <td>0</td>\n",
       "      <td>0</td>\n",
       "      <td>0</td>\n",
       "      <td>...</td>\n",
       "      <td>0</td>\n",
       "      <td>0</td>\n",
       "      <td>0</td>\n",
       "      <td>0</td>\n",
       "      <td>0</td>\n",
       "      <td>0</td>\n",
       "      <td>0</td>\n",
       "      <td>0</td>\n",
       "      <td>0</td>\n",
       "      <td>0</td>\n",
       "    </tr>\n",
       "    <tr>\n",
       "      <th>6173768</th>\n",
       "      <td>16.80</td>\n",
       "      <td>63.3</td>\n",
       "      <td>24.0</td>\n",
       "      <td>1</td>\n",
       "      <td>0</td>\n",
       "      <td>0</td>\n",
       "      <td>0</td>\n",
       "      <td>0</td>\n",
       "      <td>0</td>\n",
       "      <td>0</td>\n",
       "      <td>...</td>\n",
       "      <td>0</td>\n",
       "      <td>0</td>\n",
       "      <td>0</td>\n",
       "      <td>0</td>\n",
       "      <td>0</td>\n",
       "      <td>0</td>\n",
       "      <td>0</td>\n",
       "      <td>0</td>\n",
       "      <td>0</td>\n",
       "      <td>0</td>\n",
       "    </tr>\n",
       "    <tr>\n",
       "      <th>6173778</th>\n",
       "      <td>18.80</td>\n",
       "      <td>60.0</td>\n",
       "      <td>25.0</td>\n",
       "      <td>1</td>\n",
       "      <td>0</td>\n",
       "      <td>0</td>\n",
       "      <td>0</td>\n",
       "      <td>0</td>\n",
       "      <td>0</td>\n",
       "      <td>0</td>\n",
       "      <td>...</td>\n",
       "      <td>0</td>\n",
       "      <td>0</td>\n",
       "      <td>0</td>\n",
       "      <td>0</td>\n",
       "      <td>0</td>\n",
       "      <td>0</td>\n",
       "      <td>0</td>\n",
       "      <td>0</td>\n",
       "      <td>0</td>\n",
       "      <td>0</td>\n",
       "    </tr>\n",
       "    <tr>\n",
       "      <th>6173779</th>\n",
       "      <td>16.68</td>\n",
       "      <td>63.3</td>\n",
       "      <td>25.0</td>\n",
       "      <td>1</td>\n",
       "      <td>0</td>\n",
       "      <td>0</td>\n",
       "      <td>0</td>\n",
       "      <td>0</td>\n",
       "      <td>0</td>\n",
       "      <td>0</td>\n",
       "      <td>...</td>\n",
       "      <td>0</td>\n",
       "      <td>0</td>\n",
       "      <td>0</td>\n",
       "      <td>0</td>\n",
       "      <td>0</td>\n",
       "      <td>0</td>\n",
       "      <td>0</td>\n",
       "      <td>0</td>\n",
       "      <td>0</td>\n",
       "      <td>0</td>\n",
       "    </tr>\n",
       "  </tbody>\n",
       "</table>\n",
       "<p>5 rows × 27 columns</p>\n",
       "</div>"
      ],
      "text/plain": [
       "         trip_distance  total_amount  time_spent  0  1  2  3  4  5  6 ...  14  \\\n",
       "6173760          16.90          67.3        25.0  1  0  0  0  0  0  0 ...   0   \n",
       "6173766          13.80          49.2        29.0  1  0  0  0  0  0  0 ...   0   \n",
       "6173768          16.80          63.3        24.0  1  0  0  0  0  0  0 ...   0   \n",
       "6173778          18.80          60.0        25.0  1  0  0  0  0  0  0 ...   0   \n",
       "6173779          16.68          63.3        25.0  1  0  0  0  0  0  0 ...   0   \n",
       "\n",
       "         15  16  17  18  19  20  21  22  23  \n",
       "6173760   0   0   0   0   0   0   0   0   0  \n",
       "6173766   0   0   0   0   0   0   0   0   0  \n",
       "6173768   0   0   0   0   0   0   0   0   0  \n",
       "6173778   0   0   0   0   0   0   0   0   0  \n",
       "6173779   0   0   0   0   0   0   0   0   0  \n",
       "\n",
       "[5 rows x 27 columns]"
      ]
     },
     "execution_count": 12,
     "metadata": {},
     "output_type": "execute_result"
    }
   ],
   "source": [
    "## might be useful\n",
    "pickup_test = Xtest[['pickup']] # remember the pickup coordinates\n",
    "\n",
    "Xtest = Xtest.join(pd.get_dummies(Xtest['hour']))\n",
    "Xtest = Xtest.drop(['hour','weekday','pickup'], axis=1)\n",
    "Xtest.head()"
   ]
  },
  {
   "cell_type": "code",
   "execution_count": 13,
   "metadata": {
    "collapsed": false
   },
   "outputs": [
    {
     "data": {
      "text/plain": [
       "(961593, 27)"
      ]
     },
     "execution_count": 13,
     "metadata": {},
     "output_type": "execute_result"
    }
   ],
   "source": [
    "Xtrain.shape"
   ]
  },
  {
   "cell_type": "code",
   "execution_count": 14,
   "metadata": {
    "collapsed": false
   },
   "outputs": [
    {
     "name": "stdout",
     "output_type": "stream",
     "text": [
      "(240398, 27)\n"
     ]
    },
    {
     "data": {
      "text/html": [
       "<div>\n",
       "<table border=\"1\" class=\"dataframe\">\n",
       "  <thead>\n",
       "    <tr style=\"text-align: right;\">\n",
       "      <th></th>\n",
       "      <th>trip_distance</th>\n",
       "      <th>total_amount</th>\n",
       "      <th>time_spent</th>\n",
       "      <th>0</th>\n",
       "      <th>1</th>\n",
       "      <th>2</th>\n",
       "      <th>3</th>\n",
       "      <th>4</th>\n",
       "      <th>5</th>\n",
       "      <th>6</th>\n",
       "      <th>...</th>\n",
       "      <th>14</th>\n",
       "      <th>15</th>\n",
       "      <th>16</th>\n",
       "      <th>17</th>\n",
       "      <th>18</th>\n",
       "      <th>19</th>\n",
       "      <th>20</th>\n",
       "      <th>21</th>\n",
       "      <th>22</th>\n",
       "      <th>23</th>\n",
       "    </tr>\n",
       "  </thead>\n",
       "  <tbody>\n",
       "    <tr>\n",
       "      <th>6173760</th>\n",
       "      <td>16.90</td>\n",
       "      <td>67.3</td>\n",
       "      <td>25.0</td>\n",
       "      <td>1</td>\n",
       "      <td>0</td>\n",
       "      <td>0</td>\n",
       "      <td>0</td>\n",
       "      <td>0</td>\n",
       "      <td>0</td>\n",
       "      <td>0</td>\n",
       "      <td>...</td>\n",
       "      <td>0</td>\n",
       "      <td>0</td>\n",
       "      <td>0</td>\n",
       "      <td>0</td>\n",
       "      <td>0</td>\n",
       "      <td>0</td>\n",
       "      <td>0</td>\n",
       "      <td>0</td>\n",
       "      <td>0</td>\n",
       "      <td>0</td>\n",
       "    </tr>\n",
       "    <tr>\n",
       "      <th>6173766</th>\n",
       "      <td>13.80</td>\n",
       "      <td>49.2</td>\n",
       "      <td>29.0</td>\n",
       "      <td>1</td>\n",
       "      <td>0</td>\n",
       "      <td>0</td>\n",
       "      <td>0</td>\n",
       "      <td>0</td>\n",
       "      <td>0</td>\n",
       "      <td>0</td>\n",
       "      <td>...</td>\n",
       "      <td>0</td>\n",
       "      <td>0</td>\n",
       "      <td>0</td>\n",
       "      <td>0</td>\n",
       "      <td>0</td>\n",
       "      <td>0</td>\n",
       "      <td>0</td>\n",
       "      <td>0</td>\n",
       "      <td>0</td>\n",
       "      <td>0</td>\n",
       "    </tr>\n",
       "    <tr>\n",
       "      <th>6173768</th>\n",
       "      <td>16.80</td>\n",
       "      <td>63.3</td>\n",
       "      <td>24.0</td>\n",
       "      <td>1</td>\n",
       "      <td>0</td>\n",
       "      <td>0</td>\n",
       "      <td>0</td>\n",
       "      <td>0</td>\n",
       "      <td>0</td>\n",
       "      <td>0</td>\n",
       "      <td>...</td>\n",
       "      <td>0</td>\n",
       "      <td>0</td>\n",
       "      <td>0</td>\n",
       "      <td>0</td>\n",
       "      <td>0</td>\n",
       "      <td>0</td>\n",
       "      <td>0</td>\n",
       "      <td>0</td>\n",
       "      <td>0</td>\n",
       "      <td>0</td>\n",
       "    </tr>\n",
       "    <tr>\n",
       "      <th>6173778</th>\n",
       "      <td>18.80</td>\n",
       "      <td>60.0</td>\n",
       "      <td>25.0</td>\n",
       "      <td>1</td>\n",
       "      <td>0</td>\n",
       "      <td>0</td>\n",
       "      <td>0</td>\n",
       "      <td>0</td>\n",
       "      <td>0</td>\n",
       "      <td>0</td>\n",
       "      <td>...</td>\n",
       "      <td>0</td>\n",
       "      <td>0</td>\n",
       "      <td>0</td>\n",
       "      <td>0</td>\n",
       "      <td>0</td>\n",
       "      <td>0</td>\n",
       "      <td>0</td>\n",
       "      <td>0</td>\n",
       "      <td>0</td>\n",
       "      <td>0</td>\n",
       "    </tr>\n",
       "    <tr>\n",
       "      <th>6173779</th>\n",
       "      <td>16.68</td>\n",
       "      <td>63.3</td>\n",
       "      <td>25.0</td>\n",
       "      <td>1</td>\n",
       "      <td>0</td>\n",
       "      <td>0</td>\n",
       "      <td>0</td>\n",
       "      <td>0</td>\n",
       "      <td>0</td>\n",
       "      <td>0</td>\n",
       "      <td>...</td>\n",
       "      <td>0</td>\n",
       "      <td>0</td>\n",
       "      <td>0</td>\n",
       "      <td>0</td>\n",
       "      <td>0</td>\n",
       "      <td>0</td>\n",
       "      <td>0</td>\n",
       "      <td>0</td>\n",
       "      <td>0</td>\n",
       "      <td>0</td>\n",
       "    </tr>\n",
       "  </tbody>\n",
       "</table>\n",
       "<p>5 rows × 27 columns</p>\n",
       "</div>"
      ],
      "text/plain": [
       "         trip_distance  total_amount  time_spent  0  1  2  3  4  5  6 ...  14  \\\n",
       "6173760          16.90          67.3        25.0  1  0  0  0  0  0  0 ...   0   \n",
       "6173766          13.80          49.2        29.0  1  0  0  0  0  0  0 ...   0   \n",
       "6173768          16.80          63.3        24.0  1  0  0  0  0  0  0 ...   0   \n",
       "6173778          18.80          60.0        25.0  1  0  0  0  0  0  0 ...   0   \n",
       "6173779          16.68          63.3        25.0  1  0  0  0  0  0  0 ...   0   \n",
       "\n",
       "         15  16  17  18  19  20  21  22  23  \n",
       "6173760   0   0   0   0   0   0   0   0   0  \n",
       "6173766   0   0   0   0   0   0   0   0   0  \n",
       "6173768   0   0   0   0   0   0   0   0   0  \n",
       "6173778   0   0   0   0   0   0   0   0   0  \n",
       "6173779   0   0   0   0   0   0   0   0   0  \n",
       "\n",
       "[5 rows x 27 columns]"
      ]
     },
     "execution_count": 14,
     "metadata": {},
     "output_type": "execute_result"
    }
   ],
   "source": [
    "print(Xtest.shape)\n",
    "Xtest.head()"
   ]
  },
  {
   "cell_type": "markdown",
   "metadata": {},
   "source": [
    "### Cross Validation with KNeighborsRegressor\n",
    "\n",
    "http://scikit-learn.org/stable/modules/cross_validation.html - 3.1.1. Computing cross-validated metrics"
   ]
  },
  {
   "cell_type": "code",
   "execution_count": 21,
   "metadata": {
    "collapsed": false
   },
   "outputs": [
    {
     "data": {
      "text/plain": [
       "array([ 0.83574942,  0.85191105,  0.85379918,  0.85866424,  0.8598996 ])"
      ]
     },
     "execution_count": 21,
     "metadata": {},
     "output_type": "execute_result"
    }
   ],
   "source": [
    "%%time\n",
    "cross_validation = cross_val_score(KNeighborsRegressor(),Xtrain, ytrain,cv=5)\n",
    "cross_validation"
   ]
  },
  {
   "cell_type": "code",
   "execution_count": 24,
   "metadata": {
    "collapsed": false
   },
   "outputs": [
    {
     "name": "stdout",
     "output_type": "stream",
     "text": [
      "Accuracy: 0.85 (+/- 0.02)\n"
     ]
    }
   ],
   "source": [
    "print(\"Accuracy: %0.2f (+/- %0.2f)\" % (cross_validation.mean(), cross_validation.std() * 2))"
   ]
  },
  {
   "cell_type": "code",
   "execution_count": 22,
   "metadata": {
    "collapsed": false
   },
   "outputs": [
    {
     "name": "stdout",
     "output_type": "stream",
     "text": [
      "Score for fold: 0.866\n",
      "Wall time: 2min 13s\n"
     ]
    }
   ],
   "source": [
    "%%time \n",
    "clf = KNeighborsRegressor().fit(Xtrain, ytrain)\n",
    "score = clf.score(Xtest, ytest)\n",
    "print(\"Score for fold: %.3f\" % (score))"
   ]
  },
  {
   "cell_type": "markdown",
   "metadata": {},
   "source": [
    "### Computing error\n"
   ]
  },
  {
   "cell_type": "markdown",
   "metadata": {},
   "source": [
    "Now that we know our point predictions, we can compute the error involved with our predictions. We can compute mean squared error."
   ]
  },
  {
   "cell_type": "code",
   "execution_count": 27,
   "metadata": {
    "collapsed": false
   },
   "outputs": [
    {
     "name": "stdout",
     "output_type": "stream",
     "text": [
      "Wall time: 1min 21s\n"
     ]
    }
   ],
   "source": [
    "%%time\n",
    "mse = mean_squared_error(clf.predict(Xtest),ytest)"
   ]
  },
  {
   "cell_type": "code",
   "execution_count": 28,
   "metadata": {
    "collapsed": false
   },
   "outputs": [
    {
     "name": "stdout",
     "output_type": "stream",
     "text": [
      "MSE =  0.645572972828\n",
      "RMSE =  0.803475558326\n"
     ]
    }
   ],
   "source": [
    "print(\"MSE = \",mse)\n",
    "print(\"RMSE = \",np.sqrt(mse))"
   ]
  },
  {
   "cell_type": "code",
   "execution_count": 29,
   "metadata": {
    "collapsed": false
   },
   "outputs": [
    {
     "name": "stdout",
     "output_type": "stream",
     "text": [
      "Wall time: 1min 20s\n"
     ]
    },
    {
     "data": {
      "text/plain": [
       "array([[ 10.14,  10.  ],\n",
       "       [  7.43,   8.2 ],\n",
       "       [  7.39,   6.  ],\n",
       "       ..., \n",
       "       [  2.7 ,   2.7 ],\n",
       "       [ 17.72,  23.  ],\n",
       "       [ 25.15,   3.  ]])"
      ]
     },
     "execution_count": 29,
     "metadata": {},
     "output_type": "execute_result"
    }
   ],
   "source": [
    "%%time\n",
    "np.column_stack((clf.predict(Xtest),ytest))"
   ]
  },
  {
   "cell_type": "code",
   "execution_count": null,
   "metadata": {
    "collapsed": true
   },
   "outputs": [],
   "source": []
  }
 ],
 "metadata": {
  "anaconda-cloud": {},
  "kernelspec": {
   "display_name": "Python [conda root]",
   "language": "python",
   "name": "conda-root-py"
  },
  "language_info": {
   "codemirror_mode": {
    "name": "ipython",
    "version": 3
   },
   "file_extension": ".py",
   "mimetype": "text/x-python",
   "name": "python",
   "nbconvert_exporter": "python",
   "pygments_lexer": "ipython3",
   "version": "3.5.2"
  }
 },
 "nbformat": 4,
 "nbformat_minor": 1
}
