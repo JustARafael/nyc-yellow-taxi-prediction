{
 "cells": [
  {
   "cell_type": "markdown",
   "metadata": {},
   "source": [
    "# What is the closest location within a specific distance that will get driver the highest tip based on time of the day and day of the week?"
   ]
  },
  {
   "cell_type": "markdown",
   "metadata": {},
   "source": [
    "## Preamble"
   ]
  },
  {
   "cell_type": "code",
   "execution_count": 1,
   "metadata": {
    "collapsed": true
   },
   "outputs": [],
   "source": [
    "%matplotlib inline\n",
    "import numpy as np\n",
    "import scipy as sp\n",
    "import matplotlib.pyplot as plt\n",
    "import pandas as pd"
   ]
  },
  {
   "cell_type": "markdown",
   "metadata": {},
   "source": [
    "## Load Data"
   ]
  },
  {
   "cell_type": "code",
   "execution_count": 15,
   "metadata": {
    "collapsed": false
   },
   "outputs": [],
   "source": [
    "df = pd.read_csv(\"datasets/yellow_tripdata_2013-01.csv\")"
   ]
  },
  {
   "cell_type": "markdown",
   "metadata": {},
   "source": [
    "## Preprocess data"
   ]
  },
  {
   "cell_type": "code",
   "execution_count": 16,
   "metadata": {
    "collapsed": false
   },
   "outputs": [
    {
     "data": {
      "text/html": [
       "<div>\n",
       "<table border=\"1\" class=\"dataframe\">\n",
       "  <thead>\n",
       "    <tr style=\"text-align: right;\">\n",
       "      <th></th>\n",
       "      <th>vendor_id</th>\n",
       "      <th>pickup_datetime</th>\n",
       "      <th>dropoff_datetime</th>\n",
       "      <th>passenger_count</th>\n",
       "      <th>trip_distance</th>\n",
       "      <th>pickup_longitude</th>\n",
       "      <th>pickup_latitude</th>\n",
       "      <th>rate_code</th>\n",
       "      <th>store_and_fwd_flag</th>\n",
       "      <th>dropoff_longitude</th>\n",
       "      <th>...</th>\n",
       "      <th>payment_type</th>\n",
       "      <th>fare_amount</th>\n",
       "      <th>surcharge</th>\n",
       "      <th>mta_tax</th>\n",
       "      <th>tip_amount</th>\n",
       "      <th>tolls_amount</th>\n",
       "      <th>total_amount</th>\n",
       "      <th>day_of_week</th>\n",
       "      <th>pickup_hour</th>\n",
       "      <th>tip_percentage</th>\n",
       "    </tr>\n",
       "  </thead>\n",
       "  <tbody>\n",
       "    <tr>\n",
       "      <th>0</th>\n",
       "      <td>CMT</td>\n",
       "      <td>2013-01-01 15:11:48</td>\n",
       "      <td>2013-01-01 15:18:10</td>\n",
       "      <td>4</td>\n",
       "      <td>1.0</td>\n",
       "      <td>-73.978165</td>\n",
       "      <td>40.757977</td>\n",
       "      <td>1</td>\n",
       "      <td>N</td>\n",
       "      <td>-73.989840</td>\n",
       "      <td>...</td>\n",
       "      <td>CSH</td>\n",
       "      <td>6.5</td>\n",
       "      <td>0.0</td>\n",
       "      <td>0.5</td>\n",
       "      <td>0.0</td>\n",
       "      <td>0.0</td>\n",
       "      <td>7.0</td>\n",
       "      <td>Tuesday</td>\n",
       "      <td>15</td>\n",
       "      <td>0.0</td>\n",
       "    </tr>\n",
       "    <tr>\n",
       "      <th>1</th>\n",
       "      <td>CMT</td>\n",
       "      <td>2013-01-06 00:18:35</td>\n",
       "      <td>2013-01-06 00:22:54</td>\n",
       "      <td>1</td>\n",
       "      <td>1.5</td>\n",
       "      <td>-74.006680</td>\n",
       "      <td>40.731781</td>\n",
       "      <td>1</td>\n",
       "      <td>N</td>\n",
       "      <td>-73.994499</td>\n",
       "      <td>...</td>\n",
       "      <td>CSH</td>\n",
       "      <td>6.0</td>\n",
       "      <td>0.5</td>\n",
       "      <td>0.5</td>\n",
       "      <td>0.0</td>\n",
       "      <td>0.0</td>\n",
       "      <td>7.0</td>\n",
       "      <td>Sunday</td>\n",
       "      <td>0</td>\n",
       "      <td>0.0</td>\n",
       "    </tr>\n",
       "    <tr>\n",
       "      <th>2</th>\n",
       "      <td>CMT</td>\n",
       "      <td>2013-01-05 18:49:41</td>\n",
       "      <td>2013-01-05 18:54:23</td>\n",
       "      <td>1</td>\n",
       "      <td>1.1</td>\n",
       "      <td>-74.004711</td>\n",
       "      <td>40.737770</td>\n",
       "      <td>1</td>\n",
       "      <td>N</td>\n",
       "      <td>-74.009831</td>\n",
       "      <td>...</td>\n",
       "      <td>CSH</td>\n",
       "      <td>5.5</td>\n",
       "      <td>1.0</td>\n",
       "      <td>0.5</td>\n",
       "      <td>0.0</td>\n",
       "      <td>0.0</td>\n",
       "      <td>7.0</td>\n",
       "      <td>Saturday</td>\n",
       "      <td>18</td>\n",
       "      <td>0.0</td>\n",
       "    </tr>\n",
       "    <tr>\n",
       "      <th>3</th>\n",
       "      <td>CMT</td>\n",
       "      <td>2013-01-07 23:54:15</td>\n",
       "      <td>2013-01-07 23:58:20</td>\n",
       "      <td>2</td>\n",
       "      <td>0.7</td>\n",
       "      <td>-73.974600</td>\n",
       "      <td>40.759945</td>\n",
       "      <td>1</td>\n",
       "      <td>N</td>\n",
       "      <td>-73.984737</td>\n",
       "      <td>...</td>\n",
       "      <td>CSH</td>\n",
       "      <td>5.0</td>\n",
       "      <td>0.5</td>\n",
       "      <td>0.5</td>\n",
       "      <td>0.0</td>\n",
       "      <td>0.0</td>\n",
       "      <td>6.0</td>\n",
       "      <td>Monday</td>\n",
       "      <td>23</td>\n",
       "      <td>0.0</td>\n",
       "    </tr>\n",
       "    <tr>\n",
       "      <th>4</th>\n",
       "      <td>CMT</td>\n",
       "      <td>2013-01-07 23:25:03</td>\n",
       "      <td>2013-01-07 23:34:24</td>\n",
       "      <td>1</td>\n",
       "      <td>2.1</td>\n",
       "      <td>-73.976252</td>\n",
       "      <td>40.748528</td>\n",
       "      <td>1</td>\n",
       "      <td>N</td>\n",
       "      <td>-74.002583</td>\n",
       "      <td>...</td>\n",
       "      <td>CSH</td>\n",
       "      <td>9.5</td>\n",
       "      <td>0.5</td>\n",
       "      <td>0.5</td>\n",
       "      <td>0.0</td>\n",
       "      <td>0.0</td>\n",
       "      <td>10.5</td>\n",
       "      <td>Monday</td>\n",
       "      <td>23</td>\n",
       "      <td>0.0</td>\n",
       "    </tr>\n",
       "  </tbody>\n",
       "</table>\n",
       "<p>5 rows × 21 columns</p>\n",
       "</div>"
      ],
      "text/plain": [
       "  vendor_id      pickup_datetime     dropoff_datetime  passenger_count  \\\n",
       "0       CMT  2013-01-01 15:11:48  2013-01-01 15:18:10                4   \n",
       "1       CMT  2013-01-06 00:18:35  2013-01-06 00:22:54                1   \n",
       "2       CMT  2013-01-05 18:49:41  2013-01-05 18:54:23                1   \n",
       "3       CMT  2013-01-07 23:54:15  2013-01-07 23:58:20                2   \n",
       "4       CMT  2013-01-07 23:25:03  2013-01-07 23:34:24                1   \n",
       "\n",
       "   trip_distance  pickup_longitude  pickup_latitude  rate_code  \\\n",
       "0            1.0        -73.978165        40.757977          1   \n",
       "1            1.5        -74.006680        40.731781          1   \n",
       "2            1.1        -74.004711        40.737770          1   \n",
       "3            0.7        -73.974600        40.759945          1   \n",
       "4            2.1        -73.976252        40.748528          1   \n",
       "\n",
       "  store_and_fwd_flag  dropoff_longitude       ...        payment_type  \\\n",
       "0                  N         -73.989840       ...                 CSH   \n",
       "1                  N         -73.994499       ...                 CSH   \n",
       "2                  N         -74.009831       ...                 CSH   \n",
       "3                  N         -73.984737       ...                 CSH   \n",
       "4                  N         -74.002583       ...                 CSH   \n",
       "\n",
       "  fare_amount  surcharge  mta_tax  tip_amount  tolls_amount  total_amount  \\\n",
       "0         6.5        0.0      0.5         0.0           0.0           7.0   \n",
       "1         6.0        0.5      0.5         0.0           0.0           7.0   \n",
       "2         5.5        1.0      0.5         0.0           0.0           7.0   \n",
       "3         5.0        0.5      0.5         0.0           0.0           6.0   \n",
       "4         9.5        0.5      0.5         0.0           0.0          10.5   \n",
       "\n",
       "   day_of_week pickup_hour  tip_percentage  \n",
       "0      Tuesday          15             0.0  \n",
       "1       Sunday           0             0.0  \n",
       "2     Saturday          18             0.0  \n",
       "3       Monday          23             0.0  \n",
       "4       Monday          23             0.0  \n",
       "\n",
       "[5 rows x 21 columns]"
      ]
     },
     "execution_count": 16,
     "metadata": {},
     "output_type": "execute_result"
    }
   ],
   "source": [
    "# add day of week column\n",
    "timestamp = pd.to_datetime(pd.Series(df['pickup_datetime']))\n",
    "df['day_of_week'] = timestamp.dt.weekday_name\n",
    "df['pickup_hour'] = timestamp.dt.hour\n",
    "df['tip_percentage'] = df.tip_amount / df.trip_distance\n",
    "df.head()"
   ]
  },
  {
   "cell_type": "code",
   "execution_count": 17,
   "metadata": {
    "collapsed": false
   },
   "outputs": [
    {
     "data": {
      "text/html": [
       "<div>\n",
       "<table border=\"1\" class=\"dataframe\">\n",
       "  <thead>\n",
       "    <tr style=\"text-align: right;\">\n",
       "      <th></th>\n",
       "      <th>pickup_datetime</th>\n",
       "      <th>pickup_longitude</th>\n",
       "      <th>pickup_latitude</th>\n",
       "      <th>day_of_week</th>\n",
       "      <th>pickup_hour</th>\n",
       "      <th>tip_percentage</th>\n",
       "    </tr>\n",
       "  </thead>\n",
       "  <tbody>\n",
       "    <tr>\n",
       "      <th>0</th>\n",
       "      <td>2013-01-01 15:11:48</td>\n",
       "      <td>-73.978165</td>\n",
       "      <td>40.757977</td>\n",
       "      <td>Tuesday</td>\n",
       "      <td>15</td>\n",
       "      <td>0.0</td>\n",
       "    </tr>\n",
       "    <tr>\n",
       "      <th>1</th>\n",
       "      <td>2013-01-06 00:18:35</td>\n",
       "      <td>-74.006680</td>\n",
       "      <td>40.731781</td>\n",
       "      <td>Sunday</td>\n",
       "      <td>0</td>\n",
       "      <td>0.0</td>\n",
       "    </tr>\n",
       "    <tr>\n",
       "      <th>2</th>\n",
       "      <td>2013-01-05 18:49:41</td>\n",
       "      <td>-74.004711</td>\n",
       "      <td>40.737770</td>\n",
       "      <td>Saturday</td>\n",
       "      <td>18</td>\n",
       "      <td>0.0</td>\n",
       "    </tr>\n",
       "    <tr>\n",
       "      <th>3</th>\n",
       "      <td>2013-01-07 23:54:15</td>\n",
       "      <td>-73.974600</td>\n",
       "      <td>40.759945</td>\n",
       "      <td>Monday</td>\n",
       "      <td>23</td>\n",
       "      <td>0.0</td>\n",
       "    </tr>\n",
       "    <tr>\n",
       "      <th>4</th>\n",
       "      <td>2013-01-07 23:25:03</td>\n",
       "      <td>-73.976252</td>\n",
       "      <td>40.748528</td>\n",
       "      <td>Monday</td>\n",
       "      <td>23</td>\n",
       "      <td>0.0</td>\n",
       "    </tr>\n",
       "  </tbody>\n",
       "</table>\n",
       "</div>"
      ],
      "text/plain": [
       "       pickup_datetime  pickup_longitude  pickup_latitude day_of_week  \\\n",
       "0  2013-01-01 15:11:48        -73.978165        40.757977     Tuesday   \n",
       "1  2013-01-06 00:18:35        -74.006680        40.731781      Sunday   \n",
       "2  2013-01-05 18:49:41        -74.004711        40.737770    Saturday   \n",
       "3  2013-01-07 23:54:15        -73.974600        40.759945      Monday   \n",
       "4  2013-01-07 23:25:03        -73.976252        40.748528      Monday   \n",
       "\n",
       "   pickup_hour  tip_percentage  \n",
       "0           15             0.0  \n",
       "1            0             0.0  \n",
       "2           18             0.0  \n",
       "3           23             0.0  \n",
       "4           23             0.0  "
      ]
     },
     "execution_count": 17,
     "metadata": {},
     "output_type": "execute_result"
    }
   ],
   "source": [
    "#drop unnecessary columns\n",
    "df = df.drop(['vendor_id','passenger_count','trip_distance','rate_code',\n",
    "              'store_and_fwd_flag','payment_type','fare_amount','surcharge','mta_tax',\n",
    "             'tip_amount','tolls_amount','total_amount','dropoff_datetime',\n",
    "              'dropoff_longitude','dropoff_latitude'], axis=1)\n",
    "df.head()"
   ]
  },
  {
   "cell_type": "code",
   "execution_count": 18,
   "metadata": {
    "collapsed": false
   },
   "outputs": [
    {
     "name": "stdout",
     "output_type": "stream",
     "text": [
      "[{'longitude': -74.00800699999999, 'latitude': 40.728045}, {'longitude': -73.974673, 'latitude': 40.761379}]\n"
     ]
    },
    {
     "data": {
      "text/html": [
       "<div>\n",
       "<table border=\"1\" class=\"dataframe\">\n",
       "  <thead>\n",
       "    <tr style=\"text-align: right;\">\n",
       "      <th></th>\n",
       "      <th>pickup_datetime</th>\n",
       "      <th>pickup_longitude</th>\n",
       "      <th>pickup_latitude</th>\n",
       "      <th>day_of_week</th>\n",
       "      <th>pickup_hour</th>\n",
       "      <th>tip_percentage</th>\n",
       "    </tr>\n",
       "  </thead>\n",
       "  <tbody>\n",
       "    <tr>\n",
       "      <th>1401</th>\n",
       "      <td>2013-01-07 16:31:19</td>\n",
       "      <td>-73.990359</td>\n",
       "      <td>40.749484</td>\n",
       "      <td>Monday</td>\n",
       "      <td>16</td>\n",
       "      <td>0.000000</td>\n",
       "    </tr>\n",
       "    <tr>\n",
       "      <th>1409</th>\n",
       "      <td>2013-01-07 16:33:18</td>\n",
       "      <td>-73.978652</td>\n",
       "      <td>40.752362</td>\n",
       "      <td>Monday</td>\n",
       "      <td>16</td>\n",
       "      <td>0.000000</td>\n",
       "    </tr>\n",
       "    <tr>\n",
       "      <th>236679</th>\n",
       "      <td>2013-01-14 16:03:00</td>\n",
       "      <td>-73.998682</td>\n",
       "      <td>40.734862</td>\n",
       "      <td>Monday</td>\n",
       "      <td>16</td>\n",
       "      <td>0.000000</td>\n",
       "    </tr>\n",
       "    <tr>\n",
       "      <th>236682</th>\n",
       "      <td>2013-01-14 16:00:00</td>\n",
       "      <td>-73.983912</td>\n",
       "      <td>40.760037</td>\n",
       "      <td>Monday</td>\n",
       "      <td>16</td>\n",
       "      <td>0.000000</td>\n",
       "    </tr>\n",
       "    <tr>\n",
       "      <th>236687</th>\n",
       "      <td>2013-01-14 16:00:00</td>\n",
       "      <td>-73.978950</td>\n",
       "      <td>40.753150</td>\n",
       "      <td>Monday</td>\n",
       "      <td>16</td>\n",
       "      <td>0.574713</td>\n",
       "    </tr>\n",
       "  </tbody>\n",
       "</table>\n",
       "</div>"
      ],
      "text/plain": [
       "            pickup_datetime  pickup_longitude  pickup_latitude day_of_week  \\\n",
       "1401    2013-01-07 16:31:19        -73.990359        40.749484      Monday   \n",
       "1409    2013-01-07 16:33:18        -73.978652        40.752362      Monday   \n",
       "236679  2013-01-14 16:03:00        -73.998682        40.734862      Monday   \n",
       "236682  2013-01-14 16:00:00        -73.983912        40.760037      Monday   \n",
       "236687  2013-01-14 16:00:00        -73.978950        40.753150      Monday   \n",
       "\n",
       "        pickup_hour  tip_percentage  \n",
       "1401             16        0.000000  \n",
       "1409             16        0.000000  \n",
       "236679           16        0.000000  \n",
       "236682           16        0.000000  \n",
       "236687           16        0.574713  "
      ]
     },
     "execution_count": 18,
     "metadata": {},
     "output_type": "execute_result"
    }
   ],
   "source": [
    "def mileToDegree(mile):\n",
    "    return float(\"{:.6f}\".format(mile/60))\n",
    "\n",
    "def getMaxLocation(location, mile):\n",
    "    degree = mileToDegree(mile)\n",
    "    max_locations = []\n",
    "    max_locations.append({'longitude': location['longitude'] - degree,\n",
    "                          'latitude': location['latitude'] - degree,})\n",
    "    max_locations.append({'longitude': location['longitude'] + degree,\n",
    "                          'latitude': location['latitude'] + degree,})\n",
    "    return max_locations\n",
    "\n",
    "inputs = {'mile': 1,\n",
    "          'driver_location': {'longitude': -73.991340,'latitude': 40.744712}, # 38-98 West 26th Street, New York\n",
    "          'hour': 16, # 4pm\n",
    "          'day_of_week': 'Monday'}\n",
    "\n",
    "max_location = getMaxLocation(inputs['driver_location'], inputs['mile'])\n",
    "print(max_location)\n",
    "\n",
    "df_selected = df[(df['pickup_latitude'] > max_location[0]['latitude']) & \n",
    "                 (df['pickup_longitude'] > max_location[0]['longitude']) &\n",
    "                 (df['pickup_latitude'] < max_location[1]['latitude']) & \n",
    "                 (df['pickup_longitude'] < max_location[1]['longitude']) &\n",
    "                 (df['pickup_hour'] == inputs['hour']) & \n",
    "                 (df['day_of_week'] == inputs['day_of_week']) &\n",
    "                 (np.isfinite(df['tip_percentage']))]\n",
    "\n",
    "df_selected.head()"
   ]
  },
  {
   "cell_type": "code",
   "execution_count": 19,
   "metadata": {
    "collapsed": true
   },
   "outputs": [],
   "source": [
    "import matplotlib.path as mplPath\n",
    "\n",
    "def indexZones(shapeFilename):\n",
    "    import rtree\n",
    "    import fiona.crs\n",
    "    import geopandas as gpd\n",
    "    index = rtree.Rtree()\n",
    "    zones = gpd.read_file(shapeFilename).to_crs(fiona.crs.from_epsg(2263))\n",
    "    for idx,geometry in enumerate(zones.geometry):\n",
    "        index.insert(idx, geometry.bounds)\n",
    "    return (index, zones)\n",
    "\n",
    "def findBlock(p, index, zones):\n",
    "    match = index.intersection((p.x, p.y, p.x, p.y))\n",
    "    for idx in match:\n",
    "        z = mplPath.Path(np.array(zones.geometry[idx].exterior))\n",
    "        if z.contains_point(np.array(p)):\n",
    "            return zones['OBJECTID'][idx]\n",
    "    return -1\n",
    "\n",
    "\n",
    "def mapToZone(location):\n",
    "    import pyproj\n",
    "    import shapely.geometry as geom\n",
    "    proj = pyproj.Proj(init=\"epsg:2263\", preserve_units=True)    \n",
    "    index, zones = indexZones('datasets/block-groups-polygons.geojson')\n",
    "    if (location['pickup_longitude'] and location['pickup_latitude']):\n",
    "        pickup_location  = geom.Point(proj(float(location['pickup_longitude']), float(location['pickup_latitude'])))\n",
    "        pickup_block = findBlock(pickup_location, index, zones)\n",
    "        return pickup_block\n",
    "    else: \n",
    "        return -1\n",
    "\n",
    "# df['block_id'] = df.apply(lambda row: mapToZone(row), axis=1)\n",
    "# df.head()"
   ]
  },
  {
   "cell_type": "code",
   "execution_count": 20,
   "metadata": {
    "collapsed": false
   },
   "outputs": [
    {
     "name": "stdout",
     "output_type": "stream",
     "text": [
      "[  2 132 109 ...,  88  95   2]\n"
     ]
    }
   ],
   "source": [
    "from sklearn.cluster import KMeans\n",
    "\n",
    "num_clusters = 200\n",
    "tips = df_selected['tip_percentage'].values\n",
    "lon = df_selected['pickup_longitude'].values\n",
    "lat = df_selected['pickup_latitude'].values\n",
    "\n",
    "coodinate_array = np.array([[lon[i],lat[i],tips[i]] for i in range(len(lon))])\n",
    "\n",
    "kmeans_n = KMeans(n_clusters=num_clusters, n_init=1)\n",
    "kmeans_n.fit(coodinate_array)\n",
    "labels = kmeans_n.labels_\n",
    "print(labels)"
   ]
  },
  {
   "cell_type": "code",
   "execution_count": 21,
   "metadata": {
    "collapsed": false
   },
   "outputs": [
    {
     "name": "stderr",
     "output_type": "stream",
     "text": [
      "/Users/Linfinity/anaconda/envs/py3k/lib/python3.5/site-packages/ipykernel/__main__.py:1: SettingWithCopyWarning: \n",
      "A value is trying to be set on a copy of a slice from a DataFrame.\n",
      "Try using .loc[row_indexer,col_indexer] = value instead\n",
      "\n",
      "See the caveats in the documentation: http://pandas.pydata.org/pandas-docs/stable/indexing.html#indexing-view-versus-copy\n",
      "  if __name__ == '__main__':\n"
     ]
    },
    {
     "data": {
      "text/html": [
       "<div>\n",
       "<table border=\"1\" class=\"dataframe\">\n",
       "  <thead>\n",
       "    <tr style=\"text-align: right;\">\n",
       "      <th></th>\n",
       "      <th>pickup_datetime</th>\n",
       "      <th>pickup_longitude</th>\n",
       "      <th>pickup_latitude</th>\n",
       "      <th>day_of_week</th>\n",
       "      <th>pickup_hour</th>\n",
       "      <th>tip_percentage</th>\n",
       "      <th>Cluster</th>\n",
       "    </tr>\n",
       "  </thead>\n",
       "  <tbody>\n",
       "    <tr>\n",
       "      <th>1401</th>\n",
       "      <td>2013-01-07 16:31:19</td>\n",
       "      <td>-73.990359</td>\n",
       "      <td>40.749484</td>\n",
       "      <td>Monday</td>\n",
       "      <td>16</td>\n",
       "      <td>0.000000</td>\n",
       "      <td>2</td>\n",
       "    </tr>\n",
       "    <tr>\n",
       "      <th>1409</th>\n",
       "      <td>2013-01-07 16:33:18</td>\n",
       "      <td>-73.978652</td>\n",
       "      <td>40.752362</td>\n",
       "      <td>Monday</td>\n",
       "      <td>16</td>\n",
       "      <td>0.000000</td>\n",
       "      <td>132</td>\n",
       "    </tr>\n",
       "    <tr>\n",
       "      <th>236679</th>\n",
       "      <td>2013-01-14 16:03:00</td>\n",
       "      <td>-73.998682</td>\n",
       "      <td>40.734862</td>\n",
       "      <td>Monday</td>\n",
       "      <td>16</td>\n",
       "      <td>0.000000</td>\n",
       "      <td>109</td>\n",
       "    </tr>\n",
       "    <tr>\n",
       "      <th>236682</th>\n",
       "      <td>2013-01-14 16:00:00</td>\n",
       "      <td>-73.983912</td>\n",
       "      <td>40.760037</td>\n",
       "      <td>Monday</td>\n",
       "      <td>16</td>\n",
       "      <td>0.000000</td>\n",
       "      <td>190</td>\n",
       "    </tr>\n",
       "    <tr>\n",
       "      <th>236687</th>\n",
       "      <td>2013-01-14 16:00:00</td>\n",
       "      <td>-73.978950</td>\n",
       "      <td>40.753150</td>\n",
       "      <td>Monday</td>\n",
       "      <td>16</td>\n",
       "      <td>0.574713</td>\n",
       "      <td>87</td>\n",
       "    </tr>\n",
       "    <tr>\n",
       "      <th>236691</th>\n",
       "      <td>2013-01-14 16:06:00</td>\n",
       "      <td>-73.992438</td>\n",
       "      <td>40.734263</td>\n",
       "      <td>Monday</td>\n",
       "      <td>16</td>\n",
       "      <td>5.172414</td>\n",
       "      <td>162</td>\n",
       "    </tr>\n",
       "    <tr>\n",
       "      <th>237227</th>\n",
       "      <td>2013-01-14 16:04:00</td>\n",
       "      <td>-73.980545</td>\n",
       "      <td>40.742392</td>\n",
       "      <td>Monday</td>\n",
       "      <td>16</td>\n",
       "      <td>2.083333</td>\n",
       "      <td>61</td>\n",
       "    </tr>\n",
       "    <tr>\n",
       "      <th>237229</th>\n",
       "      <td>2013-01-14 16:02:00</td>\n",
       "      <td>-74.007587</td>\n",
       "      <td>40.745142</td>\n",
       "      <td>Monday</td>\n",
       "      <td>16</td>\n",
       "      <td>1.282051</td>\n",
       "      <td>171</td>\n",
       "    </tr>\n",
       "    <tr>\n",
       "      <th>237254</th>\n",
       "      <td>2013-01-14 16:02:00</td>\n",
       "      <td>-73.990333</td>\n",
       "      <td>40.737305</td>\n",
       "      <td>Monday</td>\n",
       "      <td>16</td>\n",
       "      <td>1.339286</td>\n",
       "      <td>165</td>\n",
       "    </tr>\n",
       "    <tr>\n",
       "      <th>237256</th>\n",
       "      <td>2013-01-14 16:02:00</td>\n",
       "      <td>-73.987955</td>\n",
       "      <td>40.745918</td>\n",
       "      <td>Monday</td>\n",
       "      <td>16</td>\n",
       "      <td>0.000000</td>\n",
       "      <td>166</td>\n",
       "    </tr>\n",
       "  </tbody>\n",
       "</table>\n",
       "</div>"
      ],
      "text/plain": [
       "            pickup_datetime  pickup_longitude  pickup_latitude day_of_week  \\\n",
       "1401    2013-01-07 16:31:19        -73.990359        40.749484      Monday   \n",
       "1409    2013-01-07 16:33:18        -73.978652        40.752362      Monday   \n",
       "236679  2013-01-14 16:03:00        -73.998682        40.734862      Monday   \n",
       "236682  2013-01-14 16:00:00        -73.983912        40.760037      Monday   \n",
       "236687  2013-01-14 16:00:00        -73.978950        40.753150      Monday   \n",
       "236691  2013-01-14 16:06:00        -73.992438        40.734263      Monday   \n",
       "237227  2013-01-14 16:04:00        -73.980545        40.742392      Monday   \n",
       "237229  2013-01-14 16:02:00        -74.007587        40.745142      Monday   \n",
       "237254  2013-01-14 16:02:00        -73.990333        40.737305      Monday   \n",
       "237256  2013-01-14 16:02:00        -73.987955        40.745918      Monday   \n",
       "\n",
       "        pickup_hour  tip_percentage  Cluster  \n",
       "1401             16        0.000000        2  \n",
       "1409             16        0.000000      132  \n",
       "236679           16        0.000000      109  \n",
       "236682           16        0.000000      190  \n",
       "236687           16        0.574713       87  \n",
       "236691           16        5.172414      162  \n",
       "237227           16        2.083333       61  \n",
       "237229           16        1.282051      171  \n",
       "237254           16        1.339286      165  \n",
       "237256           16        0.000000      166  "
      ]
     },
     "execution_count": 21,
     "metadata": {},
     "output_type": "execute_result"
    }
   ],
   "source": [
    "df_selected['Cluster'] = labels\n",
    "df_selected.head(10)"
   ]
  },
  {
   "cell_type": "code",
   "execution_count": 22,
   "metadata": {
    "collapsed": false
   },
   "outputs": [],
   "source": [
    "#prepare for regression\n",
    "df_selected_cluster = df_selected.groupby('Cluster')\n",
    "cluster_tip = df_selected_cluster.tip_percentage.sum() / df_selected_cluster.size()\n",
    "cluster_tip = np.array([[cluster_tip[i]] for i in range(len(cluster_tip))])\n",
    "cluster_center = kmeans_n.cluster_centers_"
   ]
  },
  {
   "cell_type": "markdown",
   "metadata": {},
   "source": [
    "# Training Data and Testing Data"
   ]
  },
  {
   "cell_type": "code",
   "execution_count": 23,
   "metadata": {
    "collapsed": true
   },
   "outputs": [],
   "source": [
    "train_size = int(len(cluster_tip)*0.8)\n",
    "test_size = int(len(cluster_tip)*0.2)\n",
    "train_feature = cluster_tip[:train_size]\n",
    "train_response = cluster_center[:train_size]\n",
    "test_feature = cluster_tip[test_size:]\n",
    "test_response = cluster_center[test_size:]"
   ]
  },
  {
   "cell_type": "markdown",
   "metadata": {},
   "source": [
    "# Validation"
   ]
  },
  {
   "cell_type": "code",
   "execution_count": 24,
   "metadata": {
    "collapsed": false
   },
   "outputs": [
    {
     "name": "stdout",
     "output_type": "stream",
     "text": [
      "(0.99999999291221964, 0.99999905452586824)\n"
     ]
    }
   ],
   "source": [
    "from sklearn import linear_model\n",
    "from sklearn.linear_model import LinearRegression\n",
    "from sklearn.preprocessing import PolynomialFeatures\n",
    "from sklearn.pipeline import Pipeline\n",
    "\n",
    "\n",
    "def fit_model(X, y):\n",
    "    model = Pipeline([('poly', PolynomialFeatures(degree=4)),\n",
    "                      ('linear', LinearRegression(fit_intercept=False))])\n",
    "    model.fit(X, y)\n",
    "    return model\n",
    "\n",
    "def score_model(model, X, y, Xv, yv):\n",
    "    return tuple([model.score(X, y), model.score(Xv, yv)])\n",
    "\n",
    "def fit_model_and_score(data, response, validation, val_response):\n",
    "    model = fit_model(data, response)\n",
    "    return score_model(model, data, response, validation, val_response)\n",
    "\n",
    "print (fit_model_and_score(train_feature, train_response, test_feature, test_response))"
   ]
  },
  {
   "cell_type": "code",
   "execution_count": 25,
   "metadata": {
    "collapsed": false
   },
   "outputs": [
    {
     "data": {
      "text/plain": [
       "1.7621867657121524e-05"
      ]
     },
     "execution_count": 25,
     "metadata": {},
     "output_type": "execute_result"
    }
   ],
   "source": [
    "#use mean squared error to evaluation model\n",
    "from sklearn.metrics import mean_squared_error\n",
    "\n",
    "MSE_model=Pipeline([('poly', PolynomialFeatures(degree=4)),\n",
    "                ('linear', LinearRegression(fit_intercept=False))])\n",
    "MSE_model.fit(train_feature, train_response)\n",
    "X_MSE=(test_feature)\n",
    "y_MSE = MSE_model.predict(X_MSE)\n",
    "mean_squared_error(test_response, y_MSE)"
   ]
  },
  {
   "cell_type": "code",
   "execution_count": null,
   "metadata": {
    "collapsed": true
   },
   "outputs": [],
   "source": []
  },
  {
   "cell_type": "code",
   "execution_count": 33,
   "metadata": {
    "collapsed": false
   },
   "outputs": [
    {
     "data": {
      "text/plain": [
       "([array([ 0.,  0.,  0.,  0.,  0.,  0.,  0.,  0.,  1.,  0.,  0.,  0.,  0.,\n",
       "          0.,  0.,  0.,  1.,  0.,  0.,  0.,  0.,  1.,  0.,  2.,  0.,  0.,\n",
       "          0.,  0.,  0.,  1.,  1.,  0.,  4.,  4.,  2.,  0.,  2.,  4.,  1.,\n",
       "          0.,  1.,  1.,  1.,  2.,  1.,  3.,  3.,  1.,  0.,  3.,  3.,  4.,\n",
       "          3.,  4.,  2.,  3.,  5.,  3.,  4.,  7.,  3.,  6.,  4.,  3.,  4.,\n",
       "          2.,  5.,  4.,  3.,  2.,  2.,  4.,  2.,  3.,  3.,  3.,  2.,  3.,\n",
       "          3.,  1.,  3.,  4.,  2.,  3.,  0.,  2.,  2.,  0.,  1.,  0.,  1.,\n",
       "          0.,  0.,  1.,  0.,  1.,  0.,  0.,  0.,  0.]),\n",
       "  array([ 1.,  0.,  0.,  0.,  0.,  0.,  0.,  0.,  0.,  0.,  0.,  1.,  0.,\n",
       "          0.,  0.,  0.,  0.,  0.,  0.,  0.,  0.,  0.,  1.,  0.,  1.,  1.,\n",
       "          2.,  3.,  0.,  1.,  2.,  0.,  0.,  3.,  0.,  1.,  1.,  2.,  1.,\n",
       "          0.,  2.,  3.,  3.,  2.,  1.,  2.,  1.,  4.,  1.,  1.,  1.,  4.,\n",
       "          1.,  3.,  2.,  4.,  3.,  5.,  6.,  6.,  5.,  6.,  9.,  1.,  2.,\n",
       "          2.,  8.,  6.,  1.,  2.,  3.,  3.,  2.,  3.,  2.,  3.,  1.,  2.,\n",
       "          2.,  3.,  2.,  1.,  3.,  3.,  2.,  1.,  1.,  1.,  0.,  0.,  0.,\n",
       "          0.,  1.,  0.,  1.,  0.,  0.,  0.,  0.,  2.]),\n",
       "  array([  0.,   0.,   0.,   0.,   0.,   0.,   0.,   0.,   0.,   0.,   0.,\n",
       "           0.,   0.,   0.,   0.,   0.,   0.,   0.,   0.,   0.,   0.,   0.,\n",
       "           0.,   0.,   0.,   0.,   0.,   0.,   0.,   0.,   0.,   0.,   0.,\n",
       "           0.,   0.,   0.,   0.,   0.,   0.,   0.,   0.,   0.,   0.,   0.,\n",
       "           0.,   0.,   0.,   0.,   0.,   0.,   0.,   1.,   0.,   0.,   0.,\n",
       "           1.,   3.,   7.,  10.,  44.,  72.,   9.,   7.,   1.,   0.,   4.,\n",
       "           1.,   0.,   0.,   0.,   0.,   0.,   0.,   0.,   0.,   0.,   0.,\n",
       "           0.,   0.,   0.,   0.,   0.,   0.,   0.,   0.,   0.,   0.,   0.,\n",
       "           0.,   0.,   0.,   0.,   0.,   0.,   0.,   0.,   0.,   0.,   0.,\n",
       "           0.])],\n",
       " array([ -1.79846994e-02,  -1.76844598e-02,  -1.73842203e-02,\n",
       "         -1.70839808e-02,  -1.67837412e-02,  -1.64835017e-02,\n",
       "         -1.61832621e-02,  -1.58830226e-02,  -1.55827831e-02,\n",
       "         -1.52825435e-02,  -1.49823040e-02,  -1.46820644e-02,\n",
       "         -1.43818249e-02,  -1.40815854e-02,  -1.37813458e-02,\n",
       "         -1.34811063e-02,  -1.31808667e-02,  -1.28806272e-02,\n",
       "         -1.25803877e-02,  -1.22801481e-02,  -1.19799086e-02,\n",
       "         -1.16796690e-02,  -1.13794295e-02,  -1.10791900e-02,\n",
       "         -1.07789504e-02,  -1.04787109e-02,  -1.01784713e-02,\n",
       "         -9.87823180e-03,  -9.57799226e-03,  -9.27775272e-03,\n",
       "         -8.97751318e-03,  -8.67727364e-03,  -8.37703410e-03,\n",
       "         -8.07679456e-03,  -7.77655502e-03,  -7.47631548e-03,\n",
       "         -7.17607594e-03,  -6.87583640e-03,  -6.57559686e-03,\n",
       "         -6.27535732e-03,  -5.97511778e-03,  -5.67487824e-03,\n",
       "         -5.37463870e-03,  -5.07439916e-03,  -4.77415962e-03,\n",
       "         -4.47392008e-03,  -4.17368054e-03,  -3.87344100e-03,\n",
       "         -3.57320146e-03,  -3.27296192e-03,  -2.97272238e-03,\n",
       "         -2.67248284e-03,  -2.37224330e-03,  -2.07200376e-03,\n",
       "         -1.77176422e-03,  -1.47152468e-03,  -1.17128514e-03,\n",
       "         -8.71045595e-04,  -5.70806055e-04,  -2.70566515e-04,\n",
       "          2.96730253e-05,   3.29912565e-04,   6.30152105e-04,\n",
       "          9.30391646e-04,   1.23063119e-03,   1.53087073e-03,\n",
       "          1.83111027e-03,   2.13134981e-03,   2.43158935e-03,\n",
       "          2.73182889e-03,   3.03206843e-03,   3.33230797e-03,\n",
       "          3.63254751e-03,   3.93278705e-03,   4.23302659e-03,\n",
       "          4.53326613e-03,   4.83350567e-03,   5.13374521e-03,\n",
       "          5.43398475e-03,   5.73422429e-03,   6.03446383e-03,\n",
       "          6.33470337e-03,   6.63494291e-03,   6.93518245e-03,\n",
       "          7.23542199e-03,   7.53566153e-03,   7.83590107e-03,\n",
       "          8.13614061e-03,   8.43638015e-03,   8.73661969e-03,\n",
       "          9.03685923e-03,   9.33709877e-03,   9.63733831e-03,\n",
       "          9.93757785e-03,   1.02378174e-02,   1.05380569e-02,\n",
       "          1.08382965e-02,   1.11385360e-02,   1.14387755e-02,\n",
       "          1.17390151e-02,   1.20392546e-02]),\n",
       " <a list of 3 Lists of Patches objects>)"
      ]
     },
     "execution_count": 33,
     "metadata": {},
     "output_type": "execute_result"
    },
    {
     "data": {
      "image/png": "[encoded data removed]",
      "text/plain": [
       "<matplotlib.figure.Figure at 0x1baf48b38>"
      ]
     },
     "metadata": {},
     "output_type": "display_data"
    }
   ],
   "source": [
    "def residuals(predicted, observed, model):\n",
    "   residual = observed - model.predict(predicted)\n",
    "   return residual\n",
    "\n",
    "model = fit_model(train_feature, train_response)\n",
    "model_resid = residuals(test_feature, test_response, model)\n",
    "\n",
    "\n",
    "plt.hist(np.array(model_resid),bins = 100)"
   ]
  },
  {
   "cell_type": "markdown",
   "metadata": {},
   "source": [
    "# Prediction"
   ]
  },
  {
   "cell_type": "code",
   "execution_count": 26,
   "metadata": {
    "collapsed": false
   },
   "outputs": [
    {
     "name": "stderr",
     "output_type": "stream",
     "text": [
      "/Users/Linfinity/anaconda/envs/py3k/lib/python3.5/site-packages/sklearn/utils/validation.py:386: DeprecationWarning: Passing 1d arrays as data is deprecated in 0.17 and willraise ValueError in 0.19. Reshape your data either using X.reshape(-1, 1) if your data has a single feature or X.reshape(1, -1) if it contains a single sample.\n",
      "  DeprecationWarning)\n"
     ]
    },
    {
     "data": {
      "text/plain": [
       "array([[  -73.98457216,    40.73222495,  1039.99999999]])"
      ]
     },
     "execution_count": 26,
     "metadata": {},
     "output_type": "execute_result"
    }
   ],
   "source": [
    "model = Pipeline([('poly', PolynomialFeatures(degree=3)),\n",
    "                ('linear', LinearRegression(fit_intercept=False))])\n",
    "model.fit(cluster_tip, cluster_center) # x: cluster_tip, y: cluster_center\n",
    "x_predict = (max(cluster_tip))\n",
    "y_predict = model.predict(x_predict)\n",
    "y_predict"
   ]
  },
  {
   "cell_type": "code",
   "execution_count": 27,
   "metadata": {
    "collapsed": false
   },
   "outputs": [
    {
     "name": "stdout",
     "output_type": "stream",
     "text": [
      "301 East 14th Street, New York\n"
     ]
    }
   ],
   "source": [
    "from pygeocoder import Geocoder\n",
    "predicted_location = Geocoder.reverse_geocode(y_predict[0][1], y_predict[0][0])\n",
    "# predicted_location.street_address might not be applicable\n",
    "if predicted_location.street_address:\n",
    "    predicted_address = predicted_location.street_address\n",
    "else:\n",
    "    predicted_address = '%s %s, %s' %(predicted_location.street_number, predicted_location.route, predicted_location.city)\n",
    "print (predicted_address)"
   ]
  }
 ],
 "metadata": {
  "anaconda-cloud": {},
  "kernelspec": {
   "display_name": "Python [py3k]",
   "language": "python",
   "name": "Python [py3k]"
  },
  "language_info": {
   "codemirror_mode": {
    "name": "ipython",
    "version": 3
   },
   "file_extension": ".py",
   "mimetype": "text/x-python",
   "name": "python",
   "nbconvert_exporter": "python",
   "pygments_lexer": "ipython3",
   "version": "3.5.2"
  }
 },
 "nbformat": 4,
 "nbformat_minor": 0
}
