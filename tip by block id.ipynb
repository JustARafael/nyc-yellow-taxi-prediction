{
 "cells": [
  {
   "cell_type": "markdown",
   "metadata": {},
   "source": [
    "Predict the closest block that will get the driver the highest tips based on the time of the day and day of the week."
   ]
  },
  {
   "cell_type": "code",
   "execution_count": 1,
   "metadata": {
    "collapsed": true
   },
   "outputs": [],
   "source": [
    "from mpl_toolkits.mplot3d import Axes3D\n",
    "import matplotlib.pyplot as plt\n",
    "import numpy as np\n",
    "import pandas as pd\n",
    "%matplotlib inline"
   ]
  },
  {
   "cell_type": "code",
   "execution_count": 2,
   "metadata": {
    "collapsed": false,
    "scrolled": true
   },
   "outputs": [
    {
     "data": {
      "text/html": [
       "<div>\n",
       "<table border=\"1\" class=\"dataframe\">\n",
       "  <thead>\n",
       "    <tr style=\"text-align: right;\">\n",
       "      <th></th>\n",
       "      <th>pickup_datetime</th>\n",
       "      <th>dropoff_datetime</th>\n",
       "      <th>trip_distance</th>\n",
       "      <th>pickup_longitude</th>\n",
       "      <th>pickup_latitude</th>\n",
       "      <th>dropoff_longitude</th>\n",
       "      <th>dropoff_latitude</th>\n",
       "      <th>tip_amount</th>\n",
       "      <th>total_amount</th>\n",
       "    </tr>\n",
       "  </thead>\n",
       "  <tbody>\n",
       "    <tr>\n",
       "      <th>0</th>\n",
       "      <td>2012-01-10 23:55:50</td>\n",
       "      <td>2012-01-11 00:03:39</td>\n",
       "      <td>1.7</td>\n",
       "      <td>-73.994693</td>\n",
       "      <td>40.725031</td>\n",
       "      <td>-73.975951</td>\n",
       "      <td>40.730781</td>\n",
       "      <td>1.00</td>\n",
       "      <td>8.90</td>\n",
       "    </tr>\n",
       "    <tr>\n",
       "      <th>1</th>\n",
       "      <td>2012-01-11 19:18:25</td>\n",
       "      <td>2012-01-11 19:26:10</td>\n",
       "      <td>1.1</td>\n",
       "      <td>-73.987955</td>\n",
       "      <td>40.752947</td>\n",
       "      <td>-73.994532</td>\n",
       "      <td>40.761040</td>\n",
       "      <td>0.00</td>\n",
       "      <td>7.60</td>\n",
       "    </tr>\n",
       "    <tr>\n",
       "      <th>2</th>\n",
       "      <td>2012-01-11 19:19:19</td>\n",
       "      <td>2012-01-11 19:48:15</td>\n",
       "      <td>18.0</td>\n",
       "      <td>-73.783093</td>\n",
       "      <td>40.648550</td>\n",
       "      <td>-73.996134</td>\n",
       "      <td>40.747624</td>\n",
       "      <td>10.06</td>\n",
       "      <td>60.36</td>\n",
       "    </tr>\n",
       "    <tr>\n",
       "      <th>3</th>\n",
       "      <td>2012-01-11 19:19:21</td>\n",
       "      <td>2012-01-11 19:27:00</td>\n",
       "      <td>1.7</td>\n",
       "      <td>-73.967515</td>\n",
       "      <td>40.758454</td>\n",
       "      <td>-73.956583</td>\n",
       "      <td>40.779903</td>\n",
       "      <td>1.00</td>\n",
       "      <td>9.40</td>\n",
       "    </tr>\n",
       "    <tr>\n",
       "      <th>4</th>\n",
       "      <td>2012-01-11 14:38:15</td>\n",
       "      <td>2012-01-11 14:43:51</td>\n",
       "      <td>1.2</td>\n",
       "      <td>-74.011315</td>\n",
       "      <td>40.711449</td>\n",
       "      <td>-74.002872</td>\n",
       "      <td>40.728131</td>\n",
       "      <td>0.00</td>\n",
       "      <td>6.20</td>\n",
       "    </tr>\n",
       "  </tbody>\n",
       "</table>\n",
       "</div>"
      ],
      "text/plain": [
       "       pickup_datetime     dropoff_datetime  trip_distance  pickup_longitude  \\\n",
       "0  2012-01-10 23:55:50  2012-01-11 00:03:39            1.7        -73.994693   \n",
       "1  2012-01-11 19:18:25  2012-01-11 19:26:10            1.1        -73.987955   \n",
       "2  2012-01-11 19:19:19  2012-01-11 19:48:15           18.0        -73.783093   \n",
       "3  2012-01-11 19:19:21  2012-01-11 19:27:00            1.7        -73.967515   \n",
       "4  2012-01-11 14:38:15  2012-01-11 14:43:51            1.2        -74.011315   \n",
       "\n",
       "   pickup_latitude  dropoff_longitude  dropoff_latitude  tip_amount  \\\n",
       "0        40.725031         -73.975951         40.730781        1.00   \n",
       "1        40.752947         -73.994532         40.761040        0.00   \n",
       "2        40.648550         -73.996134         40.747624       10.06   \n",
       "3        40.758454         -73.956583         40.779903        1.00   \n",
       "4        40.711449         -74.002872         40.728131        0.00   \n",
       "\n",
       "   total_amount  \n",
       "0          8.90  \n",
       "1          7.60  \n",
       "2         60.36  \n",
       "3          9.40  \n",
       "4          6.20  "
      ]
     },
     "execution_count": 2,
     "metadata": {},
     "output_type": "execute_result"
    }
   ],
   "source": [
    "data_2012_01=pd.read_csv(\"/Users/RAFAELLICHEN/Downloads/column_deleted_data_2012/yellow_tripdata_2012-01.csv\")\n",
    "data_2012_01=data_2012_01.drop(\"Unnamed: 0\",1)\n",
    "data_2012_01=data_2012_01.drop(\"passenger_count\",1)\n",
    "data_2012_01.head()"
   ]
  },
  {
   "cell_type": "code",
   "execution_count": 3,
   "metadata": {
    "collapsed": false
   },
   "outputs": [
    {
     "data": {
      "text/html": [
       "<div>\n",
       "<table border=\"1\" class=\"dataframe\">\n",
       "  <thead>\n",
       "    <tr style=\"text-align: right;\">\n",
       "      <th></th>\n",
       "      <th>pickup_datetime</th>\n",
       "      <th>dropoff_datetime</th>\n",
       "      <th>trip_distance</th>\n",
       "      <th>pickup_longitude</th>\n",
       "      <th>pickup_latitude</th>\n",
       "      <th>dropoff_longitude</th>\n",
       "      <th>dropoff_latitude</th>\n",
       "      <th>tip_amount</th>\n",
       "      <th>total_amount</th>\n",
       "      <th>weekday</th>\n",
       "    </tr>\n",
       "  </thead>\n",
       "  <tbody>\n",
       "    <tr>\n",
       "      <th>0</th>\n",
       "      <td>2012-01-10 23:55:50</td>\n",
       "      <td>2012-01-11 00:03:39</td>\n",
       "      <td>1.7</td>\n",
       "      <td>-73.994693</td>\n",
       "      <td>40.725031</td>\n",
       "      <td>-73.975951</td>\n",
       "      <td>40.730781</td>\n",
       "      <td>1.00</td>\n",
       "      <td>8.90</td>\n",
       "      <td>1</td>\n",
       "    </tr>\n",
       "    <tr>\n",
       "      <th>1</th>\n",
       "      <td>2012-01-11 19:18:25</td>\n",
       "      <td>2012-01-11 19:26:10</td>\n",
       "      <td>1.1</td>\n",
       "      <td>-73.987955</td>\n",
       "      <td>40.752947</td>\n",
       "      <td>-73.994532</td>\n",
       "      <td>40.761040</td>\n",
       "      <td>0.00</td>\n",
       "      <td>7.60</td>\n",
       "      <td>2</td>\n",
       "    </tr>\n",
       "    <tr>\n",
       "      <th>2</th>\n",
       "      <td>2012-01-11 19:19:19</td>\n",
       "      <td>2012-01-11 19:48:15</td>\n",
       "      <td>18.0</td>\n",
       "      <td>-73.783093</td>\n",
       "      <td>40.648550</td>\n",
       "      <td>-73.996134</td>\n",
       "      <td>40.747624</td>\n",
       "      <td>10.06</td>\n",
       "      <td>60.36</td>\n",
       "      <td>2</td>\n",
       "    </tr>\n",
       "    <tr>\n",
       "      <th>3</th>\n",
       "      <td>2012-01-11 19:19:21</td>\n",
       "      <td>2012-01-11 19:27:00</td>\n",
       "      <td>1.7</td>\n",
       "      <td>-73.967515</td>\n",
       "      <td>40.758454</td>\n",
       "      <td>-73.956583</td>\n",
       "      <td>40.779903</td>\n",
       "      <td>1.00</td>\n",
       "      <td>9.40</td>\n",
       "      <td>2</td>\n",
       "    </tr>\n",
       "    <tr>\n",
       "      <th>4</th>\n",
       "      <td>2012-01-11 14:38:15</td>\n",
       "      <td>2012-01-11 14:43:51</td>\n",
       "      <td>1.2</td>\n",
       "      <td>-74.011315</td>\n",
       "      <td>40.711449</td>\n",
       "      <td>-74.002872</td>\n",
       "      <td>40.728131</td>\n",
       "      <td>0.00</td>\n",
       "      <td>6.20</td>\n",
       "      <td>2</td>\n",
       "    </tr>\n",
       "  </tbody>\n",
       "</table>\n",
       "</div>"
      ],
      "text/plain": [
       "       pickup_datetime     dropoff_datetime  trip_distance  pickup_longitude  \\\n",
       "0  2012-01-10 23:55:50  2012-01-11 00:03:39            1.7        -73.994693   \n",
       "1  2012-01-11 19:18:25  2012-01-11 19:26:10            1.1        -73.987955   \n",
       "2  2012-01-11 19:19:19  2012-01-11 19:48:15           18.0        -73.783093   \n",
       "3  2012-01-11 19:19:21  2012-01-11 19:27:00            1.7        -73.967515   \n",
       "4  2012-01-11 14:38:15  2012-01-11 14:43:51            1.2        -74.011315   \n",
       "\n",
       "   pickup_latitude  dropoff_longitude  dropoff_latitude  tip_amount  \\\n",
       "0        40.725031         -73.975951         40.730781        1.00   \n",
       "1        40.752947         -73.994532         40.761040        0.00   \n",
       "2        40.648550         -73.996134         40.747624       10.06   \n",
       "3        40.758454         -73.956583         40.779903        1.00   \n",
       "4        40.711449         -74.002872         40.728131        0.00   \n",
       "\n",
       "   total_amount  weekday  \n",
       "0          8.90        1  \n",
       "1          7.60        2  \n",
       "2         60.36        2  \n",
       "3          9.40        2  \n",
       "4          6.20        2  "
      ]
     },
     "execution_count": 3,
     "metadata": {},
     "output_type": "execute_result"
    }
   ],
   "source": [
    "jan_time=pd.to_datetime(pd.Series(data_2012_01[\"pickup_datetime\"]))\n",
    "jan_time_list=[]\n",
    "for index in jan_time:\n",
    "    jan_time_list.append(index.dayofweek)\n",
    "data_2012_01[\"weekday\"]=jan_time_list\n",
    "data_2012_01.head()"
   ]
  },
  {
   "cell_type": "code",
   "execution_count": 41,
   "metadata": {
    "collapsed": false,
    "scrolled": true
   },
   "outputs": [
    {
     "name": "stdout",
     "output_type": "stream",
     "text": [
      "(2098157, 10)\n"
     ]
    }
   ],
   "source": [
    "jan_2012_mon=pd.DataFrame(data_2012_01)\n",
    "jan_2012_mon=jan_2012_mon.loc[jan_2012_mon[\"weekday\"]==0]\n",
    "jan_2012_mon=jan_2012_mon.reset_index(drop=True)\n",
    "print(jan_2012_mon.shape)"
   ]
  },
  {
   "cell_type": "code",
   "execution_count": 42,
   "metadata": {
    "collapsed": false
   },
   "outputs": [
    {
     "data": {
      "text/plain": [
       "(2048831, 10)"
      ]
     },
     "execution_count": 42,
     "metadata": {},
     "output_type": "execute_result"
    }
   ],
   "source": [
    "jan_2012_mon=jan_2012_mon[jan_2012_mon.pickup_longitude!=0]\n",
    "jan_2012_mon=jan_2012_mon[jan_2012_mon.pickup_latitude!=0]\n",
    "jan_2012_mon=jan_2012_mon[jan_2012_mon.pickup_latitude>40]\n",
    "jan_2012_mon=jan_2012_mon[jan_2012_mon.pickup_latitude<41]\n",
    "jan_2012_mon=jan_2012_mon[jan_2012_mon.pickup_longitude>-74.5]\n",
    "jan_2012_mon=jan_2012_mon[jan_2012_mon.pickup_longitude<-72.5]\n",
    "jan_2012_mon.shape"
   ]
  },
  {
   "cell_type": "markdown",
   "metadata": {},
   "source": [
    "jan_2012_mon contains all the Monday for January 2012"
   ]
  },
  {
   "cell_type": "code",
   "execution_count": 18,
   "metadata": {
    "collapsed": false,
    "scrolled": false
   },
   "outputs": [],
   "source": [
    "import matplotlib.path as mplPath\n",
    "\n",
    "def indexZones(shapeFilename):\n",
    "    import rtree\n",
    "    import fiona.crs\n",
    "    import geopandas as gpd\n",
    "    index = rtree.Rtree()\n",
    "    zones = gpd.read_file(shapeFilename).to_crs(fiona.crs.from_epsg(2263))\n",
    "    for idx,geometry in enumerate(zones.geometry):\n",
    "        index.insert(idx, geometry.bounds)\n",
    "    return (index, zones)\n",
    "\n",
    "def findBlock(p, index, zones):\n",
    "    match = index.intersection((p.x, p.y, p.x, p.y))\n",
    "    for idx in match:\n",
    "        z = mplPath.Path(np.array(zones.geometry[idx].exterior))\n",
    "        if z.contains_point(np.array(p)):\n",
    "            return zones['OBJECTID'][idx]\n",
    "    return -1\n",
    "\n",
    "def mapToZone(parts):\n",
    "    import pyproj\n",
    "    import shapely.geometry as geom\n",
    "    proj = pyproj.Proj(init=\"epsg:2263\", preserve_units=True)    \n",
    "    index, zones = indexZones(\"/Users/RAFAELLICHEN/Documents/CSC 59970/nyc-yellow-taxi-prediction/datasets/block-groups-polygons.geojson\")\n",
    "    i=0\n",
    "    for line in parts:\n",
    "        if (line[\"pickup_longitude\"] and line[\"pickup_latitude\"]):\n",
    "            pickup_location  = geom.Point(proj(float(line[\"pickup_longitude\"]), float(line[\"pickup_latitude\"])))\n",
    "            try:\n",
    "                block_id_list.append(findBlock(pickup_location, index, zones))\n",
    "            except AttributeError:\n",
    "                drop_list.append(i)\n",
    "        i+=1\n",
    "\n",
    "drop_list=[]\n",
    "block_id_list=[]"
   ]
  },
  {
   "cell_type": "code",
   "execution_count": 19,
   "metadata": {
    "collapsed": true
   },
   "outputs": [],
   "source": [
    "mapToZone(temp.T.to_dict().values())"
   ]
  },
  {
   "cell_type": "code",
   "execution_count": 28,
   "metadata": {
    "collapsed": false,
    "scrolled": true
   },
   "outputs": [
    {
     "name": "stdout",
     "output_type": "stream",
     "text": [
      "True\n"
     ]
    }
   ],
   "source": [
    "print((len(drop_list)+len(block_id_list))==jan_2012_mon.shape[0])"
   ]
  },
  {
   "cell_type": "code",
   "execution_count": 51,
   "metadata": {
    "collapsed": false,
    "scrolled": false
   },
   "outputs": [
    {
     "data": {
      "text/html": [
       "<div>\n",
       "<table border=\"1\" class=\"dataframe\">\n",
       "  <thead>\n",
       "    <tr style=\"text-align: right;\">\n",
       "      <th></th>\n",
       "      <th>pickup_datetime</th>\n",
       "      <th>dropoff_datetime</th>\n",
       "      <th>trip_distance</th>\n",
       "      <th>pickup_longitude</th>\n",
       "      <th>pickup_latitude</th>\n",
       "      <th>dropoff_longitude</th>\n",
       "      <th>dropoff_latitude</th>\n",
       "      <th>tip_amount</th>\n",
       "      <th>total_amount</th>\n",
       "      <th>weekday</th>\n",
       "      <th>block_id</th>\n",
       "    </tr>\n",
       "  </thead>\n",
       "  <tbody>\n",
       "    <tr>\n",
       "      <th>0</th>\n",
       "      <td>2012-01-09 19:14:00</td>\n",
       "      <td>2012-01-09 19:20:00</td>\n",
       "      <td>1.25</td>\n",
       "      <td>-73.993335</td>\n",
       "      <td>40.727717</td>\n",
       "      <td>-73.981567</td>\n",
       "      <td>40.739245</td>\n",
       "      <td>0.00</td>\n",
       "      <td>7.60</td>\n",
       "      <td>0</td>\n",
       "      <td>9121</td>\n",
       "    </tr>\n",
       "    <tr>\n",
       "      <th>1</th>\n",
       "      <td>2012-01-09 19:12:00</td>\n",
       "      <td>2012-01-09 19:20:00</td>\n",
       "      <td>1.37</td>\n",
       "      <td>-73.975663</td>\n",
       "      <td>40.750380</td>\n",
       "      <td>-73.991625</td>\n",
       "      <td>40.738270</td>\n",
       "      <td>0.00</td>\n",
       "      <td>8.00</td>\n",
       "      <td>0</td>\n",
       "      <td>9423</td>\n",
       "    </tr>\n",
       "    <tr>\n",
       "      <th>2</th>\n",
       "      <td>2012-01-09 19:17:00</td>\n",
       "      <td>2012-01-09 19:21:00</td>\n",
       "      <td>0.71</td>\n",
       "      <td>-73.981810</td>\n",
       "      <td>40.778935</td>\n",
       "      <td>-73.981562</td>\n",
       "      <td>40.769470</td>\n",
       "      <td>1.00</td>\n",
       "      <td>7.40</td>\n",
       "      <td>0</td>\n",
       "      <td>2499</td>\n",
       "    </tr>\n",
       "    <tr>\n",
       "      <th>3</th>\n",
       "      <td>2012-01-09 19:02:00</td>\n",
       "      <td>2012-01-09 19:21:00</td>\n",
       "      <td>7.82</td>\n",
       "      <td>-73.885332</td>\n",
       "      <td>40.773002</td>\n",
       "      <td>-73.948070</td>\n",
       "      <td>40.774738</td>\n",
       "      <td>4.14</td>\n",
       "      <td>30.14</td>\n",
       "      <td>0</td>\n",
       "      <td>9608</td>\n",
       "    </tr>\n",
       "    <tr>\n",
       "      <th>4</th>\n",
       "      <td>2012-01-09 18:36:28</td>\n",
       "      <td>2012-01-09 18:41:58</td>\n",
       "      <td>1.00</td>\n",
       "      <td>-73.982000</td>\n",
       "      <td>40.774900</td>\n",
       "      <td>-73.973300</td>\n",
       "      <td>40.764300</td>\n",
       "      <td>1.00</td>\n",
       "      <td>7.80</td>\n",
       "      <td>0</td>\n",
       "      <td>9547</td>\n",
       "    </tr>\n",
       "  </tbody>\n",
       "</table>\n",
       "</div>"
      ],
      "text/plain": [
       "       pickup_datetime     dropoff_datetime  trip_distance  pickup_longitude  \\\n",
       "0  2012-01-09 19:14:00  2012-01-09 19:20:00           1.25        -73.993335   \n",
       "1  2012-01-09 19:12:00  2012-01-09 19:20:00           1.37        -73.975663   \n",
       "2  2012-01-09 19:17:00  2012-01-09 19:21:00           0.71        -73.981810   \n",
       "3  2012-01-09 19:02:00  2012-01-09 19:21:00           7.82        -73.885332   \n",
       "4  2012-01-09 18:36:28  2012-01-09 18:41:58           1.00        -73.982000   \n",
       "\n",
       "   pickup_latitude  dropoff_longitude  dropoff_latitude  tip_amount  \\\n",
       "0        40.727717         -73.981567         40.739245        0.00   \n",
       "1        40.750380         -73.991625         40.738270        0.00   \n",
       "2        40.778935         -73.981562         40.769470        1.00   \n",
       "3        40.773002         -73.948070         40.774738        4.14   \n",
       "4        40.774900         -73.973300         40.764300        1.00   \n",
       "\n",
       "   total_amount  weekday  block_id  \n",
       "0          7.60        0      9121  \n",
       "1          8.00        0      9423  \n",
       "2          7.40        0      2499  \n",
       "3         30.14        0      9608  \n",
       "4          7.80        0      9547  "
      ]
     },
     "execution_count": 51,
     "metadata": {},
     "output_type": "execute_result"
    }
   ],
   "source": [
    "jan_2012_mon=jan_2012_mon.drop(jan_2012_mon.index[drop_list])\n",
    "jan_2012_mon[\"block_id\"]=block_id_list\n",
    "jan_2012_mon=jan_2012_mon.reset_index(drop=True)\n",
    "jan_2012_mon=jan_2012_mon.loc[jan_2012_mon[\"block_id\"]!=-1]\n",
    "jan_2012_mon.head()"
   ]
  },
  {
   "cell_type": "code",
   "execution_count": null,
   "metadata": {
    "collapsed": true
   },
   "outputs": [],
   "source": []
  },
  {
   "cell_type": "code",
   "execution_count": null,
   "metadata": {
    "collapsed": true
   },
   "outputs": [],
   "source": [
    "fig = plt.figure()\n",
    "ax = fig.add_subplot(111, projection='3d')\n",
    "\n",
    "x =data_2012_01[\"pickup_longitude\"]\n",
    "y =data_2012_01[\"pickup_latitude\"]\n",
    "z =data_2012_01[\"tip_amount\"]\n",
    "\n",
    "ax.scatter(x, y, z, c='r', marker='o')\n",
    "\n",
    "ax.set_xlabel(\"longitude\")\n",
    "ax.set_ylabel(\"latitude\")\n",
    "ax.set_zlabel(\"tip amount\")\n",
    "\n",
    "plt.show()"
   ]
  },
  {
   "cell_type": "code",
   "execution_count": null,
   "metadata": {
    "collapsed": true
   },
   "outputs": [],
   "source": []
  }
 ],
 "metadata": {
  "kernelspec": {
   "display_name": "Python [Root]",
   "language": "python",
   "name": "Python [Root]"
  },
  "language_info": {
   "codemirror_mode": {
    "name": "ipython",
    "version": 3
   },
   "file_extension": ".py",
   "mimetype": "text/x-python",
   "name": "python",
   "nbconvert_exporter": "python",
   "pygments_lexer": "ipython3",
   "version": "3.5.2"
  }
 },
 "nbformat": 4,
 "nbformat_minor": 0
}
