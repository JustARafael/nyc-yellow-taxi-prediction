{
 "cells": [
  {
   "cell_type": "markdown",
   "metadata": {},
   "source": [
    "Predict the closest block that will get the driver the highest tips based on the time of the day and day of the week."
   ]
  },
  {
   "cell_type": "code",
   "execution_count": 10,
   "metadata": {
    "collapsed": true
   },
   "outputs": [],
   "source": [
    "from mpl_toolkits.mplot3d import Axes3D\n",
    "import matplotlib.pyplot as plt\n",
    "import numpy as np\n",
    "import pandas as pd\n",
    "%matplotlib inline"
   ]
  },
  {
   "cell_type": "code",
   "execution_count": 2,
   "metadata": {
    "collapsed": false,
    "scrolled": true
   },
   "outputs": [
    {
     "data": {
      "text/html": [
       "<div>\n",
       "<table border=\"1\" class=\"dataframe\">\n",
       "  <thead>\n",
       "    <tr style=\"text-align: right;\">\n",
       "      <th></th>\n",
       "      <th>pickup_datetime</th>\n",
       "      <th>pickup_longitude</th>\n",
       "      <th>pickup_latitude</th>\n",
       "      <th>tip_amount</th>\n",
       "    </tr>\n",
       "  </thead>\n",
       "  <tbody>\n",
       "    <tr>\n",
       "      <th>0</th>\n",
       "      <td>2012-01-10 23:55:50</td>\n",
       "      <td>-73.994693</td>\n",
       "      <td>40.725031</td>\n",
       "      <td>1.00</td>\n",
       "    </tr>\n",
       "    <tr>\n",
       "      <th>1</th>\n",
       "      <td>2012-01-11 19:18:25</td>\n",
       "      <td>-73.987955</td>\n",
       "      <td>40.752947</td>\n",
       "      <td>0.00</td>\n",
       "    </tr>\n",
       "    <tr>\n",
       "      <th>2</th>\n",
       "      <td>2012-01-11 19:19:19</td>\n",
       "      <td>-73.783093</td>\n",
       "      <td>40.648550</td>\n",
       "      <td>10.06</td>\n",
       "    </tr>\n",
       "    <tr>\n",
       "      <th>3</th>\n",
       "      <td>2012-01-11 19:19:21</td>\n",
       "      <td>-73.967515</td>\n",
       "      <td>40.758454</td>\n",
       "      <td>1.00</td>\n",
       "    </tr>\n",
       "    <tr>\n",
       "      <th>4</th>\n",
       "      <td>2012-01-11 14:38:15</td>\n",
       "      <td>-74.011315</td>\n",
       "      <td>40.711449</td>\n",
       "      <td>0.00</td>\n",
       "    </tr>\n",
       "  </tbody>\n",
       "</table>\n",
       "</div>"
      ],
      "text/plain": [
       "       pickup_datetime  pickup_longitude  pickup_latitude  tip_amount\n",
       "0  2012-01-10 23:55:50        -73.994693        40.725031        1.00\n",
       "1  2012-01-11 19:18:25        -73.987955        40.752947        0.00\n",
       "2  2012-01-11 19:19:19        -73.783093        40.648550       10.06\n",
       "3  2012-01-11 19:19:21        -73.967515        40.758454        1.00\n",
       "4  2012-01-11 14:38:15        -74.011315        40.711449        0.00"
      ]
     },
     "execution_count": 2,
     "metadata": {},
     "output_type": "execute_result"
    }
   ],
   "source": [
    "data_2012_01=pd.read_csv(\"/Users/RAFAELLICHEN/Downloads/column_deleted_data_2012/yellow_tripdata_2012-01.csv\")\n",
    "data_2012_01=data_2012_01.drop(\"Unnamed: 0\",1)\n",
    "data_2012_01=data_2012_01.drop(\"passenger_count\",1)\n",
    "data_2012_01=data_2012_01.drop(\"dropoff_datetime\",1)\n",
    "data_2012_01=data_2012_01.drop(\"trip_distance\",1)\n",
    "data_2012_01=data_2012_01.drop(\"dropoff_longitude\",1)\n",
    "data_2012_01=data_2012_01.drop(\"dropoff_latitude\",1)\n",
    "data_2012_01=data_2012_01.drop(\"total_amount\",1)\n",
    "data_2012_01.head()"
   ]
  },
  {
   "cell_type": "code",
   "execution_count": 3,
   "metadata": {
    "collapsed": false
   },
   "outputs": [
    {
     "data": {
      "text/html": [
       "<div>\n",
       "<table border=\"1\" class=\"dataframe\">\n",
       "  <thead>\n",
       "    <tr style=\"text-align: right;\">\n",
       "      <th></th>\n",
       "      <th>pickup_datetime</th>\n",
       "      <th>pickup_longitude</th>\n",
       "      <th>pickup_latitude</th>\n",
       "      <th>tip_amount</th>\n",
       "      <th>weekday</th>\n",
       "    </tr>\n",
       "  </thead>\n",
       "  <tbody>\n",
       "    <tr>\n",
       "      <th>0</th>\n",
       "      <td>2012-01-10 23:55:50</td>\n",
       "      <td>-73.994693</td>\n",
       "      <td>40.725031</td>\n",
       "      <td>1.00</td>\n",
       "      <td>1</td>\n",
       "    </tr>\n",
       "    <tr>\n",
       "      <th>1</th>\n",
       "      <td>2012-01-11 19:18:25</td>\n",
       "      <td>-73.987955</td>\n",
       "      <td>40.752947</td>\n",
       "      <td>0.00</td>\n",
       "      <td>2</td>\n",
       "    </tr>\n",
       "    <tr>\n",
       "      <th>2</th>\n",
       "      <td>2012-01-11 19:19:19</td>\n",
       "      <td>-73.783093</td>\n",
       "      <td>40.648550</td>\n",
       "      <td>10.06</td>\n",
       "      <td>2</td>\n",
       "    </tr>\n",
       "    <tr>\n",
       "      <th>3</th>\n",
       "      <td>2012-01-11 19:19:21</td>\n",
       "      <td>-73.967515</td>\n",
       "      <td>40.758454</td>\n",
       "      <td>1.00</td>\n",
       "      <td>2</td>\n",
       "    </tr>\n",
       "    <tr>\n",
       "      <th>4</th>\n",
       "      <td>2012-01-11 14:38:15</td>\n",
       "      <td>-74.011315</td>\n",
       "      <td>40.711449</td>\n",
       "      <td>0.00</td>\n",
       "      <td>2</td>\n",
       "    </tr>\n",
       "  </tbody>\n",
       "</table>\n",
       "</div>"
      ],
      "text/plain": [
       "       pickup_datetime  pickup_longitude  pickup_latitude  tip_amount  weekday\n",
       "0  2012-01-10 23:55:50        -73.994693        40.725031        1.00        1\n",
       "1  2012-01-11 19:18:25        -73.987955        40.752947        0.00        2\n",
       "2  2012-01-11 19:19:19        -73.783093        40.648550       10.06        2\n",
       "3  2012-01-11 19:19:21        -73.967515        40.758454        1.00        2\n",
       "4  2012-01-11 14:38:15        -74.011315        40.711449        0.00        2"
      ]
     },
     "execution_count": 3,
     "metadata": {},
     "output_type": "execute_result"
    }
   ],
   "source": [
    "jan_time=pd.to_datetime(pd.Series(data_2012_01[\"pickup_datetime\"]))\n",
    "jan_time_list=[]\n",
    "for index in jan_time:\n",
    "    jan_time_list.append(index.dayofweek)\n",
    "data_2012_01[\"weekday\"]=jan_time_list\n",
    "data_2012_01.head()"
   ]
  },
  {
   "cell_type": "code",
   "execution_count": 4,
   "metadata": {
    "collapsed": false,
    "scrolled": true
   },
   "outputs": [
    {
     "name": "stdout",
     "output_type": "stream",
     "text": [
      "(2098157, 5)\n"
     ]
    }
   ],
   "source": [
    "jan_2012_mon=pd.DataFrame(data_2012_01)\n",
    "jan_2012_mon=jan_2012_mon.loc[jan_2012_mon[\"weekday\"]==0]\n",
    "jan_2012_mon=jan_2012_mon.reset_index(drop=True)\n",
    "print(jan_2012_mon.shape)"
   ]
  },
  {
   "cell_type": "code",
   "execution_count": 5,
   "metadata": {
    "collapsed": false,
    "scrolled": true
   },
   "outputs": [
    {
     "data": {
      "text/plain": [
       "(2048831, 5)"
      ]
     },
     "execution_count": 5,
     "metadata": {},
     "output_type": "execute_result"
    }
   ],
   "source": [
    "jan_2012_mon=jan_2012_mon[jan_2012_mon.pickup_longitude!=0]\n",
    "jan_2012_mon=jan_2012_mon[jan_2012_mon.pickup_latitude!=0]\n",
    "jan_2012_mon=jan_2012_mon[jan_2012_mon.pickup_latitude>40]\n",
    "jan_2012_mon=jan_2012_mon[jan_2012_mon.pickup_latitude<41]\n",
    "jan_2012_mon=jan_2012_mon[jan_2012_mon.pickup_longitude>-74.5]\n",
    "jan_2012_mon=jan_2012_mon[jan_2012_mon.pickup_longitude<-72.5]\n",
    "jan_2012_mon.shape"
   ]
  },
  {
   "cell_type": "code",
   "execution_count": 6,
   "metadata": {
    "collapsed": false
   },
   "outputs": [
    {
     "data": {
      "text/html": [
       "<div>\n",
       "<table border=\"1\" class=\"dataframe\">\n",
       "  <thead>\n",
       "    <tr style=\"text-align: right;\">\n",
       "      <th></th>\n",
       "      <th>pickup_datetime</th>\n",
       "      <th>pickup_longitude</th>\n",
       "      <th>pickup_latitude</th>\n",
       "      <th>tip_amount</th>\n",
       "      <th>weekday</th>\n",
       "    </tr>\n",
       "  </thead>\n",
       "  <tbody>\n",
       "    <tr>\n",
       "      <th>0</th>\n",
       "      <td>2012-01-09 19:14:00</td>\n",
       "      <td>-73.993335</td>\n",
       "      <td>40.727717</td>\n",
       "      <td>0.0</td>\n",
       "      <td>0</td>\n",
       "    </tr>\n",
       "  </tbody>\n",
       "</table>\n",
       "</div>"
      ],
      "text/plain": [
       "       pickup_datetime  pickup_longitude  pickup_latitude  tip_amount  weekday\n",
       "0  2012-01-09 19:14:00        -73.993335        40.727717         0.0        0"
      ]
     },
     "execution_count": 6,
     "metadata": {},
     "output_type": "execute_result"
    }
   ],
   "source": [
    "jan_2012_mon.head(1)"
   ]
  },
  {
   "cell_type": "code",
   "execution_count": 7,
   "metadata": {
    "collapsed": false
   },
   "outputs": [
    {
     "data": {
      "text/plain": [
       "(560846, 5)"
      ]
     },
     "execution_count": 7,
     "metadata": {},
     "output_type": "execute_result"
    }
   ],
   "source": [
    "in_range=jan_2012_mon.loc[jan_2012_mon[\"pickup_longitude\"]>=-73.993335-0.018]\n",
    "in_range=in_range.loc[in_range[\"pickup_longitude\"]<=-73.993335+0.018]\n",
    "in_range=in_range.loc[in_range[\"pickup_latitude\"]<=40.727717+0.018]\n",
    "in_range=in_range.loc[in_range[\"pickup_latitude\"]>=40.727717-0.018]\n",
    "in_range.shape"
   ]
  },
  {
   "cell_type": "code",
   "execution_count": 12,
   "metadata": {
    "collapsed": false
   },
   "outputs": [],
   "source": [
    "# in_range.to_csv(\"2012-01-0-id.csv\")"
   ]
  },
  {
   "cell_type": "code",
   "execution_count": 13,
   "metadata": {
    "collapsed": false,
    "scrolled": false
   },
   "outputs": [],
   "source": [
    "import matplotlib.path as mplPath\n",
    "\n",
    "def indexZones(shapeFilename):\n",
    "    import rtree\n",
    "    import fiona.crs\n",
    "    import geopandas as gpd\n",
    "    index = rtree.Rtree()\n",
    "    zones = gpd.read_file(shapeFilename).to_crs(fiona.crs.from_epsg(2263))\n",
    "    for idx,geometry in enumerate(zones.geometry):\n",
    "        index.insert(idx, geometry.bounds)\n",
    "    return (index, zones)\n",
    "\n",
    "def findBlock(p, index, zones):\n",
    "    match = index.intersection((p.x, p.y, p.x, p.y))\n",
    "    for idx in match:\n",
    "        z = mplPath.Path(np.array(zones.geometry[idx].exterior))\n",
    "        if z.contains_point(np.array(p)):\n",
    "            return zones['OBJECTID'][idx]\n",
    "    return -1\n",
    "\n",
    "def mapToZone(parts):\n",
    "    import pyproj\n",
    "    import shapely.geometry as geom\n",
    "    proj = pyproj.Proj(init=\"epsg:2263\", preserve_units=True)    \n",
    "    index, zones = indexZones(\"/Users/RAFAELLICHEN/Documents/CSC 59970/nyc-yellow-taxi-prediction/datasets/block-groups-polygons.geojson\")\n",
    "    i=0\n",
    "    for line in parts:\n",
    "        if (line[\"pickup_longitude\"] and line[\"pickup_latitude\"]):\n",
    "            pickup_location  = geom.Point(proj(float(line[\"pickup_longitude\"]), float(line[\"pickup_latitude\"])))\n",
    "            try:\n",
    "                block_id_list.append(findBlock(pickup_location, index, zones))\n",
    "            except AttributeError:\n",
    "                drop_list.append(i)\n",
    "        i+=1\n",
    "\n",
    "drop_list=[]\n",
    "block_id_list=[]"
   ]
  },
  {
   "cell_type": "code",
   "execution_count": null,
   "metadata": {
    "collapsed": false
   },
   "outputs": [],
   "source": [
    "mapToZone(in_range.T.to_dict().values())"
   ]
  },
  {
   "cell_type": "code",
   "execution_count": 28,
   "metadata": {
    "collapsed": false,
    "scrolled": true
   },
   "outputs": [
    {
     "name": "stdout",
     "output_type": "stream",
     "text": [
      "False\n"
     ]
    }
   ],
   "source": [
    "print((len(drop_list)+len(block_id_list))==in_range.shape[0])"
   ]
  },
  {
   "cell_type": "code",
   "execution_count": null,
   "metadata": {
    "collapsed": false,
    "scrolled": false
   },
   "outputs": [],
   "source": [
    "jan_2012_mon=jan_2012_mon.drop(jan_2012_mon.index[drop_list])\n",
    "jan_2012_mon[\"block_id\"]=block_id_list\n",
    "jan_2012_mon=jan_2012_mon.reset_index(drop=True)\n",
    "jan_2012_mon=jan_2012_mon.loc[jan_2012_mon[\"block_id\"]!=-1]\n",
    "jan_2012_mon.head()"
   ]
  },
  {
   "cell_type": "code",
   "execution_count": null,
   "metadata": {
    "collapsed": true
   },
   "outputs": [],
   "source": []
  }
 ],
 "metadata": {
  "anaconda-cloud": {},
  "kernelspec": {
   "display_name": "Python [Root]",
   "language": "python",
   "name": "Python [Root]"
  },
  "language_info": {
   "codemirror_mode": {
    "name": "ipython",
    "version": 3
   },
   "file_extension": ".py",
   "mimetype": "text/x-python",
   "name": "python",
   "nbconvert_exporter": "python",
   "pygments_lexer": "ipython3",
   "version": "3.5.2"
  }
 },
 "nbformat": 4,
 "nbformat_minor": 0
}
