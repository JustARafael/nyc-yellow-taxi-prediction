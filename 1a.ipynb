{
 "cells": [
  {
   "cell_type": "markdown",
   "metadata": {},
   "source": [
    "# Cleaning the data\n",
    "Question in mind - Can we accurately predict how much tips a driver will get based on pick-up location, the distance traveled to destination and time spent?\n"
   ]
  },
  {
   "cell_type": "code",
   "execution_count": 1,
   "metadata": {
    "collapsed": true
   },
   "outputs": [],
   "source": [
    "import pandas as pd\n",
    "import numpy as np\n",
    "import matplotlib.pyplot as plt\n",
    "from sklearn.cluster import KMeans\n",
    "import matplotlib.path as mplPath\n",
    "import rtree\n",
    "import fiona.crs\n",
    "import geopandas as gpd\n",
    "import pyproj\n",
    "import shapely.geometry as geom\n",
    "%matplotlib inline"
   ]
  },
  {
   "cell_type": "code",
   "execution_count": 2,
   "metadata": {
    "collapsed": true
   },
   "outputs": [],
   "source": [
    "january2013=pd.read_csv(\"datasets/yellow_tripdata_2013-01.csv\")"
   ]
  },
  {
   "cell_type": "markdown",
   "metadata": {},
   "source": [
    "Filter the data to only include coordinates within New York and drop the colums we don't need\n",
    "such as the vendor_id. Remove bad passenger counts, you can't get tipped with 0 passengers nor can a taxi have 255 people at one time"
   ]
  },
  {
   "cell_type": "code",
   "execution_count": 3,
   "metadata": {
    "collapsed": true
   },
   "outputs": [],
   "source": [
    "january2013 = january2013.loc[(january2013['pickup_longitude'] > -74.06) & (january2013['pickup_longitude'] < -73.77) & (january2013['pickup_latitude'] > 40.61) &  (january2013['pickup_latitude'] < 40.91)]\n",
    "january2013 = january2013.loc[(january2013['passenger_count'] > 0) & (january2013['passenger_count'] < 7)]\n",
    "january2013 = january2013.reset_index()\n",
    "january2013 = january2013.drop('index', 1)\n",
    "january2013 = january2013.drop('vendor_id',1)\n",
    "january2013 = january2013.drop('rate_code',1)\n",
    "january2013 = january2013.drop('store_and_fwd_flag',1)\n",
    "january2013 = january2013.drop('fare_amount',1)\n",
    "january2013 = january2013.drop('surcharge',1)\n",
    "january2013 = january2013.drop('mta_tax',1)\n",
    "january2013 = january2013.drop('tolls_amount',1)"
   ]
  },
  {
   "cell_type": "code",
   "execution_count": 4,
   "metadata": {
    "collapsed": false
   },
   "outputs": [
    {
     "name": "stdout",
     "output_type": "stream",
     "text": [
      "(14496449, 11)\n"
     ]
    },
    {
     "data": {
      "text/html": [
       "<div>\n",
       "<table border=\"1\" class=\"dataframe\">\n",
       "  <thead>\n",
       "    <tr style=\"text-align: right;\">\n",
       "      <th></th>\n",
       "      <th>pickup_datetime</th>\n",
       "      <th>dropoff_datetime</th>\n",
       "      <th>passenger_count</th>\n",
       "      <th>trip_distance</th>\n",
       "      <th>pickup_longitude</th>\n",
       "      <th>pickup_latitude</th>\n",
       "      <th>dropoff_longitude</th>\n",
       "      <th>dropoff_latitude</th>\n",
       "      <th>payment_type</th>\n",
       "      <th>tip_amount</th>\n",
       "      <th>total_amount</th>\n",
       "    </tr>\n",
       "  </thead>\n",
       "  <tbody>\n",
       "    <tr>\n",
       "      <th>0</th>\n",
       "      <td>2013-01-01 15:11:48</td>\n",
       "      <td>2013-01-01 15:18:10</td>\n",
       "      <td>4</td>\n",
       "      <td>1.0</td>\n",
       "      <td>-73.978165</td>\n",
       "      <td>40.757977</td>\n",
       "      <td>-73.989840</td>\n",
       "      <td>40.751173</td>\n",
       "      <td>CSH</td>\n",
       "      <td>0.0</td>\n",
       "      <td>7.0</td>\n",
       "    </tr>\n",
       "    <tr>\n",
       "      <th>1</th>\n",
       "      <td>2013-01-06 00:18:35</td>\n",
       "      <td>2013-01-06 00:22:54</td>\n",
       "      <td>1</td>\n",
       "      <td>1.5</td>\n",
       "      <td>-74.006680</td>\n",
       "      <td>40.731781</td>\n",
       "      <td>-73.994499</td>\n",
       "      <td>40.750659</td>\n",
       "      <td>CSH</td>\n",
       "      <td>0.0</td>\n",
       "      <td>7.0</td>\n",
       "    </tr>\n",
       "    <tr>\n",
       "      <th>2</th>\n",
       "      <td>2013-01-05 18:49:41</td>\n",
       "      <td>2013-01-05 18:54:23</td>\n",
       "      <td>1</td>\n",
       "      <td>1.1</td>\n",
       "      <td>-74.004711</td>\n",
       "      <td>40.737770</td>\n",
       "      <td>-74.009831</td>\n",
       "      <td>40.726000</td>\n",
       "      <td>CSH</td>\n",
       "      <td>0.0</td>\n",
       "      <td>7.0</td>\n",
       "    </tr>\n",
       "    <tr>\n",
       "      <th>3</th>\n",
       "      <td>2013-01-07 23:54:15</td>\n",
       "      <td>2013-01-07 23:58:20</td>\n",
       "      <td>2</td>\n",
       "      <td>0.7</td>\n",
       "      <td>-73.974600</td>\n",
       "      <td>40.759945</td>\n",
       "      <td>-73.984737</td>\n",
       "      <td>40.759388</td>\n",
       "      <td>CSH</td>\n",
       "      <td>0.0</td>\n",
       "      <td>6.0</td>\n",
       "    </tr>\n",
       "    <tr>\n",
       "      <th>4</th>\n",
       "      <td>2013-01-07 23:25:03</td>\n",
       "      <td>2013-01-07 23:34:24</td>\n",
       "      <td>1</td>\n",
       "      <td>2.1</td>\n",
       "      <td>-73.976252</td>\n",
       "      <td>40.748528</td>\n",
       "      <td>-74.002583</td>\n",
       "      <td>40.747867</td>\n",
       "      <td>CSH</td>\n",
       "      <td>0.0</td>\n",
       "      <td>10.5</td>\n",
       "    </tr>\n",
       "  </tbody>\n",
       "</table>\n",
       "</div>"
      ],
      "text/plain": [
       "       pickup_datetime     dropoff_datetime  passenger_count  trip_distance  \\\n",
       "0  2013-01-01 15:11:48  2013-01-01 15:18:10                4            1.0   \n",
       "1  2013-01-06 00:18:35  2013-01-06 00:22:54                1            1.5   \n",
       "2  2013-01-05 18:49:41  2013-01-05 18:54:23                1            1.1   \n",
       "3  2013-01-07 23:54:15  2013-01-07 23:58:20                2            0.7   \n",
       "4  2013-01-07 23:25:03  2013-01-07 23:34:24                1            2.1   \n",
       "\n",
       "   pickup_longitude  pickup_latitude  dropoff_longitude  dropoff_latitude  \\\n",
       "0        -73.978165        40.757977         -73.989840         40.751173   \n",
       "1        -74.006680        40.731781         -73.994499         40.750659   \n",
       "2        -74.004711        40.737770         -74.009831         40.726000   \n",
       "3        -73.974600        40.759945         -73.984737         40.759388   \n",
       "4        -73.976252        40.748528         -74.002583         40.747867   \n",
       "\n",
       "  payment_type  tip_amount  total_amount  \n",
       "0          CSH         0.0           7.0  \n",
       "1          CSH         0.0           7.0  \n",
       "2          CSH         0.0           7.0  \n",
       "3          CSH         0.0           6.0  \n",
       "4          CSH         0.0          10.5  "
      ]
     },
     "execution_count": 4,
     "metadata": {},
     "output_type": "execute_result"
    }
   ],
   "source": [
    "print(january2013.shape)\n",
    "january2013.head()"
   ]
  },
  {
   "cell_type": "markdown",
   "metadata": {},
   "source": [
    "Code to convert longitude/latitude to block id, might be useful later, we'll see"
   ]
  },
  {
   "cell_type": "code",
   "execution_count": 5,
   "metadata": {
    "collapsed": true
   },
   "outputs": [],
   "source": [
    "def indexZones(shapeFilename):\n",
    "    index = rtree.Rtree()\n",
    "    zones = gpd.read_file(shapeFilename).to_crs(fiona.crs.from_epsg(2263))\n",
    "    for idx,geometry in enumerate(zones.geometry):\n",
    "        index.insert(idx, geometry.bounds)\n",
    "    return (index, zones)"
   ]
  },
  {
   "cell_type": "code",
   "execution_count": 6,
   "metadata": {
    "collapsed": true
   },
   "outputs": [],
   "source": [
    "def findBlock(p, index, zones):\n",
    "    match = index.intersection((p.x, p.y, p.x, p.y))\n",
    "    for idx in match:\n",
    "        z = mplPath.Path(np.array(zones.geometry[idx].exterior))\n",
    "        if z.contains_point(np.array(p)):\n",
    "            return zones['OBJECTID'][idx]\n",
    "    return -1"
   ]
  },
  {
   "cell_type": "code",
   "execution_count": 7,
   "metadata": {
    "collapsed": true
   },
   "outputs": [],
   "source": [
    "def mapToZone(parts):\n",
    "    proj = pyproj.Proj(init=\"epsg:2263\", preserve_units=True)    \n",
    "    index, zones = indexZones('datasets/block-groups-polygons.geojson')\n",
    "    for line in parts:\n",
    "        if (line['pickup_longitude'] and line['pickup_latitude']):\n",
    "            pickup_location  = geom.Point(proj(float(line['pickup_longitude']), float(line['pickup_latitude'])))\n",
    "            pickup_block = findBlock(pickup_location, index, zones)\n",
    "            if pickup_block >= 0:\n",
    "                print (pickup_block)\n",
    "                \n",
    "#mapToZone(data_pd.head(20).T.to_dict().values())"
   ]
  },
  {
   "cell_type": "markdown",
   "metadata": {},
   "source": [
    "Looking at the time value, we find the day of the week, time spent to reach destination, and hour. We will insert all of these as new columns.\n",
    "\n",
    "From datetime of pick-up we'll be breaking it down into month, day, day of the week, time in minutes"
   ]
  },
  {
   "cell_type": "code",
   "execution_count": 8,
   "metadata": {
    "collapsed": true
   },
   "outputs": [],
   "source": [
    "def add_data(df):\n",
    "    df_timestamp = pd.to_datetime(pd.Series(df['pickup_datetime']))\n",
    "    df['trip_distance']*0.621371\n",
    "    df['weekday'] = df_timestamp.dt.dayofweek\n",
    "    df['month'] = df_timestamp.dt.month\n",
    "    df['hour'] = df_timestamp.dt.hour\n",
    "    df['day'] = df_timestamp.dt.day\n",
    "    df['minutes'] = (df_timestamp.dt.hour)*60 + df_timestamp.dt.minute\n",
    "    time_spent = pd.to_datetime(df['dropoff_datetime']) - pd.to_datetime(df['pickup_datetime'])\n",
    "    df['time_spent'] = pd.to_datetime(time_spent).dt.minute\n",
    "    return df"
   ]
  },
  {
   "cell_type": "code",
   "execution_count": 9,
   "metadata": {
    "collapsed": false
   },
   "outputs": [],
   "source": [
    "january2013 = add_data(january2013)"
   ]
  },
  {
   "cell_type": "code",
   "execution_count": 10,
   "metadata": {
    "collapsed": false
   },
   "outputs": [
    {
     "data": {
      "text/html": [
       "<div>\n",
       "<table border=\"1\" class=\"dataframe\">\n",
       "  <thead>\n",
       "    <tr style=\"text-align: right;\">\n",
       "      <th></th>\n",
       "      <th>pickup_datetime</th>\n",
       "      <th>dropoff_datetime</th>\n",
       "      <th>passenger_count</th>\n",
       "      <th>trip_distance</th>\n",
       "      <th>pickup_longitude</th>\n",
       "      <th>pickup_latitude</th>\n",
       "      <th>dropoff_longitude</th>\n",
       "      <th>dropoff_latitude</th>\n",
       "      <th>payment_type</th>\n",
       "      <th>tip_amount</th>\n",
       "      <th>total_amount</th>\n",
       "      <th>weekday</th>\n",
       "      <th>month</th>\n",
       "      <th>hour</th>\n",
       "      <th>day</th>\n",
       "      <th>minutes</th>\n",
       "      <th>time_spent</th>\n",
       "    </tr>\n",
       "  </thead>\n",
       "  <tbody>\n",
       "    <tr>\n",
       "      <th>0</th>\n",
       "      <td>2013-01-01 15:11:48</td>\n",
       "      <td>2013-01-01 15:18:10</td>\n",
       "      <td>4</td>\n",
       "      <td>1.0</td>\n",
       "      <td>-73.978165</td>\n",
       "      <td>40.757977</td>\n",
       "      <td>-73.989840</td>\n",
       "      <td>40.751173</td>\n",
       "      <td>CSH</td>\n",
       "      <td>0.0</td>\n",
       "      <td>7.0</td>\n",
       "      <td>1</td>\n",
       "      <td>1</td>\n",
       "      <td>15</td>\n",
       "      <td>1</td>\n",
       "      <td>911</td>\n",
       "      <td>6</td>\n",
       "    </tr>\n",
       "    <tr>\n",
       "      <th>1</th>\n",
       "      <td>2013-01-06 00:18:35</td>\n",
       "      <td>2013-01-06 00:22:54</td>\n",
       "      <td>1</td>\n",
       "      <td>1.5</td>\n",
       "      <td>-74.006680</td>\n",
       "      <td>40.731781</td>\n",
       "      <td>-73.994499</td>\n",
       "      <td>40.750659</td>\n",
       "      <td>CSH</td>\n",
       "      <td>0.0</td>\n",
       "      <td>7.0</td>\n",
       "      <td>6</td>\n",
       "      <td>1</td>\n",
       "      <td>0</td>\n",
       "      <td>6</td>\n",
       "      <td>18</td>\n",
       "      <td>4</td>\n",
       "    </tr>\n",
       "    <tr>\n",
       "      <th>2</th>\n",
       "      <td>2013-01-05 18:49:41</td>\n",
       "      <td>2013-01-05 18:54:23</td>\n",
       "      <td>1</td>\n",
       "      <td>1.1</td>\n",
       "      <td>-74.004711</td>\n",
       "      <td>40.737770</td>\n",
       "      <td>-74.009831</td>\n",
       "      <td>40.726000</td>\n",
       "      <td>CSH</td>\n",
       "      <td>0.0</td>\n",
       "      <td>7.0</td>\n",
       "      <td>5</td>\n",
       "      <td>1</td>\n",
       "      <td>18</td>\n",
       "      <td>5</td>\n",
       "      <td>1129</td>\n",
       "      <td>4</td>\n",
       "    </tr>\n",
       "    <tr>\n",
       "      <th>3</th>\n",
       "      <td>2013-01-07 23:54:15</td>\n",
       "      <td>2013-01-07 23:58:20</td>\n",
       "      <td>2</td>\n",
       "      <td>0.7</td>\n",
       "      <td>-73.974600</td>\n",
       "      <td>40.759945</td>\n",
       "      <td>-73.984737</td>\n",
       "      <td>40.759388</td>\n",
       "      <td>CSH</td>\n",
       "      <td>0.0</td>\n",
       "      <td>6.0</td>\n",
       "      <td>0</td>\n",
       "      <td>1</td>\n",
       "      <td>23</td>\n",
       "      <td>7</td>\n",
       "      <td>1434</td>\n",
       "      <td>4</td>\n",
       "    </tr>\n",
       "    <tr>\n",
       "      <th>4</th>\n",
       "      <td>2013-01-07 23:25:03</td>\n",
       "      <td>2013-01-07 23:34:24</td>\n",
       "      <td>1</td>\n",
       "      <td>2.1</td>\n",
       "      <td>-73.976252</td>\n",
       "      <td>40.748528</td>\n",
       "      <td>-74.002583</td>\n",
       "      <td>40.747867</td>\n",
       "      <td>CSH</td>\n",
       "      <td>0.0</td>\n",
       "      <td>10.5</td>\n",
       "      <td>0</td>\n",
       "      <td>1</td>\n",
       "      <td>23</td>\n",
       "      <td>7</td>\n",
       "      <td>1405</td>\n",
       "      <td>9</td>\n",
       "    </tr>\n",
       "  </tbody>\n",
       "</table>\n",
       "</div>"
      ],
      "text/plain": [
       "       pickup_datetime     dropoff_datetime  passenger_count  trip_distance  \\\n",
       "0  2013-01-01 15:11:48  2013-01-01 15:18:10                4            1.0   \n",
       "1  2013-01-06 00:18:35  2013-01-06 00:22:54                1            1.5   \n",
       "2  2013-01-05 18:49:41  2013-01-05 18:54:23                1            1.1   \n",
       "3  2013-01-07 23:54:15  2013-01-07 23:58:20                2            0.7   \n",
       "4  2013-01-07 23:25:03  2013-01-07 23:34:24                1            2.1   \n",
       "\n",
       "   pickup_longitude  pickup_latitude  dropoff_longitude  dropoff_latitude  \\\n",
       "0        -73.978165        40.757977         -73.989840         40.751173   \n",
       "1        -74.006680        40.731781         -73.994499         40.750659   \n",
       "2        -74.004711        40.737770         -74.009831         40.726000   \n",
       "3        -73.974600        40.759945         -73.984737         40.759388   \n",
       "4        -73.976252        40.748528         -74.002583         40.747867   \n",
       "\n",
       "  payment_type  tip_amount  total_amount  weekday  month  hour  day  minutes  \\\n",
       "0          CSH         0.0           7.0        1      1    15    1      911   \n",
       "1          CSH         0.0           7.0        6      1     0    6       18   \n",
       "2          CSH         0.0           7.0        5      1    18    5     1129   \n",
       "3          CSH         0.0           6.0        0      1    23    7     1434   \n",
       "4          CSH         0.0          10.5        0      1    23    7     1405   \n",
       "\n",
       "   time_spent  \n",
       "0           6  \n",
       "1           4  \n",
       "2           4  \n",
       "3           4  \n",
       "4           9  "
      ]
     },
     "execution_count": 10,
     "metadata": {},
     "output_type": "execute_result"
    }
   ],
   "source": [
    "january2013.head()"
   ]
  },
  {
   "cell_type": "markdown",
   "metadata": {},
   "source": [
    "Does payment type affect the tips?\n",
    "\n",
    "\"CRD\" -- card, debit or credit\n",
    "\n",
    "\"CSH\" -- cash\n",
    "\n",
    "\"DIS\" -- disputed fare \n",
    "\n",
    "\"NOC\" -- no charge\n",
    "\n",
    "\"UNK\" -- unknown"
   ]
  },
  {
   "cell_type": "code",
   "execution_count": 11,
   "metadata": {
    "collapsed": false
   },
   "outputs": [
    {
     "name": "stdout",
     "output_type": "stream",
     "text": [
      "['CSH' 'CRD' 'DIS' 'NOC' 'UNK']\n"
     ]
    }
   ],
   "source": [
    "print(january2013.payment_type.unique()) #the types of payment"
   ]
  },
  {
   "cell_type": "code",
   "execution_count": 12,
   "metadata": {
    "collapsed": false
   },
   "outputs": [
    {
     "name": "stdout",
     "output_type": "stream",
     "text": [
      "payment_type\n",
      "CRD    7596889\n",
      "CSH    6851480\n",
      "DIS      10890\n",
      "NOC      31923\n",
      "UNK       5267\n",
      "dtype: int64\n",
      "Axes(0.125,0.125;0.775x0.775)\n"
     ]
    },
    {
     "data": {
      "image/png": "[encoded data removed]",
      "text/plain": [
       "<matplotlib.figure.Figure at 0x1d7afca27b8>"
      ]
     },
     "metadata": {},
     "output_type": "display_data"
    }
   ],
   "source": [
    "paymentandtips = january2013.groupby('payment_type')\n",
    "print(paymentandtips.size())\n",
    "print(paymentandtips.size().plot(kind='bar'))"
   ]
  },
  {
   "cell_type": "code",
   "execution_count": 13,
   "metadata": {
    "collapsed": false
   },
   "outputs": [
    {
     "name": "stdout",
     "output_type": "stream",
     "text": [
      "payment_type\n",
      "CRD    2.404894\n",
      "CSH    0.000686\n",
      "DIS    0.013596\n",
      "NOC    0.013544\n",
      "UNK    3.177655\n",
      "Name: tip_amount, dtype: float64\n",
      "Axes(0.125,0.125;0.775x0.775)\n"
     ]
    },
    {
     "data": {
      "image/png": "[encoded data removed]",
      "text/plain": [
       "<matplotlib.figure.Figure at 0x1d78358be48>"
      ]
     },
     "metadata": {},
     "output_type": "display_data"
    }
   ],
   "source": [
    "print(paymentandtips.tip_amount.mean())\n",
    "print(paymentandtips.tip_amount.mean().plot(kind='bar'))"
   ]
  },
  {
   "cell_type": "markdown",
   "metadata": {},
   "source": [
    "The highest two payment types are crd and csh but the crd and unk are the payment types with the highest average types, probably wouldn't be interesting to explore since unk is a very uncommon payment type, so let's look at the tip percentage which it \n",
    "\n",
    "(tip)/(total cost)*100\n",
    "\n",
    "which is the average tips a person gives in relation to the total cost of the ride"
   ]
  },
  {
   "cell_type": "code",
   "execution_count": 14,
   "metadata": {
    "collapsed": false
   },
   "outputs": [
    {
     "data": {
      "text/html": [
       "<div>\n",
       "<table border=\"1\" class=\"dataframe\">\n",
       "  <thead>\n",
       "    <tr style=\"text-align: right;\">\n",
       "      <th></th>\n",
       "      <th>pickup_datetime</th>\n",
       "      <th>dropoff_datetime</th>\n",
       "      <th>passenger_count</th>\n",
       "      <th>trip_distance</th>\n",
       "      <th>pickup_longitude</th>\n",
       "      <th>pickup_latitude</th>\n",
       "      <th>dropoff_longitude</th>\n",
       "      <th>dropoff_latitude</th>\n",
       "      <th>payment_type</th>\n",
       "      <th>tip_amount</th>\n",
       "      <th>total_amount</th>\n",
       "      <th>weekday</th>\n",
       "      <th>month</th>\n",
       "      <th>hour</th>\n",
       "      <th>day</th>\n",
       "      <th>minutes</th>\n",
       "      <th>time_spent</th>\n",
       "      <th>avg_tip</th>\n",
       "    </tr>\n",
       "  </thead>\n",
       "  <tbody>\n",
       "    <tr>\n",
       "      <th>0</th>\n",
       "      <td>2013-01-01 15:11:48</td>\n",
       "      <td>2013-01-01 15:18:10</td>\n",
       "      <td>4</td>\n",
       "      <td>1.0</td>\n",
       "      <td>-73.978165</td>\n",
       "      <td>40.757977</td>\n",
       "      <td>-73.989840</td>\n",
       "      <td>40.751173</td>\n",
       "      <td>CSH</td>\n",
       "      <td>0.0</td>\n",
       "      <td>7.0</td>\n",
       "      <td>1</td>\n",
       "      <td>1</td>\n",
       "      <td>15</td>\n",
       "      <td>1</td>\n",
       "      <td>911</td>\n",
       "      <td>6</td>\n",
       "      <td>0.0</td>\n",
       "    </tr>\n",
       "    <tr>\n",
       "      <th>1</th>\n",
       "      <td>2013-01-06 00:18:35</td>\n",
       "      <td>2013-01-06 00:22:54</td>\n",
       "      <td>1</td>\n",
       "      <td>1.5</td>\n",
       "      <td>-74.006680</td>\n",
       "      <td>40.731781</td>\n",
       "      <td>-73.994499</td>\n",
       "      <td>40.750659</td>\n",
       "      <td>CSH</td>\n",
       "      <td>0.0</td>\n",
       "      <td>7.0</td>\n",
       "      <td>6</td>\n",
       "      <td>1</td>\n",
       "      <td>0</td>\n",
       "      <td>6</td>\n",
       "      <td>18</td>\n",
       "      <td>4</td>\n",
       "      <td>0.0</td>\n",
       "    </tr>\n",
       "    <tr>\n",
       "      <th>2</th>\n",
       "      <td>2013-01-05 18:49:41</td>\n",
       "      <td>2013-01-05 18:54:23</td>\n",
       "      <td>1</td>\n",
       "      <td>1.1</td>\n",
       "      <td>-74.004711</td>\n",
       "      <td>40.737770</td>\n",
       "      <td>-74.009831</td>\n",
       "      <td>40.726000</td>\n",
       "      <td>CSH</td>\n",
       "      <td>0.0</td>\n",
       "      <td>7.0</td>\n",
       "      <td>5</td>\n",
       "      <td>1</td>\n",
       "      <td>18</td>\n",
       "      <td>5</td>\n",
       "      <td>1129</td>\n",
       "      <td>4</td>\n",
       "      <td>0.0</td>\n",
       "    </tr>\n",
       "    <tr>\n",
       "      <th>3</th>\n",
       "      <td>2013-01-07 23:54:15</td>\n",
       "      <td>2013-01-07 23:58:20</td>\n",
       "      <td>2</td>\n",
       "      <td>0.7</td>\n",
       "      <td>-73.974600</td>\n",
       "      <td>40.759945</td>\n",
       "      <td>-73.984737</td>\n",
       "      <td>40.759388</td>\n",
       "      <td>CSH</td>\n",
       "      <td>0.0</td>\n",
       "      <td>6.0</td>\n",
       "      <td>0</td>\n",
       "      <td>1</td>\n",
       "      <td>23</td>\n",
       "      <td>7</td>\n",
       "      <td>1434</td>\n",
       "      <td>4</td>\n",
       "      <td>0.0</td>\n",
       "    </tr>\n",
       "    <tr>\n",
       "      <th>4</th>\n",
       "      <td>2013-01-07 23:25:03</td>\n",
       "      <td>2013-01-07 23:34:24</td>\n",
       "      <td>1</td>\n",
       "      <td>2.1</td>\n",
       "      <td>-73.976252</td>\n",
       "      <td>40.748528</td>\n",
       "      <td>-74.002583</td>\n",
       "      <td>40.747867</td>\n",
       "      <td>CSH</td>\n",
       "      <td>0.0</td>\n",
       "      <td>10.5</td>\n",
       "      <td>0</td>\n",
       "      <td>1</td>\n",
       "      <td>23</td>\n",
       "      <td>7</td>\n",
       "      <td>1405</td>\n",
       "      <td>9</td>\n",
       "      <td>0.0</td>\n",
       "    </tr>\n",
       "  </tbody>\n",
       "</table>\n",
       "</div>"
      ],
      "text/plain": [
       "       pickup_datetime     dropoff_datetime  passenger_count  trip_distance  \\\n",
       "0  2013-01-01 15:11:48  2013-01-01 15:18:10                4            1.0   \n",
       "1  2013-01-06 00:18:35  2013-01-06 00:22:54                1            1.5   \n",
       "2  2013-01-05 18:49:41  2013-01-05 18:54:23                1            1.1   \n",
       "3  2013-01-07 23:54:15  2013-01-07 23:58:20                2            0.7   \n",
       "4  2013-01-07 23:25:03  2013-01-07 23:34:24                1            2.1   \n",
       "\n",
       "   pickup_longitude  pickup_latitude  dropoff_longitude  dropoff_latitude  \\\n",
       "0        -73.978165        40.757977         -73.989840         40.751173   \n",
       "1        -74.006680        40.731781         -73.994499         40.750659   \n",
       "2        -74.004711        40.737770         -74.009831         40.726000   \n",
       "3        -73.974600        40.759945         -73.984737         40.759388   \n",
       "4        -73.976252        40.748528         -74.002583         40.747867   \n",
       "\n",
       "  payment_type  tip_amount  total_amount  weekday  month  hour  day  minutes  \\\n",
       "0          CSH         0.0           7.0        1      1    15    1      911   \n",
       "1          CSH         0.0           7.0        6      1     0    6       18   \n",
       "2          CSH         0.0           7.0        5      1    18    5     1129   \n",
       "3          CSH         0.0           6.0        0      1    23    7     1434   \n",
       "4          CSH         0.0          10.5        0      1    23    7     1405   \n",
       "\n",
       "   time_spent  avg_tip  \n",
       "0           6      0.0  \n",
       "1           4      0.0  \n",
       "2           4      0.0  \n",
       "3           4      0.0  \n",
       "4           9      0.0  "
      ]
     },
     "execution_count": 14,
     "metadata": {},
     "output_type": "execute_result"
    }
   ],
   "source": [
    "avgtips = (january2013.tip_amount/january2013.total_amount)*100\n",
    "january2013['avg_tip'] = avgtips\n",
    "january2013.head()"
   ]
  },
  {
   "cell_type": "markdown",
   "metadata": {},
   "source": [
    "Create a new data set that only includes where tips > 0.0"
   ]
  },
  {
   "cell_type": "code",
   "execution_count": 15,
   "metadata": {
    "collapsed": false
   },
   "outputs": [
    {
     "data": {
      "text/html": [
       "<div>\n",
       "<table border=\"1\" class=\"dataframe\">\n",
       "  <thead>\n",
       "    <tr style=\"text-align: right;\">\n",
       "      <th></th>\n",
       "      <th>pickup_datetime</th>\n",
       "      <th>dropoff_datetime</th>\n",
       "      <th>passenger_count</th>\n",
       "      <th>trip_distance</th>\n",
       "      <th>pickup_longitude</th>\n",
       "      <th>pickup_latitude</th>\n",
       "      <th>dropoff_longitude</th>\n",
       "      <th>dropoff_latitude</th>\n",
       "      <th>payment_type</th>\n",
       "      <th>tip_amount</th>\n",
       "      <th>total_amount</th>\n",
       "      <th>weekday</th>\n",
       "      <th>month</th>\n",
       "      <th>hour</th>\n",
       "      <th>day</th>\n",
       "      <th>minutes</th>\n",
       "      <th>time_spent</th>\n",
       "      <th>avg_tip</th>\n",
       "    </tr>\n",
       "  </thead>\n",
       "  <tbody>\n",
       "    <tr>\n",
       "      <th>0</th>\n",
       "      <td>2013-01-13 10:27:00</td>\n",
       "      <td>2013-01-13 10:35:00</td>\n",
       "      <td>1</td>\n",
       "      <td>2.92</td>\n",
       "      <td>-73.992190</td>\n",
       "      <td>40.723945</td>\n",
       "      <td>-73.966325</td>\n",
       "      <td>40.715732</td>\n",
       "      <td>CRD</td>\n",
       "      <td>2.75</td>\n",
       "      <td>14.25</td>\n",
       "      <td>6</td>\n",
       "      <td>1</td>\n",
       "      <td>10</td>\n",
       "      <td>13</td>\n",
       "      <td>627</td>\n",
       "      <td>8</td>\n",
       "      <td>19.298246</td>\n",
       "    </tr>\n",
       "    <tr>\n",
       "      <th>1</th>\n",
       "      <td>2013-01-13 10:27:00</td>\n",
       "      <td>2013-01-13 10:36:00</td>\n",
       "      <td>1</td>\n",
       "      <td>3.93</td>\n",
       "      <td>-73.982380</td>\n",
       "      <td>40.731427</td>\n",
       "      <td>-73.947020</td>\n",
       "      <td>40.779875</td>\n",
       "      <td>CRD</td>\n",
       "      <td>2.40</td>\n",
       "      <td>14.90</td>\n",
       "      <td>6</td>\n",
       "      <td>1</td>\n",
       "      <td>10</td>\n",
       "      <td>13</td>\n",
       "      <td>627</td>\n",
       "      <td>9</td>\n",
       "      <td>16.107383</td>\n",
       "    </tr>\n",
       "    <tr>\n",
       "      <th>2</th>\n",
       "      <td>2013-01-13 10:29:00</td>\n",
       "      <td>2013-01-13 10:39:00</td>\n",
       "      <td>3</td>\n",
       "      <td>4.51</td>\n",
       "      <td>-73.957385</td>\n",
       "      <td>40.777180</td>\n",
       "      <td>-73.975322</td>\n",
       "      <td>40.729242</td>\n",
       "      <td>CRD</td>\n",
       "      <td>2.90</td>\n",
       "      <td>17.90</td>\n",
       "      <td>6</td>\n",
       "      <td>1</td>\n",
       "      <td>10</td>\n",
       "      <td>13</td>\n",
       "      <td>629</td>\n",
       "      <td>10</td>\n",
       "      <td>16.201117</td>\n",
       "    </tr>\n",
       "    <tr>\n",
       "      <th>3</th>\n",
       "      <td>2013-01-13 10:25:00</td>\n",
       "      <td>2013-01-13 10:32:00</td>\n",
       "      <td>6</td>\n",
       "      <td>1.84</td>\n",
       "      <td>-74.008250</td>\n",
       "      <td>40.705572</td>\n",
       "      <td>-74.013047</td>\n",
       "      <td>40.716052</td>\n",
       "      <td>CRD</td>\n",
       "      <td>1.70</td>\n",
       "      <td>10.70</td>\n",
       "      <td>6</td>\n",
       "      <td>1</td>\n",
       "      <td>10</td>\n",
       "      <td>13</td>\n",
       "      <td>625</td>\n",
       "      <td>7</td>\n",
       "      <td>15.887850</td>\n",
       "    </tr>\n",
       "    <tr>\n",
       "      <th>4</th>\n",
       "      <td>2013-01-13 10:02:00</td>\n",
       "      <td>2013-01-13 10:38:00</td>\n",
       "      <td>1</td>\n",
       "      <td>20.78</td>\n",
       "      <td>-73.788310</td>\n",
       "      <td>40.641513</td>\n",
       "      <td>-73.975515</td>\n",
       "      <td>40.792112</td>\n",
       "      <td>CRD</td>\n",
       "      <td>7.70</td>\n",
       "      <td>65.00</td>\n",
       "      <td>6</td>\n",
       "      <td>1</td>\n",
       "      <td>10</td>\n",
       "      <td>13</td>\n",
       "      <td>602</td>\n",
       "      <td>36</td>\n",
       "      <td>11.846154</td>\n",
       "    </tr>\n",
       "  </tbody>\n",
       "</table>\n",
       "</div>"
      ],
      "text/plain": [
       "       pickup_datetime     dropoff_datetime  passenger_count  trip_distance  \\\n",
       "0  2013-01-13 10:27:00  2013-01-13 10:35:00                1           2.92   \n",
       "1  2013-01-13 10:27:00  2013-01-13 10:36:00                1           3.93   \n",
       "2  2013-01-13 10:29:00  2013-01-13 10:39:00                3           4.51   \n",
       "3  2013-01-13 10:25:00  2013-01-13 10:32:00                6           1.84   \n",
       "4  2013-01-13 10:02:00  2013-01-13 10:38:00                1          20.78   \n",
       "\n",
       "   pickup_longitude  pickup_latitude  dropoff_longitude  dropoff_latitude  \\\n",
       "0        -73.992190        40.723945         -73.966325         40.715732   \n",
       "1        -73.982380        40.731427         -73.947020         40.779875   \n",
       "2        -73.957385        40.777180         -73.975322         40.729242   \n",
       "3        -74.008250        40.705572         -74.013047         40.716052   \n",
       "4        -73.788310        40.641513         -73.975515         40.792112   \n",
       "\n",
       "  payment_type  tip_amount  total_amount  weekday  month  hour  day  minutes  \\\n",
       "0          CRD        2.75         14.25        6      1    10   13      627   \n",
       "1          CRD        2.40         14.90        6      1    10   13      627   \n",
       "2          CRD        2.90         17.90        6      1    10   13      629   \n",
       "3          CRD        1.70         10.70        6      1    10   13      625   \n",
       "4          CRD        7.70         65.00        6      1    10   13      602   \n",
       "\n",
       "   time_spent    avg_tip  \n",
       "0           8  19.298246  \n",
       "1           9  16.107383  \n",
       "2          10  16.201117  \n",
       "3           7  15.887850  \n",
       "4          36  11.846154  "
      ]
     },
     "execution_count": 15,
     "metadata": {},
     "output_type": "execute_result"
    }
   ],
   "source": [
    "january2013_remove_non_tips = january2013.loc[(january2013['tip_amount'] > 0.0)]\n",
    "january2013_remove_non_tips = january2013_remove_non_tips.reset_index()\n",
    "january2013_remove_non_tips = january2013_remove_non_tips.drop('index', 1)\n",
    "january2013_remove_non_tips.head()"
   ]
  },
  {
   "cell_type": "markdown",
   "metadata": {},
   "source": [
    "Does passenger count have any correlation to amount of tips given?"
   ]
  },
  {
   "cell_type": "code",
   "execution_count": 16,
   "metadata": {
    "collapsed": false
   },
   "outputs": [
    {
     "name": "stdout",
     "output_type": "stream",
     "text": [
      "passenger_count\n",
      "1    10266280\n",
      "2     1952890\n",
      "3      586388\n",
      "4      276135\n",
      "5      904010\n",
      "6      510746\n",
      "dtype: int64\n",
      "passenger_count\n",
      "1    1.281788\n",
      "2    1.233192\n",
      "3    1.121359\n",
      "4    1.036398\n",
      "5    1.261450\n",
      "6    1.253359\n",
      "Name: tip_amount, dtype: float64\n",
      "Axes(0.125,0.125;0.775x0.775)\n"
     ]
    },
    {
     "data": {
      "image/png": "[encoded data removed]",
      "text/plain": [
       "<matplotlib.figure.Figure at 0x1d7c49b7908>"
      ]
     },
     "metadata": {},
     "output_type": "display_data"
    }
   ],
   "source": [
    "peopleandtips = january2013.groupby('passenger_count')\n",
    "print(peopleandtips.size())\n",
    "print(peopleandtips.tip_amount.mean())\n",
    "print(peopleandtips.tip_amount.mean().plot(kind='bar'))"
   ]
  },
  {
   "cell_type": "markdown",
   "metadata": {},
   "source": [
    "Looking at the graph above which is the average tip based on passenger with those passengers who don't tip, they seem to pay about the same. While looking at the bottom graph without passengers who don't pay tips, the graph is about the same, so passenger_count is irrelevant"
   ]
  },
  {
   "cell_type": "code",
   "execution_count": 17,
   "metadata": {
    "collapsed": false
   },
   "outputs": [
    {
     "name": "stdout",
     "output_type": "stream",
     "text": [
      "passenger_count\n",
      "1    5351644\n",
      "2     940240\n",
      "3     267166\n",
      "4     113288\n",
      "5     464750\n",
      "6     263360\n",
      "dtype: int64\n",
      "passenger_count\n",
      "1    2.458906\n",
      "2    2.561355\n",
      "3    2.461210\n",
      "4    2.526179\n",
      "5    2.453713\n",
      "6    2.430697\n",
      "Name: tip_amount, dtype: float64\n",
      "Axes(0.125,0.125;0.775x0.775)\n"
     ]
    },
    {
     "data": {
      "image/png": "[encoded data removed]",
      "text/plain": [
       "<matplotlib.figure.Figure at 0x1d70a407160>"
      ]
     },
     "metadata": {},
     "output_type": "display_data"
    }
   ],
   "source": [
    "peopleandtips = january2013_remove_non_tips.groupby('passenger_count')\n",
    "print(peopleandtips.size())\n",
    "print(peopleandtips.tip_amount.mean())\n",
    "print(peopleandtips.tip_amount.mean().plot(kind='bar'))"
   ]
  },
  {
   "cell_type": "code",
   "execution_count": 18,
   "metadata": {
    "collapsed": false
   },
   "outputs": [
    {
     "data": {
      "text/html": [
       "<div>\n",
       "<table border=\"1\" class=\"dataframe\">\n",
       "  <thead>\n",
       "    <tr style=\"text-align: right;\">\n",
       "      <th></th>\n",
       "      <th>pickup_datetime</th>\n",
       "      <th>dropoff_datetime</th>\n",
       "      <th>trip_distance</th>\n",
       "      <th>pickup_longitude</th>\n",
       "      <th>pickup_latitude</th>\n",
       "      <th>dropoff_longitude</th>\n",
       "      <th>dropoff_latitude</th>\n",
       "      <th>payment_type</th>\n",
       "      <th>tip_amount</th>\n",
       "      <th>total_amount</th>\n",
       "      <th>weekday</th>\n",
       "      <th>month</th>\n",
       "      <th>hour</th>\n",
       "      <th>day</th>\n",
       "      <th>minutes</th>\n",
       "      <th>time_spent</th>\n",
       "      <th>avg_tip</th>\n",
       "    </tr>\n",
       "  </thead>\n",
       "  <tbody>\n",
       "    <tr>\n",
       "      <th>0</th>\n",
       "      <td>2013-01-01 15:11:48</td>\n",
       "      <td>2013-01-01 15:18:10</td>\n",
       "      <td>1.0</td>\n",
       "      <td>-73.978165</td>\n",
       "      <td>40.757977</td>\n",
       "      <td>-73.989840</td>\n",
       "      <td>40.751173</td>\n",
       "      <td>CSH</td>\n",
       "      <td>0.0</td>\n",
       "      <td>7.0</td>\n",
       "      <td>1</td>\n",
       "      <td>1</td>\n",
       "      <td>15</td>\n",
       "      <td>1</td>\n",
       "      <td>911</td>\n",
       "      <td>6</td>\n",
       "      <td>0.0</td>\n",
       "    </tr>\n",
       "    <tr>\n",
       "      <th>1</th>\n",
       "      <td>2013-01-06 00:18:35</td>\n",
       "      <td>2013-01-06 00:22:54</td>\n",
       "      <td>1.5</td>\n",
       "      <td>-74.006680</td>\n",
       "      <td>40.731781</td>\n",
       "      <td>-73.994499</td>\n",
       "      <td>40.750659</td>\n",
       "      <td>CSH</td>\n",
       "      <td>0.0</td>\n",
       "      <td>7.0</td>\n",
       "      <td>6</td>\n",
       "      <td>1</td>\n",
       "      <td>0</td>\n",
       "      <td>6</td>\n",
       "      <td>18</td>\n",
       "      <td>4</td>\n",
       "      <td>0.0</td>\n",
       "    </tr>\n",
       "    <tr>\n",
       "      <th>2</th>\n",
       "      <td>2013-01-05 18:49:41</td>\n",
       "      <td>2013-01-05 18:54:23</td>\n",
       "      <td>1.1</td>\n",
       "      <td>-74.004711</td>\n",
       "      <td>40.737770</td>\n",
       "      <td>-74.009831</td>\n",
       "      <td>40.726000</td>\n",
       "      <td>CSH</td>\n",
       "      <td>0.0</td>\n",
       "      <td>7.0</td>\n",
       "      <td>5</td>\n",
       "      <td>1</td>\n",
       "      <td>18</td>\n",
       "      <td>5</td>\n",
       "      <td>1129</td>\n",
       "      <td>4</td>\n",
       "      <td>0.0</td>\n",
       "    </tr>\n",
       "    <tr>\n",
       "      <th>3</th>\n",
       "      <td>2013-01-07 23:54:15</td>\n",
       "      <td>2013-01-07 23:58:20</td>\n",
       "      <td>0.7</td>\n",
       "      <td>-73.974600</td>\n",
       "      <td>40.759945</td>\n",
       "      <td>-73.984737</td>\n",
       "      <td>40.759388</td>\n",
       "      <td>CSH</td>\n",
       "      <td>0.0</td>\n",
       "      <td>6.0</td>\n",
       "      <td>0</td>\n",
       "      <td>1</td>\n",
       "      <td>23</td>\n",
       "      <td>7</td>\n",
       "      <td>1434</td>\n",
       "      <td>4</td>\n",
       "      <td>0.0</td>\n",
       "    </tr>\n",
       "    <tr>\n",
       "      <th>4</th>\n",
       "      <td>2013-01-07 23:25:03</td>\n",
       "      <td>2013-01-07 23:34:24</td>\n",
       "      <td>2.1</td>\n",
       "      <td>-73.976252</td>\n",
       "      <td>40.748528</td>\n",
       "      <td>-74.002583</td>\n",
       "      <td>40.747867</td>\n",
       "      <td>CSH</td>\n",
       "      <td>0.0</td>\n",
       "      <td>10.5</td>\n",
       "      <td>0</td>\n",
       "      <td>1</td>\n",
       "      <td>23</td>\n",
       "      <td>7</td>\n",
       "      <td>1405</td>\n",
       "      <td>9</td>\n",
       "      <td>0.0</td>\n",
       "    </tr>\n",
       "  </tbody>\n",
       "</table>\n",
       "</div>"
      ],
      "text/plain": [
       "       pickup_datetime     dropoff_datetime  trip_distance  pickup_longitude  \\\n",
       "0  2013-01-01 15:11:48  2013-01-01 15:18:10            1.0        -73.978165   \n",
       "1  2013-01-06 00:18:35  2013-01-06 00:22:54            1.5        -74.006680   \n",
       "2  2013-01-05 18:49:41  2013-01-05 18:54:23            1.1        -74.004711   \n",
       "3  2013-01-07 23:54:15  2013-01-07 23:58:20            0.7        -73.974600   \n",
       "4  2013-01-07 23:25:03  2013-01-07 23:34:24            2.1        -73.976252   \n",
       "\n",
       "   pickup_latitude  dropoff_longitude  dropoff_latitude payment_type  \\\n",
       "0        40.757977         -73.989840         40.751173          CSH   \n",
       "1        40.731781         -73.994499         40.750659          CSH   \n",
       "2        40.737770         -74.009831         40.726000          CSH   \n",
       "3        40.759945         -73.984737         40.759388          CSH   \n",
       "4        40.748528         -74.002583         40.747867          CSH   \n",
       "\n",
       "   tip_amount  total_amount  weekday  month  hour  day  minutes  time_spent  \\\n",
       "0         0.0           7.0        1      1    15    1      911           6   \n",
       "1         0.0           7.0        6      1     0    6       18           4   \n",
       "2         0.0           7.0        5      1    18    5     1129           4   \n",
       "3         0.0           6.0        0      1    23    7     1434           4   \n",
       "4         0.0          10.5        0      1    23    7     1405           9   \n",
       "\n",
       "   avg_tip  \n",
       "0      0.0  \n",
       "1      0.0  \n",
       "2      0.0  \n",
       "3      0.0  \n",
       "4      0.0  "
      ]
     },
     "execution_count": 18,
     "metadata": {},
     "output_type": "execute_result"
    }
   ],
   "source": [
    "january2013 = january2013.drop('passenger_count',1)\n",
    "january2013_remove_non_tips = january2013_remove_non_tips.drop('passenger_count',1)\n",
    "january2013.head()"
   ]
  },
  {
   "cell_type": "markdown",
   "metadata": {},
   "source": [
    "Let's look at Distance Traveled (km) and Tip Percentage (Frequency of tips)"
   ]
  },
  {
   "cell_type": "code",
   "execution_count": 19,
   "metadata": {
    "collapsed": false
   },
   "outputs": [],
   "source": [
    "#january2013_remove_non_tips.plot(x='trip_distance',y='avg_tip',style=['o','rx'])"
   ]
  },
  {
   "cell_type": "markdown",
   "metadata": {},
   "source": [
    "Can we estimate how much tips a taxi driver will be given based on the day of the week, the hour they were picked up, the location they picked up, how much time they spent in the taxi and how far they went?"
   ]
  },
  {
   "cell_type": "code",
   "execution_count": 20,
   "metadata": {
    "collapsed": false
   },
   "outputs": [
    {
     "data": {
      "text/html": [
       "<div>\n",
       "<table border=\"1\" class=\"dataframe\">\n",
       "  <thead>\n",
       "    <tr style=\"text-align: right;\">\n",
       "      <th></th>\n",
       "      <th>pickup_datetime</th>\n",
       "      <th>dropoff_datetime</th>\n",
       "      <th>trip_distance</th>\n",
       "      <th>pickup_longitude</th>\n",
       "      <th>pickup_latitude</th>\n",
       "      <th>dropoff_longitude</th>\n",
       "      <th>dropoff_latitude</th>\n",
       "      <th>payment_type</th>\n",
       "      <th>tip_amount</th>\n",
       "      <th>total_amount</th>\n",
       "      <th>weekday</th>\n",
       "      <th>month</th>\n",
       "      <th>hour</th>\n",
       "      <th>day</th>\n",
       "      <th>minutes</th>\n",
       "      <th>time_spent</th>\n",
       "      <th>avg_tip</th>\n",
       "      <th>pickup</th>\n",
       "    </tr>\n",
       "  </thead>\n",
       "  <tbody>\n",
       "    <tr>\n",
       "      <th>0</th>\n",
       "      <td>2013-01-01 15:11:48</td>\n",
       "      <td>2013-01-01 15:18:10</td>\n",
       "      <td>1.0</td>\n",
       "      <td>-73.978165</td>\n",
       "      <td>40.757977</td>\n",
       "      <td>-73.989840</td>\n",
       "      <td>40.751173</td>\n",
       "      <td>CSH</td>\n",
       "      <td>0.0</td>\n",
       "      <td>7.0</td>\n",
       "      <td>1</td>\n",
       "      <td>1</td>\n",
       "      <td>15</td>\n",
       "      <td>1</td>\n",
       "      <td>911</td>\n",
       "      <td>6</td>\n",
       "      <td>0.0</td>\n",
       "      <td>40.757977,-73.978165</td>\n",
       "    </tr>\n",
       "    <tr>\n",
       "      <th>1</th>\n",
       "      <td>2013-01-06 00:18:35</td>\n",
       "      <td>2013-01-06 00:22:54</td>\n",
       "      <td>1.5</td>\n",
       "      <td>-74.006680</td>\n",
       "      <td>40.731781</td>\n",
       "      <td>-73.994499</td>\n",
       "      <td>40.750659</td>\n",
       "      <td>CSH</td>\n",
       "      <td>0.0</td>\n",
       "      <td>7.0</td>\n",
       "      <td>6</td>\n",
       "      <td>1</td>\n",
       "      <td>0</td>\n",
       "      <td>6</td>\n",
       "      <td>18</td>\n",
       "      <td>4</td>\n",
       "      <td>0.0</td>\n",
       "      <td>40.731781,-74.00668</td>\n",
       "    </tr>\n",
       "    <tr>\n",
       "      <th>2</th>\n",
       "      <td>2013-01-05 18:49:41</td>\n",
       "      <td>2013-01-05 18:54:23</td>\n",
       "      <td>1.1</td>\n",
       "      <td>-74.004711</td>\n",
       "      <td>40.737770</td>\n",
       "      <td>-74.009831</td>\n",
       "      <td>40.726000</td>\n",
       "      <td>CSH</td>\n",
       "      <td>0.0</td>\n",
       "      <td>7.0</td>\n",
       "      <td>5</td>\n",
       "      <td>1</td>\n",
       "      <td>18</td>\n",
       "      <td>5</td>\n",
       "      <td>1129</td>\n",
       "      <td>4</td>\n",
       "      <td>0.0</td>\n",
       "      <td>40.73777,-74.004711</td>\n",
       "    </tr>\n",
       "    <tr>\n",
       "      <th>3</th>\n",
       "      <td>2013-01-07 23:54:15</td>\n",
       "      <td>2013-01-07 23:58:20</td>\n",
       "      <td>0.7</td>\n",
       "      <td>-73.974600</td>\n",
       "      <td>40.759945</td>\n",
       "      <td>-73.984737</td>\n",
       "      <td>40.759388</td>\n",
       "      <td>CSH</td>\n",
       "      <td>0.0</td>\n",
       "      <td>6.0</td>\n",
       "      <td>0</td>\n",
       "      <td>1</td>\n",
       "      <td>23</td>\n",
       "      <td>7</td>\n",
       "      <td>1434</td>\n",
       "      <td>4</td>\n",
       "      <td>0.0</td>\n",
       "      <td>40.759945,-73.97459999999998</td>\n",
       "    </tr>\n",
       "    <tr>\n",
       "      <th>4</th>\n",
       "      <td>2013-01-07 23:25:03</td>\n",
       "      <td>2013-01-07 23:34:24</td>\n",
       "      <td>2.1</td>\n",
       "      <td>-73.976252</td>\n",
       "      <td>40.748528</td>\n",
       "      <td>-74.002583</td>\n",
       "      <td>40.747867</td>\n",
       "      <td>CSH</td>\n",
       "      <td>0.0</td>\n",
       "      <td>10.5</td>\n",
       "      <td>0</td>\n",
       "      <td>1</td>\n",
       "      <td>23</td>\n",
       "      <td>7</td>\n",
       "      <td>1405</td>\n",
       "      <td>9</td>\n",
       "      <td>0.0</td>\n",
       "      <td>40.748528,-73.976252</td>\n",
       "    </tr>\n",
       "  </tbody>\n",
       "</table>\n",
       "</div>"
      ],
      "text/plain": [
       "       pickup_datetime     dropoff_datetime  trip_distance  pickup_longitude  \\\n",
       "0  2013-01-01 15:11:48  2013-01-01 15:18:10            1.0        -73.978165   \n",
       "1  2013-01-06 00:18:35  2013-01-06 00:22:54            1.5        -74.006680   \n",
       "2  2013-01-05 18:49:41  2013-01-05 18:54:23            1.1        -74.004711   \n",
       "3  2013-01-07 23:54:15  2013-01-07 23:58:20            0.7        -73.974600   \n",
       "4  2013-01-07 23:25:03  2013-01-07 23:34:24            2.1        -73.976252   \n",
       "\n",
       "   pickup_latitude  dropoff_longitude  dropoff_latitude payment_type  \\\n",
       "0        40.757977         -73.989840         40.751173          CSH   \n",
       "1        40.731781         -73.994499         40.750659          CSH   \n",
       "2        40.737770         -74.009831         40.726000          CSH   \n",
       "3        40.759945         -73.984737         40.759388          CSH   \n",
       "4        40.748528         -74.002583         40.747867          CSH   \n",
       "\n",
       "   tip_amount  total_amount  weekday  month  hour  day  minutes  time_spent  \\\n",
       "0         0.0           7.0        1      1    15    1      911           6   \n",
       "1         0.0           7.0        6      1     0    6       18           4   \n",
       "2         0.0           7.0        5      1    18    5     1129           4   \n",
       "3         0.0           6.0        0      1    23    7     1434           4   \n",
       "4         0.0          10.5        0      1    23    7     1405           9   \n",
       "\n",
       "   avg_tip                        pickup  \n",
       "0      0.0          40.757977,-73.978165  \n",
       "1      0.0           40.731781,-74.00668  \n",
       "2      0.0           40.73777,-74.004711  \n",
       "3      0.0  40.759945,-73.97459999999998  \n",
       "4      0.0          40.748528,-73.976252  "
      ]
     },
     "execution_count": 20,
     "metadata": {},
     "output_type": "execute_result"
    }
   ],
   "source": [
    "january2013['pickup'] = january2013['pickup_latitude'].map(str) +','+january2013['pickup_longitude'].map(str)\n",
    "january2013.head() #we merge the pickup lat and long for each row so we can group by pickup location"
   ]
  },
  {
   "cell_type": "code",
   "execution_count": 30,
   "metadata": {
    "collapsed": false
   },
   "outputs": [
    {
     "name": "stdout",
     "output_type": "stream",
     "text": [
      "(14496449, 8)\n"
     ]
    },
    {
     "data": {
      "text/html": [
       "<div>\n",
       "<table border=\"1\" class=\"dataframe\">\n",
       "  <thead>\n",
       "    <tr style=\"text-align: right;\">\n",
       "      <th></th>\n",
       "      <th>pickup_longitude</th>\n",
       "      <th>pickup_latitude</th>\n",
       "      <th>trip_distance</th>\n",
       "      <th>weekday</th>\n",
       "      <th>pickup</th>\n",
       "      <th>hour</th>\n",
       "      <th>time_spent</th>\n",
       "      <th>tip_amount</th>\n",
       "    </tr>\n",
       "  </thead>\n",
       "  <tbody>\n",
       "    <tr>\n",
       "      <th>0</th>\n",
       "      <td>-73.978165</td>\n",
       "      <td>40.757977</td>\n",
       "      <td>1.0</td>\n",
       "      <td>1</td>\n",
       "      <td>40.757977,-73.978165</td>\n",
       "      <td>15</td>\n",
       "      <td>6</td>\n",
       "      <td>0.0</td>\n",
       "    </tr>\n",
       "    <tr>\n",
       "      <th>1</th>\n",
       "      <td>-74.006680</td>\n",
       "      <td>40.731781</td>\n",
       "      <td>1.5</td>\n",
       "      <td>6</td>\n",
       "      <td>40.731781,-74.00668</td>\n",
       "      <td>0</td>\n",
       "      <td>4</td>\n",
       "      <td>0.0</td>\n",
       "    </tr>\n",
       "    <tr>\n",
       "      <th>2</th>\n",
       "      <td>-74.004711</td>\n",
       "      <td>40.737770</td>\n",
       "      <td>1.1</td>\n",
       "      <td>5</td>\n",
       "      <td>40.73777,-74.004711</td>\n",
       "      <td>18</td>\n",
       "      <td>4</td>\n",
       "      <td>0.0</td>\n",
       "    </tr>\n",
       "    <tr>\n",
       "      <th>3</th>\n",
       "      <td>-73.974600</td>\n",
       "      <td>40.759945</td>\n",
       "      <td>0.7</td>\n",
       "      <td>0</td>\n",
       "      <td>40.759945,-73.97459999999998</td>\n",
       "      <td>23</td>\n",
       "      <td>4</td>\n",
       "      <td>0.0</td>\n",
       "    </tr>\n",
       "    <tr>\n",
       "      <th>4</th>\n",
       "      <td>-73.976252</td>\n",
       "      <td>40.748528</td>\n",
       "      <td>2.1</td>\n",
       "      <td>0</td>\n",
       "      <td>40.748528,-73.976252</td>\n",
       "      <td>23</td>\n",
       "      <td>9</td>\n",
       "      <td>0.0</td>\n",
       "    </tr>\n",
       "  </tbody>\n",
       "</table>\n",
       "</div>"
      ],
      "text/plain": [
       "   pickup_longitude  pickup_latitude  trip_distance  weekday  \\\n",
       "0        -73.978165        40.757977            1.0        1   \n",
       "1        -74.006680        40.731781            1.5        6   \n",
       "2        -74.004711        40.737770            1.1        5   \n",
       "3        -73.974600        40.759945            0.7        0   \n",
       "4        -73.976252        40.748528            2.1        0   \n",
       "\n",
       "                         pickup  hour  time_spent  tip_amount  \n",
       "0          40.757977,-73.978165    15           6         0.0  \n",
       "1           40.731781,-74.00668     0           4         0.0  \n",
       "2           40.73777,-74.004711    18           4         0.0  \n",
       "3  40.759945,-73.97459999999998    23           4         0.0  \n",
       "4          40.748528,-73.976252    23           9         0.0  "
      ]
     },
     "execution_count": 30,
     "metadata": {},
     "output_type": "execute_result"
    }
   ],
   "source": [
    "bayesJanuary = january2013[['pickup_longitude','pickup_latitude','trip_distance','weekday','pickup','hour','time_spent','tip_amount']]\n",
    "print(bayesJanuary.shape)\n",
    "bayesJanuary.head()"
   ]
  },
  {
   "cell_type": "markdown",
   "metadata": {
    "collapsed": true
   },
   "source": [
    "Break it into steps\n",
    "\n",
    "If we just look at the day of the week they were picked up, how much would a taxi driver be given?"
   ]
  },
  {
   "cell_type": "code",
   "execution_count": 31,
   "metadata": {
    "collapsed": false
   },
   "outputs": [
    {
     "name": "stdout",
     "output_type": "stream",
     "text": [
      "weekday\n",
      "0    1654512\n",
      "1    2280963\n",
      "2    2308985\n",
      "3    2458213\n",
      "4    2040735\n",
      "5    2011008\n",
      "6    1742033\n",
      "dtype: int64\n",
      "Axes(0.125,0.125;0.775x0.775)\n"
     ]
    },
    {
     "data": {
      "image/png": "[encoded data removed]",
      "text/plain": [
       "<matplotlib.figure.Figure at 0x1d79b2e51d0>"
      ]
     },
     "metadata": {},
     "output_type": "display_data"
    }
   ],
   "source": [
    "print(bayesJanuary.groupby('weekday').size())\n",
    "print(bayesJanuary.groupby('weekday').tip_amount.mean().plot(kind='bar'))"
   ]
  },
  {
   "cell_type": "markdown",
   "metadata": {},
   "source": [
    "If we just look at the day of the week they were picked up and the hour they were picked up, how much would a taxi driver be given?"
   ]
  },
  {
   "cell_type": "code",
   "execution_count": 32,
   "metadata": {
    "collapsed": false
   },
   "outputs": [
    {
     "name": "stdout",
     "output_type": "stream",
     "text": [
      "weekday  hour\n",
      "0        0        39169\n",
      "         1        25772\n",
      "         2        17050\n",
      "         3        12102\n",
      "         4        11679\n",
      "         5        16689\n",
      "         6        41235\n",
      "         7        74002\n",
      "         8        94685\n",
      "         9        92086\n",
      "         10       79218\n",
      "         11       77407\n",
      "         12       83759\n",
      "         13       82990\n",
      "         14       90913\n",
      "         15       91782\n",
      "         16       79817\n",
      "         17       94034\n",
      "         18      114230\n",
      "         19      109153\n",
      "         20       95579\n",
      "         21       88863\n",
      "         22       84082\n",
      "         23       58216\n",
      "1        0        64842\n",
      "         1        52890\n",
      "         2        42314\n",
      "         3        33887\n",
      "         4        26648\n",
      "         5        26703\n",
      "                  ...  \n",
      "5        18      119556\n",
      "         19      127679\n",
      "         20      115315\n",
      "         21      111193\n",
      "         22      124902\n",
      "         23      131815\n",
      "6        0       125253\n",
      "         1       111428\n",
      "         2        95112\n",
      "         3        73022\n",
      "         4        44641\n",
      "         5        18793\n",
      "         6        16959\n",
      "         7        22560\n",
      "         8        33907\n",
      "         9        48766\n",
      "         10       69025\n",
      "         11       83252\n",
      "         12       92218\n",
      "         13       92920\n",
      "         14       94038\n",
      "         15       90679\n",
      "         16       85793\n",
      "         17       89870\n",
      "         18       97134\n",
      "         19       84628\n",
      "         20       75623\n",
      "         21       72567\n",
      "         22       67950\n",
      "         23       55895\n",
      "dtype: int64\n",
      "Axes(0.125,0.125;0.775x0.775)\n"
     ]
    },
    {
     "data": {
      "image/png": "[encoded data removed]",
      "text/plain": [
       "<matplotlib.figure.Figure at 0x1d70a422ac8>"
      ]
     },
     "metadata": {},
     "output_type": "display_data"
    }
   ],
   "source": [
    "print(bayesJanuary.groupby(['weekday','hour']).size())\n",
    "print(bayesJanuary.groupby(['weekday','hour']).tip_amount.mean().plot(kind='bar'))"
   ]
  },
  {
   "cell_type": "markdown",
   "metadata": {},
   "source": [
    "Let's look into one day of the week to understand what's going on..."
   ]
  },
  {
   "cell_type": "code",
   "execution_count": 33,
   "metadata": {
    "collapsed": false
   },
   "outputs": [
    {
     "name": "stdout",
     "output_type": "stream",
     "text": [
      "(1654512, 8)\n"
     ]
    },
    {
     "data": {
      "text/html": [
       "<div>\n",
       "<table border=\"1\" class=\"dataframe\">\n",
       "  <thead>\n",
       "    <tr style=\"text-align: right;\">\n",
       "      <th></th>\n",
       "      <th>pickup_longitude</th>\n",
       "      <th>pickup_latitude</th>\n",
       "      <th>trip_distance</th>\n",
       "      <th>weekday</th>\n",
       "      <th>pickup</th>\n",
       "      <th>hour</th>\n",
       "      <th>time_spent</th>\n",
       "      <th>tip_amount</th>\n",
       "    </tr>\n",
       "  </thead>\n",
       "  <tbody>\n",
       "    <tr>\n",
       "      <th>3</th>\n",
       "      <td>-73.974600</td>\n",
       "      <td>40.759945</td>\n",
       "      <td>0.7</td>\n",
       "      <td>0</td>\n",
       "      <td>40.759945,-73.97459999999998</td>\n",
       "      <td>23</td>\n",
       "      <td>4</td>\n",
       "      <td>0.0</td>\n",
       "    </tr>\n",
       "    <tr>\n",
       "      <th>4</th>\n",
       "      <td>-73.976252</td>\n",
       "      <td>40.748528</td>\n",
       "      <td>2.1</td>\n",
       "      <td>0</td>\n",
       "      <td>40.748528,-73.976252</td>\n",
       "      <td>23</td>\n",
       "      <td>9</td>\n",
       "      <td>0.0</td>\n",
       "    </tr>\n",
       "    <tr>\n",
       "      <th>5</th>\n",
       "      <td>-73.966743</td>\n",
       "      <td>40.764252</td>\n",
       "      <td>1.7</td>\n",
       "      <td>0</td>\n",
       "      <td>40.764252,-73.96674299999998</td>\n",
       "      <td>15</td>\n",
       "      <td>10</td>\n",
       "      <td>0.0</td>\n",
       "    </tr>\n",
       "    <tr>\n",
       "      <th>7</th>\n",
       "      <td>-73.989937</td>\n",
       "      <td>40.756773</td>\n",
       "      <td>10.7</td>\n",
       "      <td>0</td>\n",
       "      <td>40.756773,-73.989937</td>\n",
       "      <td>12</td>\n",
       "      <td>31</td>\n",
       "      <td>0.0</td>\n",
       "    </tr>\n",
       "    <tr>\n",
       "      <th>8</th>\n",
       "      <td>-73.980071</td>\n",
       "      <td>40.743138</td>\n",
       "      <td>0.8</td>\n",
       "      <td>0</td>\n",
       "      <td>40.743138,-73.98007099999998</td>\n",
       "      <td>18</td>\n",
       "      <td>5</td>\n",
       "      <td>0.0</td>\n",
       "    </tr>\n",
       "  </tbody>\n",
       "</table>\n",
       "</div>"
      ],
      "text/plain": [
       "   pickup_longitude  pickup_latitude  trip_distance  weekday  \\\n",
       "3        -73.974600        40.759945            0.7        0   \n",
       "4        -73.976252        40.748528            2.1        0   \n",
       "5        -73.966743        40.764252            1.7        0   \n",
       "7        -73.989937        40.756773           10.7        0   \n",
       "8        -73.980071        40.743138            0.8        0   \n",
       "\n",
       "                         pickup  hour  time_spent  tip_amount  \n",
       "3  40.759945,-73.97459999999998    23           4         0.0  \n",
       "4          40.748528,-73.976252    23           9         0.0  \n",
       "5  40.764252,-73.96674299999998    15          10         0.0  \n",
       "7          40.756773,-73.989937    12          31         0.0  \n",
       "8  40.743138,-73.98007099999998    18           5         0.0  "
      ]
     },
     "execution_count": 33,
     "metadata": {},
     "output_type": "execute_result"
    }
   ],
   "source": [
    "bayesJanuarymonday = bayesJanuary.loc[(bayesJanuary['weekday'] == 0)]\n",
    "print(bayesJanuarymonday.shape)\n",
    "bayesJanuarymonday.head()"
   ]
  },
  {
   "cell_type": "code",
   "execution_count": 34,
   "metadata": {
    "collapsed": false,
    "scrolled": true
   },
   "outputs": [
    {
     "name": "stdout",
     "output_type": "stream",
     "text": [
      "hour\n",
      "0      39169\n",
      "1      25772\n",
      "2      17050\n",
      "3      12102\n",
      "4      11679\n",
      "5      16689\n",
      "6      41235\n",
      "7      74002\n",
      "8      94685\n",
      "9      92086\n",
      "10     79218\n",
      "11     77407\n",
      "12     83759\n",
      "13     82990\n",
      "14     90913\n",
      "15     91782\n",
      "16     79817\n",
      "17     94034\n",
      "18    114230\n",
      "19    109153\n",
      "20     95579\n",
      "21     88863\n",
      "22     84082\n",
      "23     58216\n",
      "dtype: int64\n",
      "Axes(0.125,0.125;0.775x0.775)\n"
     ]
    },
    {
     "data": {
      "image/png": "[encoded data removed]",
      "text/plain": [
       "<matplotlib.figure.Figure at 0x1d70b9b6b38>"
      ]
     },
     "metadata": {},
     "output_type": "display_data"
    }
   ],
   "source": [
    "print(bayesJanuarymonday.groupby('hour').size())\n",
    "print(bayesJanuarymonday.groupby('hour').tip_amount.mean().plot(kind='bar'))"
   ]
  },
  {
   "cell_type": "markdown",
   "metadata": {},
   "source": [
    "So for each hour we can see the average tips, so at 5am an taxi driver can get the highest tips overall. What if we look into each location at 5am?"
   ]
  },
  {
   "cell_type": "code",
   "execution_count": 93,
   "metadata": {
    "collapsed": false
   },
   "outputs": [
    {
     "name": "stdout",
     "output_type": "stream",
     "text": [
      "(16689, 8)\n"
     ]
    },
    {
     "data": {
      "text/html": [
       "<div>\n",
       "<table border=\"1\" class=\"dataframe\">\n",
       "  <thead>\n",
       "    <tr style=\"text-align: right;\">\n",
       "      <th></th>\n",
       "      <th>pickup_longitude</th>\n",
       "      <th>pickup_latitude</th>\n",
       "      <th>trip_distance</th>\n",
       "      <th>weekday</th>\n",
       "      <th>pickup</th>\n",
       "      <th>hour</th>\n",
       "      <th>time_spent</th>\n",
       "      <th>tip_amount</th>\n",
       "    </tr>\n",
       "  </thead>\n",
       "  <tbody>\n",
       "    <tr>\n",
       "      <th>130545</th>\n",
       "      <td>-73.978370</td>\n",
       "      <td>40.729637</td>\n",
       "      <td>0.78</td>\n",
       "      <td>0</td>\n",
       "      <td>40.729637,-73.97837</td>\n",
       "      <td>5</td>\n",
       "      <td>2</td>\n",
       "      <td>0.0</td>\n",
       "    </tr>\n",
       "    <tr>\n",
       "      <th>130546</th>\n",
       "      <td>-73.994185</td>\n",
       "      <td>40.741147</td>\n",
       "      <td>1.28</td>\n",
       "      <td>0</td>\n",
       "      <td>40.741147,-73.994185</td>\n",
       "      <td>5</td>\n",
       "      <td>5</td>\n",
       "      <td>1.0</td>\n",
       "    </tr>\n",
       "    <tr>\n",
       "      <th>130547</th>\n",
       "      <td>-73.967368</td>\n",
       "      <td>40.763040</td>\n",
       "      <td>0.71</td>\n",
       "      <td>0</td>\n",
       "      <td>40.76304,-73.96736799999998</td>\n",
       "      <td>5</td>\n",
       "      <td>4</td>\n",
       "      <td>0.0</td>\n",
       "    </tr>\n",
       "    <tr>\n",
       "      <th>130548</th>\n",
       "      <td>-73.977662</td>\n",
       "      <td>40.752397</td>\n",
       "      <td>0.99</td>\n",
       "      <td>0</td>\n",
       "      <td>40.752397,-73.97766199999998</td>\n",
       "      <td>5</td>\n",
       "      <td>4</td>\n",
       "      <td>1.8</td>\n",
       "    </tr>\n",
       "    <tr>\n",
       "      <th>130549</th>\n",
       "      <td>-73.986625</td>\n",
       "      <td>40.746063</td>\n",
       "      <td>16.76</td>\n",
       "      <td>0</td>\n",
       "      <td>40.746063,-73.986625</td>\n",
       "      <td>5</td>\n",
       "      <td>32</td>\n",
       "      <td>0.0</td>\n",
       "    </tr>\n",
       "  </tbody>\n",
       "</table>\n",
       "</div>"
      ],
      "text/plain": [
       "        pickup_longitude  pickup_latitude  trip_distance  weekday  \\\n",
       "130545        -73.978370        40.729637           0.78        0   \n",
       "130546        -73.994185        40.741147           1.28        0   \n",
       "130547        -73.967368        40.763040           0.71        0   \n",
       "130548        -73.977662        40.752397           0.99        0   \n",
       "130549        -73.986625        40.746063          16.76        0   \n",
       "\n",
       "                              pickup  hour  time_spent  tip_amount  \n",
       "130545           40.729637,-73.97837     5           2         0.0  \n",
       "130546          40.741147,-73.994185     5           5         1.0  \n",
       "130547   40.76304,-73.96736799999998     5           4         0.0  \n",
       "130548  40.752397,-73.97766199999998     5           4         1.8  \n",
       "130549          40.746063,-73.986625     5          32         0.0  "
      ]
     },
     "execution_count": 93,
     "metadata": {},
     "output_type": "execute_result"
    }
   ],
   "source": [
    "bayesJanuarymonday5am = bayesJanuarymonday.loc[(bayesJanuarymonday['hour'] == 5)]\n",
    "print(bayesJanuarymonday5am.shape)\n",
    "bayesJanuarymonday5am.head()"
   ]
  },
  {
   "cell_type": "code",
   "execution_count": 94,
   "metadata": {
    "collapsed": false,
    "scrolled": true
   },
   "outputs": [],
   "source": [
    "#print(bayesJanuarymonday5am.groupby('pickup').size())\n",
    "averagetipsperlocation = bayesJanuarymonday5am.groupby('pickup').tip_amount.mean()\n",
    "averagetimeperlocation = bayesJanuarymonday5am.groupby('pickup').time_spent.mean()\n",
    "averagedistancesperlocation = bayesJanuarymonday5am.groupby('pickup').trip_distance.mean()\n",
    "avg_tip_loc_array = []\n",
    "avg_time_loc_array = []\n",
    "avg_distance_loc_array = []\n",
    "for data in averagetipsperlocation:\n",
    "    avg_tip_loc_array.append(data)\n",
    "for data in averagetimeperlocation:\n",
    "    avg_time_loc_array.append(data)\n",
    "for data in averagedistancesperlocation:\n",
    "    avg_distance_loc_array.append(data)"
   ]
  },
  {
   "cell_type": "code",
   "execution_count": 95,
   "metadata": {
    "collapsed": false
   },
   "outputs": [
    {
     "data": {
      "text/html": [
       "<div>\n",
       "<table border=\"1\" class=\"dataframe\">\n",
       "  <thead>\n",
       "    <tr style=\"text-align: right;\">\n",
       "      <th></th>\n",
       "      <th>pickup_longitude</th>\n",
       "      <th>pickup_latitude</th>\n",
       "      <th>trip_distance</th>\n",
       "      <th>weekday</th>\n",
       "      <th>pickup</th>\n",
       "      <th>hour</th>\n",
       "      <th>time_spent</th>\n",
       "      <th>tip_amount</th>\n",
       "      <th>avg_tip</th>\n",
       "      <th>avg_time_spent</th>\n",
       "      <th>avg_distance</th>\n",
       "    </tr>\n",
       "  </thead>\n",
       "  <tbody>\n",
       "    <tr>\n",
       "      <th>130545</th>\n",
       "      <td>-73.978370</td>\n",
       "      <td>40.729637</td>\n",
       "      <td>0.78</td>\n",
       "      <td>0</td>\n",
       "      <td>40.729637,-73.97837</td>\n",
       "      <td>5</td>\n",
       "      <td>2</td>\n",
       "      <td>0.0</td>\n",
       "      <td>18.9</td>\n",
       "      <td>38.0</td>\n",
       "      <td>21.66</td>\n",
       "    </tr>\n",
       "    <tr>\n",
       "      <th>130546</th>\n",
       "      <td>-73.994185</td>\n",
       "      <td>40.741147</td>\n",
       "      <td>1.28</td>\n",
       "      <td>0</td>\n",
       "      <td>40.741147,-73.994185</td>\n",
       "      <td>5</td>\n",
       "      <td>5</td>\n",
       "      <td>1.0</td>\n",
       "      <td>17.7</td>\n",
       "      <td>33.0</td>\n",
       "      <td>21.65</td>\n",
       "    </tr>\n",
       "    <tr>\n",
       "      <th>130547</th>\n",
       "      <td>-73.967368</td>\n",
       "      <td>40.763040</td>\n",
       "      <td>0.71</td>\n",
       "      <td>0</td>\n",
       "      <td>40.76304,-73.96736799999998</td>\n",
       "      <td>5</td>\n",
       "      <td>4</td>\n",
       "      <td>0.0</td>\n",
       "      <td>0.0</td>\n",
       "      <td>0.0</td>\n",
       "      <td>0.00</td>\n",
       "    </tr>\n",
       "    <tr>\n",
       "      <th>130548</th>\n",
       "      <td>-73.977662</td>\n",
       "      <td>40.752397</td>\n",
       "      <td>0.99</td>\n",
       "      <td>0</td>\n",
       "      <td>40.752397,-73.97766199999998</td>\n",
       "      <td>5</td>\n",
       "      <td>4</td>\n",
       "      <td>1.8</td>\n",
       "      <td>5.0</td>\n",
       "      <td>29.0</td>\n",
       "      <td>19.58</td>\n",
       "    </tr>\n",
       "    <tr>\n",
       "      <th>130549</th>\n",
       "      <td>-73.986625</td>\n",
       "      <td>40.746063</td>\n",
       "      <td>16.76</td>\n",
       "      <td>0</td>\n",
       "      <td>40.746063,-73.986625</td>\n",
       "      <td>5</td>\n",
       "      <td>32</td>\n",
       "      <td>0.0</td>\n",
       "      <td>0.0</td>\n",
       "      <td>3.0</td>\n",
       "      <td>1.00</td>\n",
       "    </tr>\n",
       "  </tbody>\n",
       "</table>\n",
       "</div>"
      ],
      "text/plain": [
       "        pickup_longitude  pickup_latitude  trip_distance  weekday  \\\n",
       "130545        -73.978370        40.729637           0.78        0   \n",
       "130546        -73.994185        40.741147           1.28        0   \n",
       "130547        -73.967368        40.763040           0.71        0   \n",
       "130548        -73.977662        40.752397           0.99        0   \n",
       "130549        -73.986625        40.746063          16.76        0   \n",
       "\n",
       "                              pickup  hour  time_spent  tip_amount  avg_tip  \\\n",
       "130545           40.729637,-73.97837     5           2         0.0     18.9   \n",
       "130546          40.741147,-73.994185     5           5         1.0     17.7   \n",
       "130547   40.76304,-73.96736799999998     5           4         0.0      0.0   \n",
       "130548  40.752397,-73.97766199999998     5           4         1.8      5.0   \n",
       "130549          40.746063,-73.986625     5          32         0.0      0.0   \n",
       "\n",
       "        avg_time_spent  avg_distance  \n",
       "130545            38.0         21.66  \n",
       "130546            33.0         21.65  \n",
       "130547             0.0          0.00  \n",
       "130548            29.0         19.58  \n",
       "130549             3.0          1.00  "
      ]
     },
     "execution_count": 95,
     "metadata": {},
     "output_type": "execute_result"
    }
   ],
   "source": [
    "bayesJanuarymonday5am = bayesJanuarymonday5am.drop_duplicates('pickup')\n",
    "bayesJanuarymonday5am['avg_tip'] = avg_tip_loc_array\n",
    "bayesJanuarymonday5am['avg_time_spent'] = avg_time_loc_array\n",
    "bayesJanuarymonday5am['avg_distance'] = avg_distance_loc_array\n",
    "bayesJanuarymonday5am.head()"
   ]
  },
  {
   "cell_type": "code",
   "execution_count": 96,
   "metadata": {
    "collapsed": false
   },
   "outputs": [
    {
     "data": {
      "text/html": [
       "<div>\n",
       "<table border=\"1\" class=\"dataframe\">\n",
       "  <thead>\n",
       "    <tr style=\"text-align: right;\">\n",
       "      <th></th>\n",
       "      <th>pickup_longitude</th>\n",
       "      <th>pickup_latitude</th>\n",
       "      <th>trip_distance</th>\n",
       "      <th>weekday</th>\n",
       "      <th>pickup</th>\n",
       "      <th>hour</th>\n",
       "      <th>time_spent</th>\n",
       "      <th>tip_amount</th>\n",
       "      <th>avg_tip</th>\n",
       "      <th>avg_time_spent</th>\n",
       "      <th>avg_distance</th>\n",
       "    </tr>\n",
       "  </thead>\n",
       "  <tbody>\n",
       "    <tr>\n",
       "      <th>130545</th>\n",
       "      <td>-73.978370</td>\n",
       "      <td>40.729637</td>\n",
       "      <td>0.78</td>\n",
       "      <td>0</td>\n",
       "      <td>40.729637,-73.97837</td>\n",
       "      <td>5</td>\n",
       "      <td>2</td>\n",
       "      <td>0.0</td>\n",
       "      <td>18.90</td>\n",
       "      <td>38.0</td>\n",
       "      <td>21.660</td>\n",
       "    </tr>\n",
       "    <tr>\n",
       "      <th>130546</th>\n",
       "      <td>-73.994185</td>\n",
       "      <td>40.741147</td>\n",
       "      <td>1.28</td>\n",
       "      <td>0</td>\n",
       "      <td>40.741147,-73.994185</td>\n",
       "      <td>5</td>\n",
       "      <td>5</td>\n",
       "      <td>1.0</td>\n",
       "      <td>17.70</td>\n",
       "      <td>33.0</td>\n",
       "      <td>21.650</td>\n",
       "    </tr>\n",
       "    <tr>\n",
       "      <th>130548</th>\n",
       "      <td>-73.977662</td>\n",
       "      <td>40.752397</td>\n",
       "      <td>0.99</td>\n",
       "      <td>0</td>\n",
       "      <td>40.752397,-73.97766199999998</td>\n",
       "      <td>5</td>\n",
       "      <td>4</td>\n",
       "      <td>1.8</td>\n",
       "      <td>5.00</td>\n",
       "      <td>29.0</td>\n",
       "      <td>19.580</td>\n",
       "    </tr>\n",
       "    <tr>\n",
       "      <th>130551</th>\n",
       "      <td>-73.990917</td>\n",
       "      <td>40.756755</td>\n",
       "      <td>1.01</td>\n",
       "      <td>0</td>\n",
       "      <td>40.756755,-73.99091699999998</td>\n",
       "      <td>5</td>\n",
       "      <td>2</td>\n",
       "      <td>0.0</td>\n",
       "      <td>1.28</td>\n",
       "      <td>14.0</td>\n",
       "      <td>4.136</td>\n",
       "    </tr>\n",
       "    <tr>\n",
       "      <th>130566</th>\n",
       "      <td>-73.971895</td>\n",
       "      <td>40.794662</td>\n",
       "      <td>3.77</td>\n",
       "      <td>0</td>\n",
       "      <td>40.794662,-73.971895</td>\n",
       "      <td>5</td>\n",
       "      <td>10</td>\n",
       "      <td>2.6</td>\n",
       "      <td>3.70</td>\n",
       "      <td>2.0</td>\n",
       "      <td>0.000</td>\n",
       "    </tr>\n",
       "  </tbody>\n",
       "</table>\n",
       "</div>"
      ],
      "text/plain": [
       "        pickup_longitude  pickup_latitude  trip_distance  weekday  \\\n",
       "130545        -73.978370        40.729637           0.78        0   \n",
       "130546        -73.994185        40.741147           1.28        0   \n",
       "130548        -73.977662        40.752397           0.99        0   \n",
       "130551        -73.990917        40.756755           1.01        0   \n",
       "130566        -73.971895        40.794662           3.77        0   \n",
       "\n",
       "                              pickup  hour  time_spent  tip_amount  avg_tip  \\\n",
       "130545           40.729637,-73.97837     5           2         0.0    18.90   \n",
       "130546          40.741147,-73.994185     5           5         1.0    17.70   \n",
       "130548  40.752397,-73.97766199999998     5           4         1.8     5.00   \n",
       "130551  40.756755,-73.99091699999998     5           2         0.0     1.28   \n",
       "130566          40.794662,-73.971895     5          10         2.6     3.70   \n",
       "\n",
       "        avg_time_spent  avg_distance  \n",
       "130545            38.0        21.660  \n",
       "130546            33.0        21.650  \n",
       "130548            29.0        19.580  \n",
       "130551            14.0         4.136  \n",
       "130566             2.0         0.000  "
      ]
     },
     "execution_count": 96,
     "metadata": {},
     "output_type": "execute_result"
    }
   ],
   "source": [
    "bayesJanuarymonday5am_remove_non_tips = bayesJanuarymonday5am.loc[(bayesJanuarymonday5am['avg_tip'] > 0.0)]\n",
    "bayesJanuarymonday5am_remove_non_tips.head()"
   ]
  },
  {
   "cell_type": "code",
   "execution_count": 97,
   "metadata": {
    "collapsed": false
   },
   "outputs": [
    {
     "data": {
      "text/plain": [
       "((16598, 11), (8423, 11))"
      ]
     },
     "execution_count": 97,
     "metadata": {},
     "output_type": "execute_result"
    }
   ],
   "source": [
    "bayesJanuarymonday5am.shape, bayesJanuarymonday5am_remove_non_tips.shape"
   ]
  },
  {
   "cell_type": "markdown",
   "metadata": {},
   "source": [
    "We now know the average tips given to a taxi driver based on day of the week and the hour the customer was picked up for each location at 5 am in the morning on a Monday"
   ]
  },
  {
   "cell_type": "code",
   "execution_count": null,
   "metadata": {
    "collapsed": true
   },
   "outputs": [],
   "source": []
  }
 ],
 "metadata": {
  "anaconda-cloud": {},
  "kernelspec": {
   "display_name": "Python [conda root]",
   "language": "python",
   "name": "conda-root-py"
  },
  "language_info": {
   "codemirror_mode": {
    "name": "ipython",
    "version": 3
   },
   "file_extension": ".py",
   "mimetype": "text/x-python",
   "name": "python",
   "nbconvert_exporter": "python",
   "pygments_lexer": "ipython3",
   "version": "3.5.2"
  }
 },
 "nbformat": 4,
 "nbformat_minor": 1
}
