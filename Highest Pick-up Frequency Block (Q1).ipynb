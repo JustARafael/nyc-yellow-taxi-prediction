{
 "cells": [
  {
   "cell_type": "markdown",
   "metadata": {},
   "source": [
    "# Predict the best block for the driver to pick up based on the time of the day and day of the week."
   ]
  },
  {
   "cell_type": "code",
   "execution_count": 1,
   "metadata": {
    "collapsed": true
   },
   "outputs": [],
   "source": [
    "import matplotlib.pyplot as plt\n",
    "import numpy as np\n",
    "import pandas as pd\n",
    "%matplotlib inline"
   ]
  },
  {
   "cell_type": "markdown",
   "metadata": {},
   "source": [
    "# Drop off useless data"
   ]
  },
  {
   "cell_type": "code",
   "execution_count": 2,
   "metadata": {
    "collapsed": false,
    "scrolled": true
   },
   "outputs": [
    {
     "data": {
      "text/html": [
       "<div>\n",
       "<table border=\"1\" class=\"dataframe\">\n",
       "  <thead>\n",
       "    <tr style=\"text-align: right;\">\n",
       "      <th></th>\n",
       "      <th>pickup_datetime</th>\n",
       "      <th>pickup_longitude</th>\n",
       "      <th>pickup_latitude</th>\n",
       "      <th>tip_amount</th>\n",
       "    </tr>\n",
       "  </thead>\n",
       "  <tbody>\n",
       "    <tr>\n",
       "      <th>0</th>\n",
       "      <td>2012-01-10 23:55:50</td>\n",
       "      <td>-73.994693</td>\n",
       "      <td>40.725031</td>\n",
       "      <td>1.00</td>\n",
       "    </tr>\n",
       "    <tr>\n",
       "      <th>1</th>\n",
       "      <td>2012-01-11 19:18:25</td>\n",
       "      <td>-73.987955</td>\n",
       "      <td>40.752947</td>\n",
       "      <td>0.00</td>\n",
       "    </tr>\n",
       "    <tr>\n",
       "      <th>2</th>\n",
       "      <td>2012-01-11 19:19:19</td>\n",
       "      <td>-73.783093</td>\n",
       "      <td>40.648550</td>\n",
       "      <td>10.06</td>\n",
       "    </tr>\n",
       "    <tr>\n",
       "      <th>3</th>\n",
       "      <td>2012-01-11 19:19:21</td>\n",
       "      <td>-73.967515</td>\n",
       "      <td>40.758454</td>\n",
       "      <td>1.00</td>\n",
       "    </tr>\n",
       "    <tr>\n",
       "      <th>4</th>\n",
       "      <td>2012-01-11 14:38:15</td>\n",
       "      <td>-74.011315</td>\n",
       "      <td>40.711449</td>\n",
       "      <td>0.00</td>\n",
       "    </tr>\n",
       "  </tbody>\n",
       "</table>\n",
       "</div>"
      ],
      "text/plain": [
       "       pickup_datetime  pickup_longitude  pickup_latitude  tip_amount\n",
       "0  2012-01-10 23:55:50        -73.994693        40.725031        1.00\n",
       "1  2012-01-11 19:18:25        -73.987955        40.752947        0.00\n",
       "2  2012-01-11 19:19:19        -73.783093        40.648550       10.06\n",
       "3  2012-01-11 19:19:21        -73.967515        40.758454        1.00\n",
       "4  2012-01-11 14:38:15        -74.011315        40.711449        0.00"
      ]
     },
     "execution_count": 2,
     "metadata": {},
     "output_type": "execute_result"
    }
   ],
   "source": [
    "data_2012_01=pd.read_csv(\"datasets/yellow_tripdata_2012-01.csv\")\n",
    "data_2012_01=data_2012_01.drop(\"Unnamed: 0\",1)\n",
    "data_2012_01=data_2012_01.drop(\"passenger_count\",1)\n",
    "data_2012_01=data_2012_01.drop(\"dropoff_datetime\",1)\n",
    "data_2012_01=data_2012_01.drop(\"trip_distance\",1)\n",
    "data_2012_01=data_2012_01.drop(\"dropoff_longitude\",1)\n",
    "data_2012_01=data_2012_01.drop(\"dropoff_latitude\",1)\n",
    "data_2012_01=data_2012_01.drop(\"total_amount\",1)\n",
    "data_2012_01.head()"
   ]
  },
  {
   "cell_type": "code",
   "execution_count": 3,
   "metadata": {
    "collapsed": false
   },
   "outputs": [
    {
     "data": {
      "text/html": [
       "<div>\n",
       "<table border=\"1\" class=\"dataframe\">\n",
       "  <thead>\n",
       "    <tr style=\"text-align: right;\">\n",
       "      <th></th>\n",
       "      <th>pickup_datetime</th>\n",
       "      <th>pickup_longitude</th>\n",
       "      <th>pickup_latitude</th>\n",
       "      <th>tip_amount</th>\n",
       "      <th>weekday</th>\n",
       "    </tr>\n",
       "  </thead>\n",
       "  <tbody>\n",
       "    <tr>\n",
       "      <th>0</th>\n",
       "      <td>2012-01-10 23:55:50</td>\n",
       "      <td>-73.994693</td>\n",
       "      <td>40.725031</td>\n",
       "      <td>1.00</td>\n",
       "      <td>1</td>\n",
       "    </tr>\n",
       "    <tr>\n",
       "      <th>1</th>\n",
       "      <td>2012-01-11 19:18:25</td>\n",
       "      <td>-73.987955</td>\n",
       "      <td>40.752947</td>\n",
       "      <td>0.00</td>\n",
       "      <td>2</td>\n",
       "    </tr>\n",
       "    <tr>\n",
       "      <th>2</th>\n",
       "      <td>2012-01-11 19:19:19</td>\n",
       "      <td>-73.783093</td>\n",
       "      <td>40.648550</td>\n",
       "      <td>10.06</td>\n",
       "      <td>2</td>\n",
       "    </tr>\n",
       "    <tr>\n",
       "      <th>3</th>\n",
       "      <td>2012-01-11 19:19:21</td>\n",
       "      <td>-73.967515</td>\n",
       "      <td>40.758454</td>\n",
       "      <td>1.00</td>\n",
       "      <td>2</td>\n",
       "    </tr>\n",
       "    <tr>\n",
       "      <th>4</th>\n",
       "      <td>2012-01-11 14:38:15</td>\n",
       "      <td>-74.011315</td>\n",
       "      <td>40.711449</td>\n",
       "      <td>0.00</td>\n",
       "      <td>2</td>\n",
       "    </tr>\n",
       "  </tbody>\n",
       "</table>\n",
       "</div>"
      ],
      "text/plain": [
       "       pickup_datetime  pickup_longitude  pickup_latitude  tip_amount  weekday\n",
       "0  2012-01-10 23:55:50        -73.994693        40.725031        1.00        1\n",
       "1  2012-01-11 19:18:25        -73.987955        40.752947        0.00        2\n",
       "2  2012-01-11 19:19:19        -73.783093        40.648550       10.06        2\n",
       "3  2012-01-11 19:19:21        -73.967515        40.758454        1.00        2\n",
       "4  2012-01-11 14:38:15        -74.011315        40.711449        0.00        2"
      ]
     },
     "execution_count": 3,
     "metadata": {},
     "output_type": "execute_result"
    }
   ],
   "source": [
    "jan_time=pd.to_datetime(pd.Series(data_2012_01[\"pickup_datetime\"]))\n",
    "jan_time_list=[]\n",
    "for index in jan_time:\n",
    "    jan_time_list.append(index.dayofweek)\n",
    "data_2012_01[\"weekday\"]=jan_time_list\n",
    "data_2012_01.head()"
   ]
  },
  {
   "cell_type": "code",
   "execution_count": 4,
   "metadata": {
    "collapsed": false,
    "scrolled": true
   },
   "outputs": [
    {
     "name": "stdout",
     "output_type": "stream",
     "text": [
      "(2098157, 5)\n"
     ]
    }
   ],
   "source": [
    "jan_2012_mon=pd.DataFrame(data_2012_01)\n",
    "jan_2012_mon=jan_2012_mon.loc[jan_2012_mon[\"weekday\"]==0]\n",
    "jan_2012_mon=jan_2012_mon.reset_index(drop=True)\n",
    "print(jan_2012_mon.shape)"
   ]
  },
  {
   "cell_type": "markdown",
   "metadata": {},
   "source": [
    "# Narrow the data to New York City only"
   ]
  },
  {
   "cell_type": "code",
   "execution_count": 5,
   "metadata": {
    "collapsed": false,
    "scrolled": true
   },
   "outputs": [
    {
     "data": {
      "text/plain": [
       "(2048831, 5)"
      ]
     },
     "execution_count": 5,
     "metadata": {},
     "output_type": "execute_result"
    }
   ],
   "source": [
    "jan_2012_mon=jan_2012_mon[jan_2012_mon.pickup_longitude!=0]\n",
    "jan_2012_mon=jan_2012_mon[jan_2012_mon.pickup_latitude!=0]\n",
    "jan_2012_mon=jan_2012_mon[jan_2012_mon.pickup_latitude>40]\n",
    "jan_2012_mon=jan_2012_mon[jan_2012_mon.pickup_latitude<41]\n",
    "jan_2012_mon=jan_2012_mon[jan_2012_mon.pickup_longitude>-74.5]\n",
    "jan_2012_mon=jan_2012_mon[jan_2012_mon.pickup_longitude<-72.5]\n",
    "jan_2012_mon.shape"
   ]
  },
  {
   "cell_type": "markdown",
   "metadata": {
    "collapsed": true
   },
   "source": [
    "# Assume our location is at the following longitude and latitude"
   ]
  },
  {
   "cell_type": "code",
   "execution_count": 6,
   "metadata": {
    "collapsed": false,
    "scrolled": true
   },
   "outputs": [
    {
     "data": {
      "text/html": [
       "<div>\n",
       "<table border=\"1\" class=\"dataframe\">\n",
       "  <thead>\n",
       "    <tr style=\"text-align: right;\">\n",
       "      <th></th>\n",
       "      <th>pickup_datetime</th>\n",
       "      <th>pickup_longitude</th>\n",
       "      <th>pickup_latitude</th>\n",
       "      <th>tip_amount</th>\n",
       "      <th>weekday</th>\n",
       "    </tr>\n",
       "  </thead>\n",
       "  <tbody>\n",
       "    <tr>\n",
       "      <th>0</th>\n",
       "      <td>2012-01-09 19:14:00</td>\n",
       "      <td>-73.993335</td>\n",
       "      <td>40.727717</td>\n",
       "      <td>0.0</td>\n",
       "      <td>0</td>\n",
       "    </tr>\n",
       "  </tbody>\n",
       "</table>\n",
       "</div>"
      ],
      "text/plain": [
       "       pickup_datetime  pickup_longitude  pickup_latitude  tip_amount  weekday\n",
       "0  2012-01-09 19:14:00        -73.993335        40.727717         0.0        0"
      ]
     },
     "execution_count": 6,
     "metadata": {},
     "output_type": "execute_result"
    }
   ],
   "source": [
    "jan_2012_mon.head(1)"
   ]
  },
  {
   "cell_type": "markdown",
   "metadata": {
    "collapsed": true
   },
   "source": [
    "# Then we search within 1 mile of our location\n",
    "## *1 mile change is approximately 0.018 degree change for coordinates"
   ]
  },
  {
   "cell_type": "code",
   "execution_count": 7,
   "metadata": {
    "collapsed": false
   },
   "outputs": [
    {
     "data": {
      "text/plain": [
       "(560846, 5)"
      ]
     },
     "execution_count": 7,
     "metadata": {},
     "output_type": "execute_result"
    }
   ],
   "source": [
    "in_range=jan_2012_mon.loc[jan_2012_mon[\"pickup_longitude\"]>=-73.993335-0.018]\n",
    "in_range=in_range.loc[in_range[\"pickup_longitude\"]<=-73.993335+0.018]\n",
    "in_range=in_range.loc[in_range[\"pickup_latitude\"]<=40.727717+0.018]\n",
    "in_range=in_range.loc[in_range[\"pickup_latitude\"]>=40.727717-0.018]\n",
    "in_range.shape"
   ]
  },
  {
   "cell_type": "code",
   "execution_count": 8,
   "metadata": {
    "collapsed": false
   },
   "outputs": [
    {
     "data": {
      "text/html": [
       "<div>\n",
       "<table border=\"1\" class=\"dataframe\">\n",
       "  <thead>\n",
       "    <tr style=\"text-align: right;\">\n",
       "      <th></th>\n",
       "      <th>pickup_datetime</th>\n",
       "      <th>pickup_longitude</th>\n",
       "      <th>pickup_latitude</th>\n",
       "      <th>tip_amount</th>\n",
       "      <th>weekday</th>\n",
       "      <th>time</th>\n",
       "    </tr>\n",
       "  </thead>\n",
       "  <tbody>\n",
       "    <tr>\n",
       "      <th>0</th>\n",
       "      <td>2012-01-09 19:14:00</td>\n",
       "      <td>-73.993335</td>\n",
       "      <td>40.727717</td>\n",
       "      <td>0.0</td>\n",
       "      <td>0</td>\n",
       "      <td>19</td>\n",
       "    </tr>\n",
       "    <tr>\n",
       "      <th>6</th>\n",
       "      <td>2012-01-09 17:12:42</td>\n",
       "      <td>-74.004338</td>\n",
       "      <td>40.724819</td>\n",
       "      <td>0.0</td>\n",
       "      <td>0</td>\n",
       "      <td>17</td>\n",
       "    </tr>\n",
       "    <tr>\n",
       "      <th>13</th>\n",
       "      <td>2012-01-09 22:00:58</td>\n",
       "      <td>-74.004840</td>\n",
       "      <td>40.730261</td>\n",
       "      <td>0.0</td>\n",
       "      <td>0</td>\n",
       "      <td>22</td>\n",
       "    </tr>\n",
       "    <tr>\n",
       "      <th>14</th>\n",
       "      <td>2012-01-09 22:00:40</td>\n",
       "      <td>-73.998459</td>\n",
       "      <td>40.729385</td>\n",
       "      <td>0.0</td>\n",
       "      <td>0</td>\n",
       "      <td>22</td>\n",
       "    </tr>\n",
       "    <tr>\n",
       "      <th>18</th>\n",
       "      <td>2012-01-09 22:03:06</td>\n",
       "      <td>-73.998232</td>\n",
       "      <td>40.726148</td>\n",
       "      <td>0.0</td>\n",
       "      <td>0</td>\n",
       "      <td>22</td>\n",
       "    </tr>\n",
       "  </tbody>\n",
       "</table>\n",
       "</div>"
      ],
      "text/plain": [
       "        pickup_datetime  pickup_longitude  pickup_latitude  tip_amount  \\\n",
       "0   2012-01-09 19:14:00        -73.993335        40.727717         0.0   \n",
       "6   2012-01-09 17:12:42        -74.004338        40.724819         0.0   \n",
       "13  2012-01-09 22:00:58        -74.004840        40.730261         0.0   \n",
       "14  2012-01-09 22:00:40        -73.998459        40.729385         0.0   \n",
       "18  2012-01-09 22:03:06        -73.998232        40.726148         0.0   \n",
       "\n",
       "    weekday  time  \n",
       "0         0    19  \n",
       "6         0    17  \n",
       "13        0    22  \n",
       "14        0    22  \n",
       "18        0    22  "
      ]
     },
     "execution_count": 8,
     "metadata": {},
     "output_type": "execute_result"
    }
   ],
   "source": [
    "in_range_time_list=list(in_range[\"pickup_datetime\"])\n",
    "in_range_hour=[]\n",
    "for e in in_range_time_list:\n",
    "    in_range_hour.append(pd.to_datetime(e).hour)\n",
    "in_range[\"time\"]=in_range_hour\n",
    "in_range.head()"
   ]
  },
  {
   "cell_type": "markdown",
   "metadata": {},
   "source": [
    "# Assume the current time is 7:30 PM\n",
    "## *we look for data between 7 PM and 8 PM inclusively"
   ]
  },
  {
   "cell_type": "code",
   "execution_count": 9,
   "metadata": {
    "collapsed": false
   },
   "outputs": [
    {
     "data": {
      "text/plain": [
       "(73433, 6)"
      ]
     },
     "execution_count": 9,
     "metadata": {},
     "output_type": "execute_result"
    }
   ],
   "source": [
    "in_time=in_range.loc[in_range[\"time\"]<21]\n",
    "in_time=in_time.loc[in_range[\"time\"]>18]\n",
    "in_time.shape"
   ]
  },
  {
   "cell_type": "code",
   "execution_count": 10,
   "metadata": {
    "collapsed": false,
    "scrolled": false
   },
   "outputs": [],
   "source": [
    "import matplotlib.path as mplPath\n",
    "\n",
    "def indexZones(shapeFilename):\n",
    "    import rtree\n",
    "    import fiona.crs\n",
    "    import geopandas as gpd\n",
    "    index = rtree.Rtree()\n",
    "    zones = gpd.read_file(shapeFilename).to_crs(fiona.crs.from_epsg(2263))\n",
    "    for idx,geometry in enumerate(zones.geometry):\n",
    "        index.insert(idx, geometry.bounds)\n",
    "    return (index, zones)\n",
    "\n",
    "def findBlock(p, index, zones):\n",
    "    match = index.intersection((p.x, p.y, p.x, p.y))\n",
    "    for idx in match:\n",
    "        z = mplPath.Path(np.array(zones.geometry[idx].exterior))\n",
    "        if z.contains_point(np.array(p)):\n",
    "            return zones['OBJECTID'][idx]\n",
    "    return -1\n",
    "\n",
    "def mapToZone(parts):\n",
    "    import pyproj\n",
    "    import shapely.geometry as geom\n",
    "    proj = pyproj.Proj(init=\"epsg:2263\", preserve_units=True)    \n",
    "    index, zones = indexZones(\"datasets/block-groups-polygons.geojson\")\n",
    "    i=0\n",
    "    for line in parts:\n",
    "        if (line[\"pickup_longitude\"] and line[\"pickup_latitude\"]):\n",
    "            pickup_location  = geom.Point(proj(float(line[\"pickup_longitude\"]), float(line[\"pickup_latitude\"])))\n",
    "            try:\n",
    "                block_id_list.append(findBlock(pickup_location, index, zones))\n",
    "            except AttributeError:\n",
    "                drop_list.append(i)\n",
    "        i+=1\n",
    "\n",
    "drop_list=[]\n",
    "block_id_list=[]"
   ]
  },
  {
   "cell_type": "code",
   "execution_count": 11,
   "metadata": {
    "collapsed": false
   },
   "outputs": [],
   "source": [
    "mapToZone(in_time.T.to_dict().values())"
   ]
  },
  {
   "cell_type": "code",
   "execution_count": 12,
   "metadata": {
    "collapsed": false,
    "scrolled": true
   },
   "outputs": [
    {
     "name": "stdout",
     "output_type": "stream",
     "text": [
      "True\n"
     ]
    }
   ],
   "source": [
    "print((len(drop_list)+len(block_id_list))==in_time.shape[0])"
   ]
  },
  {
   "cell_type": "code",
   "execution_count": 13,
   "metadata": {
    "collapsed": false,
    "scrolled": true
   },
   "outputs": [
    {
     "data": {
      "text/html": [
       "<div>\n",
       "<table border=\"1\" class=\"dataframe\">\n",
       "  <thead>\n",
       "    <tr style=\"text-align: right;\">\n",
       "      <th></th>\n",
       "      <th>pickup_datetime</th>\n",
       "      <th>pickup_longitude</th>\n",
       "      <th>pickup_latitude</th>\n",
       "      <th>tip_amount</th>\n",
       "      <th>weekday</th>\n",
       "      <th>time</th>\n",
       "      <th>block_id</th>\n",
       "    </tr>\n",
       "  </thead>\n",
       "  <tbody>\n",
       "    <tr>\n",
       "      <th>0</th>\n",
       "      <td>2012-01-09 19:14:00</td>\n",
       "      <td>-73.993335</td>\n",
       "      <td>40.727717</td>\n",
       "      <td>0.00</td>\n",
       "      <td>0</td>\n",
       "      <td>19</td>\n",
       "      <td>9547</td>\n",
       "    </tr>\n",
       "    <tr>\n",
       "      <th>1</th>\n",
       "      <td>2012-01-09 20:28:05</td>\n",
       "      <td>-73.985030</td>\n",
       "      <td>40.724199</td>\n",
       "      <td>1.98</td>\n",
       "      <td>0</td>\n",
       "      <td>20</td>\n",
       "      <td>9037</td>\n",
       "    </tr>\n",
       "    <tr>\n",
       "      <th>2</th>\n",
       "      <td>2012-01-09 20:56:07</td>\n",
       "      <td>-74.000189</td>\n",
       "      <td>40.737766</td>\n",
       "      <td>1.58</td>\n",
       "      <td>0</td>\n",
       "      <td>20</td>\n",
       "      <td>10157</td>\n",
       "    </tr>\n",
       "    <tr>\n",
       "      <th>3</th>\n",
       "      <td>2012-01-09 20:56:12</td>\n",
       "      <td>-74.007974</td>\n",
       "      <td>40.734792</td>\n",
       "      <td>1.65</td>\n",
       "      <td>0</td>\n",
       "      <td>20</td>\n",
       "      <td>9595</td>\n",
       "    </tr>\n",
       "    <tr>\n",
       "      <th>4</th>\n",
       "      <td>2012-01-09 20:51:13</td>\n",
       "      <td>-73.989731</td>\n",
       "      <td>40.730629</td>\n",
       "      <td>2.78</td>\n",
       "      <td>0</td>\n",
       "      <td>20</td>\n",
       "      <td>9040</td>\n",
       "    </tr>\n",
       "  </tbody>\n",
       "</table>\n",
       "</div>"
      ],
      "text/plain": [
       "       pickup_datetime  pickup_longitude  pickup_latitude  tip_amount  \\\n",
       "0  2012-01-09 19:14:00        -73.993335        40.727717        0.00   \n",
       "1  2012-01-09 20:28:05        -73.985030        40.724199        1.98   \n",
       "2  2012-01-09 20:56:07        -74.000189        40.737766        1.58   \n",
       "3  2012-01-09 20:56:12        -74.007974        40.734792        1.65   \n",
       "4  2012-01-09 20:51:13        -73.989731        40.730629        2.78   \n",
       "\n",
       "   weekday  time  block_id  \n",
       "0        0    19      9547  \n",
       "1        0    20      9037  \n",
       "2        0    20     10157  \n",
       "3        0    20      9595  \n",
       "4        0    20      9040  "
      ]
     },
     "execution_count": 13,
     "metadata": {},
     "output_type": "execute_result"
    }
   ],
   "source": [
    "in_time=in_time.drop(in_time.index[drop_list])\n",
    "in_time[\"block_id\"]=block_id_list\n",
    "in_time=in_time.reset_index(drop=True)\n",
    "in_time=in_time.loc[in_time[\"block_id\"]!=-1]\n",
    "in_time.head()"
   ]
  },
  {
   "cell_type": "code",
   "execution_count": 14,
   "metadata": {
    "collapsed": true
   },
   "outputs": [],
   "source": [
    "d1=pd.read_csv(\"datasets/2012-1-0-id-78.csv\")\n",
    "d2=pd.read_csv(\"datasets/2012-2-0-id-78.csv\")\n",
    "d3=pd.read_csv(\"datasets/2012-3-0-id-78.csv\")\n",
    "d4=pd.read_csv(\"datasets/2012-4-0-id-78.csv\")\n",
    "d5=pd.read_csv(\"datasets/2012-5-0-id-78.csv\")\n",
    "d6=pd.read_csv(\"datasets/2012-6-0-id-78.csv\")\n",
    "d7=pd.read_csv(\"datasets/2012-7-0-id-78.csv\")\n",
    "d8=pd.read_csv(\"datasets/2012-8-0-id-78.csv\")\n",
    "d9=pd.read_csv(\"datasets/2012-9-0-id-78.csv\")\n",
    "d10=pd.read_csv(\"datasets/2012-10-0-id-78.csv\")\n",
    "d11=pd.read_csv(\"datasets/2012-11-0-id-78.csv\")\n",
    "d12=pd.read_csv(\"datasets/2012-12-0-id-78.csv\")"
   ]
  },
  {
   "cell_type": "code",
   "execution_count": 15,
   "metadata": {
    "collapsed": false
   },
   "outputs": [],
   "source": [
    "combine=[d1,d2,d3,d4,d5,d6,d7,d8,d9,d10,d11,d12]\n",
    "result = pd.concat(combine)"
   ]
  },
  {
   "cell_type": "code",
   "execution_count": 42,
   "metadata": {
    "collapsed": false
   },
   "outputs": [],
   "source": [
    "from sklearn.cluster import KMeans\n",
    "plon=result['pickup_longitude'].values\n",
    "plat=result['pickup_latitude'].values\n",
    "coodinates=np.array([[plon[i],plat[i]] for i in range(len(plon))])\n",
    "kmeans_n = KMeans(n_clusters=333,  n_init=1)\n",
    "kmeans_n.fit(coodinates)\n",
    "labels = kmeans_n.labels_\n",
    "result[\"label\"]=labels"
   ]
  },
  {
   "cell_type": "code",
   "execution_count": 43,
   "metadata": {
    "collapsed": false
   },
   "outputs": [],
   "source": [
    "ls=result.groupby('label').size()\n",
    "ls=np.array([[ls[i]] for i in range(len(ls))])\n",
    "lc=kmeans_n.cluster_centers_\n",
    "train_s=int(len(ls)*0.8)\n",
    "test_s=int(len(ls)*0.2)\n",
    "train_f=ls[:train_s]\n",
    "train_r=lc[:train_s]\n",
    "test_f=ls[test_s:]\n",
    "test_r=lc[test_s:]"
   ]
  },
  {
   "cell_type": "code",
   "execution_count": 84,
   "metadata": {
    "collapsed": false
   },
   "outputs": [
    {
     "name": "stdout",
     "output_type": "stream",
     "text": [
      "(0.11851685396606287, 0.091989863056934115)\n"
     ]
    }
   ],
   "source": [
    "from sklearn import linear_model\n",
    "from sklearn.linear_model import LinearRegression\n",
    "from sklearn.preprocessing import PolynomialFeatures\n",
    "from sklearn.pipeline import Pipeline\n",
    "\n",
    "\n",
    "def fit_model(X, y):\n",
    "    model = Pipeline([('poly', PolynomialFeatures(degree=4)),\n",
    "                ('linear', LinearRegression(fit_intercept=False))])\n",
    "    model.fit(X, y)\n",
    "    return model\n",
    "\n",
    "def score_model(model, X, y, Xv, yv):\n",
    "    return tuple([model.score(X, y), model.score(Xv, yv)])\n",
    "\n",
    "def fit_model_and_score(data, response, validation, val_response):\n",
    "    model = fit_model(data, response)\n",
    "    return score_model(model, data, response, validation, val_response)\n",
    "\n",
    "print (fit_model_and_score(train_f, train_r,\n",
    "                           test_f, test_r))"
   ]
  },
  {
   "cell_type": "code",
   "execution_count": 83,
   "metadata": {
    "collapsed": false
   },
   "outputs": [
    {
     "name": "stderr",
     "output_type": "stream",
     "text": [
      "/Users/RAFAELLICHEN/anaconda/lib/python3.5/site-packages/sklearn/utils/validation.py:386: DeprecationWarning: Passing 1d arrays as data is deprecated in 0.17 and willraise ValueError in 0.19. Reshape your data either using X.reshape(-1, 1) if your data has a single feature or X.reshape(1, -1) if it contains a single sample.\n",
      "  DeprecationWarning)\n"
     ]
    },
    {
     "data": {
      "text/plain": [
       "array([[-73.99417684,  40.73509588]])"
      ]
     },
     "execution_count": 83,
     "metadata": {},
     "output_type": "execute_result"
    }
   ],
   "source": [
    "X=ls\n",
    "y=lc\n",
    "\n",
    "model=Pipeline([('poly', PolynomialFeatures(degree=4)),\n",
    "                ('linear', LinearRegression(fit_intercept=False))])\n",
    "model.fit(X, y)\n",
    "X_pred=(max(ls))\n",
    "y_pred=model.predict(X_predict)\n",
    "y_pred"
   ]
  },
  {
   "cell_type": "code",
   "execution_count": 85,
   "metadata": {
    "collapsed": false
   },
   "outputs": [
    {
     "name": "stdout",
     "output_type": "stream",
     "text": [
      "388 Lafayette Street, New York\n"
     ]
    }
   ],
   "source": [
    "original=[[-73.993335,40.727717]]\n",
    "from pygeocoder import Geocoder\n",
    "predicted_location = Geocoder.reverse_geocode(original[0][1], original[0][0])\n",
    "# predicted_location.street_address might not be applicable\n",
    "if predicted_location.street_address:\n",
    "    predicted_address = predicted_location.street_address\n",
    "else:\n",
    "    predicted_address = '%s %s, %s' %(predicted_location.street_number, predicted_location.route, predicted_location.city)\n",
    "print (predicted_address)"
   ]
  },
  {
   "cell_type": "code",
   "execution_count": 86,
   "metadata": {
    "collapsed": false
   },
   "outputs": [
    {
     "name": "stdout",
     "output_type": "stream",
     "text": [
      "59 5th Avenue, New York\n"
     ]
    }
   ],
   "source": [
    "from pygeocoder import Geocoder\n",
    "predicted_location = Geocoder.reverse_geocode(y_pred[0][1], y_pred[0][0])\n",
    "# predicted_location.street_address might not be applicable\n",
    "if predicted_location.street_address:\n",
    "    predicted_address = predicted_location.street_address\n",
    "else:\n",
    "    predicted_address = '%s %s, %s' %(predicted_location.street_number, predicted_location.route, predicted_location.city)\n",
    "print (predicted_address)"
   ]
  }
 ],
 "metadata": {
  "anaconda-cloud": {},
  "kernelspec": {
   "display_name": "Python [Root]",
   "language": "python",
   "name": "Python [Root]"
  },
  "language_info": {
   "codemirror_mode": {
    "name": "ipython",
    "version": 3
   },
   "file_extension": ".py",
   "mimetype": "text/x-python",
   "name": "python",
   "nbconvert_exporter": "python",
   "pygments_lexer": "ipython3",
   "version": "3.5.2"
  }
 },
 "nbformat": 4,
 "nbformat_minor": 0
}
