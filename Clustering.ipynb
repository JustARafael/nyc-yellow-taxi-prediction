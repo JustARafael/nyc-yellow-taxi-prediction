{
 "cells": [
  {
   "cell_type": "markdown",
   "metadata": {},
   "source": [
    "Testing Clustering on January 2013"
   ]
  },
  {
   "cell_type": "code",
   "execution_count": 1,
   "metadata": {
    "collapsed": true
   },
   "outputs": [],
   "source": [
    "import pandas as pd\n",
    "import numpy as np\n",
    "import matplotlib.pyplot as plt\n",
    "from sklearn.cluster import KMeans\n",
    "%matplotlib inline"
   ]
  },
  {
   "cell_type": "code",
   "execution_count": 2,
   "metadata": {
    "collapsed": true
   },
   "outputs": [],
   "source": [
    "january2013=pd.read_csv(\"datasets/yellow_tripdata_2013-01.csv\")"
   ]
  },
  {
   "cell_type": "code",
   "execution_count": 8,
   "metadata": {
    "collapsed": false
   },
   "outputs": [],
   "source": [
    "january2013 = january2013[['pickup_latitude','pickup_longitude']]\n",
    "january2013 = january2013.loc[(january2013['pickup_longitude'] > -74.06) & (january2013['pickup_longitude'] < -73.77) & (january2013['pickup_latitude'] > 40.61) &  (january2013['pickup_latitude'] < 40.91)]\n",
    "january2013 = january2013.reset_index()\n",
    "january2013 = january2013.drop('index', 1)"
   ]
  },
  {
   "cell_type": "code",
   "execution_count": 10,
   "metadata": {
    "collapsed": false
   },
   "outputs": [
    {
     "name": "stdout",
     "output_type": "stream",
     "text": [
      "(14496582, 2)\n"
     ]
    },
    {
     "data": {
      "text/html": [
       "<div>\n",
       "<table border=\"1\" class=\"dataframe\">\n",
       "  <thead>\n",
       "    <tr style=\"text-align: right;\">\n",
       "      <th></th>\n",
       "      <th>pickup_latitude</th>\n",
       "      <th>pickup_longitude</th>\n",
       "    </tr>\n",
       "  </thead>\n",
       "  <tbody>\n",
       "    <tr>\n",
       "      <th>0</th>\n",
       "      <td>40.757977</td>\n",
       "      <td>-73.978165</td>\n",
       "    </tr>\n",
       "    <tr>\n",
       "      <th>1</th>\n",
       "      <td>40.731781</td>\n",
       "      <td>-74.006680</td>\n",
       "    </tr>\n",
       "    <tr>\n",
       "      <th>2</th>\n",
       "      <td>40.737770</td>\n",
       "      <td>-74.004711</td>\n",
       "    </tr>\n",
       "    <tr>\n",
       "      <th>3</th>\n",
       "      <td>40.759945</td>\n",
       "      <td>-73.974600</td>\n",
       "    </tr>\n",
       "    <tr>\n",
       "      <th>4</th>\n",
       "      <td>40.748528</td>\n",
       "      <td>-73.976252</td>\n",
       "    </tr>\n",
       "  </tbody>\n",
       "</table>\n",
       "</div>"
      ],
      "text/plain": [
       "   pickup_latitude  pickup_longitude\n",
       "0        40.757977        -73.978165\n",
       "1        40.731781        -74.006680\n",
       "2        40.737770        -74.004711\n",
       "3        40.759945        -73.974600\n",
       "4        40.748528        -73.976252"
      ]
     },
     "execution_count": 10,
     "metadata": {},
     "output_type": "execute_result"
    }
   ],
   "source": [
    "print(january2013.shape)\n",
    "january2013.head()"
   ]
  },
  {
   "cell_type": "code",
   "execution_count": 41,
   "metadata": {
    "collapsed": false
   },
   "outputs": [
    {
     "name": "stdout",
     "output_type": "stream",
     "text": [
      "Wall time: 1min 14s\n"
     ]
    }
   ],
   "source": [
    "%%time\n",
    "kmeans_10 = KMeans(n_clusters = 10, n_init=1)\n",
    "kmeans_10.fit(january2013)\n",
    "labels = kmeans_10.labels_"
   ]
  },
  {
   "cell_type": "code",
   "execution_count": 42,
   "metadata": {
    "collapsed": false
   },
   "outputs": [
    {
     "data": {
      "text/plain": [
       "array([[ 40.72163039, -74.00448128],\n",
       "       [ 40.77288012, -73.95496298],\n",
       "       [ 40.64681734, -73.78553448],\n",
       "       [ 40.74811194, -73.99427959],\n",
       "       [ 40.76885831, -73.87198959],\n",
       "       [ 40.75729441, -73.97583323],\n",
       "       [ 40.77689952, -73.98121875],\n",
       "       [ 40.68575972, -73.98150047],\n",
       "       [ 40.80117161, -73.95922683],\n",
       "       [ 40.73064852, -73.98441259]])"
      ]
     },
     "execution_count": 42,
     "metadata": {},
     "output_type": "execute_result"
    }
   ],
   "source": [
    "kmeans_10.cluster_centers_"
   ]
  },
  {
   "cell_type": "code",
   "execution_count": 43,
   "metadata": {
    "collapsed": false
   },
   "outputs": [
    {
     "name": "stdout",
     "output_type": "stream",
     "text": [
      "(11597266, 2)\n",
      "(2899316, 2)\n"
     ]
    }
   ],
   "source": [
    "# Import a convenience function to split the sets.\n",
    "from sklearn.cross_validation import train_test_split\n",
    "\n",
    "# Generate the training set.  Set random_state to be able to replicate results.\n",
    "train = january2013.sample(frac=0.8, random_state=1)\n",
    "# Select anything not in the training set and put it in the testing set.\n",
    "test = january2013.loc[~january2013.index.isin(train.index)]\n",
    "# Print the shapes of both sets.\n",
    "print(train.shape)\n",
    "print(test.shape)"
   ]
  },
  {
   "cell_type": "code",
   "execution_count": 51,
   "metadata": {
    "collapsed": false
   },
   "outputs": [
    {
     "name": "stdout",
     "output_type": "stream",
     "text": [
      "Wall time: 1min 19s\n"
     ]
    }
   ],
   "source": [
    "%%time\n",
    "train_kmeans_10 = KMeans(n_clusters = 10, n_init=1)\n",
    "train_kmeans_10.fit_predict(train)"
   ]
  },
  {
   "cell_type": "code",
   "execution_count": 52,
   "metadata": {
    "collapsed": false
   },
   "outputs": [
    {
     "name": "stdout",
     "output_type": "stream",
     "text": [
      "Wall time: 24.9 s\n"
     ]
    }
   ],
   "source": [
    "%%time\n",
    "test_kmeans_10 = KMeans(n_clusters = 10, n_init=1)\n",
    "test_kmeans_10.fit(test)"
   ]
  },
  {
   "cell_type": "code",
   "execution_count": 53,
   "metadata": {
    "collapsed": false
   },
   "outputs": [
    {
     "data": {
      "text/plain": [
       "array([[ 40.74898514, -73.99507487],\n",
       "       [ 40.7770144 , -73.98113726],\n",
       "       [ 40.64680327, -73.78551736],\n",
       "       [ 40.76889612, -73.87197735],\n",
       "       [ 40.75720786, -73.97597789],\n",
       "       [ 40.77279268, -73.95503166],\n",
       "       [ 40.7330719 , -73.98715756],\n",
       "       [ 40.69645945, -73.97251904],\n",
       "       [ 40.72096746, -74.00457106],\n",
       "       [ 40.80107219, -73.95919585]])"
      ]
     },
     "execution_count": 53,
     "metadata": {},
     "output_type": "execute_result"
    }
   ],
   "source": [
    "train_kmeans_10.cluster_centers_"
   ]
  },
  {
   "cell_type": "code",
   "execution_count": 54,
   "metadata": {
    "collapsed": false
   },
   "outputs": [
    {
     "data": {
      "text/plain": [
       "array([[ 40.78604333, -73.95626811],\n",
       "       [ 40.75104393, -73.98682763],\n",
       "       [ 40.71852207, -73.84420193],\n",
       "       [ 40.77036738, -73.8742856 ],\n",
       "       [ 40.73268628, -73.99403656],\n",
       "       [ 40.64596943, -73.78498806],\n",
       "       [ 40.77216503, -73.98201954],\n",
       "       [ 40.76146543, -73.96586409],\n",
       "       [ 40.7157065 , -74.00725043],\n",
       "       [ 40.69666889, -73.9722439 ]])"
      ]
     },
     "execution_count": 54,
     "metadata": {},
     "output_type": "execute_result"
    }
   ],
   "source": [
    "test_kmeans_10.cluster_centers_"
   ]
  },
  {
   "cell_type": "code",
   "execution_count": 70,
   "metadata": {
    "collapsed": false
   },
   "outputs": [
    {
     "name": "stdout",
     "output_type": "stream",
     "text": [
      "['SoHo', 'Upper East Side', 'Queens County', 'Chelsea', 'North Beach', 'Madison Avenue', 'West 71st Street', 'Boerum Hill', 'Morningside Heights', 'East Village']\n"
     ]
    }
   ],
   "source": [
    "from geopy.geocoders import Nominatim\n",
    "geolocator = Nominatim()\n",
    "\n",
    "location_array = []\n",
    "for x,y in kmeans_10.cluster_centers_:\n",
    "    loc = geolocator.reverse((str(x)+','+(str(y))))\n",
    "    location_array.append(loc.address.split(', ')[2])\n",
    "print(location_array)"
   ]
  },
  {
   "cell_type": "code",
   "execution_count": 74,
   "metadata": {
    "collapsed": false
   },
   "outputs": [
    {
     "data": {
      "text/plain": [
       "array([5, 0, 3, ..., 0, 3, 6])"
      ]
     },
     "execution_count": 74,
     "metadata": {},
     "output_type": "execute_result"
    }
   ],
   "source": [
    "kmeans_10.predict(january2013).clus"
   ]
  },
  {
   "cell_type": "code",
   "execution_count": null,
   "metadata": {
    "collapsed": true
   },
   "outputs": [],
   "source": []
  }
 ],
 "metadata": {
  "anaconda-cloud": {},
  "kernelspec": {
   "display_name": "Python [conda root]",
   "language": "python",
   "name": "conda-root-py"
  },
  "language_info": {
   "codemirror_mode": {
    "name": "ipython",
    "version": 3
   },
   "file_extension": ".py",
   "mimetype": "text/x-python",
   "name": "python",
   "nbconvert_exporter": "python",
   "pygments_lexer": "ipython3",
   "version": "3.5.2"
  }
 },
 "nbformat": 4,
 "nbformat_minor": 1
}
